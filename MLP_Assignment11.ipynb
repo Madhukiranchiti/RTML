{
  "cells": [
    {
      "cell_type": "markdown",
      "metadata": {
        "id": "view-in-github",
        "colab_type": "text"
      },
      "source": [
        "<a href=\"https://colab.research.google.com/github/Madhukiranchiti/RTML/blob/main/MLP_Assignment11.ipynb\" target=\"_parent\"><img src=\"https://colab.research.google.com/assets/colab-badge.svg\" alt=\"Open In Colab\"/></a>"
      ]
    },
    {
      "cell_type": "markdown",
      "metadata": {
        "id": "50609119-e1ed-47f3-9fb2-9f31a46b9463"
      },
      "source": [
        "# Homework 1: Fashion and Housing Multi-layer Perceptron Model Training\n",
        "## Course : Real-Time Machine Learning 5106\n",
        "### Name : Lasya Vadlamudi\n",
        "### Student ID : 801318796"
      ],
      "id": "50609119-e1ed-47f3-9fb2-9f31a46b9463"
    },
    {
      "cell_type": "code",
      "execution_count": 17,
      "metadata": {
        "colab": {
          "base_uri": "https://localhost:8080/"
        },
        "id": "c2d5af04-1aea-40d0-8e7e-d90ae1310e25",
        "outputId": "7cd2e268-be57-4115-9ff7-938954c2f884"
      },
      "outputs": [
        {
          "output_type": "stream",
          "name": "stdout",
          "text": [
            "Requirement already satisfied: torchmetrics in /usr/local/lib/python3.10/dist-packages (1.3.0.post0)\n",
            "Requirement already satisfied: numpy>1.20.0 in /usr/local/lib/python3.10/dist-packages (from torchmetrics) (1.23.5)\n",
            "Requirement already satisfied: packaging>17.1 in /usr/local/lib/python3.10/dist-packages (from torchmetrics) (23.2)\n",
            "Requirement already satisfied: torch>=1.10.0 in /usr/local/lib/python3.10/dist-packages (from torchmetrics) (2.1.0+cu121)\n",
            "Requirement already satisfied: lightning-utilities>=0.8.0 in /usr/local/lib/python3.10/dist-packages (from torchmetrics) (0.10.1)\n",
            "Requirement already satisfied: setuptools in /usr/local/lib/python3.10/dist-packages (from lightning-utilities>=0.8.0->torchmetrics) (67.7.2)\n",
            "Requirement already satisfied: typing-extensions in /usr/local/lib/python3.10/dist-packages (from lightning-utilities>=0.8.0->torchmetrics) (4.5.0)\n",
            "Requirement already satisfied: filelock in /usr/local/lib/python3.10/dist-packages (from torch>=1.10.0->torchmetrics) (3.13.1)\n",
            "Requirement already satisfied: sympy in /usr/local/lib/python3.10/dist-packages (from torch>=1.10.0->torchmetrics) (1.12)\n",
            "Requirement already satisfied: networkx in /usr/local/lib/python3.10/dist-packages (from torch>=1.10.0->torchmetrics) (3.2.1)\n",
            "Requirement already satisfied: jinja2 in /usr/local/lib/python3.10/dist-packages (from torch>=1.10.0->torchmetrics) (3.1.3)\n",
            "Requirement already satisfied: fsspec in /usr/local/lib/python3.10/dist-packages (from torch>=1.10.0->torchmetrics) (2023.6.0)\n",
            "Requirement already satisfied: triton==2.1.0 in /usr/local/lib/python3.10/dist-packages (from torch>=1.10.0->torchmetrics) (2.1.0)\n",
            "Requirement already satisfied: MarkupSafe>=2.0 in /usr/local/lib/python3.10/dist-packages (from jinja2->torch>=1.10.0->torchmetrics) (2.1.4)\n",
            "Requirement already satisfied: mpmath>=0.19 in /usr/local/lib/python3.10/dist-packages (from sympy->torch>=1.10.0->torchmetrics) (1.3.0)\n"
          ]
        }
      ],
      "source": [
        "import cv2\n",
        "import numpy as np\n",
        "import pandas as pd\n",
        "from tqdm import tqdm\n",
        "from datetime import datetime\n",
        "from matplotlib import pyplot as plt\n",
        "\n",
        "import torch\n",
        "from torch import nn\n",
        "from torch.utils.data import DataLoader, random_split, Subset\n",
        "\n",
        "from torchvision import transforms, datasets\n",
        "!pip install torchmetrics\n",
        "from torchmetrics.classification import MulticlassAccuracy, BinaryAccuracy\n",
        "from torchmetrics import ConfusionMatrix\n",
        "\n",
        "import copy"
      ],
      "id": "c2d5af04-1aea-40d0-8e7e-d90ae1310e25"
    },
    {
      "cell_type": "code",
      "execution_count": 18,
      "metadata": {
        "id": "ef435688-843e-42ba-8516-66d2dfc8dcb7"
      },
      "outputs": [],
      "source": [
        "class Train_Model: # A class to train and save the developed model and the metrics\n",
        "\n",
        "\n",
        "    def __init__(self, model, loss, optimizer, accuracy, model_type, device, classes=0):\n",
        "\n",
        "        self.device = device\n",
        "        self.model = model.to(device) ## Setting the model on GPU\n",
        "        self.Loss_Function = loss\n",
        "        self.optimizer = optimizer\n",
        "        self.accuracy = accuracy\n",
        "        self.model_type = model_type\n",
        "        self.classNum = classes\n",
        "\n",
        "        # A dictionary to append or store the results\n",
        "        self.Metrics = {\"Training_Loss\":[],\"Training_Accuracy\":[], \"Validation_Loss\":[], \"Validation_Accuracy\":[],\"Test_Accuracy\":0}\n",
        "        self.ConfMatrix = None\n",
        "\n",
        "    # Function to train the model\n",
        "    def model_run(self, l_data,run_type):\n",
        "\n",
        "        if run_type == 'train':\n",
        "          self.model.train()\n",
        "\n",
        "          if self.model_type == \"Classification\":\n",
        "              MCA = self.accuracy(self.classNum)\n",
        "          else:\n",
        "              MCA = self.accuracy\n",
        "\n",
        "          loss_sum = 0\n",
        "          acc = 0\n",
        "\n",
        "          # Iterates over the data\n",
        "          for data, labels in tqdm(l_data):\n",
        "\n",
        "              # transform data into one-hot vectors\n",
        "              data = data.to(self.device)\n",
        "              if self.model_type == \"Classification\":\n",
        "                  labels = torch.eye(10)[labels]\n",
        "              else:\n",
        "                  labels = labels.reshape(-1, 1)\n",
        "              labels = labels.to(self.device)\n",
        "\n",
        "              predictions = self.model(data)\n",
        "              loss_value = self.Loss_Function(predictions, labels)\n",
        "\n",
        "\n",
        "              self.optimizer.zero_grad()\n",
        "              loss_value.backward()\n",
        "              self.optimizer.step()\n",
        "\n",
        "\n",
        "              # Set the predictions and labels back into integers for accuracy calculation\n",
        "              if self.model_type == \"Classification\":\n",
        "                  predictions = torch.Tensor([torch.argmax(i).item() for i in predictions])\n",
        "                  labels = torch.Tensor([torch.argmax(i).item() for i in labels])\n",
        "\n",
        "              ##### Calculate Loss and accuracy\n",
        "              loss_sum += loss_value.item()\n",
        "              if self.model_type == \"Classification\":\n",
        "                  acc += MCA(predictions, labels)\n",
        "\n",
        "          self.Metrics[\"Training_Loss\"].append(loss_sum / len(l_data))\n",
        "          if self.model_type == \"Classification\":\n",
        "              self.Metrics[\"Training_Accuracy\"].append(acc / len(l_data))\n",
        "\n",
        "\n",
        "        elif run_type == 'eval':\n",
        "          self.model.eval()\n",
        "\n",
        "          if self.model_type == \"Classification\":\n",
        "              MCA = self.accuracy(self.classNum)\n",
        "          else:\n",
        "              MCA = self.accuracy\n",
        "\n",
        "          loss_sum = 0\n",
        "          acc = 0\n",
        "\n",
        "          for data, labels in l_data:\n",
        "\n",
        "              data = data.to(self.device)\n",
        "              if self.model_type == \"Classification\":\n",
        "                  labels = torch.eye(10)[labels]\n",
        "              else:\n",
        "                  labels = labels.reshape(-1, 1)\n",
        "              labels = labels.to(self.device)\n",
        "\n",
        "              with torch.no_grad():\n",
        "                  predictions = self.model(data)\n",
        "              loss_value = self.Loss_Function(predictions, labels)\n",
        "\n",
        "              if self.model_type == \"Classification\":\n",
        "                  predictions = torch.Tensor([torch.argmax(i).item() for i in predictions])\n",
        "                  labels = torch.Tensor([torch.argmax(i).item() for i in labels])\n",
        "\n",
        "              loss_sum += loss_value.item()\n",
        "              if self.model_type == \"Classification\":\n",
        "                  acc += MCA(predictions, labels)\n",
        "\n",
        "          self.Metrics[\"Validation_Loss\"].append(loss_sum / len(l_data))\n",
        "          if self.model_type == \"Classification\":\n",
        "              self.Metrics[\"Validation_Accuracy\"].append(acc / len(l_data))\n",
        "\n",
        "\n",
        "    def fit(self, t_data, v_data, EPOCHS):\n",
        "\n",
        "\n",
        "        for i in range(EPOCHS):\n",
        "\n",
        "            self.model_run(v_data,'eval')\n",
        "            self.model_run(t_data,'train')\n",
        "\n",
        "            print(\"Current Epoch:\", i+1)\n",
        "            print(\"Training_Loss:\", self.Metrics[\"Training_Loss\"][-1], \" | Validation_Loss:\", self.Metrics[\"Validation_Loss\"][-1])\n",
        "            if self.model_type == \"Classification\":\n",
        "                print(\"Training_Accuracy:\", self.Metrics[\"Training_Accuracy\"][-1].item(), \" | Validation_Accuracy:\", self.Metrics[\"Validation_Accuracy\"][-1].item())\n",
        "\n",
        "\n",
        "    def Test_Model(self, testLoader):\n",
        "\n",
        "        self.model.eval()\n",
        "\n",
        "        if self.model_type == \"Classification\":\n",
        "            confusion = ConfusionMatrix(task=\"multiclass\", num_classes=self.classNum)\n",
        "            MCA = self.accuracy(self.classNum)\n",
        "        else:\n",
        "            MCA = self.accuracy\n",
        "\n",
        "        predMax = torch.empty(0)\n",
        "        labelMax = torch.empty(0)\n",
        "\n",
        "        for data, labels in testLoader:\n",
        "\n",
        "            data = data.to(self.device)\n",
        "            if self.model_type == \"Classification\":\n",
        "                labels = torch.eye(10)[labels]\n",
        "            else:\n",
        "                labels = labels.reshape(-1, 1)\n",
        "            labels = labels.to(self.device)\n",
        "\n",
        "            with torch.no_grad():\n",
        "                pred = self.model(data)\n",
        "\n",
        "            if self.model_type == \"Classification\":\n",
        "                pred = torch.Tensor([torch.argmax(i).item() for i in pred])\n",
        "                labels = torch.Tensor([torch.argmax(i).item() for i in labels])\n",
        "\n",
        "            predMax = torch.cat((predMax, pred))\n",
        "            labelMax = torch.cat((labelMax, labels))\n",
        "\n",
        "        if self.model_type == \"Classification\":\n",
        "            self.ConfMatrix = confusion(predMax, labelMax)\n",
        "            self.Metrics[\"Test_Accuracy\"] = MCA(predMax, labelMax).item()\n",
        "\n",
        "\n",
        ""
      ],
      "id": "ef435688-843e-42ba-8516-66d2dfc8dcb7"
    },
    {
      "cell_type": "markdown",
      "metadata": {
        "id": "ae6a8caf-dfed-4b60-8dc5-760b2f483a50"
      },
      "source": [
        "## Problem 1 Fashion Dataset"
      ],
      "id": "ae6a8caf-dfed-4b60-8dc5-760b2f483a50"
    },
    {
      "cell_type": "code",
      "execution_count": 19,
      "metadata": {
        "id": "011f0439-8023-4551-a9df-61ff6fbfd2d0"
      },
      "outputs": [],
      "source": [
        "device_to_use = torch.device(\"cuda\" if torch.cuda.is_available() else \"cpu\")"
      ],
      "id": "011f0439-8023-4551-a9df-61ff6fbfd2d0"
    },
    {
      "cell_type": "code",
      "execution_count": 20,
      "metadata": {
        "id": "581c3bbe-b7aa-45a8-857e-0c745bcfc314"
      },
      "outputs": [],
      "source": [
        "train_transform = transforms.Compose([\n",
        "                                        transforms.ToTensor(),\n",
        "                                        transforms.Normalize((0.29), (0.32)),\n",
        "])\n",
        "\n",
        "test_transform = transforms.Compose([\n",
        "                                        transforms.ToTensor(),\n",
        "                                        transforms.Normalize((0.29), (0.32)),\n",
        "])"
      ],
      "id": "581c3bbe-b7aa-45a8-857e-0c745bcfc314"
    },
    {
      "cell_type": "code",
      "execution_count": 21,
      "metadata": {
        "id": "c39123b0-efbd-484e-b843-3c88da5f89de"
      },
      "outputs": [],
      "source": [
        "train_df = datasets.FashionMNIST(root=\"datasets\", train=True, transform=train_transform,download=True)\n",
        "test_df = datasets.FashionMNIST(root=\"datasets\", train=False, transform=test_transform,download=True)\n",
        "\n",
        "## Create Train and Test data\n",
        "validNum = int(len(train_df) * 0.8)\n",
        "train_df, valid_df = random_split(train_df, [validNum, len(train_df) - validNum])\n"
      ],
      "id": "c39123b0-efbd-484e-b843-3c88da5f89de"
    },
    {
      "cell_type": "code",
      "execution_count": 22,
      "metadata": {
        "id": "ae9b750d-748f-49a4-9c20-cdc8218254dd"
      },
      "outputs": [],
      "source": [
        "trainLoader = DataLoader(train_df, batch_size=256, shuffle=True, num_workers=1)\n",
        "validateLoader = DataLoader(valid_df, batch_size=256, shuffle=True, num_workers=1)\n",
        "testLoader = DataLoader(test_df, batch_size=256, shuffle=True, num_workers=1)"
      ],
      "id": "ae9b750d-748f-49a4-9c20-cdc8218254dd"
    },
    {
      "cell_type": "code",
      "execution_count": 23,
      "metadata": {
        "id": "1bebb7a6-4049-495f-bb7c-b4e8b2d39cce"
      },
      "outputs": [],
      "source": [
        "BaseModel = nn.Sequential(\n",
        "    nn.Flatten(),\n",
        "    nn.LazyLinear(256),\n",
        "    nn.ReLU(),\n",
        "    nn.Linear(in_features= 256, out_features= 128),\n",
        "    nn.ReLU(),\n",
        "    nn.Linear(in_features= 128, out_features= 64),\n",
        "    nn.ReLU(),\n",
        "    nn.Linear(in_features= 64, out_features= 10),\n",
        ")"
      ],
      "id": "1bebb7a6-4049-495f-bb7c-b4e8b2d39cce"
    },
    {
      "cell_type": "code",
      "execution_count": 24,
      "metadata": {
        "id": "726d5412-804f-4f43-ae8e-3994d094eed3"
      },
      "outputs": [],
      "source": [
        "base = copy.deepcopy(BaseModel)\n",
        "baseline_model_generator = Train_Model(base, nn.CrossEntropyLoss(), torch.optim.SGD(base.parameters(), lr=0.01, momentum=0.9), MulticlassAccuracy, \"Classification\",  device_to_use, 10)"
      ],
      "id": "726d5412-804f-4f43-ae8e-3994d094eed3"
    },
    {
      "cell_type": "markdown",
      "metadata": {
        "id": "a0bab864-4ddd-4892-a8d7-fd32527328f4"
      },
      "source": [
        "### 1.a Train the model from scratch (with randomized parameters)"
      ],
      "id": "a0bab864-4ddd-4892-a8d7-fd32527328f4"
    },
    {
      "cell_type": "code",
      "execution_count": 10,
      "metadata": {
        "colab": {
          "base_uri": "https://localhost:8080/",
          "height": 1000
        },
        "id": "272709df-b072-4790-a0e3-7e0c76462fce",
        "outputId": "5033c995-03c8-4fcc-a081-48319ea830fa"
      },
      "outputs": [
        {
          "output_type": "stream",
          "name": "stderr",
          "text": [
            "100%|██████████| 188/188 [00:21<00:00,  8.64it/s]"
          ]
        },
        {
          "output_type": "stream",
          "name": "stdout",
          "text": [
            "Current Epoch: 1\n",
            "Training_Loss: 0.9965518630565481  | Validation_Loss: 2.305695026478869\n",
            "Training_Accuracy: 0.6533576250076294  | Validation_Accuracy: 0.07300763577222824\n"
          ]
        },
        {
          "output_type": "stream",
          "name": "stderr",
          "text": [
            "\n",
            "100%|██████████| 188/188 [00:12<00:00, 15.21it/s]"
          ]
        },
        {
          "output_type": "stream",
          "name": "stdout",
          "text": [
            "Current Epoch: 2\n",
            "Training_Loss: 0.47451142586292105  | Validation_Loss: 0.5183095183778317\n",
            "Training_Accuracy: 0.8277556896209717  | Validation_Accuracy: 0.8145686984062195\n"
          ]
        },
        {
          "output_type": "stream",
          "name": "stderr",
          "text": [
            "\n",
            "100%|██████████| 188/188 [00:12<00:00, 15.37it/s]"
          ]
        },
        {
          "output_type": "stream",
          "name": "stdout",
          "text": [
            "Current Epoch: 3\n",
            "Training_Loss: 0.4132389026753446  | Validation_Loss: 0.4526555988382786\n",
            "Training_Accuracy: 0.8513217568397522  | Validation_Accuracy: 0.8356159925460815\n"
          ]
        },
        {
          "output_type": "stream",
          "name": "stderr",
          "text": [
            "\n",
            "100%|██████████| 188/188 [00:12<00:00, 15.35it/s]"
          ]
        },
        {
          "output_type": "stream",
          "name": "stdout",
          "text": [
            "Current Epoch: 4\n",
            "Training_Loss: 0.37425542765475334  | Validation_Loss: 0.4125966106323486\n",
            "Training_Accuracy: 0.8644177317619324  | Validation_Accuracy: 0.8516023755073547\n"
          ]
        },
        {
          "output_type": "stream",
          "name": "stderr",
          "text": [
            "\n",
            "100%|██████████| 188/188 [00:12<00:00, 15.41it/s]"
          ]
        },
        {
          "output_type": "stream",
          "name": "stdout",
          "text": [
            "Current Epoch: 5\n",
            "Training_Loss: 0.3550823284907544  | Validation_Loss: 0.3843499567914516\n",
            "Training_Accuracy: 0.8701916933059692  | Validation_Accuracy: 0.860486626625061\n"
          ]
        },
        {
          "output_type": "stream",
          "name": "stderr",
          "text": [
            "\n",
            "100%|██████████| 188/188 [00:13<00:00, 13.48it/s]"
          ]
        },
        {
          "output_type": "stream",
          "name": "stdout",
          "text": [
            "Current Epoch: 6\n",
            "Training_Loss: 0.33368122411218093  | Validation_Loss: 0.35919896402257556\n",
            "Training_Accuracy: 0.8790460824966431  | Validation_Accuracy: 0.8722372055053711\n"
          ]
        },
        {
          "output_type": "stream",
          "name": "stderr",
          "text": [
            "\n",
            "100%|██████████| 188/188 [00:12<00:00, 15.10it/s]"
          ]
        },
        {
          "output_type": "stream",
          "name": "stdout",
          "text": [
            "Current Epoch: 7\n",
            "Training_Loss: 0.3178531958701763  | Validation_Loss: 0.3474826584471033\n",
            "Training_Accuracy: 0.8843581080436707  | Validation_Accuracy: 0.8756680488586426\n"
          ]
        },
        {
          "output_type": "stream",
          "name": "stderr",
          "text": [
            "\n",
            "100%|██████████| 188/188 [00:12<00:00, 15.01it/s]"
          ]
        },
        {
          "output_type": "stream",
          "name": "stdout",
          "text": [
            "Current Epoch: 8\n",
            "Training_Loss: 0.29787504736413345  | Validation_Loss: 0.3395947756919455\n",
            "Training_Accuracy: 0.8920930027961731  | Validation_Accuracy: 0.8746490478515625\n"
          ]
        },
        {
          "output_type": "stream",
          "name": "stderr",
          "text": [
            "\n",
            "100%|██████████| 188/188 [00:12<00:00, 14.87it/s]"
          ]
        },
        {
          "output_type": "stream",
          "name": "stdout",
          "text": [
            "Current Epoch: 9\n",
            "Training_Loss: 0.28927288569034415  | Validation_Loss: 0.3382274692362927\n",
            "Training_Accuracy: 0.8944308757781982  | Validation_Accuracy: 0.8801321387290955\n"
          ]
        },
        {
          "output_type": "stream",
          "name": "stderr",
          "text": [
            "\n",
            "100%|██████████| 188/188 [00:13<00:00, 14.43it/s]"
          ]
        },
        {
          "output_type": "stream",
          "name": "stdout",
          "text": [
            "Current Epoch: 10\n",
            "Training_Loss: 0.27460739286021985  | Validation_Loss: 0.3439605083871395\n",
            "Training_Accuracy: 0.8990411758422852  | Validation_Accuracy: 0.8744328022003174\n"
          ]
        },
        {
          "output_type": "stream",
          "name": "stderr",
          "text": [
            "\n",
            "100%|██████████| 188/188 [00:12<00:00, 14.84it/s]"
          ]
        },
        {
          "output_type": "stream",
          "name": "stdout",
          "text": [
            "Current Epoch: 11\n",
            "Training_Loss: 0.2646077275276184  | Validation_Loss: 0.32605211214816315\n",
            "Training_Accuracy: 0.9030353426933289  | Validation_Accuracy: 0.8824192881584167\n"
          ]
        },
        {
          "output_type": "stream",
          "name": "stderr",
          "text": [
            "\n",
            "100%|██████████| 188/188 [00:12<00:00, 15.11it/s]"
          ]
        },
        {
          "output_type": "stream",
          "name": "stdout",
          "text": [
            "Current Epoch: 12\n",
            "Training_Loss: 0.2568572179434147  | Validation_Loss: 0.3179717089267487\n",
            "Training_Accuracy: 0.9053789377212524  | Validation_Accuracy: 0.8885537981987\n"
          ]
        },
        {
          "output_type": "stream",
          "name": "stderr",
          "text": [
            "\n",
            "100%|██████████| 188/188 [00:12<00:00, 15.09it/s]"
          ]
        },
        {
          "output_type": "stream",
          "name": "stdout",
          "text": [
            "Current Epoch: 13\n",
            "Training_Loss: 0.24316254377048066  | Validation_Loss: 0.3322069378609353\n",
            "Training_Accuracy: 0.9106070399284363  | Validation_Accuracy: 0.8814443349838257\n"
          ]
        },
        {
          "output_type": "stream",
          "name": "stderr",
          "text": [
            "\n",
            "100%|██████████| 188/188 [00:12<00:00, 14.82it/s]"
          ]
        },
        {
          "output_type": "stream",
          "name": "stdout",
          "text": [
            "Current Epoch: 14\n",
            "Training_Loss: 0.2333174022112755  | Validation_Loss: 0.30995579285824554\n",
            "Training_Accuracy: 0.9135340452194214  | Validation_Accuracy: 0.8896418809890747\n"
          ]
        },
        {
          "output_type": "stream",
          "name": "stderr",
          "text": [
            "\n",
            "100%|██████████| 188/188 [00:12<00:00, 15.26it/s]"
          ]
        },
        {
          "output_type": "stream",
          "name": "stdout",
          "text": [
            "Current Epoch: 15\n",
            "Training_Loss: 0.2273696596001057  | Validation_Loss: 0.3287394509670582\n",
            "Training_Accuracy: 0.9151701331138611  | Validation_Accuracy: 0.8825483918190002\n"
          ]
        },
        {
          "output_type": "stream",
          "name": "stderr",
          "text": [
            "\n",
            "100%|██████████| 188/188 [00:12<00:00, 15.21it/s]"
          ]
        },
        {
          "output_type": "stream",
          "name": "stdout",
          "text": [
            "Current Epoch: 16\n",
            "Training_Loss: 0.21677611253045975  | Validation_Loss: 0.3176461099944216\n",
            "Training_Accuracy: 0.9198825359344482  | Validation_Accuracy: 0.8856441974639893\n"
          ]
        },
        {
          "output_type": "stream",
          "name": "stderr",
          "text": [
            "\n",
            "100%|██████████| 188/188 [00:12<00:00, 14.97it/s]"
          ]
        },
        {
          "output_type": "stream",
          "name": "stdout",
          "text": [
            "Current Epoch: 17\n",
            "Training_Loss: 0.21771184315389774  | Validation_Loss: 0.332206129710725\n",
            "Training_Accuracy: 0.9205544590950012  | Validation_Accuracy: 0.877150297164917\n"
          ]
        },
        {
          "output_type": "stream",
          "name": "stderr",
          "text": [
            "\n",
            "100%|██████████| 188/188 [00:12<00:00, 15.02it/s]"
          ]
        },
        {
          "output_type": "stream",
          "name": "stdout",
          "text": [
            "Current Epoch: 18\n",
            "Training_Loss: 0.1991376784491412  | Validation_Loss: 0.3080418347678286\n",
            "Training_Accuracy: 0.9265872836112976  | Validation_Accuracy: 0.8900337219238281\n"
          ]
        },
        {
          "output_type": "stream",
          "name": "stderr",
          "text": [
            "\n",
            "100%|██████████| 188/188 [00:12<00:00, 14.91it/s]"
          ]
        },
        {
          "output_type": "stream",
          "name": "stdout",
          "text": [
            "Current Epoch: 19\n",
            "Training_Loss: 0.19104404814858386  | Validation_Loss: 0.31563932844933046\n",
            "Training_Accuracy: 0.930055558681488  | Validation_Accuracy: 0.891466498374939\n"
          ]
        },
        {
          "output_type": "stream",
          "name": "stderr",
          "text": [
            "\n",
            "100%|██████████| 188/188 [00:12<00:00, 14.71it/s]"
          ]
        },
        {
          "output_type": "stream",
          "name": "stdout",
          "text": [
            "Current Epoch: 20\n",
            "Training_Loss: 0.1871084526498267  | Validation_Loss: 0.3290244759397304\n",
            "Training_Accuracy: 0.9320927858352661  | Validation_Accuracy: 0.8856996297836304\n"
          ]
        },
        {
          "output_type": "stream",
          "name": "stderr",
          "text": [
            "\n"
          ]
        },
        {
          "output_type": "stream",
          "name": "stdout",
          "text": [
            "\n",
            "Test Accuracy: 0.876800000667572 \n",
            "Time to Train: 0:05:22.806689\n"
          ]
        },
        {
          "output_type": "execute_result",
          "data": {
            "text/plain": [
              "<matplotlib.legend.Legend at 0x7c0a0b48f520>"
            ]
          },
          "metadata": {},
          "execution_count": 10
        },
        {
          "output_type": "display_data",
          "data": {
            "text/plain": [
              "<Figure size 640x480 with 1 Axes>"
            ],
            "image/png": "[encoded data removed]"
          },
          "metadata": {}
        }
      ],
      "source": [
        "start_time = datetime.now()\n",
        "\n",
        "baseline_model_generator.fit(trainLoader, validateLoader,\n",
        "                             20)\n",
        "end_time = datetime.now()\n",
        "baseline_model_generator.Test_Model(testLoader)\n",
        "\n",
        "print(\"\\nTest Accuracy:\", baseline_model_generator.Metrics[\"Test_Accuracy\"], \"\\nTime to Train:\", end_time - start_time)\n",
        "import matplotlib.pyplot as plt\n",
        "\n",
        "### PLOTTING METRICS\n",
        "plt.plot(baseline_model_generator.Metrics['Training_Accuracy'], label='Training Accuracy')\n",
        "plt.plot(baseline_model_generator.Metrics['Validation_Accuracy'], label='Validation Accuracy')\n",
        "plt.plot(baseline_model_generator.Metrics['Training_Loss'], label='Training Loss')\n",
        "plt.plot(baseline_model_generator.Metrics['Validation_Loss'], label='Validation Loss')\n",
        "plt.xlabel('Epoch')\n",
        "plt.ylabel('Metric')\n",
        "plt.legend()"
      ],
      "id": "272709df-b072-4790-a0e3-7e0c76462fce"
    },
    {
      "cell_type": "code",
      "source": [
        "# Increased depth and width\n",
        "ComplexModel = nn.Sequential(\n",
        "    nn.Flatten(),\n",
        "    nn.LazyLinear(512),\n",
        "    nn.ReLU(),\n",
        "    nn.Linear(in_features=512, out_features=256),\n",
        "    nn.ReLU(),\n",
        "    nn.Linear(in_features=256, out_features=128),\n",
        "    nn.ReLU(),\n",
        "    nn.Linear(in_features=128, out_features=64),\n",
        "    nn.ReLU(),\n",
        "    nn.Linear(in_features=64, out_features=10),\n",
        ")\n",
        "complex_model = copy.deepcopy(ComplexModel)\n"
      ],
      "metadata": {
        "id": "bQ1HeSGNkgRo"
      },
      "id": "bQ1HeSGNkgRo",
      "execution_count": 11,
      "outputs": []
    },
    {
      "cell_type": "code",
      "source": [
        "complex_m = copy.deepcopy(ComplexModel)\n",
        "complex_model_generator = Train_Model(complex_m, nn.CrossEntropyLoss(), torch.optim.SGD(complex_m.parameters(), lr=0.01, momentum=0.9), MulticlassAccuracy, \"Classification\",  device_to_use, 10)"
      ],
      "metadata": {
        "id": "IL6QYngiktIj"
      },
      "id": "IL6QYngiktIj",
      "execution_count": 12,
      "outputs": []
    },
    {
      "cell_type": "code",
      "source": [
        "start_time = datetime.now()\n",
        "\n",
        "complex_model_generator.fit(trainLoader, validateLoader,\n",
        "                            20 )\n",
        "end_time = datetime.now()\n",
        "complex_model_generator.Test_Model(testLoader)\n",
        "\n",
        "print(\"\\nTest Accuracy:\", complex_model_generator.Metrics[\"Test_Accuracy\"], \"\\nTime to Train:\", end_time - start_time)\n",
        "import matplotlib.pyplot as plt\n",
        "\n",
        "### PLOTTING METRICS\n",
        "plt.plot(complex_model_generator.Metrics['Training_Accuracy'], label='Training Accuracy')\n",
        "plt.plot(complex_model_generator.Metrics['Validation_Accuracy'], label='Validation Accuracy')\n",
        "plt.plot(complex_model_generator.Metrics['Training_Loss'], label='Training Loss')\n",
        "plt.plot(complex_model_generator.Metrics['Validation_Loss'], label='Validation Loss')\n",
        "plt.xlabel('Epoch')\n",
        "plt.ylabel('Metric')\n",
        "plt.legend()"
      ],
      "metadata": {
        "colab": {
          "base_uri": "https://localhost:8080/",
          "height": 1000
        },
        "id": "ykgRelnxlH68",
        "outputId": "4a982ea5-fca7-4771-aad1-d4ab4d1e53af"
      },
      "id": "ykgRelnxlH68",
      "execution_count": 13,
      "outputs": [
        {
          "output_type": "stream",
          "name": "stderr",
          "text": [
            "100%|██████████| 188/188 [00:13<00:00, 14.45it/s]"
          ]
        },
        {
          "output_type": "stream",
          "name": "stdout",
          "text": [
            "Current Epoch: 1\n",
            "Training_Loss: 1.2937736720480817  | Validation_Loss: 2.304798384930225\n",
            "Training_Accuracy: 0.5568025708198547  | Validation_Accuracy: 0.13205842673778534\n"
          ]
        },
        {
          "output_type": "stream",
          "name": "stderr",
          "text": [
            "\n",
            "100%|██████████| 188/188 [00:12<00:00, 14.97it/s]"
          ]
        },
        {
          "output_type": "stream",
          "name": "stdout",
          "text": [
            "Current Epoch: 2\n",
            "Training_Loss: 0.5312046388045271  | Validation_Loss: 0.593042993799169\n",
            "Training_Accuracy: 0.8066989183425903  | Validation_Accuracy: 0.7827747464179993\n"
          ]
        },
        {
          "output_type": "stream",
          "name": "stderr",
          "text": [
            "\n",
            "100%|██████████| 188/188 [00:12<00:00, 14.76it/s]"
          ]
        },
        {
          "output_type": "stream",
          "name": "stdout",
          "text": [
            "Current Epoch: 3\n",
            "Training_Loss: 0.42796649942372705  | Validation_Loss: 0.4584971717063417\n",
            "Training_Accuracy: 0.8445535898208618  | Validation_Accuracy: 0.8304393291473389\n"
          ]
        },
        {
          "output_type": "stream",
          "name": "stderr",
          "text": [
            "\n",
            "100%|██████████| 188/188 [00:12<00:00, 15.06it/s]"
          ]
        },
        {
          "output_type": "stream",
          "name": "stdout",
          "text": [
            "Current Epoch: 4\n",
            "Training_Loss: 0.38038647618699584  | Validation_Loss: 0.40849661002767845\n",
            "Training_Accuracy: 0.8618348836898804  | Validation_Accuracy: 0.8522859215736389\n"
          ]
        },
        {
          "output_type": "stream",
          "name": "stderr",
          "text": [
            "\n",
            "100%|██████████| 188/188 [00:12<00:00, 14.85it/s]"
          ]
        },
        {
          "output_type": "stream",
          "name": "stdout",
          "text": [
            "Current Epoch: 5\n",
            "Training_Loss: 0.3513187372938116  | Validation_Loss: 0.378671148355971\n",
            "Training_Accuracy: 0.873492956161499  | Validation_Accuracy: 0.8660114407539368\n"
          ]
        },
        {
          "output_type": "stream",
          "name": "stderr",
          "text": [
            "\n",
            "100%|██████████| 188/188 [00:15<00:00, 12.46it/s]\n"
          ]
        },
        {
          "output_type": "stream",
          "name": "stdout",
          "text": [
            "Current Epoch: 6\n",
            "Training_Loss: 0.3303688227179203  | Validation_Loss: 0.365194227467192\n",
            "Training_Accuracy: 0.881794273853302  | Validation_Accuracy: 0.8643696308135986\n"
          ]
        },
        {
          "output_type": "stream",
          "name": "stderr",
          "text": [
            "100%|██████████| 188/188 [00:14<00:00, 13.27it/s]"
          ]
        },
        {
          "output_type": "stream",
          "name": "stdout",
          "text": [
            "Current Epoch: 7\n",
            "Training_Loss: 0.30792854916542134  | Validation_Loss: 0.3501115637890836\n",
            "Training_Accuracy: 0.8885189890861511  | Validation_Accuracy: 0.8722237944602966\n"
          ]
        },
        {
          "output_type": "stream",
          "name": "stderr",
          "text": [
            "\n",
            "100%|██████████| 188/188 [00:12<00:00, 15.29it/s]"
          ]
        },
        {
          "output_type": "stream",
          "name": "stdout",
          "text": [
            "Current Epoch: 8\n",
            "Training_Loss: 0.29126678320004584  | Validation_Loss: 0.351764330204497\n",
            "Training_Accuracy: 0.8936163187026978  | Validation_Accuracy: 0.8750581741333008\n"
          ]
        },
        {
          "output_type": "stream",
          "name": "stderr",
          "text": [
            "\n",
            "100%|██████████| 188/188 [00:12<00:00, 15.16it/s]"
          ]
        },
        {
          "output_type": "stream",
          "name": "stdout",
          "text": [
            "Current Epoch: 9\n",
            "Training_Loss: 0.2793359549597223  | Validation_Loss: 0.3298594460208365\n",
            "Training_Accuracy: 0.8972482085227966  | Validation_Accuracy: 0.8777852058410645\n"
          ]
        },
        {
          "output_type": "stream",
          "name": "stderr",
          "text": [
            "\n",
            "100%|██████████| 188/188 [00:12<00:00, 15.16it/s]"
          ]
        },
        {
          "output_type": "stream",
          "name": "stdout",
          "text": [
            "Current Epoch: 10\n",
            "Training_Loss: 0.2634627261852964  | Validation_Loss: 0.3464110344648361\n",
            "Training_Accuracy: 0.9034388661384583  | Validation_Accuracy: 0.8765068054199219\n"
          ]
        },
        {
          "output_type": "stream",
          "name": "stderr",
          "text": [
            "\n",
            "100%|██████████| 188/188 [00:12<00:00, 14.75it/s]"
          ]
        },
        {
          "output_type": "stream",
          "name": "stdout",
          "text": [
            "Current Epoch: 11\n",
            "Training_Loss: 0.2502408766366066  | Validation_Loss: 0.33593668202136423\n",
            "Training_Accuracy: 0.9068446755409241  | Validation_Accuracy: 0.8789477944374084\n"
          ]
        },
        {
          "output_type": "stream",
          "name": "stderr",
          "text": [
            "\n",
            "100%|██████████| 188/188 [00:12<00:00, 14.65it/s]"
          ]
        },
        {
          "output_type": "stream",
          "name": "stdout",
          "text": [
            "Current Epoch: 12\n",
            "Training_Loss: 0.23612873541547896  | Validation_Loss: 0.3198221595363414\n",
            "Training_Accuracy: 0.9134793281555176  | Validation_Accuracy: 0.884709358215332\n"
          ]
        },
        {
          "output_type": "stream",
          "name": "stderr",
          "text": [
            "\n",
            "100%|██████████| 188/188 [00:12<00:00, 15.00it/s]"
          ]
        },
        {
          "output_type": "stream",
          "name": "stdout",
          "text": [
            "Current Epoch: 13\n",
            "Training_Loss: 0.23015564394758103  | Validation_Loss: 0.31205728111114905\n",
            "Training_Accuracy: 0.917685329914093  | Validation_Accuracy: 0.8904372453689575\n"
          ]
        },
        {
          "output_type": "stream",
          "name": "stderr",
          "text": [
            "\n",
            "100%|██████████| 188/188 [00:13<00:00, 14.29it/s]"
          ]
        },
        {
          "output_type": "stream",
          "name": "stdout",
          "text": [
            "Current Epoch: 14\n",
            "Training_Loss: 0.21824912845771363  | Validation_Loss: 0.3075482426805699\n",
            "Training_Accuracy: 0.919514000415802  | Validation_Accuracy: 0.8891183733940125\n"
          ]
        },
        {
          "output_type": "stream",
          "name": "stderr",
          "text": [
            "\n",
            "100%|██████████| 188/188 [00:12<00:00, 14.97it/s]"
          ]
        },
        {
          "output_type": "stream",
          "name": "stdout",
          "text": [
            "Current Epoch: 15\n",
            "Training_Loss: 0.20644081074823725  | Validation_Loss: 0.31511511289058847\n",
            "Training_Accuracy: 0.9248381853103638  | Validation_Accuracy: 0.8905988931655884\n"
          ]
        },
        {
          "output_type": "stream",
          "name": "stderr",
          "text": [
            "\n",
            "100%|██████████| 188/188 [00:12<00:00, 14.92it/s]"
          ]
        },
        {
          "output_type": "stream",
          "name": "stdout",
          "text": [
            "Current Epoch: 16\n",
            "Training_Loss: 0.19996296075430323  | Validation_Loss: 0.3194740281460133\n",
            "Training_Accuracy: 0.9271935820579529  | Validation_Accuracy: 0.8907185792922974\n"
          ]
        },
        {
          "output_type": "stream",
          "name": "stderr",
          "text": [
            "\n",
            "100%|██████████| 188/188 [00:12<00:00, 15.00it/s]"
          ]
        },
        {
          "output_type": "stream",
          "name": "stdout",
          "text": [
            "Current Epoch: 17\n",
            "Training_Loss: 0.18603716430036313  | Validation_Loss: 0.32891641145056866\n",
            "Training_Accuracy: 0.9315397143363953  | Validation_Accuracy: 0.8836591839790344\n"
          ]
        },
        {
          "output_type": "stream",
          "name": "stderr",
          "text": [
            "\n",
            "100%|██████████| 188/188 [00:12<00:00, 14.86it/s]"
          ]
        },
        {
          "output_type": "stream",
          "name": "stdout",
          "text": [
            "Current Epoch: 18\n",
            "Training_Loss: 0.1828148633320915  | Validation_Loss: 0.3188747101007624\n",
            "Training_Accuracy: 0.9329761862754822  | Validation_Accuracy: 0.8881409168243408\n"
          ]
        },
        {
          "output_type": "stream",
          "name": "stderr",
          "text": [
            "\n",
            "100%|██████████| 188/188 [00:12<00:00, 14.80it/s]"
          ]
        },
        {
          "output_type": "stream",
          "name": "stdout",
          "text": [
            "Current Epoch: 19\n",
            "Training_Loss: 0.17735475559342415  | Validation_Loss: 0.32617660722833997\n",
            "Training_Accuracy: 0.9349329471588135  | Validation_Accuracy: 0.8891366720199585\n"
          ]
        },
        {
          "output_type": "stream",
          "name": "stderr",
          "text": [
            "\n",
            "100%|██████████| 188/188 [00:12<00:00, 14.79it/s]"
          ]
        },
        {
          "output_type": "stream",
          "name": "stdout",
          "text": [
            "Current Epoch: 20\n",
            "Training_Loss: 0.16098146735036628  | Validation_Loss: 0.37634099576067415\n",
            "Training_Accuracy: 0.9407824873924255  | Validation_Accuracy: 0.8750181794166565\n"
          ]
        },
        {
          "output_type": "stream",
          "name": "stderr",
          "text": [
            "\n"
          ]
        },
        {
          "output_type": "stream",
          "name": "stdout",
          "text": [
            "\n",
            "Test Accuracy: 0.8857999444007874 \n",
            "Time to Train: 0:05:20.589092\n"
          ]
        },
        {
          "output_type": "execute_result",
          "data": {
            "text/plain": [
              "<matplotlib.legend.Legend at 0x7c0a095d6680>"
            ]
          },
          "metadata": {},
          "execution_count": 13
        },
        {
          "output_type": "display_data",
          "data": {
            "text/plain": [
              "<Figure size 640x480 with 1 Axes>"
            ],
            "image/png": "[encoded data removed]"
          },
          "metadata": {}
        }
      ]
    },
    {
      "cell_type": "markdown",
      "metadata": {
        "id": "abb09d7a-feca-405a-98b9-99df31625ddd"
      },
      "source": [
        "### Does your network need more epochs for full training? Do you observe overfitting?\n",
        "We see that the validation loss hasn't shown any major change over the 20 epochs where as the training loss has reduced which means that the model is performing better on the training dataset but not the validation dataset resulting in overfitting.\n"
      ],
      "id": "abb09d7a-feca-405a-98b9-99df31625ddd"
    },
    {
      "cell_type": "markdown",
      "metadata": {
        "id": "08a14d6d-16c3-422f-a71e-07f242b6cabc"
      },
      "source": [
        "## Problem 2 Housing Predictions"
      ],
      "id": "08a14d6d-16c3-422f-a71e-07f242b6cabc"
    },
    {
      "cell_type": "code",
      "execution_count": 14,
      "metadata": {
        "id": "dfb625cf-fd8a-4dba-85fd-8e817b7b9e17"
      },
      "outputs": [],
      "source": [
        "device_to_use = torch.device(\"cuda\" if torch.cuda.is_available() else \"cpu\")"
      ],
      "id": "dfb625cf-fd8a-4dba-85fd-8e817b7b9e17"
    },
    {
      "cell_type": "code",
      "execution_count": 25,
      "metadata": {
        "id": "8209da66-a905-48c1-8f41-84857c1f49ba",
        "colab": {
          "base_uri": "https://localhost:8080/",
          "height": 355
        },
        "outputId": "4ae3ba31-a07c-48ba-844e-24ababca071c"
      },
      "outputs": [
        {
          "output_type": "error",
          "ename": "FileNotFoundError",
          "evalue": "[Errno 2] No such file or directory: '/content/datasets/Housing Data/train.csv'",
          "traceback": [
            "\u001b[0;31m---------------------------------------------------------------------------\u001b[0m",
            "\u001b[0;31mFileNotFoundError\u001b[0m                         Traceback (most recent call last)",
            "\u001b[0;32m<ipython-input-25-65d51ac04853>\u001b[0m in \u001b[0;36m<cell line: 1>\u001b[0;34m()\u001b[0m\n\u001b[0;32m----> 1\u001b[0;31m \u001b[0mtrain_df\u001b[0m \u001b[0;34m=\u001b[0m \u001b[0mpd\u001b[0m\u001b[0;34m.\u001b[0m\u001b[0mread_csv\u001b[0m\u001b[0;34m(\u001b[0m\u001b[0;34m\"/content/datasets/Housing Data/train.csv\"\u001b[0m\u001b[0;34m)\u001b[0m\u001b[0;34m\u001b[0m\u001b[0;34m\u001b[0m\u001b[0m\n\u001b[0m\u001b[1;32m      2\u001b[0m \u001b[0mtest_df\u001b[0m \u001b[0;34m=\u001b[0m \u001b[0mpd\u001b[0m\u001b[0;34m.\u001b[0m\u001b[0mread_csv\u001b[0m\u001b[0;34m(\u001b[0m\u001b[0;34m\"/content/datasets/Housing Data/test.csv\"\u001b[0m\u001b[0;34m)\u001b[0m\u001b[0;34m\u001b[0m\u001b[0;34m\u001b[0m\u001b[0m\n\u001b[1;32m      3\u001b[0m \u001b[0mdisplay\u001b[0m\u001b[0;34m(\u001b[0m\u001b[0mtrain_df\u001b[0m\u001b[0;34m.\u001b[0m\u001b[0mhead\u001b[0m\u001b[0;34m(\u001b[0m\u001b[0;34m)\u001b[0m\u001b[0;34m)\u001b[0m\u001b[0;34m,\u001b[0m\u001b[0mdisplay\u001b[0m\u001b[0;34m(\u001b[0m\u001b[0mtest_df\u001b[0m\u001b[0;34m.\u001b[0m\u001b[0mhead\u001b[0m\u001b[0;34m(\u001b[0m\u001b[0;34m)\u001b[0m\u001b[0;34m)\u001b[0m\u001b[0;34m\u001b[0m\u001b[0;34m\u001b[0m\u001b[0m\n",
            "\u001b[0;32m/usr/local/lib/python3.10/dist-packages/pandas/util/_decorators.py\u001b[0m in \u001b[0;36mwrapper\u001b[0;34m(*args, **kwargs)\u001b[0m\n\u001b[1;32m    209\u001b[0m                 \u001b[0;32melse\u001b[0m\u001b[0;34m:\u001b[0m\u001b[0;34m\u001b[0m\u001b[0;34m\u001b[0m\u001b[0m\n\u001b[1;32m    210\u001b[0m                     \u001b[0mkwargs\u001b[0m\u001b[0;34m[\u001b[0m\u001b[0mnew_arg_name\u001b[0m\u001b[0;34m]\u001b[0m \u001b[0;34m=\u001b[0m \u001b[0mnew_arg_value\u001b[0m\u001b[0;34m\u001b[0m\u001b[0;34m\u001b[0m\u001b[0m\n\u001b[0;32m--> 211\u001b[0;31m             \u001b[0;32mreturn\u001b[0m \u001b[0mfunc\u001b[0m\u001b[0;34m(\u001b[0m\u001b[0;34m*\u001b[0m\u001b[0margs\u001b[0m\u001b[0;34m,\u001b[0m \u001b[0;34m**\u001b[0m\u001b[0mkwargs\u001b[0m\u001b[0;34m)\u001b[0m\u001b[0;34m\u001b[0m\u001b[0;34m\u001b[0m\u001b[0m\n\u001b[0m\u001b[1;32m    212\u001b[0m \u001b[0;34m\u001b[0m\u001b[0m\n\u001b[1;32m    213\u001b[0m         \u001b[0;32mreturn\u001b[0m \u001b[0mcast\u001b[0m\u001b[0;34m(\u001b[0m\u001b[0mF\u001b[0m\u001b[0;34m,\u001b[0m \u001b[0mwrapper\u001b[0m\u001b[0;34m)\u001b[0m\u001b[0;34m\u001b[0m\u001b[0;34m\u001b[0m\u001b[0m\n",
            "\u001b[0;32m/usr/local/lib/python3.10/dist-packages/pandas/util/_decorators.py\u001b[0m in \u001b[0;36mwrapper\u001b[0;34m(*args, **kwargs)\u001b[0m\n\u001b[1;32m    329\u001b[0m                     \u001b[0mstacklevel\u001b[0m\u001b[0;34m=\u001b[0m\u001b[0mfind_stack_level\u001b[0m\u001b[0;34m(\u001b[0m\u001b[0;34m)\u001b[0m\u001b[0;34m,\u001b[0m\u001b[0;34m\u001b[0m\u001b[0;34m\u001b[0m\u001b[0m\n\u001b[1;32m    330\u001b[0m                 )\n\u001b[0;32m--> 331\u001b[0;31m             \u001b[0;32mreturn\u001b[0m \u001b[0mfunc\u001b[0m\u001b[0;34m(\u001b[0m\u001b[0;34m*\u001b[0m\u001b[0margs\u001b[0m\u001b[0;34m,\u001b[0m \u001b[0;34m**\u001b[0m\u001b[0mkwargs\u001b[0m\u001b[0;34m)\u001b[0m\u001b[0;34m\u001b[0m\u001b[0;34m\u001b[0m\u001b[0m\n\u001b[0m\u001b[1;32m    332\u001b[0m \u001b[0;34m\u001b[0m\u001b[0m\n\u001b[1;32m    333\u001b[0m         \u001b[0;31m# error: \"Callable[[VarArg(Any), KwArg(Any)], Any]\" has no\u001b[0m\u001b[0;34m\u001b[0m\u001b[0;34m\u001b[0m\u001b[0m\n",
            "\u001b[0;32m/usr/local/lib/python3.10/dist-packages/pandas/io/parsers/readers.py\u001b[0m in \u001b[0;36mread_csv\u001b[0;34m(filepath_or_buffer, sep, delimiter, header, names, index_col, usecols, squeeze, prefix, mangle_dupe_cols, dtype, engine, converters, true_values, false_values, skipinitialspace, skiprows, skipfooter, nrows, na_values, keep_default_na, na_filter, verbose, skip_blank_lines, parse_dates, infer_datetime_format, keep_date_col, date_parser, dayfirst, cache_dates, iterator, chunksize, compression, thousands, decimal, lineterminator, quotechar, quoting, doublequote, escapechar, comment, encoding, encoding_errors, dialect, error_bad_lines, warn_bad_lines, on_bad_lines, delim_whitespace, low_memory, memory_map, float_precision, storage_options)\u001b[0m\n\u001b[1;32m    948\u001b[0m     \u001b[0mkwds\u001b[0m\u001b[0;34m.\u001b[0m\u001b[0mupdate\u001b[0m\u001b[0;34m(\u001b[0m\u001b[0mkwds_defaults\u001b[0m\u001b[0;34m)\u001b[0m\u001b[0;34m\u001b[0m\u001b[0;34m\u001b[0m\u001b[0m\n\u001b[1;32m    949\u001b[0m \u001b[0;34m\u001b[0m\u001b[0m\n\u001b[0;32m--> 950\u001b[0;31m     \u001b[0;32mreturn\u001b[0m \u001b[0m_read\u001b[0m\u001b[0;34m(\u001b[0m\u001b[0mfilepath_or_buffer\u001b[0m\u001b[0;34m,\u001b[0m \u001b[0mkwds\u001b[0m\u001b[0;34m)\u001b[0m\u001b[0;34m\u001b[0m\u001b[0;34m\u001b[0m\u001b[0m\n\u001b[0m\u001b[1;32m    951\u001b[0m \u001b[0;34m\u001b[0m\u001b[0m\n\u001b[1;32m    952\u001b[0m \u001b[0;34m\u001b[0m\u001b[0m\n",
            "\u001b[0;32m/usr/local/lib/python3.10/dist-packages/pandas/io/parsers/readers.py\u001b[0m in \u001b[0;36m_read\u001b[0;34m(filepath_or_buffer, kwds)\u001b[0m\n\u001b[1;32m    603\u001b[0m \u001b[0;34m\u001b[0m\u001b[0m\n\u001b[1;32m    604\u001b[0m     \u001b[0;31m# Create the parser.\u001b[0m\u001b[0;34m\u001b[0m\u001b[0;34m\u001b[0m\u001b[0m\n\u001b[0;32m--> 605\u001b[0;31m     \u001b[0mparser\u001b[0m \u001b[0;34m=\u001b[0m \u001b[0mTextFileReader\u001b[0m\u001b[0;34m(\u001b[0m\u001b[0mfilepath_or_buffer\u001b[0m\u001b[0;34m,\u001b[0m \u001b[0;34m**\u001b[0m\u001b[0mkwds\u001b[0m\u001b[0;34m)\u001b[0m\u001b[0;34m\u001b[0m\u001b[0;34m\u001b[0m\u001b[0m\n\u001b[0m\u001b[1;32m    606\u001b[0m \u001b[0;34m\u001b[0m\u001b[0m\n\u001b[1;32m    607\u001b[0m     \u001b[0;32mif\u001b[0m \u001b[0mchunksize\u001b[0m \u001b[0;32mor\u001b[0m \u001b[0miterator\u001b[0m\u001b[0;34m:\u001b[0m\u001b[0;34m\u001b[0m\u001b[0;34m\u001b[0m\u001b[0m\n",
            "\u001b[0;32m/usr/local/lib/python3.10/dist-packages/pandas/io/parsers/readers.py\u001b[0m in \u001b[0;36m__init__\u001b[0;34m(self, f, engine, **kwds)\u001b[0m\n\u001b[1;32m   1440\u001b[0m \u001b[0;34m\u001b[0m\u001b[0m\n\u001b[1;32m   1441\u001b[0m         \u001b[0mself\u001b[0m\u001b[0;34m.\u001b[0m\u001b[0mhandles\u001b[0m\u001b[0;34m:\u001b[0m \u001b[0mIOHandles\u001b[0m \u001b[0;34m|\u001b[0m \u001b[0;32mNone\u001b[0m \u001b[0;34m=\u001b[0m \u001b[0;32mNone\u001b[0m\u001b[0;34m\u001b[0m\u001b[0;34m\u001b[0m\u001b[0m\n\u001b[0;32m-> 1442\u001b[0;31m         \u001b[0mself\u001b[0m\u001b[0;34m.\u001b[0m\u001b[0m_engine\u001b[0m \u001b[0;34m=\u001b[0m \u001b[0mself\u001b[0m\u001b[0;34m.\u001b[0m\u001b[0m_make_engine\u001b[0m\u001b[0;34m(\u001b[0m\u001b[0mf\u001b[0m\u001b[0;34m,\u001b[0m \u001b[0mself\u001b[0m\u001b[0;34m.\u001b[0m\u001b[0mengine\u001b[0m\u001b[0;34m)\u001b[0m\u001b[0;34m\u001b[0m\u001b[0;34m\u001b[0m\u001b[0m\n\u001b[0m\u001b[1;32m   1443\u001b[0m \u001b[0;34m\u001b[0m\u001b[0m\n\u001b[1;32m   1444\u001b[0m     \u001b[0;32mdef\u001b[0m \u001b[0mclose\u001b[0m\u001b[0;34m(\u001b[0m\u001b[0mself\u001b[0m\u001b[0;34m)\u001b[0m \u001b[0;34m->\u001b[0m \u001b[0;32mNone\u001b[0m\u001b[0;34m:\u001b[0m\u001b[0;34m\u001b[0m\u001b[0;34m\u001b[0m\u001b[0m\n",
            "\u001b[0;32m/usr/local/lib/python3.10/dist-packages/pandas/io/parsers/readers.py\u001b[0m in \u001b[0;36m_make_engine\u001b[0;34m(self, f, engine)\u001b[0m\n\u001b[1;32m   1733\u001b[0m                 \u001b[0;32mif\u001b[0m \u001b[0;34m\"b\"\u001b[0m \u001b[0;32mnot\u001b[0m \u001b[0;32min\u001b[0m \u001b[0mmode\u001b[0m\u001b[0;34m:\u001b[0m\u001b[0;34m\u001b[0m\u001b[0;34m\u001b[0m\u001b[0m\n\u001b[1;32m   1734\u001b[0m                     \u001b[0mmode\u001b[0m \u001b[0;34m+=\u001b[0m \u001b[0;34m\"b\"\u001b[0m\u001b[0;34m\u001b[0m\u001b[0;34m\u001b[0m\u001b[0m\n\u001b[0;32m-> 1735\u001b[0;31m             self.handles = get_handle(\n\u001b[0m\u001b[1;32m   1736\u001b[0m                 \u001b[0mf\u001b[0m\u001b[0;34m,\u001b[0m\u001b[0;34m\u001b[0m\u001b[0;34m\u001b[0m\u001b[0m\n\u001b[1;32m   1737\u001b[0m                 \u001b[0mmode\u001b[0m\u001b[0;34m,\u001b[0m\u001b[0;34m\u001b[0m\u001b[0;34m\u001b[0m\u001b[0m\n",
            "\u001b[0;32m/usr/local/lib/python3.10/dist-packages/pandas/io/common.py\u001b[0m in \u001b[0;36mget_handle\u001b[0;34m(path_or_buf, mode, encoding, compression, memory_map, is_text, errors, storage_options)\u001b[0m\n\u001b[1;32m    854\u001b[0m         \u001b[0;32mif\u001b[0m \u001b[0mioargs\u001b[0m\u001b[0;34m.\u001b[0m\u001b[0mencoding\u001b[0m \u001b[0;32mand\u001b[0m \u001b[0;34m\"b\"\u001b[0m \u001b[0;32mnot\u001b[0m \u001b[0;32min\u001b[0m \u001b[0mioargs\u001b[0m\u001b[0;34m.\u001b[0m\u001b[0mmode\u001b[0m\u001b[0;34m:\u001b[0m\u001b[0;34m\u001b[0m\u001b[0;34m\u001b[0m\u001b[0m\n\u001b[1;32m    855\u001b[0m             \u001b[0;31m# Encoding\u001b[0m\u001b[0;34m\u001b[0m\u001b[0;34m\u001b[0m\u001b[0m\n\u001b[0;32m--> 856\u001b[0;31m             handle = open(\n\u001b[0m\u001b[1;32m    857\u001b[0m                 \u001b[0mhandle\u001b[0m\u001b[0;34m,\u001b[0m\u001b[0;34m\u001b[0m\u001b[0;34m\u001b[0m\u001b[0m\n\u001b[1;32m    858\u001b[0m                 \u001b[0mioargs\u001b[0m\u001b[0;34m.\u001b[0m\u001b[0mmode\u001b[0m\u001b[0;34m,\u001b[0m\u001b[0;34m\u001b[0m\u001b[0;34m\u001b[0m\u001b[0m\n",
            "\u001b[0;31mFileNotFoundError\u001b[0m: [Errno 2] No such file or directory: '/content/datasets/Housing Data/train.csv'"
          ]
        }
      ],
      "source": [
        "train_df = pd.read_csv(\"/content/datasets/Housing Data/train.csv\")\n",
        "test_df = pd.read_csv(\"/content/datasets/Housing Data/test.csv\")\n",
        "display(train_df.head()),display(test_df.head())"
      ],
      "id": "8209da66-a905-48c1-8f41-84857c1f49ba"
    },
    {
      "cell_type": "code",
      "execution_count": 27,
      "metadata": {
        "id": "78ee7e23-1101-4863-a115-896861b86988",
        "colab": {
          "base_uri": "https://localhost:8080/",
          "height": 140
        },
        "outputId": "b617ef05-7aba-429e-a602-74cd4aaeef55"
      },
      "outputs": [
        {
          "output_type": "error",
          "ename": "IndentationError",
          "evalue": "unindent does not match any outer indentation level (<tokenize>, line 21)",
          "traceback": [
            "\u001b[0;36m  File \u001b[0;32m\"<tokenize>\"\u001b[0;36m, line \u001b[0;32m21\u001b[0m\n\u001b[0;31m    def data_preprocessor_b(train_data, test_data, label='SalePrice'):\u001b[0m\n\u001b[0m    ^\u001b[0m\n\u001b[0;31mIndentationError\u001b[0m\u001b[0;31m:\u001b[0m unindent does not match any outer indentation level\n"
          ]
        }
      ],
      "source": [
        "def data_preprocessor_a(train_data, test_data, label='SalePrice'):\n",
        "\n",
        "    features_all = pd.concat((train_data.drop(columns=['Id', label]), test_data.drop(columns=['Id'])))\n",
        "    numeric_features = features_all.dtypes[features_all.dtypes != 'object'].index\n",
        "\n",
        "    features_all[numeric_features] = features_all[numeric_features].apply(lambda x: (x - x.mean()) / (x.std()))\n",
        "    features_all[numeric_features] = features_all[numeric_features].fillna(0)\n",
        "    #features_all = pd.get_dummies(features_all, dummy_na=True)\n",
        "\n",
        "    train_df = features_all[:train_data.shape[0]].copy()\n",
        "\n",
        "    normVals = (train_data[label].mean(), train_data[label].std())\n",
        "    print(normVals)\n",
        "\n",
        "    train_df[label] = ( train_data[label] - normVals[0] ) / normVals[1]\n",
        "    test_df = features_all[train_data.shape[0]:].copy()\n",
        "\n",
        "    return train_df, test_df\n",
        "\n",
        "\n",
        "  def data_preprocessor_b(train_data, test_data, label='SalePrice'):\n",
        "\n",
        "    features_all = pd.concat((train_data.drop(columns=['Id', label]), test_data.drop(columns=['Id'])))\n",
        "    numeric_features = features_all.dtypes[features_all.dtypes != 'object'].index\n",
        "\n",
        "    features_all[numeric_features] = features_all[numeric_features].apply(lambda x: (x - x.mean()) / (x.std()))\n",
        "    features_all[numeric_features] = features_all[numeric_features].fillna(0)\n",
        "    features_all = pd.get_dummies(features_all, dummy_na=True)\n",
        "\n",
        "    train_df = features_all[:train_data.shape[0]].copy()\n",
        "\n",
        "    normVals = (train_data[label].mean(), train_data[label].std())\n",
        "    print(normVals)\n",
        "\n",
        "    train_df[label] = ( train_data[label] - normVals[0] ) / normVals[1]\n",
        "    test_df = features_all[train_data.shape[0]:].copy()\n",
        "\n",
        "    return train_df, test_df"
      ],
      "id": "78ee7e23-1101-4863-a115-896861b86988"
    },
    {
      "cell_type": "code",
      "execution_count": null,
      "metadata": {
        "id": "d1b39eab-0530-4895-b237-265cf85603e0"
      },
      "outputs": [],
      "source": [
        "lectureModel = nn.Sequential(\n",
        "    nn.LazyLinear(256),\n",
        "    nn.ReLU(),\n",
        "    nn.LazyLinear(10),\n",
        ")\n",
        "\n",
        "\n",
        "class sale_predictor(nn.Module):\n",
        "    def __init__(self):\n",
        "        super(sale_predictor, self).__init__()\n",
        "\n",
        "        # From output data\n",
        "        self.mean = 180921.19589041095\n",
        "        self.std = 79442.50288288662\n",
        "        self.unNormalize = False\n",
        "        self.Dropout = False\n",
        "        self.D1 = nn.Dropout(0.3)\n",
        "\n",
        "        self.layer1 = nn.LazyLinear(256)\n",
        "        self.relu1 = nn.ReLU()\n",
        "        self.layer2 = nn.LazyLinear(256)\n",
        "        self.relu2 = nn.ReLU()\n",
        "        self.layer3 = nn.LazyLinear(128)\n",
        "        self.relu3 = nn.ReLU()\n",
        "        self.layer4 = nn.LazyLinear(1)\n",
        "\n",
        "    def forward(self, x):\n",
        "        x = self.layer1(x)\n",
        "        x = self.relu1(x)\n",
        "        x = self.layer2(x)\n",
        "        x = self.relu2(x)\n",
        "        if self.Dropout:\n",
        "            x = self.D1(x)\n",
        "        x = self.layer3(x)\n",
        "        x = self.relu3(x)\n",
        "        x = self.layer4(x)\n",
        "\n",
        "        if self.unNormalize:\n",
        "            x = x * self.std + self.mean\n",
        "\n",
        "        return x\n",
        "\n",
        "sale_predictor = sale_predictor()"
      ],
      "id": "d1b39eab-0530-4895-b237-265cf85603e0"
    },
    {
      "cell_type": "code",
      "execution_count": null,
      "metadata": {
        "id": "d088a549-e912-409a-a143-580f9ac6aaf1"
      },
      "outputs": [],
      "source": [
        "class housing_dataset(torch.utils.data.Dataset):\n",
        "    def __init__(self, df):\n",
        "        self.df = df\n",
        "\n",
        "    def __len__(self):\n",
        "        return len(self.df)\n",
        "\n",
        "    def __getitem__(self, idx):\n",
        "        row = self.df.iloc[idx]\n",
        "\n",
        "        dimensions = torch.Tensor(row.values)\n",
        "        label = dimensions[-1]\n",
        "\n",
        "        return (dimensions[:-1], label)"
      ],
      "id": "d088a549-e912-409a-a143-580f9ac6aaf1"
    },
    {
      "cell_type": "markdown",
      "source": [
        "2A"
      ],
      "metadata": {
        "id": "62MPIdRGmha3"
      },
      "id": "62MPIdRGmha3"
    },
    {
      "cell_type": "code",
      "execution_count": null,
      "metadata": {
        "id": "66a9c354-2557-4c5f-a6c8-ebe29e4c8457"
      },
      "outputs": [],
      "source": [
        "train_processed_df, test_processed_df = data_preprocessor_a(train_df, test_df)\n",
        "test_processed_df.head()"
      ],
      "id": "66a9c354-2557-4c5f-a6c8-ebe29e4c8457"
    },
    {
      "cell_type": "code",
      "execution_count": null,
      "metadata": {
        "id": "1dec8d28-6851-436d-8236-d635bc59c6f0"
      },
      "outputs": [],
      "source": [
        "train_housing = housing_dataset(train_processed_df)\n",
        "\n",
        "validNum = int(len(train_housing) * 0.8)\n",
        "train_housing, valid_housing = random_split(train_housing, [validNum, len(train_housing) - validNum])\n",
        "\n",
        "trainLoaderHousing = DataLoader(train_housing, batch_size=128, shuffle=True, num_workers=0)\n",
        "validateLoaderHousing = DataLoader(valid_housing, batch_size=128, shuffle=True, num_workers=0)"
      ],
      "id": "1dec8d28-6851-436d-8236-d635bc59c6f0"
    },
    {
      "cell_type": "markdown",
      "source": [
        "2B\n"
      ],
      "metadata": {
        "id": "3PyLXDFMmuMD"
      },
      "id": "3PyLXDFMmuMD"
    },
    {
      "cell_type": "code",
      "source": [
        "train_processed_df, test_processed_df = data_preprocessor_b(train_df, test_df)\n",
        "test_processed_df.head()"
      ],
      "metadata": {
        "id": "OF2aGvF3mxHC"
      },
      "id": "OF2aGvF3mxHC",
      "execution_count": null,
      "outputs": []
    },
    {
      "cell_type": "code",
      "source": [
        "train_housing = housing_dataset(train_processed_df)\n",
        "\n",
        "validNum = int(len(train_housing) * 0.8)\n",
        "train_housing, valid_housing = random_split(train_housing, [validNum, len(train_housing) - validNum])\n",
        "\n",
        "trainLoaderHousing = DataLoader(train_housing, batch_size=128, shuffle=True, num_workers=0)\n",
        "validateLoaderHousing = DataLoader(valid_housing, batch_size=128, shuffle=True, num_workers=0)"
      ],
      "metadata": {
        "id": "3Gdt6zTXm0ld"
      },
      "id": "3Gdt6zTXm0ld",
      "execution_count": null,
      "outputs": []
    },
    {
      "cell_type": "markdown",
      "metadata": {
        "id": "f373daa8-c962-48f0-b2a3-a30069c8d97c"
      },
      "source": [
        "### 2.c Improve the score by improving the model complexity"
      ],
      "id": "f373daa8-c962-48f0-b2a3-a30069c8d97c"
    },
    {
      "cell_type": "code",
      "execution_count": null,
      "metadata": {
        "id": "3b80f847-4bca-43ff-a87e-d1a7ccbbf83d",
        "scrolled": true
      },
      "outputs": [],
      "source": [
        "\n",
        "LectureModel = copy.deepcopy(lectureModel)\n",
        "LectureHousingTrainer = Train_Model(LectureModel, nn.MSELoss(), torch.optim.SGD(LectureModel.parameters(), lr=0.01, momentum=0.9), nn.MSELoss(), \"Regression\",  device_to_use)\n",
        "\n",
        "start_time = datetime.now()\n",
        "\n",
        "LectureHousingTrainer.fit(trainLoaderHousing, validateLoaderHousing, 20)\n",
        "end_time = datetime.now()\n",
        "\n",
        "print(\"Time Taken to Train:\", end_time - start_time)\n",
        "### PLOTTING METRICS\n",
        "plt.plot(LectureHousingTrainer.Metrics['Training_Loss'], label='Training Loss')\n",
        "plt.plot(LectureHousingTrainer.Metrics['Validation_Loss'], label='Validation Loss')\n",
        "plt.xlabel('Epoch')\n",
        "plt.ylabel('Metric')\n",
        "plt.legend()"
      ],
      "id": "3b80f847-4bca-43ff-a87e-d1a7ccbbf83d"
    },
    {
      "cell_type": "code",
      "execution_count": 16,
      "metadata": {
        "id": "6c907708-d7c5-4357-ad2a-56f1268a667c",
        "scrolled": true,
        "colab": {
          "base_uri": "https://localhost:8080/",
          "height": 262
        },
        "outputId": "26fb557a-b0af-4925-dd58-cadc76a3257f"
      },
      "outputs": [
        {
          "output_type": "error",
          "ename": "NameError",
          "evalue": "name 'sale_predictor' is not defined",
          "traceback": [
            "\u001b[0;31m---------------------------------------------------------------------------\u001b[0m",
            "\u001b[0;31mNameError\u001b[0m                                 Traceback (most recent call last)",
            "\u001b[0;32m<ipython-input-16-cf23c22043b7>\u001b[0m in \u001b[0;36m<cell line: 1>\u001b[0;34m()\u001b[0m\n\u001b[0;32m----> 1\u001b[0;31m \u001b[0mbase_housingModel\u001b[0m \u001b[0;34m=\u001b[0m \u001b[0mcopy\u001b[0m\u001b[0;34m.\u001b[0m\u001b[0mdeepcopy\u001b[0m\u001b[0;34m(\u001b[0m\u001b[0msale_predictor\u001b[0m\u001b[0;34m)\u001b[0m\u001b[0;34m\u001b[0m\u001b[0;34m\u001b[0m\u001b[0m\n\u001b[0m\u001b[1;32m      2\u001b[0m \u001b[0mComplexHousingTrainer\u001b[0m \u001b[0;34m=\u001b[0m \u001b[0mTrain_Model\u001b[0m\u001b[0;34m(\u001b[0m\u001b[0mbase_housingModel\u001b[0m\u001b[0;34m,\u001b[0m \u001b[0mnn\u001b[0m\u001b[0;34m.\u001b[0m\u001b[0mMSELoss\u001b[0m\u001b[0;34m(\u001b[0m\u001b[0;34m)\u001b[0m\u001b[0;34m,\u001b[0m \u001b[0mtorch\u001b[0m\u001b[0;34m.\u001b[0m\u001b[0moptim\u001b[0m\u001b[0;34m.\u001b[0m\u001b[0mSGD\u001b[0m\u001b[0;34m(\u001b[0m\u001b[0mbase_housingModel\u001b[0m\u001b[0;34m.\u001b[0m\u001b[0mparameters\u001b[0m\u001b[0;34m(\u001b[0m\u001b[0;34m)\u001b[0m\u001b[0;34m,\u001b[0m \u001b[0mlr\u001b[0m\u001b[0;34m=\u001b[0m\u001b[0;36m0.01\u001b[0m\u001b[0;34m,\u001b[0m \u001b[0mmomentum\u001b[0m\u001b[0;34m=\u001b[0m\u001b[0;36m0.9\u001b[0m\u001b[0;34m)\u001b[0m\u001b[0;34m,\u001b[0m \u001b[0mnn\u001b[0m\u001b[0;34m.\u001b[0m\u001b[0mMSELoss\u001b[0m\u001b[0;34m(\u001b[0m\u001b[0;34m)\u001b[0m\u001b[0;34m,\u001b[0m \u001b[0;34m\"Regression\"\u001b[0m\u001b[0;34m,\u001b[0m  \u001b[0mdevice_to_use\u001b[0m\u001b[0;34m)\u001b[0m\u001b[0;34m\u001b[0m\u001b[0;34m\u001b[0m\u001b[0m\n\u001b[1;32m      3\u001b[0m \u001b[0;34m\u001b[0m\u001b[0m\n\u001b[1;32m      4\u001b[0m \u001b[0mstart_time\u001b[0m \u001b[0;34m=\u001b[0m \u001b[0mdatetime\u001b[0m\u001b[0;34m.\u001b[0m\u001b[0mnow\u001b[0m\u001b[0;34m(\u001b[0m\u001b[0;34m)\u001b[0m\u001b[0;34m\u001b[0m\u001b[0;34m\u001b[0m\u001b[0m\n\u001b[1;32m      5\u001b[0m \u001b[0;34m\u001b[0m\u001b[0m\n",
            "\u001b[0;31mNameError\u001b[0m: name 'sale_predictor' is not defined"
          ]
        }
      ],
      "source": [
        "base_housingModel = copy.deepcopy(sale_predictor)\n",
        "ComplexHousingTrainer = Train_Model(base_housingModel, nn.MSELoss(), torch.optim.SGD(base_housingModel.parameters(), lr=0.01, momentum=0.9), nn.MSELoss(), \"Regression\",  device_to_use)\n",
        "\n",
        "start_time = datetime.now()\n",
        "\n",
        "ComplexHousingTrainer.fit(trainLoaderHousing, validateLoaderHousing, 20)\n",
        "end_time = datetime.now()\n",
        "\n",
        "print(\"Time Taken to Train:\", end_time - start_time)\n",
        "### PLOTTING METRICS\n",
        "plt.plot(ComplexHousingTrainer.Metrics['Training_Loss'], label='Training Loss')\n",
        "plt.plot(ComplexHousingTrainer.Metrics['Validation_Loss'], label='Validation Loss')\n",
        "plt.xlabel('Epoch')\n",
        "plt.ylabel('Metric')\n",
        "plt.legend()"
      ],
      "id": "6c907708-d7c5-4357-ad2a-56f1268a667c"
    },
    {
      "cell_type": "markdown",
      "metadata": {
        "id": "b21dc4f8-b4ed-4e8b-b79d-0c2ed7ed1d09"
      },
      "source": [
        "### How about the model complexity comparison and training time?\n",
        "The new model shows better accuracy compared to the model built during the class lectures."
      ],
      "id": "b21dc4f8-b4ed-4e8b-b79d-0c2ed7ed1d09"
    }
  ],
  "metadata": {
    "accelerator": "GPU",
    "colab": {
      "provenance": [],
      "include_colab_link": true
    },
    "gpuClass": "standard",
    "kernelspec": {
      "display_name": "Python 3 (ipykernel)",
      "language": "python",
      "name": "python3"
    },
    "language_info": {
      "codemirror_mode": {
        "name": "ipython",
        "version": 3
      },
      "file_extension": ".py",
      "mimetype": "text/x-python",
      "name": "python",
      "nbconvert_exporter": "python",
      "pygments_lexer": "ipython3",
      "version": "3.10.9"
    }
  },
  "nbformat": 4,
  "nbformat_minor": 5
}