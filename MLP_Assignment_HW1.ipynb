{
  "cells": [
    {
      "cell_type": "markdown",
      "metadata": {
        "id": "view-in-github",
        "colab_type": "text"
      },
      "source": [
        "<a href=\"https://colab.research.google.com/github/Madhukiranchiti/RTML-trial/blob/main/MLP_Assignment_HW1.ipynb\" target=\"_parent\"><img src=\"https://colab.research.google.com/assets/colab-badge.svg\" alt=\"Open In Colab\"/></a>"
      ]
    },
    {
      "cell_type": "markdown",
      "metadata": {
        "id": "50609119-e1ed-47f3-9fb2-9f31a46b9463"
      },
      "source": [
        "# Homework 1: Fashion and Housing Multi-layer Perceptron Model Training\n",
        "## Course : Real-Time Machine Learning - ECGR 5106\n",
        "### Name : Madhu Kiran Rao Chiti\n",
        "### Student ID : 801333676\n",
        "### Date : 01/26/2024\n"
      ],
      "id": "50609119-e1ed-47f3-9fb2-9f31a46b9463"
    },
    {
      "cell_type": "code",
      "execution_count": 4,
      "metadata": {
        "colab": {
          "base_uri": "https://localhost:8080/"
        },
        "id": "c2d5af04-1aea-40d0-8e7e-d90ae1310e25",
        "outputId": "6fc46585-8cfb-4d07-e465-800ec7cf2b81"
      },
      "outputs": [
        {
          "output_type": "stream",
          "name": "stdout",
          "text": [
            "Collecting torchmetrics\n",
            "  Downloading torchmetrics-1.3.0.post0-py3-none-any.whl (840 kB)\n",
            "\u001b[2K     \u001b[90m━━━━━━━━━━━━━━━━━━━━━━━━━━━━━━━━━━━━━━━━\u001b[0m \u001b[32m840.2/840.2 kB\u001b[0m \u001b[31m10.3 MB/s\u001b[0m eta \u001b[36m0:00:00\u001b[0m\n",
            "\u001b[?25hRequirement already satisfied: numpy>1.20.0 in /usr/local/lib/python3.10/dist-packages (from torchmetrics) (1.23.5)\n",
            "Requirement already satisfied: packaging>17.1 in /usr/local/lib/python3.10/dist-packages (from torchmetrics) (23.2)\n",
            "Requirement already satisfied: torch>=1.10.0 in /usr/local/lib/python3.10/dist-packages (from torchmetrics) (2.1.0+cu121)\n",
            "Collecting lightning-utilities>=0.8.0 (from torchmetrics)\n",
            "  Downloading lightning_utilities-0.10.1-py3-none-any.whl (24 kB)\n",
            "Requirement already satisfied: setuptools in /usr/local/lib/python3.10/dist-packages (from lightning-utilities>=0.8.0->torchmetrics) (67.7.2)\n",
            "Requirement already satisfied: typing-extensions in /usr/local/lib/python3.10/dist-packages (from lightning-utilities>=0.8.0->torchmetrics) (4.5.0)\n",
            "Requirement already satisfied: filelock in /usr/local/lib/python3.10/dist-packages (from torch>=1.10.0->torchmetrics) (3.13.1)\n",
            "Requirement already satisfied: sympy in /usr/local/lib/python3.10/dist-packages (from torch>=1.10.0->torchmetrics) (1.12)\n",
            "Requirement already satisfied: networkx in /usr/local/lib/python3.10/dist-packages (from torch>=1.10.0->torchmetrics) (3.2.1)\n",
            "Requirement already satisfied: jinja2 in /usr/local/lib/python3.10/dist-packages (from torch>=1.10.0->torchmetrics) (3.1.3)\n",
            "Requirement already satisfied: fsspec in /usr/local/lib/python3.10/dist-packages (from torch>=1.10.0->torchmetrics) (2023.6.0)\n",
            "Requirement already satisfied: triton==2.1.0 in /usr/local/lib/python3.10/dist-packages (from torch>=1.10.0->torchmetrics) (2.1.0)\n",
            "Requirement already satisfied: MarkupSafe>=2.0 in /usr/local/lib/python3.10/dist-packages (from jinja2->torch>=1.10.0->torchmetrics) (2.1.4)\n",
            "Requirement already satisfied: mpmath>=0.19 in /usr/local/lib/python3.10/dist-packages (from sympy->torch>=1.10.0->torchmetrics) (1.3.0)\n",
            "Installing collected packages: lightning-utilities, torchmetrics\n",
            "Successfully installed lightning-utilities-0.10.1 torchmetrics-1.3.0.post0\n"
          ]
        }
      ],
      "source": [
        "import cv2\n",
        "import numpy as np\n",
        "import pandas as pd\n",
        "from tqdm import tqdm\n",
        "from datetime import datetime\n",
        "from matplotlib import pyplot as plt\n",
        "\n",
        "import torch\n",
        "from torch import nn\n",
        "from torch.utils.data import DataLoader, random_split, Subset\n",
        "\n",
        "from torchvision import transforms, datasets\n",
        "!pip install torchmetrics\n",
        "from torchmetrics.classification import MulticlassAccuracy, BinaryAccuracy\n",
        "from torchmetrics import ConfusionMatrix\n",
        "\n",
        "import copy"
      ],
      "id": "c2d5af04-1aea-40d0-8e7e-d90ae1310e25"
    },
    {
      "cell_type": "code",
      "execution_count": 5,
      "metadata": {
        "id": "ef435688-843e-42ba-8516-66d2dfc8dcb7"
      },
      "outputs": [],
      "source": [
        "class Train_Model: # A class to train and save the developed model and the metrics\n",
        "\n",
        "\n",
        "    def __init__(self, model, loss, optimizer, accuracy, model_type, device, classes=0):\n",
        "\n",
        "        self.device = device\n",
        "        self.model = model.to(device) ## Setting the model on GPU\n",
        "        self.Loss_Function = loss\n",
        "        self.optimizer = optimizer\n",
        "        self.accuracy = accuracy\n",
        "        self.model_type = model_type\n",
        "        self.classNum = classes\n",
        "\n",
        "        # A dictionary to append or store the results\n",
        "        self.Metrics = {\"Training_Loss\":[],\"Training_Accuracy\":[], \"Validation_Loss\":[], \"Validation_Accuracy\":[],\"Test_Accuracy\":0}\n",
        "        self.ConfMatrix = None\n",
        "\n",
        "    # Function to train the model\n",
        "    def model_run(self, l_data,run_type):\n",
        "\n",
        "        if run_type == 'train':\n",
        "          self.model.train()\n",
        "\n",
        "          if self.model_type == \"Classification\":\n",
        "              MCA = self.accuracy(self.classNum)\n",
        "          else:\n",
        "              MCA = self.accuracy\n",
        "\n",
        "          loss_sum = 0\n",
        "          acc = 0\n",
        "\n",
        "          # Iterates over the data\n",
        "          for data, labels in tqdm(l_data):\n",
        "\n",
        "              # transform data into one-hot vectors\n",
        "              data = data.to(self.device)\n",
        "              if self.model_type == \"Classification\":\n",
        "                  labels = torch.eye(10)[labels]\n",
        "              else:\n",
        "                  labels = labels.reshape(-1, 1)\n",
        "              labels = labels.to(self.device)\n",
        "\n",
        "              predictions = self.model(data)\n",
        "              loss_value = self.Loss_Function(predictions, labels)\n",
        "\n",
        "\n",
        "              self.optimizer.zero_grad()\n",
        "              loss_value.backward()\n",
        "              self.optimizer.step()\n",
        "\n",
        "\n",
        "              # Set the predictions and labels back into integers for accuracy calculation\n",
        "              if self.model_type == \"Classification\":\n",
        "                  predictions = torch.Tensor([torch.argmax(i).item() for i in predictions])\n",
        "                  labels = torch.Tensor([torch.argmax(i).item() for i in labels])\n",
        "\n",
        "              ##### Calculate Loss and accuracy\n",
        "              loss_sum += loss_value.item()\n",
        "              if self.model_type == \"Classification\":\n",
        "                  acc += MCA(predictions, labels)\n",
        "\n",
        "          self.Metrics[\"Training_Loss\"].append(loss_sum / len(l_data))\n",
        "          if self.model_type == \"Classification\":\n",
        "              self.Metrics[\"Training_Accuracy\"].append(acc / len(l_data))\n",
        "\n",
        "\n",
        "        elif run_type == 'eval':\n",
        "          self.model.eval()\n",
        "\n",
        "          if self.model_type == \"Classification\":\n",
        "              MCA = self.accuracy(self.classNum)\n",
        "          else:\n",
        "              MCA = self.accuracy\n",
        "\n",
        "          loss_sum = 0\n",
        "          acc = 0\n",
        "\n",
        "          for data, labels in l_data:\n",
        "\n",
        "              data = data.to(self.device)\n",
        "              if self.model_type == \"Classification\":\n",
        "                  labels = torch.eye(10)[labels]\n",
        "              else:\n",
        "                  labels = labels.reshape(-1, 1)\n",
        "              labels = labels.to(self.device)\n",
        "\n",
        "              with torch.no_grad():\n",
        "                  predictions = self.model(data)\n",
        "              loss_value = self.Loss_Function(predictions, labels)\n",
        "\n",
        "              if self.model_type == \"Classification\":\n",
        "                  predictions = torch.Tensor([torch.argmax(i).item() for i in predictions])\n",
        "                  labels = torch.Tensor([torch.argmax(i).item() for i in labels])\n",
        "\n",
        "              loss_sum += loss_value.item()\n",
        "              if self.model_type == \"Classification\":\n",
        "                  acc += MCA(predictions, labels)\n",
        "\n",
        "          self.Metrics[\"Validation_Loss\"].append(loss_sum / len(l_data))\n",
        "          if self.model_type == \"Classification\":\n",
        "              self.Metrics[\"Validation_Accuracy\"].append(acc / len(l_data))\n",
        "\n",
        "\n",
        "    def fit(self, t_data, v_data, EPOCHS):\n",
        "\n",
        "\n",
        "        for i in range(EPOCHS):\n",
        "\n",
        "            self.model_run(v_data,'eval')\n",
        "            self.model_run(t_data,'train')\n",
        "\n",
        "            print(\"Current Epoch:\", i+1)\n",
        "            print(\"Training_Loss:\", self.Metrics[\"Training_Loss\"][-1], \" | Validation_Loss:\", self.Metrics[\"Validation_Loss\"][-1])\n",
        "            if self.model_type == \"Classification\":\n",
        "                print(\"Training_Accuracy:\", self.Metrics[\"Training_Accuracy\"][-1].item(), \" | Validation_Accuracy:\", self.Metrics[\"Validation_Accuracy\"][-1].item())\n",
        "\n",
        "\n",
        "    def Test_Model(self, testLoader):\n",
        "\n",
        "        self.model.eval()\n",
        "\n",
        "        if self.model_type == \"Classification\":\n",
        "            confusion = ConfusionMatrix(task=\"multiclass\", num_classes=self.classNum)\n",
        "            MCA = self.accuracy(self.classNum)\n",
        "        else:\n",
        "            MCA = self.accuracy\n",
        "\n",
        "        predMax = torch.empty(0)\n",
        "        labelMax = torch.empty(0)\n",
        "\n",
        "        for data, labels in testLoader:\n",
        "\n",
        "            data = data.to(self.device)\n",
        "            if self.model_type == \"Classification\":\n",
        "                labels = torch.eye(10)[labels]\n",
        "            else:\n",
        "                labels = labels.reshape(-1, 1)\n",
        "            labels = labels.to(self.device)\n",
        "\n",
        "            with torch.no_grad():\n",
        "                pred = self.model(data)\n",
        "\n",
        "            if self.model_type == \"Classification\":\n",
        "                pred = torch.Tensor([torch.argmax(i).item() for i in pred])\n",
        "                labels = torch.Tensor([torch.argmax(i).item() for i in labels])\n",
        "\n",
        "            predMax = torch.cat((predMax, pred))\n",
        "            labelMax = torch.cat((labelMax, labels))\n",
        "\n",
        "        if self.model_type == \"Classification\":\n",
        "            self.ConfMatrix = confusion(predMax, labelMax)\n",
        "            self.Metrics[\"Test_Accuracy\"] = MCA(predMax, labelMax).item()\n",
        "\n",
        "\n"
      ],
      "id": "ef435688-843e-42ba-8516-66d2dfc8dcb7"
    },
    {
      "cell_type": "markdown",
      "metadata": {
        "id": "ae6a8caf-dfed-4b60-8dc5-760b2f483a50"
      },
      "source": [
        "## Problem 1 Fashion Dataset"
      ],
      "id": "ae6a8caf-dfed-4b60-8dc5-760b2f483a50"
    },
    {
      "cell_type": "code",
      "execution_count": 6,
      "metadata": {
        "id": "011f0439-8023-4551-a9df-61ff6fbfd2d0"
      },
      "outputs": [],
      "source": [
        "device_to_use = torch.device(\"cuda\" if torch.cuda.is_available() else \"cpu\")"
      ],
      "id": "011f0439-8023-4551-a9df-61ff6fbfd2d0"
    },
    {
      "cell_type": "code",
      "execution_count": 7,
      "metadata": {
        "id": "581c3bbe-b7aa-45a8-857e-0c745bcfc314"
      },
      "outputs": [],
      "source": [
        "train_transform = transforms.Compose([\n",
        "                                        transforms.ToTensor(),\n",
        "                                        transforms.Normalize((0.29), (0.32)),\n",
        "])\n",
        "\n",
        "test_transform = transforms.Compose([\n",
        "                                        transforms.ToTensor(),\n",
        "                                        transforms.Normalize((0.29), (0.32)),\n",
        "])"
      ],
      "id": "581c3bbe-b7aa-45a8-857e-0c745bcfc314"
    },
    {
      "cell_type": "code",
      "execution_count": 8,
      "metadata": {
        "id": "c39123b0-efbd-484e-b843-3c88da5f89de",
        "outputId": "9f71498a-0fc4-4625-de29-8f80bb1e53c1",
        "colab": {
          "base_uri": "https://localhost:8080/"
        }
      },
      "outputs": [
        {
          "output_type": "stream",
          "name": "stdout",
          "text": [
            "Downloading http://fashion-mnist.s3-website.eu-central-1.amazonaws.com/train-images-idx3-ubyte.gz\n",
            "Downloading http://fashion-mnist.s3-website.eu-central-1.amazonaws.com/train-images-idx3-ubyte.gz to datasets/FashionMNIST/raw/train-images-idx3-ubyte.gz\n"
          ]
        },
        {
          "output_type": "stream",
          "name": "stderr",
          "text": [
            "100%|██████████| 26421880/26421880 [00:02<00:00, 11184915.65it/s]\n"
          ]
        },
        {
          "output_type": "stream",
          "name": "stdout",
          "text": [
            "Extracting datasets/FashionMNIST/raw/train-images-idx3-ubyte.gz to datasets/FashionMNIST/raw\n",
            "\n",
            "Downloading http://fashion-mnist.s3-website.eu-central-1.amazonaws.com/train-labels-idx1-ubyte.gz\n",
            "Downloading http://fashion-mnist.s3-website.eu-central-1.amazonaws.com/train-labels-idx1-ubyte.gz to datasets/FashionMNIST/raw/train-labels-idx1-ubyte.gz\n"
          ]
        },
        {
          "output_type": "stream",
          "name": "stderr",
          "text": [
            "100%|██████████| 29515/29515 [00:00<00:00, 198208.81it/s]\n"
          ]
        },
        {
          "output_type": "stream",
          "name": "stdout",
          "text": [
            "Extracting datasets/FashionMNIST/raw/train-labels-idx1-ubyte.gz to datasets/FashionMNIST/raw\n",
            "\n",
            "Downloading http://fashion-mnist.s3-website.eu-central-1.amazonaws.com/t10k-images-idx3-ubyte.gz\n",
            "Downloading http://fashion-mnist.s3-website.eu-central-1.amazonaws.com/t10k-images-idx3-ubyte.gz to datasets/FashionMNIST/raw/t10k-images-idx3-ubyte.gz\n"
          ]
        },
        {
          "output_type": "stream",
          "name": "stderr",
          "text": [
            "100%|██████████| 4422102/4422102 [00:01<00:00, 3692643.04it/s]\n"
          ]
        },
        {
          "output_type": "stream",
          "name": "stdout",
          "text": [
            "Extracting datasets/FashionMNIST/raw/t10k-images-idx3-ubyte.gz to datasets/FashionMNIST/raw\n",
            "\n",
            "Downloading http://fashion-mnist.s3-website.eu-central-1.amazonaws.com/t10k-labels-idx1-ubyte.gz\n",
            "Downloading http://fashion-mnist.s3-website.eu-central-1.amazonaws.com/t10k-labels-idx1-ubyte.gz to datasets/FashionMNIST/raw/t10k-labels-idx1-ubyte.gz\n"
          ]
        },
        {
          "output_type": "stream",
          "name": "stderr",
          "text": [
            "100%|██████████| 5148/5148 [00:00<00:00, 22728712.62it/s]"
          ]
        },
        {
          "output_type": "stream",
          "name": "stdout",
          "text": [
            "Extracting datasets/FashionMNIST/raw/t10k-labels-idx1-ubyte.gz to datasets/FashionMNIST/raw\n",
            "\n"
          ]
        },
        {
          "output_type": "stream",
          "name": "stderr",
          "text": [
            "\n"
          ]
        }
      ],
      "source": [
        "train_df = datasets.FashionMNIST(root=\"datasets\", train=True, transform=train_transform,download=True)\n",
        "test_df = datasets.FashionMNIST(root=\"datasets\", train=False, transform=test_transform,download=True)\n",
        "\n",
        "## Create Train and Test data\n",
        "validNum = int(len(train_df) * 0.8)\n",
        "train_df, valid_df = random_split(train_df, [validNum, len(train_df) - validNum])\n"
      ],
      "id": "c39123b0-efbd-484e-b843-3c88da5f89de"
    },
    {
      "cell_type": "code",
      "execution_count": 9,
      "metadata": {
        "id": "ae9b750d-748f-49a4-9c20-cdc8218254dd"
      },
      "outputs": [],
      "source": [
        "trainLoader = DataLoader(train_df, batch_size=256, shuffle=True, num_workers=1)\n",
        "validateLoader = DataLoader(valid_df, batch_size=256, shuffle=True, num_workers=1)\n",
        "testLoader = DataLoader(test_df, batch_size=256, shuffle=True, num_workers=1)"
      ],
      "id": "ae9b750d-748f-49a4-9c20-cdc8218254dd"
    },
    {
      "cell_type": "code",
      "execution_count": 10,
      "metadata": {
        "id": "1bebb7a6-4049-495f-bb7c-b4e8b2d39cce",
        "outputId": "a09c1792-c574-4c86-babf-8ccb6deda643",
        "colab": {
          "base_uri": "https://localhost:8080/"
        }
      },
      "outputs": [
        {
          "output_type": "stream",
          "name": "stderr",
          "text": [
            "/usr/local/lib/python3.10/dist-packages/torch/nn/modules/lazy.py:180: UserWarning: Lazy modules are a new feature under heavy development so changes to the API or functionality can happen at any moment.\n",
            "  warnings.warn('Lazy modules are a new feature under heavy development '\n"
          ]
        }
      ],
      "source": [
        "BaseModel = nn.Sequential(\n",
        "    nn.Flatten(),\n",
        "    nn.LazyLinear(256),\n",
        "    nn.ReLU(),\n",
        "    nn.Linear(in_features= 256, out_features= 128),\n",
        "    nn.ReLU(),\n",
        "    nn.Linear(in_features= 128, out_features= 64),\n",
        "    nn.ReLU(),\n",
        "    nn.Linear(in_features= 64, out_features= 10),\n",
        ")"
      ],
      "id": "1bebb7a6-4049-495f-bb7c-b4e8b2d39cce"
    },
    {
      "cell_type": "code",
      "execution_count": 11,
      "metadata": {
        "id": "726d5412-804f-4f43-ae8e-3994d094eed3"
      },
      "outputs": [],
      "source": [
        "base = copy.deepcopy(BaseModel)\n",
        "baseline_model_generator = Train_Model(base, nn.CrossEntropyLoss(), torch.optim.SGD(base.parameters(), lr=0.01, momentum=0.9), MulticlassAccuracy, \"Classification\",  device_to_use, 10)"
      ],
      "id": "726d5412-804f-4f43-ae8e-3994d094eed3"
    },
    {
      "cell_type": "markdown",
      "metadata": {
        "id": "a0bab864-4ddd-4892-a8d7-fd32527328f4"
      },
      "source": [
        "### 1.a Train the model from scratch (with randomized parameters)"
      ],
      "id": "a0bab864-4ddd-4892-a8d7-fd32527328f4"
    },
    {
      "cell_type": "code",
      "execution_count": 12,
      "metadata": {
        "colab": {
          "base_uri": "https://localhost:8080/",
          "height": 1000
        },
        "id": "272709df-b072-4790-a0e3-7e0c76462fce",
        "outputId": "369871c5-d73a-44a8-9ddc-8a7308ecbd58"
      },
      "outputs": [
        {
          "output_type": "stream",
          "name": "stderr",
          "text": [
            "100%|██████████| 188/188 [00:21<00:00,  8.94it/s]"
          ]
        },
        {
          "output_type": "stream",
          "name": "stdout",
          "text": [
            "Current Epoch: 1\n",
            "Training_Loss: 1.0500505211505484  | Validation_Loss: 2.3084451797160694\n",
            "Training_Accuracy: 0.636378824710846  | Validation_Accuracy: 0.08091837912797928\n"
          ]
        },
        {
          "output_type": "stream",
          "name": "stderr",
          "text": [
            "\n",
            "100%|██████████| 188/188 [00:13<00:00, 14.43it/s]"
          ]
        },
        {
          "output_type": "stream",
          "name": "stdout",
          "text": [
            "Current Epoch: 2\n",
            "Training_Loss: 0.4836652748128201  | Validation_Loss: 0.5452759411740811\n",
            "Training_Accuracy: 0.8268733024597168  | Validation_Accuracy: 0.8023600578308105\n"
          ]
        },
        {
          "output_type": "stream",
          "name": "stderr",
          "text": [
            "\n",
            "100%|██████████| 188/188 [00:12<00:00, 14.98it/s]"
          ]
        },
        {
          "output_type": "stream",
          "name": "stdout",
          "text": [
            "Current Epoch: 3\n",
            "Training_Loss: 0.4204167959854958  | Validation_Loss: 0.4526732278631089\n",
            "Training_Accuracy: 0.8486995100975037  | Validation_Accuracy: 0.8332858681678772\n"
          ]
        },
        {
          "output_type": "stream",
          "name": "stderr",
          "text": [
            "\n",
            "100%|██████████| 188/188 [00:12<00:00, 14.97it/s]"
          ]
        },
        {
          "output_type": "stream",
          "name": "stdout",
          "text": [
            "Current Epoch: 4\n",
            "Training_Loss: 0.37867311356549566  | Validation_Loss: 0.41675850431969824\n",
            "Training_Accuracy: 0.8612500429153442  | Validation_Accuracy: 0.8468869924545288\n"
          ]
        },
        {
          "output_type": "stream",
          "name": "stderr",
          "text": [
            "\n",
            "100%|██████████| 188/188 [00:12<00:00, 14.99it/s]"
          ]
        },
        {
          "output_type": "stream",
          "name": "stdout",
          "text": [
            "Current Epoch: 5\n",
            "Training_Loss: 0.3568006906103581  | Validation_Loss: 0.3739320071453744\n",
            "Training_Accuracy: 0.8704100251197815  | Validation_Accuracy: 0.8655644655227661\n"
          ]
        },
        {
          "output_type": "stream",
          "name": "stderr",
          "text": [
            "\n",
            "100%|██████████| 188/188 [00:13<00:00, 13.47it/s]"
          ]
        },
        {
          "output_type": "stream",
          "name": "stdout",
          "text": [
            "Current Epoch: 6\n",
            "Training_Loss: 0.3320544681492004  | Validation_Loss: 0.3561063072782882\n",
            "Training_Accuracy: 0.8785456418991089  | Validation_Accuracy: 0.8729470372200012\n"
          ]
        },
        {
          "output_type": "stream",
          "name": "stderr",
          "text": [
            "\n",
            "100%|██████████| 188/188 [00:12<00:00, 14.90it/s]"
          ]
        },
        {
          "output_type": "stream",
          "name": "stdout",
          "text": [
            "Current Epoch: 7\n",
            "Training_Loss: 0.3171844224029399  | Validation_Loss: 0.3421236901207173\n",
            "Training_Accuracy: 0.8841915726661682  | Validation_Accuracy: 0.8768923878669739\n"
          ]
        },
        {
          "output_type": "stream",
          "name": "stderr",
          "text": [
            "\n",
            "100%|██████████| 188/188 [00:13<00:00, 14.06it/s]"
          ]
        },
        {
          "output_type": "stream",
          "name": "stdout",
          "text": [
            "Current Epoch: 8\n",
            "Training_Loss: 0.30526228344186823  | Validation_Loss: 0.3433561122163813\n",
            "Training_Accuracy: 0.8881681561470032  | Validation_Accuracy: 0.8755654692649841\n"
          ]
        },
        {
          "output_type": "stream",
          "name": "stderr",
          "text": [
            "\n",
            "100%|██████████| 188/188 [00:12<00:00, 14.66it/s]"
          ]
        },
        {
          "output_type": "stream",
          "name": "stdout",
          "text": [
            "Current Epoch: 9\n",
            "Training_Loss: 0.28764414922037024  | Validation_Loss: 0.33325594663619995\n",
            "Training_Accuracy: 0.8940999507904053  | Validation_Accuracy: 0.8782463669776917\n"
          ]
        },
        {
          "output_type": "stream",
          "name": "stderr",
          "text": [
            "\n",
            "100%|██████████| 188/188 [00:12<00:00, 14.54it/s]"
          ]
        },
        {
          "output_type": "stream",
          "name": "stdout",
          "text": [
            "Current Epoch: 10\n",
            "Training_Loss: 0.27412207614868245  | Validation_Loss: 0.34198071886884407\n",
            "Training_Accuracy: 0.8993554711341858  | Validation_Accuracy: 0.8755952715873718\n"
          ]
        },
        {
          "output_type": "stream",
          "name": "stderr",
          "text": [
            "\n",
            "100%|██████████| 188/188 [00:12<00:00, 14.50it/s]"
          ]
        },
        {
          "output_type": "stream",
          "name": "stdout",
          "text": [
            "Current Epoch: 11\n",
            "Training_Loss: 0.26313076461566254  | Validation_Loss: 0.32514677719866975\n",
            "Training_Accuracy: 0.9027085900306702  | Validation_Accuracy: 0.8826819658279419\n"
          ]
        },
        {
          "output_type": "stream",
          "name": "stderr",
          "text": [
            "\n",
            "100%|██████████| 188/188 [00:13<00:00, 14.37it/s]"
          ]
        },
        {
          "output_type": "stream",
          "name": "stdout",
          "text": [
            "Current Epoch: 12\n",
            "Training_Loss: 0.2559812489817751  | Validation_Loss: 0.32092379699362084\n",
            "Training_Accuracy: 0.9047555923461914  | Validation_Accuracy: 0.8837547302246094\n"
          ]
        },
        {
          "output_type": "stream",
          "name": "stderr",
          "text": [
            "\n",
            "100%|██████████| 188/188 [00:12<00:00, 14.74it/s]"
          ]
        },
        {
          "output_type": "stream",
          "name": "stdout",
          "text": [
            "Current Epoch: 13\n",
            "Training_Loss: 0.24674118357769986  | Validation_Loss: 0.32514201770437523\n",
            "Training_Accuracy: 0.9087772965431213  | Validation_Accuracy: 0.8819292187690735\n"
          ]
        },
        {
          "output_type": "stream",
          "name": "stderr",
          "text": [
            "\n",
            "100%|██████████| 188/188 [00:18<00:00, 10.03it/s]"
          ]
        },
        {
          "output_type": "stream",
          "name": "stdout",
          "text": [
            "Current Epoch: 14\n",
            "Training_Loss: 0.2332844412390222  | Validation_Loss: 0.3031341557173019\n",
            "Training_Accuracy: 0.9148054122924805  | Validation_Accuracy: 0.8922213912010193\n"
          ]
        },
        {
          "output_type": "stream",
          "name": "stderr",
          "text": [
            "\n",
            "100%|██████████| 188/188 [00:12<00:00, 14.76it/s]"
          ]
        },
        {
          "output_type": "stream",
          "name": "stdout",
          "text": [
            "Current Epoch: 15\n",
            "Training_Loss: 0.22926086647079347  | Validation_Loss: 0.34381566814919734\n",
            "Training_Accuracy: 0.9145690202713013  | Validation_Accuracy: 0.8780847787857056\n"
          ]
        },
        {
          "output_type": "stream",
          "name": "stderr",
          "text": [
            "\n",
            "100%|██████████| 188/188 [00:12<00:00, 14.70it/s]"
          ]
        },
        {
          "output_type": "stream",
          "name": "stdout",
          "text": [
            "Current Epoch: 16\n",
            "Training_Loss: 0.22041493170755974  | Validation_Loss: 0.326368843621396\n",
            "Training_Accuracy: 0.9192352890968323  | Validation_Accuracy: 0.8833059668540955\n"
          ]
        },
        {
          "output_type": "stream",
          "name": "stderr",
          "text": [
            "\n",
            "100%|██████████| 188/188 [00:12<00:00, 14.96it/s]"
          ]
        },
        {
          "output_type": "stream",
          "name": "stdout",
          "text": [
            "Current Epoch: 17\n",
            "Training_Loss: 0.20963184955589315  | Validation_Loss: 0.3081276334346609\n",
            "Training_Accuracy: 0.922264814376831  | Validation_Accuracy: 0.8906387686729431\n"
          ]
        },
        {
          "output_type": "stream",
          "name": "stderr",
          "text": [
            "\n",
            "100%|██████████| 188/188 [00:14<00:00, 12.59it/s]"
          ]
        },
        {
          "output_type": "stream",
          "name": "stdout",
          "text": [
            "Current Epoch: 18\n",
            "Training_Loss: 0.20254618515993686  | Validation_Loss: 0.3075667717989455\n",
            "Training_Accuracy: 0.9241777658462524  | Validation_Accuracy: 0.8913213014602661\n"
          ]
        },
        {
          "output_type": "stream",
          "name": "stderr",
          "text": [
            "\n",
            "100%|██████████| 188/188 [00:14<00:00, 13.40it/s]"
          ]
        },
        {
          "output_type": "stream",
          "name": "stdout",
          "text": [
            "Current Epoch: 19\n",
            "Training_Loss: 0.19610650655119977  | Validation_Loss: 0.30238597063308065\n",
            "Training_Accuracy: 0.9263246655464172  | Validation_Accuracy: 0.8931156992912292\n"
          ]
        },
        {
          "output_type": "stream",
          "name": "stderr",
          "text": [
            "\n",
            "100%|██████████| 188/188 [00:14<00:00, 13.20it/s]"
          ]
        },
        {
          "output_type": "stream",
          "name": "stdout",
          "text": [
            "Current Epoch: 20\n",
            "Training_Loss: 0.19086758752769611  | Validation_Loss: 0.312889630173115\n",
            "Training_Accuracy: 0.9304797649383545  | Validation_Accuracy: 0.8937328457832336\n"
          ]
        },
        {
          "output_type": "stream",
          "name": "stderr",
          "text": [
            "\n"
          ]
        },
        {
          "output_type": "stream",
          "name": "stdout",
          "text": [
            "\n",
            "Test Accuracy: 0.8826999664306641 \n",
            "Time to Train: 0:05:42.375688\n"
          ]
        },
        {
          "output_type": "execute_result",
          "data": {
            "text/plain": [
              "<matplotlib.legend.Legend at 0x7c3d234b3a30>"
            ]
          },
          "metadata": {},
          "execution_count": 12
        },
        {
          "output_type": "display_data",
          "data": {
            "text/plain": [
              "<Figure size 640x480 with 1 Axes>"
            ],
            "image/png": "[encoded data removed]"
          },
          "metadata": {}
        }
      ],
      "source": [
        "start_time = datetime.now()\n",
        "\n",
        "baseline_model_generator.fit(trainLoader, validateLoader,\n",
        "                             20)\n",
        "end_time = datetime.now()\n",
        "baseline_model_generator.Test_Model(testLoader)\n",
        "\n",
        "print(\"\\nTest Accuracy:\", baseline_model_generator.Metrics[\"Test_Accuracy\"], \"\\nTime to Train:\", end_time - start_time)\n",
        "import matplotlib.pyplot as plt\n",
        "\n",
        "### PLOTTING METRICS\n",
        "plt.plot(baseline_model_generator.Metrics['Training_Accuracy'], label='Training Accuracy')\n",
        "plt.plot(baseline_model_generator.Metrics['Validation_Accuracy'], label='Validation Accuracy')\n",
        "plt.plot(baseline_model_generator.Metrics['Training_Loss'], label='Training Loss')\n",
        "plt.plot(baseline_model_generator.Metrics['Validation_Loss'], label='Validation Loss')\n",
        "plt.xlabel('Epoch')\n",
        "plt.ylabel('Metric')\n",
        "plt.legend()"
      ],
      "id": "272709df-b072-4790-a0e3-7e0c76462fce"
    },
    {
      "cell_type": "code",
      "source": [
        "start_time = datetime.now()\n",
        "\n",
        "baseline_model_generator.fit(trainLoader, validateLoader,\n",
        "                             25)\n",
        "end_time = datetime.now()\n",
        "baseline_model_generator.Test_Model(testLoader)\n",
        "\n",
        "print(\"\\nTest Accuracy:\", baseline_model_generator.Metrics[\"Test_Accuracy\"], \"\\nTime to Train:\", end_time - start_time)\n",
        "import matplotlib.pyplot as plt\n",
        "\n",
        "### PLOTTING METRICS\n",
        "plt.plot(baseline_model_generator.Metrics['Training_Accuracy'], label='Training Accuracy')\n",
        "plt.plot(baseline_model_generator.Metrics['Validation_Accuracy'], label='Validation Accuracy')\n",
        "plt.plot(baseline_model_generator.Metrics['Training_Loss'], label='Training Loss')\n",
        "plt.plot(baseline_model_generator.Metrics['Validation_Loss'], label='Validation Loss')\n",
        "plt.xlabel('Epoch')\n",
        "plt.ylabel('Metric')\n",
        "plt.legend()"
      ],
      "metadata": {
        "colab": {
          "base_uri": "https://localhost:8080/",
          "height": 1000
        },
        "id": "rVoq77B15VGt",
        "outputId": "e4783e34-122f-442a-e566-0e3eae34e1fc"
      },
      "id": "rVoq77B15VGt",
      "execution_count": 13,
      "outputs": [
        {
          "output_type": "stream",
          "name": "stderr",
          "text": [
            "100%|██████████| 188/188 [00:15<00:00, 12.23it/s]"
          ]
        },
        {
          "output_type": "stream",
          "name": "stdout",
          "text": [
            "Current Epoch: 1\n",
            "Training_Loss: 0.1809726703436451  | Validation_Loss: 0.3033023863396746\n",
            "Training_Accuracy: 0.9335700273513794  | Validation_Accuracy: 0.8939234018325806\n"
          ]
        },
        {
          "output_type": "stream",
          "name": "stderr",
          "text": [
            "\n",
            "100%|██████████| 188/188 [00:13<00:00, 14.13it/s]"
          ]
        },
        {
          "output_type": "stream",
          "name": "stdout",
          "text": [
            "Current Epoch: 2\n",
            "Training_Loss: 0.18071191710360507  | Validation_Loss: 0.317777490045162\n",
            "Training_Accuracy: 0.9327509999275208  | Validation_Accuracy: 0.8907788991928101\n"
          ]
        },
        {
          "output_type": "stream",
          "name": "stderr",
          "text": [
            "\n",
            "100%|██████████| 188/188 [00:13<00:00, 13.95it/s]"
          ]
        },
        {
          "output_type": "stream",
          "name": "stdout",
          "text": [
            "Current Epoch: 3\n",
            "Training_Loss: 0.16464895188332873  | Validation_Loss: 0.3094804023808621\n",
            "Training_Accuracy: 0.9398093819618225  | Validation_Accuracy: 0.8937069773674011\n"
          ]
        },
        {
          "output_type": "stream",
          "name": "stderr",
          "text": [
            "\n",
            "100%|██████████| 188/188 [00:13<00:00, 14.13it/s]"
          ]
        },
        {
          "output_type": "stream",
          "name": "stdout",
          "text": [
            "Current Epoch: 4\n",
            "Training_Loss: 0.15890358756989875  | Validation_Loss: 0.32657999973347845\n",
            "Training_Accuracy: 0.9408702254295349  | Validation_Accuracy: 0.8914366960525513\n"
          ]
        },
        {
          "output_type": "stream",
          "name": "stderr",
          "text": [
            "\n",
            "100%|██████████| 188/188 [00:13<00:00, 13.77it/s]"
          ]
        },
        {
          "output_type": "stream",
          "name": "stdout",
          "text": [
            "Current Epoch: 5\n",
            "Training_Loss: 0.1556253779203968  | Validation_Loss: 0.3193051666021347\n",
            "Training_Accuracy: 0.9422858357429504  | Validation_Accuracy: 0.8908627033233643\n"
          ]
        },
        {
          "output_type": "stream",
          "name": "stderr",
          "text": [
            "\n",
            "100%|██████████| 188/188 [00:15<00:00, 12.53it/s]"
          ]
        },
        {
          "output_type": "stream",
          "name": "stdout",
          "text": [
            "Current Epoch: 6\n",
            "Training_Loss: 0.1490257636425977  | Validation_Loss: 0.3380328232937671\n",
            "Training_Accuracy: 0.9455470442771912  | Validation_Accuracy: 0.8909894824028015\n"
          ]
        },
        {
          "output_type": "stream",
          "name": "stderr",
          "text": [
            "\n",
            "100%|██████████| 188/188 [00:13<00:00, 14.33it/s]"
          ]
        },
        {
          "output_type": "stream",
          "name": "stdout",
          "text": [
            "Current Epoch: 7\n",
            "Training_Loss: 0.14236568370239533  | Validation_Loss: 0.31840253637192095\n",
            "Training_Accuracy: 0.9468644261360168  | Validation_Accuracy: 0.8960145711898804\n"
          ]
        },
        {
          "output_type": "stream",
          "name": "stderr",
          "text": [
            "\n",
            "100%|██████████| 188/188 [00:13<00:00, 13.55it/s]"
          ]
        },
        {
          "output_type": "stream",
          "name": "stdout",
          "text": [
            "Current Epoch: 8\n",
            "Training_Loss: 0.13823444534965018  | Validation_Loss: 0.3642257147646965\n",
            "Training_Accuracy: 0.9483682513237  | Validation_Accuracy: 0.8862104415893555\n"
          ]
        },
        {
          "output_type": "stream",
          "name": "stderr",
          "text": [
            "\n",
            "100%|██████████| 188/188 [00:12<00:00, 14.71it/s]"
          ]
        },
        {
          "output_type": "stream",
          "name": "stdout",
          "text": [
            "Current Epoch: 9\n",
            "Training_Loss: 0.13602378449224412  | Validation_Loss: 0.3397374707967677\n",
            "Training_Accuracy: 0.9503324627876282  | Validation_Accuracy: 0.8948918581008911\n"
          ]
        },
        {
          "output_type": "stream",
          "name": "stderr",
          "text": [
            "\n",
            "100%|██████████| 188/188 [00:13<00:00, 14.11it/s]"
          ]
        },
        {
          "output_type": "stream",
          "name": "stdout",
          "text": [
            "Current Epoch: 10\n",
            "Training_Loss: 0.13275268479706126  | Validation_Loss: 0.345040555012987\n",
            "Training_Accuracy: 0.9510816931724548  | Validation_Accuracy: 0.8917220830917358\n"
          ]
        },
        {
          "output_type": "stream",
          "name": "stderr",
          "text": [
            "\n",
            "100%|██████████| 188/188 [00:13<00:00, 13.99it/s]\n"
          ]
        },
        {
          "output_type": "stream",
          "name": "stdout",
          "text": [
            "Current Epoch: 11\n",
            "Training_Loss: 0.1226939578005608  | Validation_Loss: 0.3487951929898972\n",
            "Training_Accuracy: 0.9555431008338928  | Validation_Accuracy: 0.8946571350097656\n"
          ]
        },
        {
          "output_type": "stream",
          "name": "stderr",
          "text": [
            "100%|██████████| 188/188 [00:13<00:00, 14.06it/s]"
          ]
        },
        {
          "output_type": "stream",
          "name": "stdout",
          "text": [
            "Current Epoch: 12\n",
            "Training_Loss: 0.11958431692278766  | Validation_Loss: 0.3334254501981938\n",
            "Training_Accuracy: 0.9554371237754822  | Validation_Accuracy: 0.8960800766944885\n"
          ]
        },
        {
          "output_type": "stream",
          "name": "stderr",
          "text": [
            "\n",
            "100%|██████████| 188/188 [00:12<00:00, 14.55it/s]"
          ]
        },
        {
          "output_type": "stream",
          "name": "stdout",
          "text": [
            "Current Epoch: 13\n",
            "Training_Loss: 0.11980398189514241  | Validation_Loss: 0.37024455279745955\n",
            "Training_Accuracy: 0.9559851288795471  | Validation_Accuracy: 0.8849146962165833\n"
          ]
        },
        {
          "output_type": "stream",
          "name": "stderr",
          "text": [
            "\n",
            "100%|██████████| 188/188 [00:13<00:00, 14.11it/s]"
          ]
        },
        {
          "output_type": "stream",
          "name": "stdout",
          "text": [
            "Current Epoch: 14\n",
            "Training_Loss: 0.1133227393704843  | Validation_Loss: 0.36984242276942475\n",
            "Training_Accuracy: 0.9567206501960754  | Validation_Accuracy: 0.8907378911972046\n"
          ]
        },
        {
          "output_type": "stream",
          "name": "stderr",
          "text": [
            "\n",
            "100%|██████████| 188/188 [00:13<00:00, 14.36it/s]"
          ]
        },
        {
          "output_type": "stream",
          "name": "stdout",
          "text": [
            "Current Epoch: 15\n",
            "Training_Loss: 0.10367380044958059  | Validation_Loss: 0.37080233877009533\n",
            "Training_Accuracy: 0.9616285562515259  | Validation_Accuracy: 0.8935004472732544\n"
          ]
        },
        {
          "output_type": "stream",
          "name": "stderr",
          "text": [
            "\n",
            "100%|██████████| 188/188 [00:13<00:00, 13.81it/s]"
          ]
        },
        {
          "output_type": "stream",
          "name": "stdout",
          "text": [
            "Current Epoch: 16\n",
            "Training_Loss: 0.10388097234387347  | Validation_Loss: 0.37247473096593897\n",
            "Training_Accuracy: 0.9617062211036682  | Validation_Accuracy: 0.8912584185600281\n"
          ]
        },
        {
          "output_type": "stream",
          "name": "stderr",
          "text": [
            "\n",
            "100%|██████████| 188/188 [00:13<00:00, 13.84it/s]"
          ]
        },
        {
          "output_type": "stream",
          "name": "stdout",
          "text": [
            "Current Epoch: 17\n",
            "Training_Loss: 0.09664373573391362  | Validation_Loss: 0.36650253768931046\n",
            "Training_Accuracy: 0.9639256000518799  | Validation_Accuracy: 0.8962377905845642\n"
          ]
        },
        {
          "output_type": "stream",
          "name": "stderr",
          "text": [
            "\n",
            "100%|██████████| 188/188 [00:13<00:00, 14.33it/s]"
          ]
        },
        {
          "output_type": "stream",
          "name": "stdout",
          "text": [
            "Current Epoch: 18\n",
            "Training_Loss: 0.09682430943196758  | Validation_Loss: 0.39243352349768296\n",
            "Training_Accuracy: 0.9649198055267334  | Validation_Accuracy: 0.8911001086235046\n"
          ]
        },
        {
          "output_type": "stream",
          "name": "stderr",
          "text": [
            "\n",
            "100%|██████████| 188/188 [00:13<00:00, 13.86it/s]"
          ]
        },
        {
          "output_type": "stream",
          "name": "stdout",
          "text": [
            "Current Epoch: 19\n",
            "Training_Loss: 0.09197564958099355  | Validation_Loss: 0.3956682856412644\n",
            "Training_Accuracy: 0.965857982635498  | Validation_Accuracy: 0.8943367004394531\n"
          ]
        },
        {
          "output_type": "stream",
          "name": "stderr",
          "text": [
            "\n",
            "100%|██████████| 188/188 [00:14<00:00, 13.06it/s]"
          ]
        },
        {
          "output_type": "stream",
          "name": "stdout",
          "text": [
            "Current Epoch: 20\n",
            "Training_Loss: 0.08947382972357755  | Validation_Loss: 0.38708247529699447\n",
            "Training_Accuracy: 0.9666922688484192  | Validation_Accuracy: 0.8919593095779419\n"
          ]
        },
        {
          "output_type": "stream",
          "name": "stderr",
          "text": [
            "\n",
            "100%|██████████| 188/188 [00:13<00:00, 13.67it/s]"
          ]
        },
        {
          "output_type": "stream",
          "name": "stdout",
          "text": [
            "Current Epoch: 21\n",
            "Training_Loss: 0.08278187576364329  | Validation_Loss: 0.3960548566376909\n",
            "Training_Accuracy: 0.9689980149269104  | Validation_Accuracy: 0.8908399939537048\n"
          ]
        },
        {
          "output_type": "stream",
          "name": "stderr",
          "text": [
            "\n",
            "100%|██████████| 188/188 [00:13<00:00, 14.07it/s]"
          ]
        },
        {
          "output_type": "stream",
          "name": "stdout",
          "text": [
            "Current Epoch: 22\n",
            "Training_Loss: 0.07838058107076808  | Validation_Loss: 0.4367739957697848\n",
            "Training_Accuracy: 0.9701869487762451  | Validation_Accuracy: 0.8848670721054077\n"
          ]
        },
        {
          "output_type": "stream",
          "name": "stderr",
          "text": [
            "\n",
            "100%|██████████| 188/188 [00:14<00:00, 13.03it/s]"
          ]
        },
        {
          "output_type": "stream",
          "name": "stdout",
          "text": [
            "Current Epoch: 23\n",
            "Training_Loss: 0.07924981956231467  | Validation_Loss: 0.42073787241540056\n",
            "Training_Accuracy: 0.9709526896476746  | Validation_Accuracy: 0.893690824508667\n"
          ]
        },
        {
          "output_type": "stream",
          "name": "stderr",
          "text": [
            "\n",
            "100%|██████████| 188/188 [00:13<00:00, 13.98it/s]\n"
          ]
        },
        {
          "output_type": "stream",
          "name": "stdout",
          "text": [
            "Current Epoch: 24\n",
            "Training_Loss: 0.07628236964662025  | Validation_Loss: 0.4126575620884591\n",
            "Training_Accuracy: 0.9721526503562927  | Validation_Accuracy: 0.8938025832176208\n"
          ]
        },
        {
          "output_type": "stream",
          "name": "stderr",
          "text": [
            "100%|██████████| 188/188 [00:13<00:00, 14.35it/s]"
          ]
        },
        {
          "output_type": "stream",
          "name": "stdout",
          "text": [
            "Current Epoch: 25\n",
            "Training_Loss: 0.07235807400355314  | Validation_Loss: 0.46221924779262946\n",
            "Training_Accuracy: 0.9734059572219849  | Validation_Accuracy: 0.8882336020469666\n"
          ]
        },
        {
          "output_type": "stream",
          "name": "stderr",
          "text": [
            "\n"
          ]
        },
        {
          "output_type": "stream",
          "name": "stdout",
          "text": [
            "\n",
            "Test Accuracy: 0.8823999762535095 \n",
            "Time to Train: 0:07:01.049343\n"
          ]
        },
        {
          "output_type": "execute_result",
          "data": {
            "text/plain": [
              "<matplotlib.legend.Legend at 0x7c3d2143d2d0>"
            ]
          },
          "metadata": {},
          "execution_count": 13
        },
        {
          "output_type": "display_data",
          "data": {
            "text/plain": [
              "<Figure size 640x480 with 1 Axes>"
            ],
            "image/png": "[encoded data removed]"
          },
          "metadata": {}
        }
      ]
    },
    {
      "cell_type": "code",
      "source": [
        "start_time = datetime.now()\n",
        "\n",
        "baseline_model_generator.fit(trainLoader, validateLoader,\n",
        "                             30)\n",
        "end_time = datetime.now()\n",
        "baseline_model_generator.Test_Model(testLoader)\n",
        "\n",
        "print(\"\\nTest Accuracy:\", baseline_model_generator.Metrics[\"Test_Accuracy\"], \"\\nTime to Train:\", end_time - start_time)\n",
        "import matplotlib.pyplot as plt\n",
        "\n",
        "### PLOTTING METRICS\n",
        "plt.plot(baseline_model_generator.Metrics['Training_Accuracy'], label='Training Accuracy')\n",
        "plt.plot(baseline_model_generator.Metrics['Validation_Accuracy'], label='Validation Accuracy')\n",
        "plt.plot(baseline_model_generator.Metrics['Training_Loss'], label='Training Loss')\n",
        "plt.plot(baseline_model_generator.Metrics['Validation_Loss'], label='Validation Loss')\n",
        "plt.xlabel('Epoch')\n",
        "plt.ylabel('Metric')\n",
        "plt.legend()"
      ],
      "metadata": {
        "colab": {
          "base_uri": "https://localhost:8080/",
          "height": 1000
        },
        "id": "h77ChUx95aKj",
        "outputId": "4e2dceb6-00a1-4ace-f78b-135787ea94f5"
      },
      "id": "h77ChUx95aKj",
      "execution_count": 14,
      "outputs": [
        {
          "output_type": "stream",
          "name": "stderr",
          "text": [
            "100%|██████████| 188/188 [00:13<00:00, 14.39it/s]\n"
          ]
        },
        {
          "output_type": "stream",
          "name": "stdout",
          "text": [
            "Current Epoch: 1\n",
            "Training_Loss: 0.06862471000033807  | Validation_Loss: 0.4158077912127718\n",
            "Training_Accuracy: 0.9758195281028748  | Validation_Accuracy: 0.8977219462394714\n"
          ]
        },
        {
          "output_type": "stream",
          "name": "stderr",
          "text": [
            "100%|██████████| 188/188 [00:12<00:00, 14.47it/s]"
          ]
        },
        {
          "output_type": "stream",
          "name": "stdout",
          "text": [
            "Current Epoch: 2\n",
            "Training_Loss: 0.06950994688977903  | Validation_Loss: 0.47237696990053707\n",
            "Training_Accuracy: 0.9743400812149048  | Validation_Accuracy: 0.8858674168586731\n"
          ]
        },
        {
          "output_type": "stream",
          "name": "stderr",
          "text": [
            "\n",
            "100%|██████████| 188/188 [00:15<00:00, 12.47it/s]"
          ]
        },
        {
          "output_type": "stream",
          "name": "stdout",
          "text": [
            "Current Epoch: 3\n",
            "Training_Loss: 0.0635597323552963  | Validation_Loss: 0.45051621185972335\n",
            "Training_Accuracy: 0.9769495725631714  | Validation_Accuracy: 0.8912312388420105\n"
          ]
        },
        {
          "output_type": "stream",
          "name": "stderr",
          "text": [
            "\n",
            "100%|██████████| 188/188 [00:13<00:00, 13.52it/s]"
          ]
        },
        {
          "output_type": "stream",
          "name": "stdout",
          "text": [
            "Current Epoch: 4\n",
            "Training_Loss: 0.06279566222207343  | Validation_Loss: 0.46871986604751426\n",
            "Training_Accuracy: 0.9765681028366089  | Validation_Accuracy: 0.891963541507721\n"
          ]
        },
        {
          "output_type": "stream",
          "name": "stderr",
          "text": [
            "\n",
            "100%|██████████| 188/188 [00:14<00:00, 13.27it/s]"
          ]
        },
        {
          "output_type": "stream",
          "name": "stdout",
          "text": [
            "Current Epoch: 5\n",
            "Training_Loss: 0.06276415738257322  | Validation_Loss: 0.45184237525818194\n",
            "Training_Accuracy: 0.9777907729148865  | Validation_Accuracy: 0.8952962756156921\n"
          ]
        },
        {
          "output_type": "stream",
          "name": "stderr",
          "text": [
            "\n",
            "100%|██████████| 188/188 [00:12<00:00, 14.57it/s]"
          ]
        },
        {
          "output_type": "stream",
          "name": "stdout",
          "text": [
            "Current Epoch: 6\n",
            "Training_Loss: 0.06427738453915462  | Validation_Loss: 0.4638116740165873\n",
            "Training_Accuracy: 0.9766905903816223  | Validation_Accuracy: 0.8939359784126282\n"
          ]
        },
        {
          "output_type": "stream",
          "name": "stderr",
          "text": [
            "\n",
            "100%|██████████| 188/188 [00:12<00:00, 14.80it/s]"
          ]
        },
        {
          "output_type": "stream",
          "name": "stdout",
          "text": [
            "Current Epoch: 7\n",
            "Training_Loss: 0.059107673859738925  | Validation_Loss: 0.4623340295350298\n",
            "Training_Accuracy: 0.9779746532440186  | Validation_Accuracy: 0.8943983912467957\n"
          ]
        },
        {
          "output_type": "stream",
          "name": "stderr",
          "text": [
            "\n",
            "100%|██████████| 188/188 [00:12<00:00, 15.06it/s]"
          ]
        },
        {
          "output_type": "stream",
          "name": "stdout",
          "text": [
            "Current Epoch: 8\n",
            "Training_Loss: 0.06339795235544443  | Validation_Loss: 0.4713195226293929\n",
            "Training_Accuracy: 0.9756757020950317  | Validation_Accuracy: 0.896654486656189\n"
          ]
        },
        {
          "output_type": "stream",
          "name": "stderr",
          "text": [
            "\n",
            "100%|██████████| 188/188 [00:12<00:00, 14.52it/s]"
          ]
        },
        {
          "output_type": "stream",
          "name": "stdout",
          "text": [
            "Current Epoch: 9\n",
            "Training_Loss: 0.05345646333583492  | Validation_Loss: 0.4992150670670448\n",
            "Training_Accuracy: 0.98011714220047  | Validation_Accuracy: 0.890058696269989\n"
          ]
        },
        {
          "output_type": "stream",
          "name": "stderr",
          "text": [
            "\n",
            "100%|██████████| 188/188 [00:13<00:00, 13.76it/s]"
          ]
        },
        {
          "output_type": "stream",
          "name": "stdout",
          "text": [
            "Current Epoch: 10\n",
            "Training_Loss: 0.05420230579701193  | Validation_Loss: 0.4914459484688779\n",
            "Training_Accuracy: 0.9795961380004883  | Validation_Accuracy: 0.8935033082962036\n"
          ]
        },
        {
          "output_type": "stream",
          "name": "stderr",
          "text": [
            "\n",
            "100%|██████████| 188/188 [00:12<00:00, 14.97it/s]"
          ]
        },
        {
          "output_type": "stream",
          "name": "stdout",
          "text": [
            "Current Epoch: 11\n",
            "Training_Loss: 0.05490578975568109  | Validation_Loss: 0.5178925458421099\n",
            "Training_Accuracy: 0.9800227284431458  | Validation_Accuracy: 0.8938656449317932\n"
          ]
        },
        {
          "output_type": "stream",
          "name": "stderr",
          "text": [
            "\n",
            "100%|██████████| 188/188 [00:12<00:00, 14.72it/s]"
          ]
        },
        {
          "output_type": "stream",
          "name": "stdout",
          "text": [
            "Current Epoch: 12\n",
            "Training_Loss: 0.050189621474078676  | Validation_Loss: 0.5036523551382917\n",
            "Training_Accuracy: 0.981413722038269  | Validation_Accuracy: 0.895172119140625\n"
          ]
        },
        {
          "output_type": "stream",
          "name": "stderr",
          "text": [
            "\n",
            "100%|██████████| 188/188 [00:12<00:00, 14.76it/s]"
          ]
        },
        {
          "output_type": "stream",
          "name": "stdout",
          "text": [
            "Current Epoch: 13\n",
            "Training_Loss: 0.04509608898846869  | Validation_Loss: 0.5525988410127923\n",
            "Training_Accuracy: 0.9831644296646118  | Validation_Accuracy: 0.8930343389511108\n"
          ]
        },
        {
          "output_type": "stream",
          "name": "stderr",
          "text": [
            "\n",
            "100%|██████████| 188/188 [00:12<00:00, 14.80it/s]"
          ]
        },
        {
          "output_type": "stream",
          "name": "stdout",
          "text": [
            "Current Epoch: 14\n",
            "Training_Loss: 0.043957868551320216  | Validation_Loss: 0.5059305175821832\n",
            "Training_Accuracy: 0.9841164350509644  | Validation_Accuracy: 0.8943603038787842\n"
          ]
        },
        {
          "output_type": "stream",
          "name": "stderr",
          "text": [
            "\n",
            "100%|██████████| 188/188 [00:12<00:00, 14.78it/s]"
          ]
        },
        {
          "output_type": "stream",
          "name": "stdout",
          "text": [
            "Current Epoch: 15\n",
            "Training_Loss: 0.040663524766135564  | Validation_Loss: 0.5179665925654959\n",
            "Training_Accuracy: 0.9846323728561401  | Validation_Accuracy: 0.8977361917495728\n"
          ]
        },
        {
          "output_type": "stream",
          "name": "stderr",
          "text": [
            "\n",
            "100%|██████████| 188/188 [00:12<00:00, 14.79it/s]"
          ]
        },
        {
          "output_type": "stream",
          "name": "stdout",
          "text": [
            "Current Epoch: 16\n",
            "Training_Loss: 0.0460521939676255  | Validation_Loss: 0.5423414726206597\n",
            "Training_Accuracy: 0.9834413528442383  | Validation_Accuracy: 0.8959159255027771\n"
          ]
        },
        {
          "output_type": "stream",
          "name": "stderr",
          "text": [
            "\n",
            "100%|██████████| 188/188 [00:12<00:00, 14.57it/s]"
          ]
        },
        {
          "output_type": "stream",
          "name": "stdout",
          "text": [
            "Current Epoch: 17\n",
            "Training_Loss: 0.03371979004921431  | Validation_Loss: 0.5377092361450195\n",
            "Training_Accuracy: 0.9881531000137329  | Validation_Accuracy: 0.8935760259628296\n"
          ]
        },
        {
          "output_type": "stream",
          "name": "stderr",
          "text": [
            "\n",
            "100%|██████████| 188/188 [00:12<00:00, 14.64it/s]"
          ]
        },
        {
          "output_type": "stream",
          "name": "stdout",
          "text": [
            "Current Epoch: 18\n",
            "Training_Loss: 0.03162786914431985  | Validation_Loss: 0.5324726459827829\n",
            "Training_Accuracy: 0.9891016483306885  | Validation_Accuracy: 0.8971089124679565\n"
          ]
        },
        {
          "output_type": "stream",
          "name": "stderr",
          "text": [
            "\n",
            "100%|██████████| 188/188 [00:12<00:00, 14.93it/s]"
          ]
        },
        {
          "output_type": "stream",
          "name": "stdout",
          "text": [
            "Current Epoch: 19\n",
            "Training_Loss: 0.038200103648086174  | Validation_Loss: 0.5563716000698983\n",
            "Training_Accuracy: 0.9860105514526367  | Validation_Accuracy: 0.897796630859375\n"
          ]
        },
        {
          "output_type": "stream",
          "name": "stderr",
          "text": [
            "\n",
            "100%|██████████| 188/188 [00:12<00:00, 14.56it/s]"
          ]
        },
        {
          "output_type": "stream",
          "name": "stdout",
          "text": [
            "Current Epoch: 20\n",
            "Training_Loss: 0.0404425830174079  | Validation_Loss: 0.5398546932859624\n",
            "Training_Accuracy: 0.985499918460846  | Validation_Accuracy: 0.895305335521698\n"
          ]
        },
        {
          "output_type": "stream",
          "name": "stderr",
          "text": [
            "\n",
            "100%|██████████| 188/188 [00:12<00:00, 14.75it/s]"
          ]
        },
        {
          "output_type": "stream",
          "name": "stdout",
          "text": [
            "Current Epoch: 21\n",
            "Training_Loss: 0.032355132257625305  | Validation_Loss: 0.5766850538710331\n",
            "Training_Accuracy: 0.987880527973175  | Validation_Accuracy: 0.8915501832962036\n"
          ]
        },
        {
          "output_type": "stream",
          "name": "stderr",
          "text": [
            "\n",
            "100%|██████████| 188/188 [00:13<00:00, 14.44it/s]"
          ]
        },
        {
          "output_type": "stream",
          "name": "stdout",
          "text": [
            "Current Epoch: 22\n",
            "Training_Loss: 0.04253177810955713  | Validation_Loss: 0.5748883301907397\n",
            "Training_Accuracy: 0.9843904972076416  | Validation_Accuracy: 0.8956469893455505\n"
          ]
        },
        {
          "output_type": "stream",
          "name": "stderr",
          "text": [
            "\n",
            "100%|██████████| 188/188 [00:13<00:00, 13.94it/s]"
          ]
        },
        {
          "output_type": "stream",
          "name": "stdout",
          "text": [
            "Current Epoch: 23\n",
            "Training_Loss: 0.02847154864278483  | Validation_Loss: 0.5542801041552361\n",
            "Training_Accuracy: 0.9902884364128113  | Validation_Accuracy: 0.8935286402702332\n"
          ]
        },
        {
          "output_type": "stream",
          "name": "stderr",
          "text": [
            "\n",
            "100%|██████████| 188/188 [00:12<00:00, 14.72it/s]"
          ]
        },
        {
          "output_type": "stream",
          "name": "stdout",
          "text": [
            "Current Epoch: 24\n",
            "Training_Loss: 0.028451970411821247  | Validation_Loss: 0.5652646688704795\n",
            "Training_Accuracy: 0.9901038408279419  | Validation_Accuracy: 0.8957794904708862\n"
          ]
        },
        {
          "output_type": "stream",
          "name": "stderr",
          "text": [
            "\n",
            "100%|██████████| 188/188 [00:12<00:00, 14.56it/s]"
          ]
        },
        {
          "output_type": "stream",
          "name": "stdout",
          "text": [
            "Current Epoch: 25\n",
            "Training_Loss: 0.032029784673408786  | Validation_Loss: 0.6173334850909862\n",
            "Training_Accuracy: 0.9887305498123169  | Validation_Accuracy: 0.8938935995101929\n"
          ]
        },
        {
          "output_type": "stream",
          "name": "stderr",
          "text": [
            "\n",
            "100%|██████████| 188/188 [00:12<00:00, 14.78it/s]"
          ]
        },
        {
          "output_type": "stream",
          "name": "stdout",
          "text": [
            "Current Epoch: 26\n",
            "Training_Loss: 0.035523438692449574  | Validation_Loss: 0.6146257513381065\n",
            "Training_Accuracy: 0.9867495894432068  | Validation_Accuracy: 0.8919643759727478\n"
          ]
        },
        {
          "output_type": "stream",
          "name": "stderr",
          "text": [
            "\n",
            "100%|██████████| 188/188 [00:12<00:00, 14.96it/s]"
          ]
        },
        {
          "output_type": "stream",
          "name": "stdout",
          "text": [
            "Current Epoch: 27\n",
            "Training_Loss: 0.03275464860068515  | Validation_Loss: 0.6052426099777222\n",
            "Training_Accuracy: 0.9883846640586853  | Validation_Accuracy: 0.8959031701087952\n"
          ]
        },
        {
          "output_type": "stream",
          "name": "stderr",
          "text": [
            "\n",
            "100%|██████████| 188/188 [00:12<00:00, 14.76it/s]"
          ]
        },
        {
          "output_type": "stream",
          "name": "stdout",
          "text": [
            "Current Epoch: 28\n",
            "Training_Loss: 0.0262009912700531  | Validation_Loss: 0.6192353989215608\n",
            "Training_Accuracy: 0.9904229044914246  | Validation_Accuracy: 0.8945435285568237\n"
          ]
        },
        {
          "output_type": "stream",
          "name": "stderr",
          "text": [
            "\n",
            "100%|██████████| 188/188 [00:13<00:00, 13.76it/s]"
          ]
        },
        {
          "output_type": "stream",
          "name": "stdout",
          "text": [
            "Current Epoch: 29\n",
            "Training_Loss: 0.030375073158598328  | Validation_Loss: 0.6326600040527101\n",
            "Training_Accuracy: 0.9884973764419556  | Validation_Accuracy: 0.8942708969116211\n"
          ]
        },
        {
          "output_type": "stream",
          "name": "stderr",
          "text": [
            "\n",
            "100%|██████████| 188/188 [00:12<00:00, 15.11it/s]"
          ]
        },
        {
          "output_type": "stream",
          "name": "stdout",
          "text": [
            "Current Epoch: 30\n",
            "Training_Loss: 0.02286217219760998  | Validation_Loss: 0.6314948296293299\n",
            "Training_Accuracy: 0.9919538497924805  | Validation_Accuracy: 0.8960336446762085\n"
          ]
        },
        {
          "output_type": "stream",
          "name": "stderr",
          "text": [
            "\n"
          ]
        },
        {
          "output_type": "stream",
          "name": "stdout",
          "text": [
            "\n",
            "Test Accuracy: 0.880899965763092 \n",
            "Time to Train: 0:08:03.070318\n"
          ]
        },
        {
          "output_type": "execute_result",
          "data": {
            "text/plain": [
              "<matplotlib.legend.Legend at 0x7c3d21257fa0>"
            ]
          },
          "metadata": {},
          "execution_count": 14
        },
        {
          "output_type": "display_data",
          "data": {
            "text/plain": [
              "<Figure size 640x480 with 1 Axes>"
            ],
            "image/png": "[encoded data removed]"
          },
          "metadata": {}
        }
      ]
    },
    {
      "cell_type": "markdown",
      "source": [
        "### 1.b. Explore the complexity of the network by increasing its width and depth."
      ],
      "metadata": {
        "id": "JxRurlpZ8s9m"
      },
      "id": "JxRurlpZ8s9m"
    },
    {
      "cell_type": "code",
      "source": [
        "# Increased depth and width\n",
        "ComplexModel = nn.Sequential(\n",
        "    nn.Flatten(),\n",
        "    nn.LazyLinear(512),\n",
        "    nn.ReLU(),\n",
        "    nn.Linear(in_features=512, out_features=256),\n",
        "    nn.ReLU(),\n",
        "    nn.Linear(in_features=256, out_features=128),\n",
        "    nn.ReLU(),\n",
        "    nn.Linear(in_features=128, out_features=64),\n",
        "    nn.ReLU(),\n",
        "    nn.Linear(in_features=64, out_features=10),\n",
        ")\n",
        "complex_model = copy.deepcopy(ComplexModel)\n"
      ],
      "metadata": {
        "id": "bQ1HeSGNkgRo"
      },
      "id": "bQ1HeSGNkgRo",
      "execution_count": 15,
      "outputs": []
    },
    {
      "cell_type": "code",
      "source": [
        "complex_m = copy.deepcopy(ComplexModel)\n",
        "complex_model_generator = Train_Model(complex_m, nn.CrossEntropyLoss(), torch.optim.SGD(complex_m.parameters(), lr=0.01, momentum=0.9), MulticlassAccuracy, \"Classification\",  device_to_use, 10)"
      ],
      "metadata": {
        "id": "IL6QYngiktIj"
      },
      "id": "IL6QYngiktIj",
      "execution_count": 16,
      "outputs": []
    },
    {
      "cell_type": "code",
      "source": [
        "start_time = datetime.now()\n",
        "\n",
        "complex_model_generator.fit(trainLoader, validateLoader,\n",
        "                            20 )\n",
        "end_time = datetime.now()\n",
        "complex_model_generator.Test_Model(testLoader)\n",
        "\n",
        "print(\"\\nTest Accuracy:\", complex_model_generator.Metrics[\"Test_Accuracy\"], \"\\nTime to Train:\", end_time - start_time)\n",
        "import matplotlib.pyplot as plt\n",
        "\n",
        "### PLOTTING METRICS\n",
        "plt.plot(complex_model_generator.Metrics['Training_Accuracy'], label='Training Accuracy')\n",
        "plt.plot(complex_model_generator.Metrics['Validation_Accuracy'], label='Validation Accuracy')\n",
        "plt.plot(complex_model_generator.Metrics['Training_Loss'], label='Training Loss')\n",
        "plt.plot(complex_model_generator.Metrics['Validation_Loss'], label='Validation Loss')\n",
        "plt.xlabel('Epoch')\n",
        "plt.ylabel('Metric')\n",
        "plt.legend()"
      ],
      "metadata": {
        "colab": {
          "base_uri": "https://localhost:8080/",
          "height": 1000
        },
        "id": "ykgRelnxlH68",
        "outputId": "41ea2fa9-e4c1-4de6-92e8-950ee0a1f55f"
      },
      "id": "ykgRelnxlH68",
      "execution_count": 17,
      "outputs": [
        {
          "output_type": "stream",
          "name": "stderr",
          "text": [
            "100%|██████████| 188/188 [00:12<00:00, 14.72it/s]"
          ]
        },
        {
          "output_type": "stream",
          "name": "stdout",
          "text": [
            "Current Epoch: 1\n",
            "Training_Loss: 1.2969622123748699  | Validation_Loss: 2.3060094346391393\n",
            "Training_Accuracy: 0.5368368029594421  | Validation_Accuracy: 0.09997232258319855\n"
          ]
        },
        {
          "output_type": "stream",
          "name": "stderr",
          "text": [
            "\n",
            "100%|██████████| 188/188 [00:12<00:00, 15.00it/s]"
          ]
        },
        {
          "output_type": "stream",
          "name": "stdout",
          "text": [
            "Current Epoch: 2\n",
            "Training_Loss: 0.5119279451826786  | Validation_Loss: 0.5834566265978711\n",
            "Training_Accuracy: 0.8157603740692139  | Validation_Accuracy: 0.7874643206596375\n"
          ]
        },
        {
          "output_type": "stream",
          "name": "stderr",
          "text": [
            "\n",
            "100%|██████████| 188/188 [00:12<00:00, 14.94it/s]"
          ]
        },
        {
          "output_type": "stream",
          "name": "stdout",
          "text": [
            "Current Epoch: 3\n",
            "Training_Loss: 0.42036685965796733  | Validation_Loss: 0.4480235018628709\n",
            "Training_Accuracy: 0.8483322858810425  | Validation_Accuracy: 0.8377759456634521\n"
          ]
        },
        {
          "output_type": "stream",
          "name": "stderr",
          "text": [
            "\n",
            "100%|██████████| 188/188 [00:12<00:00, 15.33it/s]"
          ]
        },
        {
          "output_type": "stream",
          "name": "stdout",
          "text": [
            "Current Epoch: 4\n",
            "Training_Loss: 0.382845679179151  | Validation_Loss: 0.42008416259542425\n",
            "Training_Accuracy: 0.8600961565971375  | Validation_Accuracy: 0.8467849493026733\n"
          ]
        },
        {
          "output_type": "stream",
          "name": "stderr",
          "text": [
            "\n",
            "100%|██████████| 188/188 [00:12<00:00, 14.73it/s]"
          ]
        },
        {
          "output_type": "stream",
          "name": "stdout",
          "text": [
            "Current Epoch: 5\n",
            "Training_Loss: 0.3521334914926519  | Validation_Loss: 0.3939476539479925\n",
            "Training_Accuracy: 0.8726216554641724  | Validation_Accuracy: 0.8612791895866394\n"
          ]
        },
        {
          "output_type": "stream",
          "name": "stderr",
          "text": [
            "\n",
            "100%|██████████| 188/188 [00:12<00:00, 15.05it/s]"
          ]
        },
        {
          "output_type": "stream",
          "name": "stdout",
          "text": [
            "Current Epoch: 6\n",
            "Training_Loss: 0.3287935104775936  | Validation_Loss: 0.3537948467630021\n",
            "Training_Accuracy: 0.8798094987869263  | Validation_Accuracy: 0.8719392418861389\n"
          ]
        },
        {
          "output_type": "stream",
          "name": "stderr",
          "text": [
            "\n",
            "100%|██████████| 188/188 [00:12<00:00, 14.83it/s]"
          ]
        },
        {
          "output_type": "stream",
          "name": "stdout",
          "text": [
            "Current Epoch: 7\n",
            "Training_Loss: 0.3065450574330827  | Validation_Loss: 0.3399177390210172\n",
            "Training_Accuracy: 0.8886762857437134  | Validation_Accuracy: 0.873416006565094\n"
          ]
        },
        {
          "output_type": "stream",
          "name": "stderr",
          "text": [
            "\n",
            "100%|██████████| 188/188 [00:12<00:00, 14.89it/s]"
          ]
        },
        {
          "output_type": "stream",
          "name": "stdout",
          "text": [
            "Current Epoch: 8\n",
            "Training_Loss: 0.29221307795415535  | Validation_Loss: 0.33209976839258315\n",
            "Training_Accuracy: 0.8927394151687622  | Validation_Accuracy: 0.880913257598877\n"
          ]
        },
        {
          "output_type": "stream",
          "name": "stderr",
          "text": [
            "\n",
            "100%|██████████| 188/188 [00:12<00:00, 14.78it/s]"
          ]
        },
        {
          "output_type": "stream",
          "name": "stdout",
          "text": [
            "Current Epoch: 9\n",
            "Training_Loss: 0.2777160422757585  | Validation_Loss: 0.3296129088452522\n",
            "Training_Accuracy: 0.8986688852310181  | Validation_Accuracy: 0.8819317817687988\n"
          ]
        },
        {
          "output_type": "stream",
          "name": "stderr",
          "text": [
            "\n",
            "100%|██████████| 188/188 [00:12<00:00, 15.04it/s]"
          ]
        },
        {
          "output_type": "stream",
          "name": "stdout",
          "text": [
            "Current Epoch: 10\n",
            "Training_Loss: 0.2618815023055736  | Validation_Loss: 0.31631715659131393\n",
            "Training_Accuracy: 0.9043760895729065  | Validation_Accuracy: 0.8842741847038269\n"
          ]
        },
        {
          "output_type": "stream",
          "name": "stderr",
          "text": [
            "\n",
            "100%|██████████| 188/188 [00:12<00:00, 14.61it/s]"
          ]
        },
        {
          "output_type": "stream",
          "name": "stdout",
          "text": [
            "Current Epoch: 11\n",
            "Training_Loss: 0.25075731418551284  | Validation_Loss: 0.3138446335462814\n",
            "Training_Accuracy: 0.9082430601119995  | Validation_Accuracy: 0.8850469589233398\n"
          ]
        },
        {
          "output_type": "stream",
          "name": "stderr",
          "text": [
            "\n",
            "100%|██████████| 188/188 [00:13<00:00, 14.04it/s]"
          ]
        },
        {
          "output_type": "stream",
          "name": "stdout",
          "text": [
            "Current Epoch: 12\n",
            "Training_Loss: 0.23749185575449722  | Validation_Loss: 0.3151357560715777\n",
            "Training_Accuracy: 0.9121188521385193  | Validation_Accuracy: 0.8864842653274536\n"
          ]
        },
        {
          "output_type": "stream",
          "name": "stderr",
          "text": [
            "\n",
            "100%|██████████| 188/188 [00:12<00:00, 14.83it/s]"
          ]
        },
        {
          "output_type": "stream",
          "name": "stdout",
          "text": [
            "Current Epoch: 13\n",
            "Training_Loss: 0.23113832741658738  | Validation_Loss: 0.3294005254481701\n",
            "Training_Accuracy: 0.9150069952011108  | Validation_Accuracy: 0.87962806224823\n"
          ]
        },
        {
          "output_type": "stream",
          "name": "stderr",
          "text": [
            "\n",
            "100%|██████████| 188/188 [00:12<00:00, 15.10it/s]"
          ]
        },
        {
          "output_type": "stream",
          "name": "stdout",
          "text": [
            "Current Epoch: 14\n",
            "Training_Loss: 0.21880826231171477  | Validation_Loss: 0.3141571835000464\n",
            "Training_Accuracy: 0.9199613928794861  | Validation_Accuracy: 0.8892420530319214\n"
          ]
        },
        {
          "output_type": "stream",
          "name": "stderr",
          "text": [
            "\n",
            "100%|██████████| 188/188 [00:12<00:00, 14.96it/s]"
          ]
        },
        {
          "output_type": "stream",
          "name": "stdout",
          "text": [
            "Current Epoch: 15\n",
            "Training_Loss: 0.21507093579845227  | Validation_Loss: 0.3085100086445504\n",
            "Training_Accuracy: 0.9216829538345337  | Validation_Accuracy: 0.8915671706199646\n"
          ]
        },
        {
          "output_type": "stream",
          "name": "stderr",
          "text": [
            "\n",
            "100%|██████████| 188/188 [00:12<00:00, 15.11it/s]"
          ]
        },
        {
          "output_type": "stream",
          "name": "stdout",
          "text": [
            "Current Epoch: 16\n",
            "Training_Loss: 0.2016157832868556  | Validation_Loss: 0.3277814546798138\n",
            "Training_Accuracy: 0.9254218339920044  | Validation_Accuracy: 0.8837246894836426\n"
          ]
        },
        {
          "output_type": "stream",
          "name": "stderr",
          "text": [
            "\n",
            "100%|██████████| 188/188 [00:12<00:00, 14.99it/s]"
          ]
        },
        {
          "output_type": "stream",
          "name": "stdout",
          "text": [
            "Current Epoch: 17\n",
            "Training_Loss: 0.18722613120174153  | Validation_Loss: 0.3175209941382104\n",
            "Training_Accuracy: 0.9306109547615051  | Validation_Accuracy: 0.8874028921127319\n"
          ]
        },
        {
          "output_type": "stream",
          "name": "stderr",
          "text": [
            "\n",
            "100%|██████████| 188/188 [00:12<00:00, 14.49it/s]"
          ]
        },
        {
          "output_type": "stream",
          "name": "stdout",
          "text": [
            "Current Epoch: 18\n",
            "Training_Loss: 0.1820361393087722  | Validation_Loss: 0.32968750817978637\n",
            "Training_Accuracy: 0.9332740306854248  | Validation_Accuracy: 0.8891285061836243\n"
          ]
        },
        {
          "output_type": "stream",
          "name": "stderr",
          "text": [
            "\n",
            "100%|██████████| 188/188 [00:12<00:00, 14.90it/s]"
          ]
        },
        {
          "output_type": "stream",
          "name": "stdout",
          "text": [
            "Current Epoch: 19\n",
            "Training_Loss: 0.175205182403009  | Validation_Loss: 0.30685147643089294\n",
            "Training_Accuracy: 0.935687780380249  | Validation_Accuracy: 0.8935810923576355\n"
          ]
        },
        {
          "output_type": "stream",
          "name": "stderr",
          "text": [
            "\n",
            "100%|██████████| 188/188 [00:12<00:00, 15.13it/s]"
          ]
        },
        {
          "output_type": "stream",
          "name": "stdout",
          "text": [
            "Current Epoch: 20\n",
            "Training_Loss: 0.17051110416650772  | Validation_Loss: 0.31080533088521756\n",
            "Training_Accuracy: 0.936629056930542  | Validation_Accuracy: 0.8958922624588013\n"
          ]
        },
        {
          "output_type": "stream",
          "name": "stderr",
          "text": [
            "\n"
          ]
        },
        {
          "output_type": "stream",
          "name": "stdout",
          "text": [
            "\n",
            "Test Accuracy: 0.8853000402450562 \n",
            "Time to Train: 0:05:14.119473\n"
          ]
        },
        {
          "output_type": "execute_result",
          "data": {
            "text/plain": [
              "<matplotlib.legend.Legend at 0x7c3d211325f0>"
            ]
          },
          "metadata": {},
          "execution_count": 17
        },
        {
          "output_type": "display_data",
          "data": {
            "text/plain": [
              "<Figure size 640x480 with 1 Axes>"
            ],
            "image/png": "[encoded data removed]"
          },
          "metadata": {}
        }
      ]
    },
    {
      "cell_type": "markdown",
      "metadata": {
        "id": "abb09d7a-feca-405a-98b9-99df31625ddd"
      },
      "source": [
        "### Does the entire training of your network require more epochs? Are you seeing any overfitting?\n",
        "We observe that over the course of the 20 epochs, the training loss has decreased while the validation loss has not changed significantly. This indicates that the model is overfitting since it is doing better on the training dataset but not the validation dataset.\n"
      ],
      "id": "abb09d7a-feca-405a-98b9-99df31625ddd"
    },
    {
      "cell_type": "markdown",
      "metadata": {
        "id": "08a14d6d-16c3-422f-a71e-07f242b6cabc"
      },
      "source": [
        "## Problem 2 Housing Predictions"
      ],
      "id": "08a14d6d-16c3-422f-a71e-07f242b6cabc"
    },
    {
      "cell_type": "code",
      "execution_count": 18,
      "metadata": {
        "id": "dfb625cf-fd8a-4dba-85fd-8e817b7b9e17"
      },
      "outputs": [],
      "source": [
        "device_to_use = torch.device(\"cuda\" if torch.cuda.is_available() else \"cpu\")"
      ],
      "id": "dfb625cf-fd8a-4dba-85fd-8e817b7b9e17"
    },
    {
      "cell_type": "code",
      "execution_count": 19,
      "metadata": {
        "id": "8209da66-a905-48c1-8f41-84857c1f49ba",
        "colab": {
          "base_uri": "https://localhost:8080/",
          "height": 491
        },
        "outputId": "5a877f19-3bec-4673-86e5-0eae05c5d12a"
      },
      "outputs": [
        {
          "output_type": "display_data",
          "data": {
            "text/plain": [
              "   Id  MSSubClass MSZoning  LotFrontage  LotArea Street Alley LotShape  \\\n",
              "0   1          60       RL         65.0     8450   Pave   NaN      Reg   \n",
              "1   2          20       RL         80.0     9600   Pave   NaN      Reg   \n",
              "2   3          60       RL         68.0    11250   Pave   NaN      IR1   \n",
              "3   4          70       RL         60.0     9550   Pave   NaN      IR1   \n",
              "4   5          60       RL         84.0    14260   Pave   NaN      IR1   \n",
              "\n",
              "  LandContour Utilities  ... PoolArea PoolQC Fence MiscFeature MiscVal MoSold  \\\n",
              "0         Lvl    AllPub  ...        0    NaN   NaN         NaN       0      2   \n",
              "1         Lvl    AllPub  ...        0    NaN   NaN         NaN       0      5   \n",
              "2         Lvl    AllPub  ...        0    NaN   NaN         NaN       0      9   \n",
              "3         Lvl    AllPub  ...        0    NaN   NaN         NaN       0      2   \n",
              "4         Lvl    AllPub  ...        0    NaN   NaN         NaN       0     12   \n",
              "\n",
              "  YrSold  SaleType  SaleCondition  SalePrice  \n",
              "0   2008        WD         Normal     208500  \n",
              "1   2007        WD         Normal     181500  \n",
              "2   2008        WD         Normal     223500  \n",
              "3   2006        WD        Abnorml     140000  \n",
              "4   2008        WD         Normal     250000  \n",
              "\n",
              "[5 rows x 81 columns]"
            ],
            "text/html": [
              "\n",
              "  <div id=\"df-f231569b-6c11-4223-abd3-9200f95898c4\" class=\"colab-df-container\">\n",
              "    <div>\n",
              "<style scoped>\n",
              "    .dataframe tbody tr th:only-of-type {\n",
              "        vertical-align: middle;\n",
              "    }\n",
              "\n",
              "    .dataframe tbody tr th {\n",
              "        vertical-align: top;\n",
              "    }\n",
              "\n",
              "    .dataframe thead th {\n",
              "        text-align: right;\n",
              "    }\n",
              "</style>\n",
              "<table border=\"1\" class=\"dataframe\">\n",
              "  <thead>\n",
              "    <tr style=\"text-align: right;\">\n",
              "      <th></th>\n",
              "      <th>Id</th>\n",
              "      <th>MSSubClass</th>\n",
              "      <th>MSZoning</th>\n",
              "      <th>LotFrontage</th>\n",
              "      <th>LotArea</th>\n",
              "      <th>Street</th>\n",
              "      <th>Alley</th>\n",
              "      <th>LotShape</th>\n",
              "      <th>LandContour</th>\n",
              "      <th>Utilities</th>\n",
              "      <th>...</th>\n",
              "      <th>PoolArea</th>\n",
              "      <th>PoolQC</th>\n",
              "      <th>Fence</th>\n",
              "      <th>MiscFeature</th>\n",
              "      <th>MiscVal</th>\n",
              "      <th>MoSold</th>\n",
              "      <th>YrSold</th>\n",
              "      <th>SaleType</th>\n",
              "      <th>SaleCondition</th>\n",
              "      <th>SalePrice</th>\n",
              "    </tr>\n",
              "  </thead>\n",
              "  <tbody>\n",
              "    <tr>\n",
              "      <th>0</th>\n",
              "      <td>1</td>\n",
              "      <td>60</td>\n",
              "      <td>RL</td>\n",
              "      <td>65.0</td>\n",
              "      <td>8450</td>\n",
              "      <td>Pave</td>\n",
              "      <td>NaN</td>\n",
              "      <td>Reg</td>\n",
              "      <td>Lvl</td>\n",
              "      <td>AllPub</td>\n",
              "      <td>...</td>\n",
              "      <td>0</td>\n",
              "      <td>NaN</td>\n",
              "      <td>NaN</td>\n",
              "      <td>NaN</td>\n",
              "      <td>0</td>\n",
              "      <td>2</td>\n",
              "      <td>2008</td>\n",
              "      <td>WD</td>\n",
              "      <td>Normal</td>\n",
              "      <td>208500</td>\n",
              "    </tr>\n",
              "    <tr>\n",
              "      <th>1</th>\n",
              "      <td>2</td>\n",
              "      <td>20</td>\n",
              "      <td>RL</td>\n",
              "      <td>80.0</td>\n",
              "      <td>9600</td>\n",
              "      <td>Pave</td>\n",
              "      <td>NaN</td>\n",
              "      <td>Reg</td>\n",
              "      <td>Lvl</td>\n",
              "      <td>AllPub</td>\n",
              "      <td>...</td>\n",
              "      <td>0</td>\n",
              "      <td>NaN</td>\n",
              "      <td>NaN</td>\n",
              "      <td>NaN</td>\n",
              "      <td>0</td>\n",
              "      <td>5</td>\n",
              "      <td>2007</td>\n",
              "      <td>WD</td>\n",
              "      <td>Normal</td>\n",
              "      <td>181500</td>\n",
              "    </tr>\n",
              "    <tr>\n",
              "      <th>2</th>\n",
              "      <td>3</td>\n",
              "      <td>60</td>\n",
              "      <td>RL</td>\n",
              "      <td>68.0</td>\n",
              "      <td>11250</td>\n",
              "      <td>Pave</td>\n",
              "      <td>NaN</td>\n",
              "      <td>IR1</td>\n",
              "      <td>Lvl</td>\n",
              "      <td>AllPub</td>\n",
              "      <td>...</td>\n",
              "      <td>0</td>\n",
              "      <td>NaN</td>\n",
              "      <td>NaN</td>\n",
              "      <td>NaN</td>\n",
              "      <td>0</td>\n",
              "      <td>9</td>\n",
              "      <td>2008</td>\n",
              "      <td>WD</td>\n",
              "      <td>Normal</td>\n",
              "      <td>223500</td>\n",
              "    </tr>\n",
              "    <tr>\n",
              "      <th>3</th>\n",
              "      <td>4</td>\n",
              "      <td>70</td>\n",
              "      <td>RL</td>\n",
              "      <td>60.0</td>\n",
              "      <td>9550</td>\n",
              "      <td>Pave</td>\n",
              "      <td>NaN</td>\n",
              "      <td>IR1</td>\n",
              "      <td>Lvl</td>\n",
              "      <td>AllPub</td>\n",
              "      <td>...</td>\n",
              "      <td>0</td>\n",
              "      <td>NaN</td>\n",
              "      <td>NaN</td>\n",
              "      <td>NaN</td>\n",
              "      <td>0</td>\n",
              "      <td>2</td>\n",
              "      <td>2006</td>\n",
              "      <td>WD</td>\n",
              "      <td>Abnorml</td>\n",
              "      <td>140000</td>\n",
              "    </tr>\n",
              "    <tr>\n",
              "      <th>4</th>\n",
              "      <td>5</td>\n",
              "      <td>60</td>\n",
              "      <td>RL</td>\n",
              "      <td>84.0</td>\n",
              "      <td>14260</td>\n",
              "      <td>Pave</td>\n",
              "      <td>NaN</td>\n",
              "      <td>IR1</td>\n",
              "      <td>Lvl</td>\n",
              "      <td>AllPub</td>\n",
              "      <td>...</td>\n",
              "      <td>0</td>\n",
              "      <td>NaN</td>\n",
              "      <td>NaN</td>\n",
              "      <td>NaN</td>\n",
              "      <td>0</td>\n",
              "      <td>12</td>\n",
              "      <td>2008</td>\n",
              "      <td>WD</td>\n",
              "      <td>Normal</td>\n",
              "      <td>250000</td>\n",
              "    </tr>\n",
              "  </tbody>\n",
              "</table>\n",
              "<p>5 rows × 81 columns</p>\n",
              "</div>\n",
              "    <div class=\"colab-df-buttons\">\n",
              "\n",
              "  <div class=\"colab-df-container\">\n",
              "    <button class=\"colab-df-convert\" onclick=\"convertToInteractive('df-f231569b-6c11-4223-abd3-9200f95898c4')\"\n",
              "            title=\"Convert this dataframe to an interactive table.\"\n",
              "            style=\"display:none;\">\n",
              "\n",
              "  <svg xmlns=\"http://www.w3.org/2000/svg\" height=\"24px\" viewBox=\"0 -960 960 960\">\n",
              "    <path d=\"M120-120v-720h720v720H120Zm60-500h600v-160H180v160Zm220 220h160v-160H400v160Zm0 220h160v-160H400v160ZM180-400h160v-160H180v160Zm440 0h160v-160H620v160ZM180-180h160v-160H180v160Zm440 0h160v-160H620v160Z\"/>\n",
              "  </svg>\n",
              "    </button>\n",
              "\n",
              "  <style>\n",
              "    .colab-df-container {\n",
              "      display:flex;\n",
              "      gap: 12px;\n",
              "    }\n",
              "\n",
              "    .colab-df-convert {\n",
              "      background-color: #E8F0FE;\n",
              "      border: none;\n",
              "      border-radius: 50%;\n",
              "      cursor: pointer;\n",
              "      display: none;\n",
              "      fill: #1967D2;\n",
              "      height: 32px;\n",
              "      padding: 0 0 0 0;\n",
              "      width: 32px;\n",
              "    }\n",
              "\n",
              "    .colab-df-convert:hover {\n",
              "      background-color: #E2EBFA;\n",
              "      box-shadow: 0px 1px 2px rgba(60, 64, 67, 0.3), 0px 1px 3px 1px rgba(60, 64, 67, 0.15);\n",
              "      fill: #174EA6;\n",
              "    }\n",
              "\n",
              "    .colab-df-buttons div {\n",
              "      margin-bottom: 4px;\n",
              "    }\n",
              "\n",
              "    [theme=dark] .colab-df-convert {\n",
              "      background-color: #3B4455;\n",
              "      fill: #D2E3FC;\n",
              "    }\n",
              "\n",
              "    [theme=dark] .colab-df-convert:hover {\n",
              "      background-color: #434B5C;\n",
              "      box-shadow: 0px 1px 3px 1px rgba(0, 0, 0, 0.15);\n",
              "      filter: drop-shadow(0px 1px 2px rgba(0, 0, 0, 0.3));\n",
              "      fill: #FFFFFF;\n",
              "    }\n",
              "  </style>\n",
              "\n",
              "    <script>\n",
              "      const buttonEl =\n",
              "        document.querySelector('#df-f231569b-6c11-4223-abd3-9200f95898c4 button.colab-df-convert');\n",
              "      buttonEl.style.display =\n",
              "        google.colab.kernel.accessAllowed ? 'block' : 'none';\n",
              "\n",
              "      async function convertToInteractive(key) {\n",
              "        const element = document.querySelector('#df-f231569b-6c11-4223-abd3-9200f95898c4');\n",
              "        const dataTable =\n",
              "          await google.colab.kernel.invokeFunction('convertToInteractive',\n",
              "                                                    [key], {});\n",
              "        if (!dataTable) return;\n",
              "\n",
              "        const docLinkHtml = 'Like what you see? Visit the ' +\n",
              "          '<a target=\"_blank\" href=https://colab.research.google.com/notebooks/data_table.ipynb>data table notebook</a>'\n",
              "          + ' to learn more about interactive tables.';\n",
              "        element.innerHTML = '';\n",
              "        dataTable['output_type'] = 'display_data';\n",
              "        await google.colab.output.renderOutput(dataTable, element);\n",
              "        const docLink = document.createElement('div');\n",
              "        docLink.innerHTML = docLinkHtml;\n",
              "        element.appendChild(docLink);\n",
              "      }\n",
              "    </script>\n",
              "  </div>\n",
              "\n",
              "\n",
              "<div id=\"df-e111deb4-3d70-43e6-a843-44dc476bc187\">\n",
              "  <button class=\"colab-df-quickchart\" onclick=\"quickchart('df-e111deb4-3d70-43e6-a843-44dc476bc187')\"\n",
              "            title=\"Suggest charts\"\n",
              "            style=\"display:none;\">\n",
              "\n",
              "<svg xmlns=\"http://www.w3.org/2000/svg\" height=\"24px\"viewBox=\"0 0 24 24\"\n",
              "     width=\"24px\">\n",
              "    <g>\n",
              "        <path d=\"M19 3H5c-1.1 0-2 .9-2 2v14c0 1.1.9 2 2 2h14c1.1 0 2-.9 2-2V5c0-1.1-.9-2-2-2zM9 17H7v-7h2v7zm4 0h-2V7h2v10zm4 0h-2v-4h2v4z\"/>\n",
              "    </g>\n",
              "</svg>\n",
              "  </button>\n",
              "\n",
              "<style>\n",
              "  .colab-df-quickchart {\n",
              "      --bg-color: #E8F0FE;\n",
              "      --fill-color: #1967D2;\n",
              "      --hover-bg-color: #E2EBFA;\n",
              "      --hover-fill-color: #174EA6;\n",
              "      --disabled-fill-color: #AAA;\n",
              "      --disabled-bg-color: #DDD;\n",
              "  }\n",
              "\n",
              "  [theme=dark] .colab-df-quickchart {\n",
              "      --bg-color: #3B4455;\n",
              "      --fill-color: #D2E3FC;\n",
              "      --hover-bg-color: #434B5C;\n",
              "      --hover-fill-color: #FFFFFF;\n",
              "      --disabled-bg-color: #3B4455;\n",
              "      --disabled-fill-color: #666;\n",
              "  }\n",
              "\n",
              "  .colab-df-quickchart {\n",
              "    background-color: var(--bg-color);\n",
              "    border: none;\n",
              "    border-radius: 50%;\n",
              "    cursor: pointer;\n",
              "    display: none;\n",
              "    fill: var(--fill-color);\n",
              "    height: 32px;\n",
              "    padding: 0;\n",
              "    width: 32px;\n",
              "  }\n",
              "\n",
              "  .colab-df-quickchart:hover {\n",
              "    background-color: var(--hover-bg-color);\n",
              "    box-shadow: 0 1px 2px rgba(60, 64, 67, 0.3), 0 1px 3px 1px rgba(60, 64, 67, 0.15);\n",
              "    fill: var(--button-hover-fill-color);\n",
              "  }\n",
              "\n",
              "  .colab-df-quickchart-complete:disabled,\n",
              "  .colab-df-quickchart-complete:disabled:hover {\n",
              "    background-color: var(--disabled-bg-color);\n",
              "    fill: var(--disabled-fill-color);\n",
              "    box-shadow: none;\n",
              "  }\n",
              "\n",
              "  .colab-df-spinner {\n",
              "    border: 2px solid var(--fill-color);\n",
              "    border-color: transparent;\n",
              "    border-bottom-color: var(--fill-color);\n",
              "    animation:\n",
              "      spin 1s steps(1) infinite;\n",
              "  }\n",
              "\n",
              "  @keyframes spin {\n",
              "    0% {\n",
              "      border-color: transparent;\n",
              "      border-bottom-color: var(--fill-color);\n",
              "      border-left-color: var(--fill-color);\n",
              "    }\n",
              "    20% {\n",
              "      border-color: transparent;\n",
              "      border-left-color: var(--fill-color);\n",
              "      border-top-color: var(--fill-color);\n",
              "    }\n",
              "    30% {\n",
              "      border-color: transparent;\n",
              "      border-left-color: var(--fill-color);\n",
              "      border-top-color: var(--fill-color);\n",
              "      border-right-color: var(--fill-color);\n",
              "    }\n",
              "    40% {\n",
              "      border-color: transparent;\n",
              "      border-right-color: var(--fill-color);\n",
              "      border-top-color: var(--fill-color);\n",
              "    }\n",
              "    60% {\n",
              "      border-color: transparent;\n",
              "      border-right-color: var(--fill-color);\n",
              "    }\n",
              "    80% {\n",
              "      border-color: transparent;\n",
              "      border-right-color: var(--fill-color);\n",
              "      border-bottom-color: var(--fill-color);\n",
              "    }\n",
              "    90% {\n",
              "      border-color: transparent;\n",
              "      border-bottom-color: var(--fill-color);\n",
              "    }\n",
              "  }\n",
              "</style>\n",
              "\n",
              "  <script>\n",
              "    async function quickchart(key) {\n",
              "      const quickchartButtonEl =\n",
              "        document.querySelector('#' + key + ' button');\n",
              "      quickchartButtonEl.disabled = true;  // To prevent multiple clicks.\n",
              "      quickchartButtonEl.classList.add('colab-df-spinner');\n",
              "      try {\n",
              "        const charts = await google.colab.kernel.invokeFunction(\n",
              "            'suggestCharts', [key], {});\n",
              "      } catch (error) {\n",
              "        console.error('Error during call to suggestCharts:', error);\n",
              "      }\n",
              "      quickchartButtonEl.classList.remove('colab-df-spinner');\n",
              "      quickchartButtonEl.classList.add('colab-df-quickchart-complete');\n",
              "    }\n",
              "    (() => {\n",
              "      let quickchartButtonEl =\n",
              "        document.querySelector('#df-e111deb4-3d70-43e6-a843-44dc476bc187 button');\n",
              "      quickchartButtonEl.style.display =\n",
              "        google.colab.kernel.accessAllowed ? 'block' : 'none';\n",
              "    })();\n",
              "  </script>\n",
              "</div>\n",
              "    </div>\n",
              "  </div>\n"
            ]
          },
          "metadata": {}
        },
        {
          "output_type": "display_data",
          "data": {
            "text/plain": [
              "     Id  MSSubClass MSZoning  LotFrontage  LotArea Street Alley LotShape  \\\n",
              "0  1461          20       RH         80.0    11622   Pave   NaN      Reg   \n",
              "1  1462          20       RL         81.0    14267   Pave   NaN      IR1   \n",
              "2  1463          60       RL         74.0    13830   Pave   NaN      IR1   \n",
              "3  1464          60       RL         78.0     9978   Pave   NaN      IR1   \n",
              "4  1465         120       RL         43.0     5005   Pave   NaN      IR1   \n",
              "\n",
              "  LandContour Utilities  ... ScreenPorch PoolArea PoolQC  Fence MiscFeature  \\\n",
              "0         Lvl    AllPub  ...         120        0    NaN  MnPrv         NaN   \n",
              "1         Lvl    AllPub  ...           0        0    NaN    NaN        Gar2   \n",
              "2         Lvl    AllPub  ...           0        0    NaN  MnPrv         NaN   \n",
              "3         Lvl    AllPub  ...           0        0    NaN    NaN         NaN   \n",
              "4         HLS    AllPub  ...         144        0    NaN    NaN         NaN   \n",
              "\n",
              "  MiscVal MoSold  YrSold  SaleType  SaleCondition  \n",
              "0       0      6    2010        WD         Normal  \n",
              "1   12500      6    2010        WD         Normal  \n",
              "2       0      3    2010        WD         Normal  \n",
              "3       0      6    2010        WD         Normal  \n",
              "4       0      1    2010        WD         Normal  \n",
              "\n",
              "[5 rows x 80 columns]"
            ],
            "text/html": [
              "\n",
              "  <div id=\"df-2c773b3d-526f-44bf-a313-c9ca6306fb88\" class=\"colab-df-container\">\n",
              "    <div>\n",
              "<style scoped>\n",
              "    .dataframe tbody tr th:only-of-type {\n",
              "        vertical-align: middle;\n",
              "    }\n",
              "\n",
              "    .dataframe tbody tr th {\n",
              "        vertical-align: top;\n",
              "    }\n",
              "\n",
              "    .dataframe thead th {\n",
              "        text-align: right;\n",
              "    }\n",
              "</style>\n",
              "<table border=\"1\" class=\"dataframe\">\n",
              "  <thead>\n",
              "    <tr style=\"text-align: right;\">\n",
              "      <th></th>\n",
              "      <th>Id</th>\n",
              "      <th>MSSubClass</th>\n",
              "      <th>MSZoning</th>\n",
              "      <th>LotFrontage</th>\n",
              "      <th>LotArea</th>\n",
              "      <th>Street</th>\n",
              "      <th>Alley</th>\n",
              "      <th>LotShape</th>\n",
              "      <th>LandContour</th>\n",
              "      <th>Utilities</th>\n",
              "      <th>...</th>\n",
              "      <th>ScreenPorch</th>\n",
              "      <th>PoolArea</th>\n",
              "      <th>PoolQC</th>\n",
              "      <th>Fence</th>\n",
              "      <th>MiscFeature</th>\n",
              "      <th>MiscVal</th>\n",
              "      <th>MoSold</th>\n",
              "      <th>YrSold</th>\n",
              "      <th>SaleType</th>\n",
              "      <th>SaleCondition</th>\n",
              "    </tr>\n",
              "  </thead>\n",
              "  <tbody>\n",
              "    <tr>\n",
              "      <th>0</th>\n",
              "      <td>1461</td>\n",
              "      <td>20</td>\n",
              "      <td>RH</td>\n",
              "      <td>80.0</td>\n",
              "      <td>11622</td>\n",
              "      <td>Pave</td>\n",
              "      <td>NaN</td>\n",
              "      <td>Reg</td>\n",
              "      <td>Lvl</td>\n",
              "      <td>AllPub</td>\n",
              "      <td>...</td>\n",
              "      <td>120</td>\n",
              "      <td>0</td>\n",
              "      <td>NaN</td>\n",
              "      <td>MnPrv</td>\n",
              "      <td>NaN</td>\n",
              "      <td>0</td>\n",
              "      <td>6</td>\n",
              "      <td>2010</td>\n",
              "      <td>WD</td>\n",
              "      <td>Normal</td>\n",
              "    </tr>\n",
              "    <tr>\n",
              "      <th>1</th>\n",
              "      <td>1462</td>\n",
              "      <td>20</td>\n",
              "      <td>RL</td>\n",
              "      <td>81.0</td>\n",
              "      <td>14267</td>\n",
              "      <td>Pave</td>\n",
              "      <td>NaN</td>\n",
              "      <td>IR1</td>\n",
              "      <td>Lvl</td>\n",
              "      <td>AllPub</td>\n",
              "      <td>...</td>\n",
              "      <td>0</td>\n",
              "      <td>0</td>\n",
              "      <td>NaN</td>\n",
              "      <td>NaN</td>\n",
              "      <td>Gar2</td>\n",
              "      <td>12500</td>\n",
              "      <td>6</td>\n",
              "      <td>2010</td>\n",
              "      <td>WD</td>\n",
              "      <td>Normal</td>\n",
              "    </tr>\n",
              "    <tr>\n",
              "      <th>2</th>\n",
              "      <td>1463</td>\n",
              "      <td>60</td>\n",
              "      <td>RL</td>\n",
              "      <td>74.0</td>\n",
              "      <td>13830</td>\n",
              "      <td>Pave</td>\n",
              "      <td>NaN</td>\n",
              "      <td>IR1</td>\n",
              "      <td>Lvl</td>\n",
              "      <td>AllPub</td>\n",
              "      <td>...</td>\n",
              "      <td>0</td>\n",
              "      <td>0</td>\n",
              "      <td>NaN</td>\n",
              "      <td>MnPrv</td>\n",
              "      <td>NaN</td>\n",
              "      <td>0</td>\n",
              "      <td>3</td>\n",
              "      <td>2010</td>\n",
              "      <td>WD</td>\n",
              "      <td>Normal</td>\n",
              "    </tr>\n",
              "    <tr>\n",
              "      <th>3</th>\n",
              "      <td>1464</td>\n",
              "      <td>60</td>\n",
              "      <td>RL</td>\n",
              "      <td>78.0</td>\n",
              "      <td>9978</td>\n",
              "      <td>Pave</td>\n",
              "      <td>NaN</td>\n",
              "      <td>IR1</td>\n",
              "      <td>Lvl</td>\n",
              "      <td>AllPub</td>\n",
              "      <td>...</td>\n",
              "      <td>0</td>\n",
              "      <td>0</td>\n",
              "      <td>NaN</td>\n",
              "      <td>NaN</td>\n",
              "      <td>NaN</td>\n",
              "      <td>0</td>\n",
              "      <td>6</td>\n",
              "      <td>2010</td>\n",
              "      <td>WD</td>\n",
              "      <td>Normal</td>\n",
              "    </tr>\n",
              "    <tr>\n",
              "      <th>4</th>\n",
              "      <td>1465</td>\n",
              "      <td>120</td>\n",
              "      <td>RL</td>\n",
              "      <td>43.0</td>\n",
              "      <td>5005</td>\n",
              "      <td>Pave</td>\n",
              "      <td>NaN</td>\n",
              "      <td>IR1</td>\n",
              "      <td>HLS</td>\n",
              "      <td>AllPub</td>\n",
              "      <td>...</td>\n",
              "      <td>144</td>\n",
              "      <td>0</td>\n",
              "      <td>NaN</td>\n",
              "      <td>NaN</td>\n",
              "      <td>NaN</td>\n",
              "      <td>0</td>\n",
              "      <td>1</td>\n",
              "      <td>2010</td>\n",
              "      <td>WD</td>\n",
              "      <td>Normal</td>\n",
              "    </tr>\n",
              "  </tbody>\n",
              "</table>\n",
              "<p>5 rows × 80 columns</p>\n",
              "</div>\n",
              "    <div class=\"colab-df-buttons\">\n",
              "\n",
              "  <div class=\"colab-df-container\">\n",
              "    <button class=\"colab-df-convert\" onclick=\"convertToInteractive('df-2c773b3d-526f-44bf-a313-c9ca6306fb88')\"\n",
              "            title=\"Convert this dataframe to an interactive table.\"\n",
              "            style=\"display:none;\">\n",
              "\n",
              "  <svg xmlns=\"http://www.w3.org/2000/svg\" height=\"24px\" viewBox=\"0 -960 960 960\">\n",
              "    <path d=\"M120-120v-720h720v720H120Zm60-500h600v-160H180v160Zm220 220h160v-160H400v160Zm0 220h160v-160H400v160ZM180-400h160v-160H180v160Zm440 0h160v-160H620v160ZM180-180h160v-160H180v160Zm440 0h160v-160H620v160Z\"/>\n",
              "  </svg>\n",
              "    </button>\n",
              "\n",
              "  <style>\n",
              "    .colab-df-container {\n",
              "      display:flex;\n",
              "      gap: 12px;\n",
              "    }\n",
              "\n",
              "    .colab-df-convert {\n",
              "      background-color: #E8F0FE;\n",
              "      border: none;\n",
              "      border-radius: 50%;\n",
              "      cursor: pointer;\n",
              "      display: none;\n",
              "      fill: #1967D2;\n",
              "      height: 32px;\n",
              "      padding: 0 0 0 0;\n",
              "      width: 32px;\n",
              "    }\n",
              "\n",
              "    .colab-df-convert:hover {\n",
              "      background-color: #E2EBFA;\n",
              "      box-shadow: 0px 1px 2px rgba(60, 64, 67, 0.3), 0px 1px 3px 1px rgba(60, 64, 67, 0.15);\n",
              "      fill: #174EA6;\n",
              "    }\n",
              "\n",
              "    .colab-df-buttons div {\n",
              "      margin-bottom: 4px;\n",
              "    }\n",
              "\n",
              "    [theme=dark] .colab-df-convert {\n",
              "      background-color: #3B4455;\n",
              "      fill: #D2E3FC;\n",
              "    }\n",
              "\n",
              "    [theme=dark] .colab-df-convert:hover {\n",
              "      background-color: #434B5C;\n",
              "      box-shadow: 0px 1px 3px 1px rgba(0, 0, 0, 0.15);\n",
              "      filter: drop-shadow(0px 1px 2px rgba(0, 0, 0, 0.3));\n",
              "      fill: #FFFFFF;\n",
              "    }\n",
              "  </style>\n",
              "\n",
              "    <script>\n",
              "      const buttonEl =\n",
              "        document.querySelector('#df-2c773b3d-526f-44bf-a313-c9ca6306fb88 button.colab-df-convert');\n",
              "      buttonEl.style.display =\n",
              "        google.colab.kernel.accessAllowed ? 'block' : 'none';\n",
              "\n",
              "      async function convertToInteractive(key) {\n",
              "        const element = document.querySelector('#df-2c773b3d-526f-44bf-a313-c9ca6306fb88');\n",
              "        const dataTable =\n",
              "          await google.colab.kernel.invokeFunction('convertToInteractive',\n",
              "                                                    [key], {});\n",
              "        if (!dataTable) return;\n",
              "\n",
              "        const docLinkHtml = 'Like what you see? Visit the ' +\n",
              "          '<a target=\"_blank\" href=https://colab.research.google.com/notebooks/data_table.ipynb>data table notebook</a>'\n",
              "          + ' to learn more about interactive tables.';\n",
              "        element.innerHTML = '';\n",
              "        dataTable['output_type'] = 'display_data';\n",
              "        await google.colab.output.renderOutput(dataTable, element);\n",
              "        const docLink = document.createElement('div');\n",
              "        docLink.innerHTML = docLinkHtml;\n",
              "        element.appendChild(docLink);\n",
              "      }\n",
              "    </script>\n",
              "  </div>\n",
              "\n",
              "\n",
              "<div id=\"df-f849930f-a970-4a40-813f-beba0c923fa5\">\n",
              "  <button class=\"colab-df-quickchart\" onclick=\"quickchart('df-f849930f-a970-4a40-813f-beba0c923fa5')\"\n",
              "            title=\"Suggest charts\"\n",
              "            style=\"display:none;\">\n",
              "\n",
              "<svg xmlns=\"http://www.w3.org/2000/svg\" height=\"24px\"viewBox=\"0 0 24 24\"\n",
              "     width=\"24px\">\n",
              "    <g>\n",
              "        <path d=\"M19 3H5c-1.1 0-2 .9-2 2v14c0 1.1.9 2 2 2h14c1.1 0 2-.9 2-2V5c0-1.1-.9-2-2-2zM9 17H7v-7h2v7zm4 0h-2V7h2v10zm4 0h-2v-4h2v4z\"/>\n",
              "    </g>\n",
              "</svg>\n",
              "  </button>\n",
              "\n",
              "<style>\n",
              "  .colab-df-quickchart {\n",
              "      --bg-color: #E8F0FE;\n",
              "      --fill-color: #1967D2;\n",
              "      --hover-bg-color: #E2EBFA;\n",
              "      --hover-fill-color: #174EA6;\n",
              "      --disabled-fill-color: #AAA;\n",
              "      --disabled-bg-color: #DDD;\n",
              "  }\n",
              "\n",
              "  [theme=dark] .colab-df-quickchart {\n",
              "      --bg-color: #3B4455;\n",
              "      --fill-color: #D2E3FC;\n",
              "      --hover-bg-color: #434B5C;\n",
              "      --hover-fill-color: #FFFFFF;\n",
              "      --disabled-bg-color: #3B4455;\n",
              "      --disabled-fill-color: #666;\n",
              "  }\n",
              "\n",
              "  .colab-df-quickchart {\n",
              "    background-color: var(--bg-color);\n",
              "    border: none;\n",
              "    border-radius: 50%;\n",
              "    cursor: pointer;\n",
              "    display: none;\n",
              "    fill: var(--fill-color);\n",
              "    height: 32px;\n",
              "    padding: 0;\n",
              "    width: 32px;\n",
              "  }\n",
              "\n",
              "  .colab-df-quickchart:hover {\n",
              "    background-color: var(--hover-bg-color);\n",
              "    box-shadow: 0 1px 2px rgba(60, 64, 67, 0.3), 0 1px 3px 1px rgba(60, 64, 67, 0.15);\n",
              "    fill: var(--button-hover-fill-color);\n",
              "  }\n",
              "\n",
              "  .colab-df-quickchart-complete:disabled,\n",
              "  .colab-df-quickchart-complete:disabled:hover {\n",
              "    background-color: var(--disabled-bg-color);\n",
              "    fill: var(--disabled-fill-color);\n",
              "    box-shadow: none;\n",
              "  }\n",
              "\n",
              "  .colab-df-spinner {\n",
              "    border: 2px solid var(--fill-color);\n",
              "    border-color: transparent;\n",
              "    border-bottom-color: var(--fill-color);\n",
              "    animation:\n",
              "      spin 1s steps(1) infinite;\n",
              "  }\n",
              "\n",
              "  @keyframes spin {\n",
              "    0% {\n",
              "      border-color: transparent;\n",
              "      border-bottom-color: var(--fill-color);\n",
              "      border-left-color: var(--fill-color);\n",
              "    }\n",
              "    20% {\n",
              "      border-color: transparent;\n",
              "      border-left-color: var(--fill-color);\n",
              "      border-top-color: var(--fill-color);\n",
              "    }\n",
              "    30% {\n",
              "      border-color: transparent;\n",
              "      border-left-color: var(--fill-color);\n",
              "      border-top-color: var(--fill-color);\n",
              "      border-right-color: var(--fill-color);\n",
              "    }\n",
              "    40% {\n",
              "      border-color: transparent;\n",
              "      border-right-color: var(--fill-color);\n",
              "      border-top-color: var(--fill-color);\n",
              "    }\n",
              "    60% {\n",
              "      border-color: transparent;\n",
              "      border-right-color: var(--fill-color);\n",
              "    }\n",
              "    80% {\n",
              "      border-color: transparent;\n",
              "      border-right-color: var(--fill-color);\n",
              "      border-bottom-color: var(--fill-color);\n",
              "    }\n",
              "    90% {\n",
              "      border-color: transparent;\n",
              "      border-bottom-color: var(--fill-color);\n",
              "    }\n",
              "  }\n",
              "</style>\n",
              "\n",
              "  <script>\n",
              "    async function quickchart(key) {\n",
              "      const quickchartButtonEl =\n",
              "        document.querySelector('#' + key + ' button');\n",
              "      quickchartButtonEl.disabled = true;  // To prevent multiple clicks.\n",
              "      quickchartButtonEl.classList.add('colab-df-spinner');\n",
              "      try {\n",
              "        const charts = await google.colab.kernel.invokeFunction(\n",
              "            'suggestCharts', [key], {});\n",
              "      } catch (error) {\n",
              "        console.error('Error during call to suggestCharts:', error);\n",
              "      }\n",
              "      quickchartButtonEl.classList.remove('colab-df-spinner');\n",
              "      quickchartButtonEl.classList.add('colab-df-quickchart-complete');\n",
              "    }\n",
              "    (() => {\n",
              "      let quickchartButtonEl =\n",
              "        document.querySelector('#df-f849930f-a970-4a40-813f-beba0c923fa5 button');\n",
              "      quickchartButtonEl.style.display =\n",
              "        google.colab.kernel.accessAllowed ? 'block' : 'none';\n",
              "    })();\n",
              "  </script>\n",
              "</div>\n",
              "    </div>\n",
              "  </div>\n"
            ]
          },
          "metadata": {}
        },
        {
          "output_type": "execute_result",
          "data": {
            "text/plain": [
              "(None, None)"
            ]
          },
          "metadata": {},
          "execution_count": 19
        }
      ],
      "source": [
        "train_df = pd.read_csv(\"/content/datasets/house-train.csv\")\n",
        "test_df = pd.read_csv(\"/content/datasets/house-test.csv\")\n",
        "display(train_df.head()),display(test_df.head())"
      ],
      "id": "8209da66-a905-48c1-8f41-84857c1f49ba"
    },
    {
      "cell_type": "code",
      "execution_count": 20,
      "metadata": {
        "id": "78ee7e23-1101-4863-a115-896861b86988"
      },
      "outputs": [],
      "source": [
        "def data_preprocessor_a(train_data, test_data, label='SalePrice'):\n",
        "\n",
        "    features_all = pd.concat((train_data.drop(columns=['Id', label]), test_data.drop(columns=['Id'])))\n",
        "    numeric_features = features_all.dtypes[features_all.dtypes != 'object'].index\n",
        "\n",
        "    features_all[numeric_features] = features_all[numeric_features].apply(lambda x: (x - x.mean()) / (x.std()))\n",
        "    features_all[numeric_features] = features_all[numeric_features].fillna(0)\n",
        "    #features_all = pd.get_dummies(features_all, dummy_na=True)\n",
        "\n",
        "    train_df = features_all[:train_data.shape[0]].copy()\n",
        "\n",
        "    normVals = (train_data[label].mean(), train_data[label].std())\n",
        "    print(normVals)\n",
        "\n",
        "    train_df[label] = ( train_data[label] - normVals[0] ) / normVals[1]\n",
        "    test_df = features_all[train_data.shape[0]:].copy()\n",
        "\n",
        "    return train_df, test_df\n",
        "\n",
        "\n"
      ],
      "id": "78ee7e23-1101-4863-a115-896861b86988"
    },
    {
      "cell_type": "code",
      "source": [
        "def data_preprocessor_b(train_data, test_data, label='SalePrice'):\n",
        "\n",
        "    features_all = pd.concat((train_data.drop(columns=['Id', label]), test_data.drop(columns=['Id'])))\n",
        "    numeric_features = features_all.dtypes[features_all.dtypes != 'object'].index\n",
        "\n",
        "    features_all[numeric_features] = features_all[numeric_features].apply(lambda x: (x - x.mean()) / (x.std()))\n",
        "    features_all[numeric_features] = features_all[numeric_features].fillna(0)\n",
        "    features_all = pd.get_dummies(features_all, dummy_na=True)\n",
        "\n",
        "    train_df = features_all[:train_data.shape[0]].copy()\n",
        "\n",
        "    normVals = (train_data[label].mean(), train_data[label].std())\n",
        "    print(normVals)\n",
        "\n",
        "    train_df[label] = ( train_data[label] - normVals[0] ) / normVals[1]\n",
        "    test_df = features_all[train_data.shape[0]:].copy()\n",
        "\n",
        "    return train_df, test_df"
      ],
      "metadata": {
        "id": "KwMVQ8Wu1_HT"
      },
      "id": "KwMVQ8Wu1_HT",
      "execution_count": 21,
      "outputs": []
    },
    {
      "cell_type": "code",
      "execution_count": 22,
      "metadata": {
        "id": "d1b39eab-0530-4895-b237-265cf85603e0",
        "colab": {
          "base_uri": "https://localhost:8080/"
        },
        "outputId": "9228001b-7994-4596-ba84-51b9d3e90826"
      },
      "outputs": [
        {
          "output_type": "stream",
          "name": "stderr",
          "text": [
            "/usr/local/lib/python3.10/dist-packages/torch/nn/modules/lazy.py:180: UserWarning: Lazy modules are a new feature under heavy development so changes to the API or functionality can happen at any moment.\n",
            "  warnings.warn('Lazy modules are a new feature under heavy development '\n"
          ]
        }
      ],
      "source": [
        "lectureModel = nn.Sequential(\n",
        "    nn.LazyLinear(256),\n",
        "    nn.ReLU(),\n",
        "    nn.LazyLinear(10),\n",
        ")\n",
        "\n",
        "\n",
        "class sale_predictor(nn.Module):\n",
        "    def __init__(self):\n",
        "        super(sale_predictor, self).__init__()\n",
        "\n",
        "        # From output data\n",
        "        self.mean = 180921.19589041095\n",
        "        self.std = 79442.50288288662\n",
        "        self.unNormalize = False\n",
        "        self.Dropout = False\n",
        "        self.D1 = nn.Dropout(0.3)\n",
        "\n",
        "        self.layer1 = nn.LazyLinear(256)\n",
        "        self.relu1 = nn.ReLU()\n",
        "        self.layer2 = nn.LazyLinear(256)\n",
        "        self.relu2 = nn.ReLU()\n",
        "        self.layer3 = nn.LazyLinear(128)\n",
        "        self.relu3 = nn.ReLU()\n",
        "        self.layer4 = nn.LazyLinear(1)\n",
        "\n",
        "    def forward(self, x):\n",
        "        x = self.layer1(x)\n",
        "        x = self.relu1(x)\n",
        "        x = self.layer2(x)\n",
        "        x = self.relu2(x)\n",
        "        if self.Dropout:\n",
        "            x = self.D1(x)\n",
        "        x = self.layer3(x)\n",
        "        x = self.relu3(x)\n",
        "        x = self.layer4(x)\n",
        "\n",
        "        if self.unNormalize:\n",
        "            x = x * self.std + self.mean\n",
        "\n",
        "        return x\n",
        "\n",
        "sale_predictor = sale_predictor()"
      ],
      "id": "d1b39eab-0530-4895-b237-265cf85603e0"
    },
    {
      "cell_type": "code",
      "execution_count": 23,
      "metadata": {
        "id": "d088a549-e912-409a-a143-580f9ac6aaf1"
      },
      "outputs": [],
      "source": [
        "class housing_dataset(torch.utils.data.Dataset):\n",
        "    def __init__(self, df):\n",
        "        self.df = df\n",
        "\n",
        "    def __len__(self):\n",
        "        return len(self.df)\n",
        "\n",
        "    def __getitem__(self, idx):\n",
        "        row = self.df.iloc[idx]\n",
        "\n",
        "        dimensions = torch.Tensor(row.values)\n",
        "        label = dimensions[-1]\n",
        "\n",
        "        return (dimensions[:-1], label)"
      ],
      "id": "d088a549-e912-409a-a143-580f9ac6aaf1"
    },
    {
      "cell_type": "markdown",
      "source": [
        "### 2.a. Build a multi-perceptron network that regresses the housing price (based on 20%, 80% split)."
      ],
      "metadata": {
        "id": "62MPIdRGmha3"
      },
      "id": "62MPIdRGmha3"
    },
    {
      "cell_type": "code",
      "execution_count": 24,
      "metadata": {
        "id": "66a9c354-2557-4c5f-a6c8-ebe29e4c8457",
        "colab": {
          "base_uri": "https://localhost:8080/",
          "height": 273
        },
        "outputId": "8894c57c-fd02-4958-a62f-d523adfae4de"
      },
      "outputs": [
        {
          "output_type": "stream",
          "name": "stdout",
          "text": [
            "(180921.19589041095, 79442.50288288662)\n"
          ]
        },
        {
          "output_type": "execute_result",
          "data": {
            "text/plain": [
              "   MSSubClass MSZoning  LotFrontage   LotArea Street Alley LotShape  \\\n",
              "0   -0.873466       RH     0.458096  0.184340   Pave   NaN      Reg   \n",
              "1   -0.873466       RL     0.500932  0.519702   Pave   NaN      IR1   \n",
              "2    0.067320       RL     0.201080  0.464294   Pave   NaN      IR1   \n",
              "3    0.067320       RL     0.372424 -0.024105   Pave   NaN      IR1   \n",
              "4    1.478499       RL    -1.126832 -0.654636   Pave   NaN      IR1   \n",
              "\n",
              "  LandContour Utilities LotConfig  ... ScreenPorch  PoolArea PoolQC  Fence  \\\n",
              "0         Lvl    AllPub    Inside  ...    1.849939 -0.063139    NaN  MnPrv   \n",
              "1         Lvl    AllPub    Corner  ...   -0.285886 -0.063139    NaN    NaN   \n",
              "2         Lvl    AllPub    Inside  ...   -0.285886 -0.063139    NaN  MnPrv   \n",
              "3         Lvl    AllPub    Inside  ...   -0.285886 -0.063139    NaN    NaN   \n",
              "4         HLS    AllPub    Inside  ...    2.277104 -0.063139    NaN    NaN   \n",
              "\n",
              "  MiscFeature    MiscVal    MoSold    YrSold  SaleType  SaleCondition  \n",
              "0         NaN  -0.089577 -0.078492  1.678572        WD         Normal  \n",
              "1        Gar2  21.940651 -0.078492  1.678572        WD         Normal  \n",
              "2         NaN  -0.089577 -1.183561  1.678572        WD         Normal  \n",
              "3         NaN  -0.089577 -0.078492  1.678572        WD         Normal  \n",
              "4         NaN  -0.089577 -1.920274  1.678572        WD         Normal  \n",
              "\n",
              "[5 rows x 79 columns]"
            ],
            "text/html": [
              "\n",
              "  <div id=\"df-38846f9c-fc8d-4e00-a53b-ce3ed29b7f86\" class=\"colab-df-container\">\n",
              "    <div>\n",
              "<style scoped>\n",
              "    .dataframe tbody tr th:only-of-type {\n",
              "        vertical-align: middle;\n",
              "    }\n",
              "\n",
              "    .dataframe tbody tr th {\n",
              "        vertical-align: top;\n",
              "    }\n",
              "\n",
              "    .dataframe thead th {\n",
              "        text-align: right;\n",
              "    }\n",
              "</style>\n",
              "<table border=\"1\" class=\"dataframe\">\n",
              "  <thead>\n",
              "    <tr style=\"text-align: right;\">\n",
              "      <th></th>\n",
              "      <th>MSSubClass</th>\n",
              "      <th>MSZoning</th>\n",
              "      <th>LotFrontage</th>\n",
              "      <th>LotArea</th>\n",
              "      <th>Street</th>\n",
              "      <th>Alley</th>\n",
              "      <th>LotShape</th>\n",
              "      <th>LandContour</th>\n",
              "      <th>Utilities</th>\n",
              "      <th>LotConfig</th>\n",
              "      <th>...</th>\n",
              "      <th>ScreenPorch</th>\n",
              "      <th>PoolArea</th>\n",
              "      <th>PoolQC</th>\n",
              "      <th>Fence</th>\n",
              "      <th>MiscFeature</th>\n",
              "      <th>MiscVal</th>\n",
              "      <th>MoSold</th>\n",
              "      <th>YrSold</th>\n",
              "      <th>SaleType</th>\n",
              "      <th>SaleCondition</th>\n",
              "    </tr>\n",
              "  </thead>\n",
              "  <tbody>\n",
              "    <tr>\n",
              "      <th>0</th>\n",
              "      <td>-0.873466</td>\n",
              "      <td>RH</td>\n",
              "      <td>0.458096</td>\n",
              "      <td>0.184340</td>\n",
              "      <td>Pave</td>\n",
              "      <td>NaN</td>\n",
              "      <td>Reg</td>\n",
              "      <td>Lvl</td>\n",
              "      <td>AllPub</td>\n",
              "      <td>Inside</td>\n",
              "      <td>...</td>\n",
              "      <td>1.849939</td>\n",
              "      <td>-0.063139</td>\n",
              "      <td>NaN</td>\n",
              "      <td>MnPrv</td>\n",
              "      <td>NaN</td>\n",
              "      <td>-0.089577</td>\n",
              "      <td>-0.078492</td>\n",
              "      <td>1.678572</td>\n",
              "      <td>WD</td>\n",
              "      <td>Normal</td>\n",
              "    </tr>\n",
              "    <tr>\n",
              "      <th>1</th>\n",
              "      <td>-0.873466</td>\n",
              "      <td>RL</td>\n",
              "      <td>0.500932</td>\n",
              "      <td>0.519702</td>\n",
              "      <td>Pave</td>\n",
              "      <td>NaN</td>\n",
              "      <td>IR1</td>\n",
              "      <td>Lvl</td>\n",
              "      <td>AllPub</td>\n",
              "      <td>Corner</td>\n",
              "      <td>...</td>\n",
              "      <td>-0.285886</td>\n",
              "      <td>-0.063139</td>\n",
              "      <td>NaN</td>\n",
              "      <td>NaN</td>\n",
              "      <td>Gar2</td>\n",
              "      <td>21.940651</td>\n",
              "      <td>-0.078492</td>\n",
              "      <td>1.678572</td>\n",
              "      <td>WD</td>\n",
              "      <td>Normal</td>\n",
              "    </tr>\n",
              "    <tr>\n",
              "      <th>2</th>\n",
              "      <td>0.067320</td>\n",
              "      <td>RL</td>\n",
              "      <td>0.201080</td>\n",
              "      <td>0.464294</td>\n",
              "      <td>Pave</td>\n",
              "      <td>NaN</td>\n",
              "      <td>IR1</td>\n",
              "      <td>Lvl</td>\n",
              "      <td>AllPub</td>\n",
              "      <td>Inside</td>\n",
              "      <td>...</td>\n",
              "      <td>-0.285886</td>\n",
              "      <td>-0.063139</td>\n",
              "      <td>NaN</td>\n",
              "      <td>MnPrv</td>\n",
              "      <td>NaN</td>\n",
              "      <td>-0.089577</td>\n",
              "      <td>-1.183561</td>\n",
              "      <td>1.678572</td>\n",
              "      <td>WD</td>\n",
              "      <td>Normal</td>\n",
              "    </tr>\n",
              "    <tr>\n",
              "      <th>3</th>\n",
              "      <td>0.067320</td>\n",
              "      <td>RL</td>\n",
              "      <td>0.372424</td>\n",
              "      <td>-0.024105</td>\n",
              "      <td>Pave</td>\n",
              "      <td>NaN</td>\n",
              "      <td>IR1</td>\n",
              "      <td>Lvl</td>\n",
              "      <td>AllPub</td>\n",
              "      <td>Inside</td>\n",
              "      <td>...</td>\n",
              "      <td>-0.285886</td>\n",
              "      <td>-0.063139</td>\n",
              "      <td>NaN</td>\n",
              "      <td>NaN</td>\n",
              "      <td>NaN</td>\n",
              "      <td>-0.089577</td>\n",
              "      <td>-0.078492</td>\n",
              "      <td>1.678572</td>\n",
              "      <td>WD</td>\n",
              "      <td>Normal</td>\n",
              "    </tr>\n",
              "    <tr>\n",
              "      <th>4</th>\n",
              "      <td>1.478499</td>\n",
              "      <td>RL</td>\n",
              "      <td>-1.126832</td>\n",
              "      <td>-0.654636</td>\n",
              "      <td>Pave</td>\n",
              "      <td>NaN</td>\n",
              "      <td>IR1</td>\n",
              "      <td>HLS</td>\n",
              "      <td>AllPub</td>\n",
              "      <td>Inside</td>\n",
              "      <td>...</td>\n",
              "      <td>2.277104</td>\n",
              "      <td>-0.063139</td>\n",
              "      <td>NaN</td>\n",
              "      <td>NaN</td>\n",
              "      <td>NaN</td>\n",
              "      <td>-0.089577</td>\n",
              "      <td>-1.920274</td>\n",
              "      <td>1.678572</td>\n",
              "      <td>WD</td>\n",
              "      <td>Normal</td>\n",
              "    </tr>\n",
              "  </tbody>\n",
              "</table>\n",
              "<p>5 rows × 79 columns</p>\n",
              "</div>\n",
              "    <div class=\"colab-df-buttons\">\n",
              "\n",
              "  <div class=\"colab-df-container\">\n",
              "    <button class=\"colab-df-convert\" onclick=\"convertToInteractive('df-38846f9c-fc8d-4e00-a53b-ce3ed29b7f86')\"\n",
              "            title=\"Convert this dataframe to an interactive table.\"\n",
              "            style=\"display:none;\">\n",
              "\n",
              "  <svg xmlns=\"http://www.w3.org/2000/svg\" height=\"24px\" viewBox=\"0 -960 960 960\">\n",
              "    <path d=\"M120-120v-720h720v720H120Zm60-500h600v-160H180v160Zm220 220h160v-160H400v160Zm0 220h160v-160H400v160ZM180-400h160v-160H180v160Zm440 0h160v-160H620v160ZM180-180h160v-160H180v160Zm440 0h160v-160H620v160Z\"/>\n",
              "  </svg>\n",
              "    </button>\n",
              "\n",
              "  <style>\n",
              "    .colab-df-container {\n",
              "      display:flex;\n",
              "      gap: 12px;\n",
              "    }\n",
              "\n",
              "    .colab-df-convert {\n",
              "      background-color: #E8F0FE;\n",
              "      border: none;\n",
              "      border-radius: 50%;\n",
              "      cursor: pointer;\n",
              "      display: none;\n",
              "      fill: #1967D2;\n",
              "      height: 32px;\n",
              "      padding: 0 0 0 0;\n",
              "      width: 32px;\n",
              "    }\n",
              "\n",
              "    .colab-df-convert:hover {\n",
              "      background-color: #E2EBFA;\n",
              "      box-shadow: 0px 1px 2px rgba(60, 64, 67, 0.3), 0px 1px 3px 1px rgba(60, 64, 67, 0.15);\n",
              "      fill: #174EA6;\n",
              "    }\n",
              "\n",
              "    .colab-df-buttons div {\n",
              "      margin-bottom: 4px;\n",
              "    }\n",
              "\n",
              "    [theme=dark] .colab-df-convert {\n",
              "      background-color: #3B4455;\n",
              "      fill: #D2E3FC;\n",
              "    }\n",
              "\n",
              "    [theme=dark] .colab-df-convert:hover {\n",
              "      background-color: #434B5C;\n",
              "      box-shadow: 0px 1px 3px 1px rgba(0, 0, 0, 0.15);\n",
              "      filter: drop-shadow(0px 1px 2px rgba(0, 0, 0, 0.3));\n",
              "      fill: #FFFFFF;\n",
              "    }\n",
              "  </style>\n",
              "\n",
              "    <script>\n",
              "      const buttonEl =\n",
              "        document.querySelector('#df-38846f9c-fc8d-4e00-a53b-ce3ed29b7f86 button.colab-df-convert');\n",
              "      buttonEl.style.display =\n",
              "        google.colab.kernel.accessAllowed ? 'block' : 'none';\n",
              "\n",
              "      async function convertToInteractive(key) {\n",
              "        const element = document.querySelector('#df-38846f9c-fc8d-4e00-a53b-ce3ed29b7f86');\n",
              "        const dataTable =\n",
              "          await google.colab.kernel.invokeFunction('convertToInteractive',\n",
              "                                                    [key], {});\n",
              "        if (!dataTable) return;\n",
              "\n",
              "        const docLinkHtml = 'Like what you see? Visit the ' +\n",
              "          '<a target=\"_blank\" href=https://colab.research.google.com/notebooks/data_table.ipynb>data table notebook</a>'\n",
              "          + ' to learn more about interactive tables.';\n",
              "        element.innerHTML = '';\n",
              "        dataTable['output_type'] = 'display_data';\n",
              "        await google.colab.output.renderOutput(dataTable, element);\n",
              "        const docLink = document.createElement('div');\n",
              "        docLink.innerHTML = docLinkHtml;\n",
              "        element.appendChild(docLink);\n",
              "      }\n",
              "    </script>\n",
              "  </div>\n",
              "\n",
              "\n",
              "<div id=\"df-37bb283d-1505-43b8-ab2b-18e22bbbf1c6\">\n",
              "  <button class=\"colab-df-quickchart\" onclick=\"quickchart('df-37bb283d-1505-43b8-ab2b-18e22bbbf1c6')\"\n",
              "            title=\"Suggest charts\"\n",
              "            style=\"display:none;\">\n",
              "\n",
              "<svg xmlns=\"http://www.w3.org/2000/svg\" height=\"24px\"viewBox=\"0 0 24 24\"\n",
              "     width=\"24px\">\n",
              "    <g>\n",
              "        <path d=\"M19 3H5c-1.1 0-2 .9-2 2v14c0 1.1.9 2 2 2h14c1.1 0 2-.9 2-2V5c0-1.1-.9-2-2-2zM9 17H7v-7h2v7zm4 0h-2V7h2v10zm4 0h-2v-4h2v4z\"/>\n",
              "    </g>\n",
              "</svg>\n",
              "  </button>\n",
              "\n",
              "<style>\n",
              "  .colab-df-quickchart {\n",
              "      --bg-color: #E8F0FE;\n",
              "      --fill-color: #1967D2;\n",
              "      --hover-bg-color: #E2EBFA;\n",
              "      --hover-fill-color: #174EA6;\n",
              "      --disabled-fill-color: #AAA;\n",
              "      --disabled-bg-color: #DDD;\n",
              "  }\n",
              "\n",
              "  [theme=dark] .colab-df-quickchart {\n",
              "      --bg-color: #3B4455;\n",
              "      --fill-color: #D2E3FC;\n",
              "      --hover-bg-color: #434B5C;\n",
              "      --hover-fill-color: #FFFFFF;\n",
              "      --disabled-bg-color: #3B4455;\n",
              "      --disabled-fill-color: #666;\n",
              "  }\n",
              "\n",
              "  .colab-df-quickchart {\n",
              "    background-color: var(--bg-color);\n",
              "    border: none;\n",
              "    border-radius: 50%;\n",
              "    cursor: pointer;\n",
              "    display: none;\n",
              "    fill: var(--fill-color);\n",
              "    height: 32px;\n",
              "    padding: 0;\n",
              "    width: 32px;\n",
              "  }\n",
              "\n",
              "  .colab-df-quickchart:hover {\n",
              "    background-color: var(--hover-bg-color);\n",
              "    box-shadow: 0 1px 2px rgba(60, 64, 67, 0.3), 0 1px 3px 1px rgba(60, 64, 67, 0.15);\n",
              "    fill: var(--button-hover-fill-color);\n",
              "  }\n",
              "\n",
              "  .colab-df-quickchart-complete:disabled,\n",
              "  .colab-df-quickchart-complete:disabled:hover {\n",
              "    background-color: var(--disabled-bg-color);\n",
              "    fill: var(--disabled-fill-color);\n",
              "    box-shadow: none;\n",
              "  }\n",
              "\n",
              "  .colab-df-spinner {\n",
              "    border: 2px solid var(--fill-color);\n",
              "    border-color: transparent;\n",
              "    border-bottom-color: var(--fill-color);\n",
              "    animation:\n",
              "      spin 1s steps(1) infinite;\n",
              "  }\n",
              "\n",
              "  @keyframes spin {\n",
              "    0% {\n",
              "      border-color: transparent;\n",
              "      border-bottom-color: var(--fill-color);\n",
              "      border-left-color: var(--fill-color);\n",
              "    }\n",
              "    20% {\n",
              "      border-color: transparent;\n",
              "      border-left-color: var(--fill-color);\n",
              "      border-top-color: var(--fill-color);\n",
              "    }\n",
              "    30% {\n",
              "      border-color: transparent;\n",
              "      border-left-color: var(--fill-color);\n",
              "      border-top-color: var(--fill-color);\n",
              "      border-right-color: var(--fill-color);\n",
              "    }\n",
              "    40% {\n",
              "      border-color: transparent;\n",
              "      border-right-color: var(--fill-color);\n",
              "      border-top-color: var(--fill-color);\n",
              "    }\n",
              "    60% {\n",
              "      border-color: transparent;\n",
              "      border-right-color: var(--fill-color);\n",
              "    }\n",
              "    80% {\n",
              "      border-color: transparent;\n",
              "      border-right-color: var(--fill-color);\n",
              "      border-bottom-color: var(--fill-color);\n",
              "    }\n",
              "    90% {\n",
              "      border-color: transparent;\n",
              "      border-bottom-color: var(--fill-color);\n",
              "    }\n",
              "  }\n",
              "</style>\n",
              "\n",
              "  <script>\n",
              "    async function quickchart(key) {\n",
              "      const quickchartButtonEl =\n",
              "        document.querySelector('#' + key + ' button');\n",
              "      quickchartButtonEl.disabled = true;  // To prevent multiple clicks.\n",
              "      quickchartButtonEl.classList.add('colab-df-spinner');\n",
              "      try {\n",
              "        const charts = await google.colab.kernel.invokeFunction(\n",
              "            'suggestCharts', [key], {});\n",
              "      } catch (error) {\n",
              "        console.error('Error during call to suggestCharts:', error);\n",
              "      }\n",
              "      quickchartButtonEl.classList.remove('colab-df-spinner');\n",
              "      quickchartButtonEl.classList.add('colab-df-quickchart-complete');\n",
              "    }\n",
              "    (() => {\n",
              "      let quickchartButtonEl =\n",
              "        document.querySelector('#df-37bb283d-1505-43b8-ab2b-18e22bbbf1c6 button');\n",
              "      quickchartButtonEl.style.display =\n",
              "        google.colab.kernel.accessAllowed ? 'block' : 'none';\n",
              "    })();\n",
              "  </script>\n",
              "</div>\n",
              "    </div>\n",
              "  </div>\n"
            ]
          },
          "metadata": {},
          "execution_count": 24
        }
      ],
      "source": [
        "train_processed_df, test_processed_df = data_preprocessor_a(train_df, test_df)\n",
        "test_processed_df.head()"
      ],
      "id": "66a9c354-2557-4c5f-a6c8-ebe29e4c8457"
    },
    {
      "cell_type": "code",
      "execution_count": 25,
      "metadata": {
        "id": "1dec8d28-6851-436d-8236-d635bc59c6f0"
      },
      "outputs": [],
      "source": [
        "train_housing = housing_dataset(train_processed_df)\n",
        "\n",
        "validNum = int(len(train_housing) * 0.8)\n",
        "train_housing, valid_housing = random_split(train_housing, [validNum, len(train_housing) - validNum])\n",
        "\n",
        "trainLoaderHousing = DataLoader(train_housing, batch_size=128, shuffle=True, num_workers=0)\n",
        "validateLoaderHousing = DataLoader(valid_housing, batch_size=128, shuffle=True, num_workers=0)"
      ],
      "id": "1dec8d28-6851-436d-8236-d635bc59c6f0"
    },
    {
      "cell_type": "markdown",
      "source": [
        "### 2.b. Build a multi-perceptron network that regresses the housing price (based on 20%, 80% split).\n"
      ],
      "metadata": {
        "id": "3PyLXDFMmuMD"
      },
      "id": "3PyLXDFMmuMD"
    },
    {
      "cell_type": "code",
      "source": [
        "train_processed_df, test_processed_df = data_preprocessor_b(train_df, test_df)\n",
        "test_processed_df.head()"
      ],
      "metadata": {
        "colab": {
          "base_uri": "https://localhost:8080/",
          "height": 273
        },
        "id": "OF2aGvF3mxHC",
        "outputId": "e490ae08-5501-4cd4-89a0-896b73631c9d"
      },
      "id": "OF2aGvF3mxHC",
      "execution_count": 26,
      "outputs": [
        {
          "output_type": "stream",
          "name": "stdout",
          "text": [
            "(180921.19589041095, 79442.50288288662)\n"
          ]
        },
        {
          "output_type": "execute_result",
          "data": {
            "text/plain": [
              "   MSSubClass  LotFrontage   LotArea  OverallQual  OverallCond  YearBuilt  \\\n",
              "0   -0.873466     0.458096  0.184340    -0.772420     0.391170  -0.340452   \n",
              "1   -0.873466     0.500932  0.519702    -0.063174     0.391170  -0.439490   \n",
              "2    0.067320     0.201080  0.464294    -0.772420    -0.507197   0.848003   \n",
              "3    0.067320     0.372424 -0.024105    -0.063174     0.391170   0.881015   \n",
              "4    1.478499    -1.126832 -0.654636     1.355319    -0.507197   0.682939   \n",
              "\n",
              "   YearRemodAdd  MasVnrArea  BsmtFinSF1  BsmtFinSF2  ...  SaleType_Oth  \\\n",
              "0     -1.113434   -0.569893    0.058332    0.558006  ...             0   \n",
              "1     -1.257014    0.032335    1.056991   -0.293030  ...             0   \n",
              "2      0.657380   -0.569893    0.767271   -0.293030  ...             0   \n",
              "3      0.657380   -0.458369    0.352443   -0.293030  ...             0   \n",
              "4      0.370221   -0.569893   -0.391613   -0.293030  ...             0   \n",
              "\n",
              "   SaleType_WD  SaleType_nan  SaleCondition_Abnorml  SaleCondition_AdjLand  \\\n",
              "0            1             0                      0                      0   \n",
              "1            1             0                      0                      0   \n",
              "2            1             0                      0                      0   \n",
              "3            1             0                      0                      0   \n",
              "4            1             0                      0                      0   \n",
              "\n",
              "   SaleCondition_Alloca  SaleCondition_Family  SaleCondition_Normal  \\\n",
              "0                     0                     0                     1   \n",
              "1                     0                     0                     1   \n",
              "2                     0                     0                     1   \n",
              "3                     0                     0                     1   \n",
              "4                     0                     0                     1   \n",
              "\n",
              "   SaleCondition_Partial  SaleCondition_nan  \n",
              "0                      0                  0  \n",
              "1                      0                  0  \n",
              "2                      0                  0  \n",
              "3                      0                  0  \n",
              "4                      0                  0  \n",
              "\n",
              "[5 rows x 331 columns]"
            ],
            "text/html": [
              "\n",
              "  <div id=\"df-756cda25-f837-472c-b1b3-a771d6683d1e\" class=\"colab-df-container\">\n",
              "    <div>\n",
              "<style scoped>\n",
              "    .dataframe tbody tr th:only-of-type {\n",
              "        vertical-align: middle;\n",
              "    }\n",
              "\n",
              "    .dataframe tbody tr th {\n",
              "        vertical-align: top;\n",
              "    }\n",
              "\n",
              "    .dataframe thead th {\n",
              "        text-align: right;\n",
              "    }\n",
              "</style>\n",
              "<table border=\"1\" class=\"dataframe\">\n",
              "  <thead>\n",
              "    <tr style=\"text-align: right;\">\n",
              "      <th></th>\n",
              "      <th>MSSubClass</th>\n",
              "      <th>LotFrontage</th>\n",
              "      <th>LotArea</th>\n",
              "      <th>OverallQual</th>\n",
              "      <th>OverallCond</th>\n",
              "      <th>YearBuilt</th>\n",
              "      <th>YearRemodAdd</th>\n",
              "      <th>MasVnrArea</th>\n",
              "      <th>BsmtFinSF1</th>\n",
              "      <th>BsmtFinSF2</th>\n",
              "      <th>...</th>\n",
              "      <th>SaleType_Oth</th>\n",
              "      <th>SaleType_WD</th>\n",
              "      <th>SaleType_nan</th>\n",
              "      <th>SaleCondition_Abnorml</th>\n",
              "      <th>SaleCondition_AdjLand</th>\n",
              "      <th>SaleCondition_Alloca</th>\n",
              "      <th>SaleCondition_Family</th>\n",
              "      <th>SaleCondition_Normal</th>\n",
              "      <th>SaleCondition_Partial</th>\n",
              "      <th>SaleCondition_nan</th>\n",
              "    </tr>\n",
              "  </thead>\n",
              "  <tbody>\n",
              "    <tr>\n",
              "      <th>0</th>\n",
              "      <td>-0.873466</td>\n",
              "      <td>0.458096</td>\n",
              "      <td>0.184340</td>\n",
              "      <td>-0.772420</td>\n",
              "      <td>0.391170</td>\n",
              "      <td>-0.340452</td>\n",
              "      <td>-1.113434</td>\n",
              "      <td>-0.569893</td>\n",
              "      <td>0.058332</td>\n",
              "      <td>0.558006</td>\n",
              "      <td>...</td>\n",
              "      <td>0</td>\n",
              "      <td>1</td>\n",
              "      <td>0</td>\n",
              "      <td>0</td>\n",
              "      <td>0</td>\n",
              "      <td>0</td>\n",
              "      <td>0</td>\n",
              "      <td>1</td>\n",
              "      <td>0</td>\n",
              "      <td>0</td>\n",
              "    </tr>\n",
              "    <tr>\n",
              "      <th>1</th>\n",
              "      <td>-0.873466</td>\n",
              "      <td>0.500932</td>\n",
              "      <td>0.519702</td>\n",
              "      <td>-0.063174</td>\n",
              "      <td>0.391170</td>\n",
              "      <td>-0.439490</td>\n",
              "      <td>-1.257014</td>\n",
              "      <td>0.032335</td>\n",
              "      <td>1.056991</td>\n",
              "      <td>-0.293030</td>\n",
              "      <td>...</td>\n",
              "      <td>0</td>\n",
              "      <td>1</td>\n",
              "      <td>0</td>\n",
              "      <td>0</td>\n",
              "      <td>0</td>\n",
              "      <td>0</td>\n",
              "      <td>0</td>\n",
              "      <td>1</td>\n",
              "      <td>0</td>\n",
              "      <td>0</td>\n",
              "    </tr>\n",
              "    <tr>\n",
              "      <th>2</th>\n",
              "      <td>0.067320</td>\n",
              "      <td>0.201080</td>\n",
              "      <td>0.464294</td>\n",
              "      <td>-0.772420</td>\n",
              "      <td>-0.507197</td>\n",
              "      <td>0.848003</td>\n",
              "      <td>0.657380</td>\n",
              "      <td>-0.569893</td>\n",
              "      <td>0.767271</td>\n",
              "      <td>-0.293030</td>\n",
              "      <td>...</td>\n",
              "      <td>0</td>\n",
              "      <td>1</td>\n",
              "      <td>0</td>\n",
              "      <td>0</td>\n",
              "      <td>0</td>\n",
              "      <td>0</td>\n",
              "      <td>0</td>\n",
              "      <td>1</td>\n",
              "      <td>0</td>\n",
              "      <td>0</td>\n",
              "    </tr>\n",
              "    <tr>\n",
              "      <th>3</th>\n",
              "      <td>0.067320</td>\n",
              "      <td>0.372424</td>\n",
              "      <td>-0.024105</td>\n",
              "      <td>-0.063174</td>\n",
              "      <td>0.391170</td>\n",
              "      <td>0.881015</td>\n",
              "      <td>0.657380</td>\n",
              "      <td>-0.458369</td>\n",
              "      <td>0.352443</td>\n",
              "      <td>-0.293030</td>\n",
              "      <td>...</td>\n",
              "      <td>0</td>\n",
              "      <td>1</td>\n",
              "      <td>0</td>\n",
              "      <td>0</td>\n",
              "      <td>0</td>\n",
              "      <td>0</td>\n",
              "      <td>0</td>\n",
              "      <td>1</td>\n",
              "      <td>0</td>\n",
              "      <td>0</td>\n",
              "    </tr>\n",
              "    <tr>\n",
              "      <th>4</th>\n",
              "      <td>1.478499</td>\n",
              "      <td>-1.126832</td>\n",
              "      <td>-0.654636</td>\n",
              "      <td>1.355319</td>\n",
              "      <td>-0.507197</td>\n",
              "      <td>0.682939</td>\n",
              "      <td>0.370221</td>\n",
              "      <td>-0.569893</td>\n",
              "      <td>-0.391613</td>\n",
              "      <td>-0.293030</td>\n",
              "      <td>...</td>\n",
              "      <td>0</td>\n",
              "      <td>1</td>\n",
              "      <td>0</td>\n",
              "      <td>0</td>\n",
              "      <td>0</td>\n",
              "      <td>0</td>\n",
              "      <td>0</td>\n",
              "      <td>1</td>\n",
              "      <td>0</td>\n",
              "      <td>0</td>\n",
              "    </tr>\n",
              "  </tbody>\n",
              "</table>\n",
              "<p>5 rows × 331 columns</p>\n",
              "</div>\n",
              "    <div class=\"colab-df-buttons\">\n",
              "\n",
              "  <div class=\"colab-df-container\">\n",
              "    <button class=\"colab-df-convert\" onclick=\"convertToInteractive('df-756cda25-f837-472c-b1b3-a771d6683d1e')\"\n",
              "            title=\"Convert this dataframe to an interactive table.\"\n",
              "            style=\"display:none;\">\n",
              "\n",
              "  <svg xmlns=\"http://www.w3.org/2000/svg\" height=\"24px\" viewBox=\"0 -960 960 960\">\n",
              "    <path d=\"M120-120v-720h720v720H120Zm60-500h600v-160H180v160Zm220 220h160v-160H400v160Zm0 220h160v-160H400v160ZM180-400h160v-160H180v160Zm440 0h160v-160H620v160ZM180-180h160v-160H180v160Zm440 0h160v-160H620v160Z\"/>\n",
              "  </svg>\n",
              "    </button>\n",
              "\n",
              "  <style>\n",
              "    .colab-df-container {\n",
              "      display:flex;\n",
              "      gap: 12px;\n",
              "    }\n",
              "\n",
              "    .colab-df-convert {\n",
              "      background-color: #E8F0FE;\n",
              "      border: none;\n",
              "      border-radius: 50%;\n",
              "      cursor: pointer;\n",
              "      display: none;\n",
              "      fill: #1967D2;\n",
              "      height: 32px;\n",
              "      padding: 0 0 0 0;\n",
              "      width: 32px;\n",
              "    }\n",
              "\n",
              "    .colab-df-convert:hover {\n",
              "      background-color: #E2EBFA;\n",
              "      box-shadow: 0px 1px 2px rgba(60, 64, 67, 0.3), 0px 1px 3px 1px rgba(60, 64, 67, 0.15);\n",
              "      fill: #174EA6;\n",
              "    }\n",
              "\n",
              "    .colab-df-buttons div {\n",
              "      margin-bottom: 4px;\n",
              "    }\n",
              "\n",
              "    [theme=dark] .colab-df-convert {\n",
              "      background-color: #3B4455;\n",
              "      fill: #D2E3FC;\n",
              "    }\n",
              "\n",
              "    [theme=dark] .colab-df-convert:hover {\n",
              "      background-color: #434B5C;\n",
              "      box-shadow: 0px 1px 3px 1px rgba(0, 0, 0, 0.15);\n",
              "      filter: drop-shadow(0px 1px 2px rgba(0, 0, 0, 0.3));\n",
              "      fill: #FFFFFF;\n",
              "    }\n",
              "  </style>\n",
              "\n",
              "    <script>\n",
              "      const buttonEl =\n",
              "        document.querySelector('#df-756cda25-f837-472c-b1b3-a771d6683d1e button.colab-df-convert');\n",
              "      buttonEl.style.display =\n",
              "        google.colab.kernel.accessAllowed ? 'block' : 'none';\n",
              "\n",
              "      async function convertToInteractive(key) {\n",
              "        const element = document.querySelector('#df-756cda25-f837-472c-b1b3-a771d6683d1e');\n",
              "        const dataTable =\n",
              "          await google.colab.kernel.invokeFunction('convertToInteractive',\n",
              "                                                    [key], {});\n",
              "        if (!dataTable) return;\n",
              "\n",
              "        const docLinkHtml = 'Like what you see? Visit the ' +\n",
              "          '<a target=\"_blank\" href=https://colab.research.google.com/notebooks/data_table.ipynb>data table notebook</a>'\n",
              "          + ' to learn more about interactive tables.';\n",
              "        element.innerHTML = '';\n",
              "        dataTable['output_type'] = 'display_data';\n",
              "        await google.colab.output.renderOutput(dataTable, element);\n",
              "        const docLink = document.createElement('div');\n",
              "        docLink.innerHTML = docLinkHtml;\n",
              "        element.appendChild(docLink);\n",
              "      }\n",
              "    </script>\n",
              "  </div>\n",
              "\n",
              "\n",
              "<div id=\"df-59468cb6-2cd8-43ab-b777-3dac9172d1a8\">\n",
              "  <button class=\"colab-df-quickchart\" onclick=\"quickchart('df-59468cb6-2cd8-43ab-b777-3dac9172d1a8')\"\n",
              "            title=\"Suggest charts\"\n",
              "            style=\"display:none;\">\n",
              "\n",
              "<svg xmlns=\"http://www.w3.org/2000/svg\" height=\"24px\"viewBox=\"0 0 24 24\"\n",
              "     width=\"24px\">\n",
              "    <g>\n",
              "        <path d=\"M19 3H5c-1.1 0-2 .9-2 2v14c0 1.1.9 2 2 2h14c1.1 0 2-.9 2-2V5c0-1.1-.9-2-2-2zM9 17H7v-7h2v7zm4 0h-2V7h2v10zm4 0h-2v-4h2v4z\"/>\n",
              "    </g>\n",
              "</svg>\n",
              "  </button>\n",
              "\n",
              "<style>\n",
              "  .colab-df-quickchart {\n",
              "      --bg-color: #E8F0FE;\n",
              "      --fill-color: #1967D2;\n",
              "      --hover-bg-color: #E2EBFA;\n",
              "      --hover-fill-color: #174EA6;\n",
              "      --disabled-fill-color: #AAA;\n",
              "      --disabled-bg-color: #DDD;\n",
              "  }\n",
              "\n",
              "  [theme=dark] .colab-df-quickchart {\n",
              "      --bg-color: #3B4455;\n",
              "      --fill-color: #D2E3FC;\n",
              "      --hover-bg-color: #434B5C;\n",
              "      --hover-fill-color: #FFFFFF;\n",
              "      --disabled-bg-color: #3B4455;\n",
              "      --disabled-fill-color: #666;\n",
              "  }\n",
              "\n",
              "  .colab-df-quickchart {\n",
              "    background-color: var(--bg-color);\n",
              "    border: none;\n",
              "    border-radius: 50%;\n",
              "    cursor: pointer;\n",
              "    display: none;\n",
              "    fill: var(--fill-color);\n",
              "    height: 32px;\n",
              "    padding: 0;\n",
              "    width: 32px;\n",
              "  }\n",
              "\n",
              "  .colab-df-quickchart:hover {\n",
              "    background-color: var(--hover-bg-color);\n",
              "    box-shadow: 0 1px 2px rgba(60, 64, 67, 0.3), 0 1px 3px 1px rgba(60, 64, 67, 0.15);\n",
              "    fill: var(--button-hover-fill-color);\n",
              "  }\n",
              "\n",
              "  .colab-df-quickchart-complete:disabled,\n",
              "  .colab-df-quickchart-complete:disabled:hover {\n",
              "    background-color: var(--disabled-bg-color);\n",
              "    fill: var(--disabled-fill-color);\n",
              "    box-shadow: none;\n",
              "  }\n",
              "\n",
              "  .colab-df-spinner {\n",
              "    border: 2px solid var(--fill-color);\n",
              "    border-color: transparent;\n",
              "    border-bottom-color: var(--fill-color);\n",
              "    animation:\n",
              "      spin 1s steps(1) infinite;\n",
              "  }\n",
              "\n",
              "  @keyframes spin {\n",
              "    0% {\n",
              "      border-color: transparent;\n",
              "      border-bottom-color: var(--fill-color);\n",
              "      border-left-color: var(--fill-color);\n",
              "    }\n",
              "    20% {\n",
              "      border-color: transparent;\n",
              "      border-left-color: var(--fill-color);\n",
              "      border-top-color: var(--fill-color);\n",
              "    }\n",
              "    30% {\n",
              "      border-color: transparent;\n",
              "      border-left-color: var(--fill-color);\n",
              "      border-top-color: var(--fill-color);\n",
              "      border-right-color: var(--fill-color);\n",
              "    }\n",
              "    40% {\n",
              "      border-color: transparent;\n",
              "      border-right-color: var(--fill-color);\n",
              "      border-top-color: var(--fill-color);\n",
              "    }\n",
              "    60% {\n",
              "      border-color: transparent;\n",
              "      border-right-color: var(--fill-color);\n",
              "    }\n",
              "    80% {\n",
              "      border-color: transparent;\n",
              "      border-right-color: var(--fill-color);\n",
              "      border-bottom-color: var(--fill-color);\n",
              "    }\n",
              "    90% {\n",
              "      border-color: transparent;\n",
              "      border-bottom-color: var(--fill-color);\n",
              "    }\n",
              "  }\n",
              "</style>\n",
              "\n",
              "  <script>\n",
              "    async function quickchart(key) {\n",
              "      const quickchartButtonEl =\n",
              "        document.querySelector('#' + key + ' button');\n",
              "      quickchartButtonEl.disabled = true;  // To prevent multiple clicks.\n",
              "      quickchartButtonEl.classList.add('colab-df-spinner');\n",
              "      try {\n",
              "        const charts = await google.colab.kernel.invokeFunction(\n",
              "            'suggestCharts', [key], {});\n",
              "      } catch (error) {\n",
              "        console.error('Error during call to suggestCharts:', error);\n",
              "      }\n",
              "      quickchartButtonEl.classList.remove('colab-df-spinner');\n",
              "      quickchartButtonEl.classList.add('colab-df-quickchart-complete');\n",
              "    }\n",
              "    (() => {\n",
              "      let quickchartButtonEl =\n",
              "        document.querySelector('#df-59468cb6-2cd8-43ab-b777-3dac9172d1a8 button');\n",
              "      quickchartButtonEl.style.display =\n",
              "        google.colab.kernel.accessAllowed ? 'block' : 'none';\n",
              "    })();\n",
              "  </script>\n",
              "</div>\n",
              "    </div>\n",
              "  </div>\n"
            ]
          },
          "metadata": {},
          "execution_count": 26
        }
      ]
    },
    {
      "cell_type": "code",
      "source": [
        "train_housing = housing_dataset(train_processed_df)\n",
        "\n",
        "validNum = int(len(train_housing) * 0.8)\n",
        "train_housing, valid_housing = random_split(train_housing, [validNum, len(train_housing) - validNum])\n",
        "\n",
        "trainLoaderHousing = DataLoader(train_housing, batch_size=128, shuffle=True, num_workers=0)\n",
        "validateLoaderHousing = DataLoader(valid_housing, batch_size=128, shuffle=True, num_workers=0)"
      ],
      "metadata": {
        "id": "3Gdt6zTXm0ld"
      },
      "id": "3Gdt6zTXm0ld",
      "execution_count": 27,
      "outputs": []
    },
    {
      "cell_type": "markdown",
      "metadata": {
        "id": "f373daa8-c962-48f0-b2a3-a30069c8d97c"
      },
      "source": [
        "### 2.c Improve the score by improving the model complexity"
      ],
      "id": "f373daa8-c962-48f0-b2a3-a30069c8d97c"
    },
    {
      "cell_type": "code",
      "execution_count": 28,
      "metadata": {
        "id": "3b80f847-4bca-43ff-a87e-d1a7ccbbf83d",
        "scrolled": true,
        "colab": {
          "base_uri": "https://localhost:8080/",
          "height": 1000
        },
        "outputId": "f2e729f3-285f-4a9f-b1fa-46391453d287"
      },
      "outputs": [
        {
          "output_type": "stream",
          "name": "stderr",
          "text": [
            "/usr/local/lib/python3.10/dist-packages/torch/nn/modules/loss.py:535: UserWarning: Using a target size (torch.Size([128, 1])) that is different to the input size (torch.Size([128, 10])). This will likely lead to incorrect results due to broadcasting. Please ensure they have the same size.\n",
            "  return F.mse_loss(input, target, reduction=self.reduction)\n",
            "/usr/local/lib/python3.10/dist-packages/torch/nn/modules/loss.py:535: UserWarning: Using a target size (torch.Size([36, 1])) that is different to the input size (torch.Size([36, 10])). This will likely lead to incorrect results due to broadcasting. Please ensure they have the same size.\n",
            "  return F.mse_loss(input, target, reduction=self.reduction)\n",
            " 70%|███████   | 7/10 [00:00<00:00, 18.43it/s]/usr/local/lib/python3.10/dist-packages/torch/nn/modules/loss.py:535: UserWarning: Using a target size (torch.Size([16, 1])) that is different to the input size (torch.Size([16, 10])). This will likely lead to incorrect results due to broadcasting. Please ensure they have the same size.\n",
            "  return F.mse_loss(input, target, reduction=self.reduction)\n",
            "100%|██████████| 10/10 [00:00<00:00, 19.77it/s]\n"
          ]
        },
        {
          "output_type": "stream",
          "name": "stdout",
          "text": [
            "Current Epoch: 1\n",
            "Training_Loss: 0.960851913690567  | Validation_Loss: 0.8839620550473531\n"
          ]
        },
        {
          "output_type": "stream",
          "name": "stderr",
          "text": [
            "100%|██████████| 10/10 [00:00<00:00, 25.14it/s]\n"
          ]
        },
        {
          "output_type": "stream",
          "name": "stdout",
          "text": [
            "Current Epoch: 2\n",
            "Training_Loss: 0.6593302071094513  | Validation_Loss: 0.6881844798723856\n"
          ]
        },
        {
          "output_type": "stream",
          "name": "stderr",
          "text": [
            "100%|██████████| 10/10 [00:00<00:00, 19.71it/s]\n"
          ]
        },
        {
          "output_type": "stream",
          "name": "stdout",
          "text": [
            "Current Epoch: 3\n",
            "Training_Loss: 0.30536174178123476  | Validation_Loss: 0.3042663981517156\n"
          ]
        },
        {
          "output_type": "stream",
          "name": "stderr",
          "text": [
            "100%|██████████| 10/10 [00:00<00:00, 16.06it/s]\n"
          ]
        },
        {
          "output_type": "stream",
          "name": "stdout",
          "text": [
            "Current Epoch: 4\n",
            "Training_Loss: 0.21436707451939582  | Validation_Loss: 0.22001939763625464\n"
          ]
        },
        {
          "output_type": "stream",
          "name": "stderr",
          "text": [
            "100%|██████████| 10/10 [00:00<00:00, 14.85it/s]\n"
          ]
        },
        {
          "output_type": "stream",
          "name": "stdout",
          "text": [
            "Current Epoch: 5\n",
            "Training_Loss: 0.16352943927049637  | Validation_Loss: 0.287720188498497\n"
          ]
        },
        {
          "output_type": "stream",
          "name": "stderr",
          "text": [
            "100%|██████████| 10/10 [00:00<00:00, 28.17it/s]\n"
          ]
        },
        {
          "output_type": "stream",
          "name": "stdout",
          "text": [
            "Current Epoch: 6\n",
            "Training_Loss: 0.1417292233556509  | Validation_Loss: 0.24366548905769983\n"
          ]
        },
        {
          "output_type": "stream",
          "name": "stderr",
          "text": [
            "100%|██████████| 10/10 [00:00<00:00, 27.00it/s]\n"
          ]
        },
        {
          "output_type": "stream",
          "name": "stdout",
          "text": [
            "Current Epoch: 7\n",
            "Training_Loss: 0.1408944308757782  | Validation_Loss: 0.2641733338435491\n"
          ]
        },
        {
          "output_type": "stream",
          "name": "stderr",
          "text": [
            "100%|██████████| 10/10 [00:00<00:00, 28.35it/s]\n"
          ]
        },
        {
          "output_type": "stream",
          "name": "stdout",
          "text": [
            "Current Epoch: 8\n",
            "Training_Loss: 0.12383228875696659  | Validation_Loss: 0.27551980689167976\n"
          ]
        },
        {
          "output_type": "stream",
          "name": "stderr",
          "text": [
            "100%|██████████| 10/10 [00:00<00:00, 26.12it/s]\n"
          ]
        },
        {
          "output_type": "stream",
          "name": "stdout",
          "text": [
            "Current Epoch: 9\n",
            "Training_Loss: 0.1221042588353157  | Validation_Loss: 0.27764898786942166\n"
          ]
        },
        {
          "output_type": "stream",
          "name": "stderr",
          "text": [
            "100%|██████████| 10/10 [00:00<00:00, 28.23it/s]\n"
          ]
        },
        {
          "output_type": "stream",
          "name": "stdout",
          "text": [
            "Current Epoch: 10\n",
            "Training_Loss: 0.11728483960032463  | Validation_Loss: 0.2698594406247139\n"
          ]
        },
        {
          "output_type": "stream",
          "name": "stderr",
          "text": [
            "100%|██████████| 10/10 [00:00<00:00, 27.85it/s]\n"
          ]
        },
        {
          "output_type": "stream",
          "name": "stdout",
          "text": [
            "Current Epoch: 11\n",
            "Training_Loss: 0.1120436105877161  | Validation_Loss: 0.28899770726760227\n"
          ]
        },
        {
          "output_type": "stream",
          "name": "stderr",
          "text": [
            "100%|██████████| 10/10 [00:00<00:00, 27.26it/s]\n"
          ]
        },
        {
          "output_type": "stream",
          "name": "stdout",
          "text": [
            "Current Epoch: 12\n",
            "Training_Loss: 0.10605595521628856  | Validation_Loss: 0.2822449480493863\n"
          ]
        },
        {
          "output_type": "stream",
          "name": "stderr",
          "text": [
            "100%|██████████| 10/10 [00:00<00:00, 28.49it/s]\n"
          ]
        },
        {
          "output_type": "stream",
          "name": "stdout",
          "text": [
            "Current Epoch: 13\n",
            "Training_Loss: 0.10367892105132341  | Validation_Loss: 0.2861955265204112\n"
          ]
        },
        {
          "output_type": "stream",
          "name": "stderr",
          "text": [
            "100%|██████████| 10/10 [00:00<00:00, 26.58it/s]\n"
          ]
        },
        {
          "output_type": "stream",
          "name": "stdout",
          "text": [
            "Current Epoch: 14\n",
            "Training_Loss: 0.10964349918067455  | Validation_Loss: 0.2706419676542282\n"
          ]
        },
        {
          "output_type": "stream",
          "name": "stderr",
          "text": [
            "100%|██████████| 10/10 [00:00<00:00, 28.49it/s]\n"
          ]
        },
        {
          "output_type": "stream",
          "name": "stdout",
          "text": [
            "Current Epoch: 15\n",
            "Training_Loss: 0.10420263670384884  | Validation_Loss: 0.8032410964369774\n"
          ]
        },
        {
          "output_type": "stream",
          "name": "stderr",
          "text": [
            "100%|██████████| 10/10 [00:00<00:00, 26.92it/s]\n"
          ]
        },
        {
          "output_type": "stream",
          "name": "stdout",
          "text": [
            "Current Epoch: 16\n",
            "Training_Loss: 0.09971141219139099  | Validation_Loss: 0.2900889441370964\n"
          ]
        },
        {
          "output_type": "stream",
          "name": "stderr",
          "text": [
            "100%|██████████| 10/10 [00:00<00:00, 27.47it/s]\n"
          ]
        },
        {
          "output_type": "stream",
          "name": "stdout",
          "text": [
            "Current Epoch: 17\n",
            "Training_Loss: 0.11053983271121978  | Validation_Loss: 0.2793835202852885\n"
          ]
        },
        {
          "output_type": "stream",
          "name": "stderr",
          "text": [
            "100%|██████████| 10/10 [00:00<00:00, 26.07it/s]\n"
          ]
        },
        {
          "output_type": "stream",
          "name": "stdout",
          "text": [
            "Current Epoch: 18\n",
            "Training_Loss: 0.0958119835704565  | Validation_Loss: 0.2949429489672184\n"
          ]
        },
        {
          "output_type": "stream",
          "name": "stderr",
          "text": [
            "100%|██████████| 10/10 [00:00<00:00, 28.83it/s]\n"
          ]
        },
        {
          "output_type": "stream",
          "name": "stdout",
          "text": [
            "Current Epoch: 19\n",
            "Training_Loss: 0.09372379370033741  | Validation_Loss: 0.30921053389708203\n"
          ]
        },
        {
          "output_type": "stream",
          "name": "stderr",
          "text": [
            "100%|██████████| 10/10 [00:00<00:00, 29.16it/s]"
          ]
        },
        {
          "output_type": "stream",
          "name": "stdout",
          "text": [
            "Current Epoch: 20\n",
            "Training_Loss: 0.09073958657681942  | Validation_Loss: 0.298098161816597\n",
            "Time Taken to Train: 0:00:10.374757\n"
          ]
        },
        {
          "output_type": "stream",
          "name": "stderr",
          "text": [
            "\n"
          ]
        },
        {
          "output_type": "execute_result",
          "data": {
            "text/plain": [
              "<matplotlib.legend.Legend at 0x7c3d21023910>"
            ]
          },
          "metadata": {},
          "execution_count": 28
        },
        {
          "output_type": "display_data",
          "data": {
            "text/plain": [
              "<Figure size 640x480 with 1 Axes>"
            ],
            "image/png": "[encoded data removed]"
          },
          "metadata": {}
        }
      ],
      "source": [
        "\n",
        "LectureModel = copy.deepcopy(lectureModel)\n",
        "LectureHousingTrainer = Train_Model(LectureModel, nn.MSELoss(), torch.optim.SGD(LectureModel.parameters(), lr=0.01, momentum=0.9), nn.MSELoss(), \"Regression\",  device_to_use)\n",
        "\n",
        "start_time = datetime.now()\n",
        "\n",
        "LectureHousingTrainer.fit(trainLoaderHousing, validateLoaderHousing, 20)\n",
        "end_time = datetime.now()\n",
        "\n",
        "print(\"Time Taken to Train:\", end_time - start_time)\n",
        "### PLOTTING METRICS\n",
        "plt.plot(LectureHousingTrainer.Metrics['Training_Loss'], label='Training Loss')\n",
        "plt.plot(LectureHousingTrainer.Metrics['Validation_Loss'], label='Validation Loss')\n",
        "plt.xlabel('Epoch')\n",
        "plt.ylabel('Metric')\n",
        "plt.legend()"
      ],
      "id": "3b80f847-4bca-43ff-a87e-d1a7ccbbf83d"
    },
    {
      "cell_type": "code",
      "execution_count": 29,
      "metadata": {
        "id": "6c907708-d7c5-4357-ad2a-56f1268a667c",
        "scrolled": true,
        "colab": {
          "base_uri": "https://localhost:8080/",
          "height": 1000
        },
        "outputId": "dd4e1e18-47bd-4fe8-a195-5796871658a8"
      },
      "outputs": [
        {
          "output_type": "stream",
          "name": "stderr",
          "text": [
            "100%|██████████| 10/10 [00:00<00:00, 26.45it/s]\n"
          ]
        },
        {
          "output_type": "stream",
          "name": "stdout",
          "text": [
            "Current Epoch: 1\n",
            "Training_Loss: 1.2695389091968536  | Validation_Loss: 0.9636016289393107\n"
          ]
        },
        {
          "output_type": "stream",
          "name": "stderr",
          "text": [
            "100%|██████████| 10/10 [00:00<00:00, 25.48it/s]\n"
          ]
        },
        {
          "output_type": "stream",
          "name": "stdout",
          "text": [
            "Current Epoch: 2\n",
            "Training_Loss: 0.8156539767980575  | Validation_Loss: 0.7510230739911398\n"
          ]
        },
        {
          "output_type": "stream",
          "name": "stderr",
          "text": [
            "100%|██████████| 10/10 [00:00<00:00, 26.44it/s]\n"
          ]
        },
        {
          "output_type": "stream",
          "name": "stdout",
          "text": [
            "Current Epoch: 3\n",
            "Training_Loss: 0.3555593937635422  | Validation_Loss: 0.45948346455891925\n"
          ]
        },
        {
          "output_type": "stream",
          "name": "stderr",
          "text": [
            "100%|██████████| 10/10 [00:00<00:00, 26.82it/s]\n"
          ]
        },
        {
          "output_type": "stream",
          "name": "stdout",
          "text": [
            "Current Epoch: 4\n",
            "Training_Loss: 0.20536260157823563  | Validation_Loss: 0.4311381975809733\n"
          ]
        },
        {
          "output_type": "stream",
          "name": "stderr",
          "text": [
            "100%|██████████| 10/10 [00:00<00:00, 27.89it/s]\n"
          ]
        },
        {
          "output_type": "stream",
          "name": "stdout",
          "text": [
            "Current Epoch: 5\n",
            "Training_Loss: 0.17564398050308228  | Validation_Loss: 0.2999156018098195\n"
          ]
        },
        {
          "output_type": "stream",
          "name": "stderr",
          "text": [
            "100%|██████████| 10/10 [00:00<00:00, 27.47it/s]\n"
          ]
        },
        {
          "output_type": "stream",
          "name": "stdout",
          "text": [
            "Current Epoch: 6\n",
            "Training_Loss: 0.13571971282362938  | Validation_Loss: 0.3082946414748828\n"
          ]
        },
        {
          "output_type": "stream",
          "name": "stderr",
          "text": [
            "100%|██████████| 10/10 [00:00<00:00, 17.03it/s]\n"
          ]
        },
        {
          "output_type": "stream",
          "name": "stdout",
          "text": [
            "Current Epoch: 7\n",
            "Training_Loss: 0.1132478654384613  | Validation_Loss: 0.2709523563583692\n"
          ]
        },
        {
          "output_type": "stream",
          "name": "stderr",
          "text": [
            "100%|██████████| 10/10 [00:00<00:00, 15.85it/s]\n"
          ]
        },
        {
          "output_type": "stream",
          "name": "stdout",
          "text": [
            "Current Epoch: 8\n",
            "Training_Loss: 0.11832586973905564  | Validation_Loss: 0.26936668902635574\n"
          ]
        },
        {
          "output_type": "stream",
          "name": "stderr",
          "text": [
            "100%|██████████| 10/10 [00:00<00:00, 19.84it/s]\n"
          ]
        },
        {
          "output_type": "stream",
          "name": "stdout",
          "text": [
            "Current Epoch: 9\n",
            "Training_Loss: 0.10961306616663932  | Validation_Loss: 0.28537289053201675\n"
          ]
        },
        {
          "output_type": "stream",
          "name": "stderr",
          "text": [
            "100%|██████████| 10/10 [00:00<00:00, 27.78it/s]\n"
          ]
        },
        {
          "output_type": "stream",
          "name": "stdout",
          "text": [
            "Current Epoch: 10\n",
            "Training_Loss: 0.09914074912667274  | Validation_Loss: 0.8091374710202217\n"
          ]
        },
        {
          "output_type": "stream",
          "name": "stderr",
          "text": [
            "100%|██████████| 10/10 [00:00<00:00, 28.23it/s]\n"
          ]
        },
        {
          "output_type": "stream",
          "name": "stdout",
          "text": [
            "Current Epoch: 11\n",
            "Training_Loss: 0.09984318129718303  | Validation_Loss: 0.26585271457831067\n"
          ]
        },
        {
          "output_type": "stream",
          "name": "stderr",
          "text": [
            "100%|██████████| 10/10 [00:00<00:00, 29.14it/s]\n"
          ]
        },
        {
          "output_type": "stream",
          "name": "stdout",
          "text": [
            "Current Epoch: 12\n",
            "Training_Loss: 0.09086522832512856  | Validation_Loss: 0.2884744442999363\n"
          ]
        },
        {
          "output_type": "stream",
          "name": "stderr",
          "text": [
            "100%|██████████| 10/10 [00:00<00:00, 28.14it/s]\n"
          ]
        },
        {
          "output_type": "stream",
          "name": "stdout",
          "text": [
            "Current Epoch: 13\n",
            "Training_Loss: 0.09282941073179245  | Validation_Loss: 0.3041554627319177\n"
          ]
        },
        {
          "output_type": "stream",
          "name": "stderr",
          "text": [
            "100%|██████████| 10/10 [00:00<00:00, 27.13it/s]\n"
          ]
        },
        {
          "output_type": "stream",
          "name": "stdout",
          "text": [
            "Current Epoch: 14\n",
            "Training_Loss: 0.08433773554861546  | Validation_Loss: 0.2922684388856093\n"
          ]
        },
        {
          "output_type": "stream",
          "name": "stderr",
          "text": [
            "100%|██████████| 10/10 [00:00<00:00, 28.43it/s]\n"
          ]
        },
        {
          "output_type": "stream",
          "name": "stdout",
          "text": [
            "Current Epoch: 15\n",
            "Training_Loss: 0.07250928301364183  | Validation_Loss: 0.24656474341948828\n"
          ]
        },
        {
          "output_type": "stream",
          "name": "stderr",
          "text": [
            "100%|██████████| 10/10 [00:00<00:00, 27.71it/s]\n"
          ]
        },
        {
          "output_type": "stream",
          "name": "stdout",
          "text": [
            "Current Epoch: 16\n",
            "Training_Loss: 0.07020764015614986  | Validation_Loss: 0.26048634573817253\n"
          ]
        },
        {
          "output_type": "stream",
          "name": "stderr",
          "text": [
            "100%|██████████| 10/10 [00:00<00:00, 28.60it/s]\n"
          ]
        },
        {
          "output_type": "stream",
          "name": "stdout",
          "text": [
            "Current Epoch: 17\n",
            "Training_Loss: 0.06922813318669796  | Validation_Loss: 0.244472769399484\n"
          ]
        },
        {
          "output_type": "stream",
          "name": "stderr",
          "text": [
            "100%|██████████| 10/10 [00:00<00:00, 27.05it/s]\n"
          ]
        },
        {
          "output_type": "stream",
          "name": "stdout",
          "text": [
            "Current Epoch: 18\n",
            "Training_Loss: 0.07541052885353565  | Validation_Loss: 0.6737739543120066\n"
          ]
        },
        {
          "output_type": "stream",
          "name": "stderr",
          "text": [
            "100%|██████████| 10/10 [00:00<00:00, 28.58it/s]\n"
          ]
        },
        {
          "output_type": "stream",
          "name": "stdout",
          "text": [
            "Current Epoch: 19\n",
            "Training_Loss: 0.061781161651015284  | Validation_Loss: 0.2410010633369287\n"
          ]
        },
        {
          "output_type": "stream",
          "name": "stderr",
          "text": [
            "100%|██████████| 10/10 [00:00<00:00, 29.04it/s]"
          ]
        },
        {
          "output_type": "stream",
          "name": "stdout",
          "text": [
            "Current Epoch: 20\n",
            "Training_Loss: 0.07092189714312554  | Validation_Loss: 0.23333645363648733\n",
            "Time Taken to Train: 0:00:10.044497\n"
          ]
        },
        {
          "output_type": "stream",
          "name": "stderr",
          "text": [
            "\n"
          ]
        },
        {
          "output_type": "execute_result",
          "data": {
            "text/plain": [
              "<matplotlib.legend.Legend at 0x7c3d20f44880>"
            ]
          },
          "metadata": {},
          "execution_count": 29
        },
        {
          "output_type": "display_data",
          "data": {
            "text/plain": [
              "<Figure size 640x480 with 1 Axes>"
            ],
            "image/png": "[encoded data removed]"
          },
          "metadata": {}
        }
      ],
      "source": [
        "base_housingModel = copy.deepcopy(sale_predictor)\n",
        "ComplexHousingTrainer = Train_Model(base_housingModel, nn.MSELoss(), torch.optim.SGD(base_housingModel.parameters(), lr=0.01, momentum=0.9), nn.MSELoss(), \"Regression\",  device_to_use)\n",
        "\n",
        "start_time = datetime.now()\n",
        "\n",
        "ComplexHousingTrainer.fit(trainLoaderHousing, validateLoaderHousing, 20)\n",
        "end_time = datetime.now()\n",
        "\n",
        "print(\"Time Taken to Train:\", end_time - start_time)\n",
        "### PLOTTING METRICS\n",
        "plt.plot(ComplexHousingTrainer.Metrics['Training_Loss'], label='Training Loss')\n",
        "plt.plot(ComplexHousingTrainer.Metrics['Validation_Loss'], label='Validation Loss')\n",
        "plt.xlabel('Epoch')\n",
        "plt.ylabel('Metric')\n",
        "plt.legend()"
      ],
      "id": "6c907708-d7c5-4357-ad2a-56f1268a667c"
    },
    {
      "cell_type": "markdown",
      "metadata": {
        "id": "b21dc4f8-b4ed-4e8b-b79d-0c2ed7ed1d09"
      },
      "source": [
        "### What about training time and the comparison of model complexity?\n",
        "When compared to the model constructed during the lectures in class, the new model exhibits more accuracy.\n"
      ],
      "id": "b21dc4f8-b4ed-4e8b-b79d-0c2ed7ed1d09"
    }
  ],
  "metadata": {
    "accelerator": "GPU",
    "colab": {
      "provenance": [],
      "include_colab_link": true
    },
    "gpuClass": "standard",
    "kernelspec": {
      "display_name": "Python 3 (ipykernel)",
      "language": "python",
      "name": "python3"
    },
    "language_info": {
      "codemirror_mode": {
        "name": "ipython",
        "version": 3
      },
      "file_extension": ".py",
      "mimetype": "text/x-python",
      "name": "python",
      "nbconvert_exporter": "python",
      "pygments_lexer": "ipython3",
      "version": "3.10.9"
    }
  },
  "nbformat": 4,
  "nbformat_minor": 5
}