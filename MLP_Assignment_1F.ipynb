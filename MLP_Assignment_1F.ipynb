{
  "cells": [
    {
      "cell_type": "markdown",
      "metadata": {
        "id": "view-in-github",
        "colab_type": "text"
      },
      "source": [
        "<a href=\"https://colab.research.google.com/github/Madhukiranchiti/RTML-trial/blob/main/MLP_Assignment_1F.ipynb\" target=\"_parent\"><img src=\"https://colab.research.google.com/assets/colab-badge.svg\" alt=\"Open In Colab\"/></a>"
      ]
    },
    {
      "cell_type": "markdown",
      "metadata": {
        "id": "50609119-e1ed-47f3-9fb2-9f31a46b9463"
      },
      "source": [
        "# Homework 1: Fashion and Housing Multi-layer Perceptron Model Training\n",
        "## Course : Real-Time Machine Learning - ECGR 5106\n",
        "### Name : Madhu Kiran Rao Chiti\n",
        "### Student ID : 801333676\n",
        "### Date : 01/26/2024\n"
      ],
      "id": "50609119-e1ed-47f3-9fb2-9f31a46b9463"
    },
    {
      "cell_type": "code",
      "execution_count": 17,
      "metadata": {
        "colab": {
          "base_uri": "https://localhost:8080/"
        },
        "id": "c2d5af04-1aea-40d0-8e7e-d90ae1310e25",
        "outputId": "7cd2e268-be57-4115-9ff7-938954c2f884"
      },
      "outputs": [
        {
          "output_type": "stream",
          "name": "stdout",
          "text": [
            "Requirement already satisfied: torchmetrics in /usr/local/lib/python3.10/dist-packages (1.3.0.post0)\n",
            "Requirement already satisfied: numpy>1.20.0 in /usr/local/lib/python3.10/dist-packages (from torchmetrics) (1.23.5)\n",
            "Requirement already satisfied: packaging>17.1 in /usr/local/lib/python3.10/dist-packages (from torchmetrics) (23.2)\n",
            "Requirement already satisfied: torch>=1.10.0 in /usr/local/lib/python3.10/dist-packages (from torchmetrics) (2.1.0+cu121)\n",
            "Requirement already satisfied: lightning-utilities>=0.8.0 in /usr/local/lib/python3.10/dist-packages (from torchmetrics) (0.10.1)\n",
            "Requirement already satisfied: setuptools in /usr/local/lib/python3.10/dist-packages (from lightning-utilities>=0.8.0->torchmetrics) (67.7.2)\n",
            "Requirement already satisfied: typing-extensions in /usr/local/lib/python3.10/dist-packages (from lightning-utilities>=0.8.0->torchmetrics) (4.5.0)\n",
            "Requirement already satisfied: filelock in /usr/local/lib/python3.10/dist-packages (from torch>=1.10.0->torchmetrics) (3.13.1)\n",
            "Requirement already satisfied: sympy in /usr/local/lib/python3.10/dist-packages (from torch>=1.10.0->torchmetrics) (1.12)\n",
            "Requirement already satisfied: networkx in /usr/local/lib/python3.10/dist-packages (from torch>=1.10.0->torchmetrics) (3.2.1)\n",
            "Requirement already satisfied: jinja2 in /usr/local/lib/python3.10/dist-packages (from torch>=1.10.0->torchmetrics) (3.1.3)\n",
            "Requirement already satisfied: fsspec in /usr/local/lib/python3.10/dist-packages (from torch>=1.10.0->torchmetrics) (2023.6.0)\n",
            "Requirement already satisfied: triton==2.1.0 in /usr/local/lib/python3.10/dist-packages (from torch>=1.10.0->torchmetrics) (2.1.0)\n",
            "Requirement already satisfied: MarkupSafe>=2.0 in /usr/local/lib/python3.10/dist-packages (from jinja2->torch>=1.10.0->torchmetrics) (2.1.4)\n",
            "Requirement already satisfied: mpmath>=0.19 in /usr/local/lib/python3.10/dist-packages (from sympy->torch>=1.10.0->torchmetrics) (1.3.0)\n"
          ]
        }
      ],
      "source": [
        "import cv2\n",
        "import numpy as np\n",
        "import pandas as pd\n",
        "from tqdm import tqdm\n",
        "from datetime import datetime\n",
        "from matplotlib import pyplot as plt\n",
        "\n",
        "import torch\n",
        "from torch import nn\n",
        "from torch.utils.data import DataLoader, random_split, Subset\n",
        "\n",
        "from torchvision import transforms, datasets\n",
        "!pip install torchmetrics\n",
        "from torchmetrics.classification import MulticlassAccuracy, BinaryAccuracy\n",
        "from torchmetrics import ConfusionMatrix\n",
        "\n",
        "import copy"
      ],
      "id": "c2d5af04-1aea-40d0-8e7e-d90ae1310e25"
    },
    {
      "cell_type": "code",
      "execution_count": 18,
      "metadata": {
        "id": "ef435688-843e-42ba-8516-66d2dfc8dcb7"
      },
      "outputs": [],
      "source": [
        "class Train_Model: # A class to train and save the developed model and the metrics\n",
        "\n",
        "\n",
        "    def __init__(self, model, loss, optimizer, accuracy, model_type, device, classes=0):\n",
        "\n",
        "        self.device = device\n",
        "        self.model = model.to(device) ## Setting the model on GPU\n",
        "        self.Loss_Function = loss\n",
        "        self.optimizer = optimizer\n",
        "        self.accuracy = accuracy\n",
        "        self.model_type = model_type\n",
        "        self.classNum = classes\n",
        "\n",
        "        # A dictionary to append or store the results\n",
        "        self.Metrics = {\"Training_Loss\":[],\"Training_Accuracy\":[], \"Validation_Loss\":[], \"Validation_Accuracy\":[],\"Test_Accuracy\":0}\n",
        "        self.ConfMatrix = None\n",
        "\n",
        "    # Function to train the model\n",
        "    def model_run(self, l_data,run_type):\n",
        "\n",
        "        if run_type == 'train':\n",
        "          self.model.train()\n",
        "\n",
        "          if self.model_type == \"Classification\":\n",
        "              MCA = self.accuracy(self.classNum)\n",
        "          else:\n",
        "              MCA = self.accuracy\n",
        "\n",
        "          loss_sum = 0\n",
        "          acc = 0\n",
        "\n",
        "          # Iterates over the data\n",
        "          for data, labels in tqdm(l_data):\n",
        "\n",
        "              # transform data into one-hot vectors\n",
        "              data = data.to(self.device)\n",
        "              if self.model_type == \"Classification\":\n",
        "                  labels = torch.eye(10)[labels]\n",
        "              else:\n",
        "                  labels = labels.reshape(-1, 1)\n",
        "              labels = labels.to(self.device)\n",
        "\n",
        "              predictions = self.model(data)\n",
        "              loss_value = self.Loss_Function(predictions, labels)\n",
        "\n",
        "\n",
        "              self.optimizer.zero_grad()\n",
        "              loss_value.backward()\n",
        "              self.optimizer.step()\n",
        "\n",
        "\n",
        "              # Set the predictions and labels back into integers for accuracy calculation\n",
        "              if self.model_type == \"Classification\":\n",
        "                  predictions = torch.Tensor([torch.argmax(i).item() for i in predictions])\n",
        "                  labels = torch.Tensor([torch.argmax(i).item() for i in labels])\n",
        "\n",
        "              ##### Calculate Loss and accuracy\n",
        "              loss_sum += loss_value.item()\n",
        "              if self.model_type == \"Classification\":\n",
        "                  acc += MCA(predictions, labels)\n",
        "\n",
        "          self.Metrics[\"Training_Loss\"].append(loss_sum / len(l_data))\n",
        "          if self.model_type == \"Classification\":\n",
        "              self.Metrics[\"Training_Accuracy\"].append(acc / len(l_data))\n",
        "\n",
        "\n",
        "        elif run_type == 'eval':\n",
        "          self.model.eval()\n",
        "\n",
        "          if self.model_type == \"Classification\":\n",
        "              MCA = self.accuracy(self.classNum)\n",
        "          else:\n",
        "              MCA = self.accuracy\n",
        "\n",
        "          loss_sum = 0\n",
        "          acc = 0\n",
        "\n",
        "          for data, labels in l_data:\n",
        "\n",
        "              data = data.to(self.device)\n",
        "              if self.model_type == \"Classification\":\n",
        "                  labels = torch.eye(10)[labels]\n",
        "              else:\n",
        "                  labels = labels.reshape(-1, 1)\n",
        "              labels = labels.to(self.device)\n",
        "\n",
        "              with torch.no_grad():\n",
        "                  predictions = self.model(data)\n",
        "              loss_value = self.Loss_Function(predictions, labels)\n",
        "\n",
        "              if self.model_type == \"Classification\":\n",
        "                  predictions = torch.Tensor([torch.argmax(i).item() for i in predictions])\n",
        "                  labels = torch.Tensor([torch.argmax(i).item() for i in labels])\n",
        "\n",
        "              loss_sum += loss_value.item()\n",
        "              if self.model_type == \"Classification\":\n",
        "                  acc += MCA(predictions, labels)\n",
        "\n",
        "          self.Metrics[\"Validation_Loss\"].append(loss_sum / len(l_data))\n",
        "          if self.model_type == \"Classification\":\n",
        "              self.Metrics[\"Validation_Accuracy\"].append(acc / len(l_data))\n",
        "\n",
        "\n",
        "    def fit(self, t_data, v_data, EPOCHS):\n",
        "\n",
        "\n",
        "        for i in range(EPOCHS):\n",
        "\n",
        "            self.model_run(v_data,'eval')\n",
        "            self.model_run(t_data,'train')\n",
        "\n",
        "            print(\"Current Epoch:\", i+1)\n",
        "            print(\"Training_Loss:\", self.Metrics[\"Training_Loss\"][-1], \" | Validation_Loss:\", self.Metrics[\"Validation_Loss\"][-1])\n",
        "            if self.model_type == \"Classification\":\n",
        "                print(\"Training_Accuracy:\", self.Metrics[\"Training_Accuracy\"][-1].item(), \" | Validation_Accuracy:\", self.Metrics[\"Validation_Accuracy\"][-1].item())\n",
        "\n",
        "\n",
        "    def Test_Model(self, testLoader):\n",
        "\n",
        "        self.model.eval()\n",
        "\n",
        "        if self.model_type == \"Classification\":\n",
        "            confusion = ConfusionMatrix(task=\"multiclass\", num_classes=self.classNum)\n",
        "            MCA = self.accuracy(self.classNum)\n",
        "        else:\n",
        "            MCA = self.accuracy\n",
        "\n",
        "        predMax = torch.empty(0)\n",
        "        labelMax = torch.empty(0)\n",
        "\n",
        "        for data, labels in testLoader:\n",
        "\n",
        "            data = data.to(self.device)\n",
        "            if self.model_type == \"Classification\":\n",
        "                labels = torch.eye(10)[labels]\n",
        "            else:\n",
        "                labels = labels.reshape(-1, 1)\n",
        "            labels = labels.to(self.device)\n",
        "\n",
        "            with torch.no_grad():\n",
        "                pred = self.model(data)\n",
        "\n",
        "            if self.model_type == \"Classification\":\n",
        "                pred = torch.Tensor([torch.argmax(i).item() for i in pred])\n",
        "                labels = torch.Tensor([torch.argmax(i).item() for i in labels])\n",
        "\n",
        "            predMax = torch.cat((predMax, pred))\n",
        "            labelMax = torch.cat((labelMax, labels))\n",
        "\n",
        "        if self.model_type == \"Classification\":\n",
        "            self.ConfMatrix = confusion(predMax, labelMax)\n",
        "            self.Metrics[\"Test_Accuracy\"] = MCA(predMax, labelMax).item()\n",
        "\n",
        "\n",
        ""
      ],
      "id": "ef435688-843e-42ba-8516-66d2dfc8dcb7"
    },
    {
      "cell_type": "markdown",
      "metadata": {
        "id": "ae6a8caf-dfed-4b60-8dc5-760b2f483a50"
      },
      "source": [
        "## Problem 1 Fashion Dataset"
      ],
      "id": "ae6a8caf-dfed-4b60-8dc5-760b2f483a50"
    },
    {
      "cell_type": "code",
      "execution_count": 19,
      "metadata": {
        "id": "011f0439-8023-4551-a9df-61ff6fbfd2d0"
      },
      "outputs": [],
      "source": [
        "device_to_use = torch.device(\"cuda\" if torch.cuda.is_available() else \"cpu\")"
      ],
      "id": "011f0439-8023-4551-a9df-61ff6fbfd2d0"
    },
    {
      "cell_type": "code",
      "execution_count": 20,
      "metadata": {
        "id": "581c3bbe-b7aa-45a8-857e-0c745bcfc314"
      },
      "outputs": [],
      "source": [
        "train_transform = transforms.Compose([\n",
        "                                        transforms.ToTensor(),\n",
        "                                        transforms.Normalize((0.29), (0.32)),\n",
        "])\n",
        "\n",
        "test_transform = transforms.Compose([\n",
        "                                        transforms.ToTensor(),\n",
        "                                        transforms.Normalize((0.29), (0.32)),\n",
        "])"
      ],
      "id": "581c3bbe-b7aa-45a8-857e-0c745bcfc314"
    },
    {
      "cell_type": "code",
      "execution_count": 21,
      "metadata": {
        "id": "c39123b0-efbd-484e-b843-3c88da5f89de"
      },
      "outputs": [],
      "source": [
        "train_df = datasets.FashionMNIST(root=\"datasets\", train=True, transform=train_transform,download=True)\n",
        "test_df = datasets.FashionMNIST(root=\"datasets\", train=False, transform=test_transform,download=True)\n",
        "\n",
        "## Create Train and Test data\n",
        "validNum = int(len(train_df) * 0.8)\n",
        "train_df, valid_df = random_split(train_df, [validNum, len(train_df) - validNum])\n"
      ],
      "id": "c39123b0-efbd-484e-b843-3c88da5f89de"
    },
    {
      "cell_type": "code",
      "execution_count": 22,
      "metadata": {
        "id": "ae9b750d-748f-49a4-9c20-cdc8218254dd"
      },
      "outputs": [],
      "source": [
        "trainLoader = DataLoader(train_df, batch_size=256, shuffle=True, num_workers=1)\n",
        "validateLoader = DataLoader(valid_df, batch_size=256, shuffle=True, num_workers=1)\n",
        "testLoader = DataLoader(test_df, batch_size=256, shuffle=True, num_workers=1)"
      ],
      "id": "ae9b750d-748f-49a4-9c20-cdc8218254dd"
    },
    {
      "cell_type": "code",
      "execution_count": 23,
      "metadata": {
        "id": "1bebb7a6-4049-495f-bb7c-b4e8b2d39cce"
      },
      "outputs": [],
      "source": [
        "BaseModel = nn.Sequential(\n",
        "    nn.Flatten(),\n",
        "    nn.LazyLinear(256),\n",
        "    nn.ReLU(),\n",
        "    nn.Linear(in_features= 256, out_features= 128),\n",
        "    nn.ReLU(),\n",
        "    nn.Linear(in_features= 128, out_features= 64),\n",
        "    nn.ReLU(),\n",
        "    nn.Linear(in_features= 64, out_features= 10),\n",
        ")"
      ],
      "id": "1bebb7a6-4049-495f-bb7c-b4e8b2d39cce"
    },
    {
      "cell_type": "code",
      "execution_count": 24,
      "metadata": {
        "id": "726d5412-804f-4f43-ae8e-3994d094eed3"
      },
      "outputs": [],
      "source": [
        "base = copy.deepcopy(BaseModel)\n",
        "baseline_model_generator = Train_Model(base, nn.CrossEntropyLoss(), torch.optim.SGD(base.parameters(), lr=0.01, momentum=0.9), MulticlassAccuracy, \"Classification\",  device_to_use, 10)"
      ],
      "id": "726d5412-804f-4f43-ae8e-3994d094eed3"
    },
    {
      "cell_type": "markdown",
      "metadata": {
        "id": "a0bab864-4ddd-4892-a8d7-fd32527328f4"
      },
      "source": [
        "### 1.a Train the model from scratch (with randomized parameters)"
      ],
      "id": "a0bab864-4ddd-4892-a8d7-fd32527328f4"
    },
    {
      "cell_type": "code",
      "execution_count": 10,
      "metadata": {
        "colab": {
          "base_uri": "https://localhost:8080/",
          "height": 1000
        },
        "id": "272709df-b072-4790-a0e3-7e0c76462fce",
        "outputId": "5033c995-03c8-4fcc-a081-48319ea830fa"
      },
      "outputs": [
        {
          "output_type": "stream",
          "name": "stderr",
          "text": [
            "100%|██████████| 188/188 [00:21<00:00,  8.64it/s]"
          ]
        },
        {
          "output_type": "stream",
          "name": "stdout",
          "text": [
            "Current Epoch: 1\n",
            "Training_Loss: 0.9965518630565481  | Validation_Loss: 2.305695026478869\n",
            "Training_Accuracy: 0.6533576250076294  | Validation_Accuracy: 0.07300763577222824\n"
          ]
        },
        {
          "output_type": "stream",
          "name": "stderr",
          "text": [
            "\n",
            "100%|██████████| 188/188 [00:12<00:00, 15.21it/s]"
          ]
        },
        {
          "output_type": "stream",
          "name": "stdout",
          "text": [
            "Current Epoch: 2\n",
            "Training_Loss: 0.47451142586292105  | Validation_Loss: 0.5183095183778317\n",
            "Training_Accuracy: 0.8277556896209717  | Validation_Accuracy: 0.8145686984062195\n"
          ]
        },
        {
          "output_type": "stream",
          "name": "stderr",
          "text": [
            "\n",
            "100%|██████████| 188/188 [00:12<00:00, 15.37it/s]"
          ]
        },
        {
          "output_type": "stream",
          "name": "stdout",
          "text": [
            "Current Epoch: 3\n",
            "Training_Loss: 0.4132389026753446  | Validation_Loss: 0.4526555988382786\n",
            "Training_Accuracy: 0.8513217568397522  | Validation_Accuracy: 0.8356159925460815\n"
          ]
        },
        {
          "output_type": "stream",
          "name": "stderr",
          "text": [
            "\n",
            "100%|██████████| 188/188 [00:12<00:00, 15.35it/s]"
          ]
        },
        {
          "output_type": "stream",
          "name": "stdout",
          "text": [
            "Current Epoch: 4\n",
            "Training_Loss: 0.37425542765475334  | Validation_Loss: 0.4125966106323486\n",
            "Training_Accuracy: 0.8644177317619324  | Validation_Accuracy: 0.8516023755073547\n"
          ]
        },
        {
          "output_type": "stream",
          "name": "stderr",
          "text": [
            "\n",
            "100%|██████████| 188/188 [00:12<00:00, 15.41it/s]"
          ]
        },
        {
          "output_type": "stream",
          "name": "stdout",
          "text": [
            "Current Epoch: 5\n",
            "Training_Loss: 0.3550823284907544  | Validation_Loss: 0.3843499567914516\n",
            "Training_Accuracy: 0.8701916933059692  | Validation_Accuracy: 0.860486626625061\n"
          ]
        },
        {
          "output_type": "stream",
          "name": "stderr",
          "text": [
            "\n",
            "100%|██████████| 188/188 [00:13<00:00, 13.48it/s]"
          ]
        },
        {
          "output_type": "stream",
          "name": "stdout",
          "text": [
            "Current Epoch: 6\n",
            "Training_Loss: 0.33368122411218093  | Validation_Loss: 0.35919896402257556\n",
            "Training_Accuracy: 0.8790460824966431  | Validation_Accuracy: 0.8722372055053711\n"
          ]
        },
        {
          "output_type": "stream",
          "name": "stderr",
          "text": [
            "\n",
            "100%|██████████| 188/188 [00:12<00:00, 15.10it/s]"
          ]
        },
        {
          "output_type": "stream",
          "name": "stdout",
          "text": [
            "Current Epoch: 7\n",
            "Training_Loss: 0.3178531958701763  | Validation_Loss: 0.3474826584471033\n",
            "Training_Accuracy: 0.8843581080436707  | Validation_Accuracy: 0.8756680488586426\n"
          ]
        },
        {
          "output_type": "stream",
          "name": "stderr",
          "text": [
            "\n",
            "100%|██████████| 188/188 [00:12<00:00, 15.01it/s]"
          ]
        },
        {
          "output_type": "stream",
          "name": "stdout",
          "text": [
            "Current Epoch: 8\n",
            "Training_Loss: 0.29787504736413345  | Validation_Loss: 0.3395947756919455\n",
            "Training_Accuracy: 0.8920930027961731  | Validation_Accuracy: 0.8746490478515625\n"
          ]
        },
        {
          "output_type": "stream",
          "name": "stderr",
          "text": [
            "\n",
            "100%|██████████| 188/188 [00:12<00:00, 14.87it/s]"
          ]
        },
        {
          "output_type": "stream",
          "name": "stdout",
          "text": [
            "Current Epoch: 9\n",
            "Training_Loss: 0.28927288569034415  | Validation_Loss: 0.3382274692362927\n",
            "Training_Accuracy: 0.8944308757781982  | Validation_Accuracy: 0.8801321387290955\n"
          ]
        },
        {
          "output_type": "stream",
          "name": "stderr",
          "text": [
            "\n",
            "100%|██████████| 188/188 [00:13<00:00, 14.43it/s]"
          ]
        },
        {
          "output_type": "stream",
          "name": "stdout",
          "text": [
            "Current Epoch: 10\n",
            "Training_Loss: 0.27460739286021985  | Validation_Loss: 0.3439605083871395\n",
            "Training_Accuracy: 0.8990411758422852  | Validation_Accuracy: 0.8744328022003174\n"
          ]
        },
        {
          "output_type": "stream",
          "name": "stderr",
          "text": [
            "\n",
            "100%|██████████| 188/188 [00:12<00:00, 14.84it/s]"
          ]
        },
        {
          "output_type": "stream",
          "name": "stdout",
          "text": [
            "Current Epoch: 11\n",
            "Training_Loss: 0.2646077275276184  | Validation_Loss: 0.32605211214816315\n",
            "Training_Accuracy: 0.9030353426933289  | Validation_Accuracy: 0.8824192881584167\n"
          ]
        },
        {
          "output_type": "stream",
          "name": "stderr",
          "text": [
            "\n",
            "100%|██████████| 188/188 [00:12<00:00, 15.11it/s]"
          ]
        },
        {
          "output_type": "stream",
          "name": "stdout",
          "text": [
            "Current Epoch: 12\n",
            "Training_Loss: 0.2568572179434147  | Validation_Loss: 0.3179717089267487\n",
            "Training_Accuracy: 0.9053789377212524  | Validation_Accuracy: 0.8885537981987\n"
          ]
        },
        {
          "output_type": "stream",
          "name": "stderr",
          "text": [
            "\n",
            "100%|██████████| 188/188 [00:12<00:00, 15.09it/s]"
          ]
        },
        {
          "output_type": "stream",
          "name": "stdout",
          "text": [
            "Current Epoch: 13\n",
            "Training_Loss: 0.24316254377048066  | Validation_Loss: 0.3322069378609353\n",
            "Training_Accuracy: 0.9106070399284363  | Validation_Accuracy: 0.8814443349838257\n"
          ]
        },
        {
          "output_type": "stream",
          "name": "stderr",
          "text": [
            "\n",
            "100%|██████████| 188/188 [00:12<00:00, 14.82it/s]"
          ]
        },
        {
          "output_type": "stream",
          "name": "stdout",
          "text": [
            "Current Epoch: 14\n",
            "Training_Loss: 0.2333174022112755  | Validation_Loss: 0.30995579285824554\n",
            "Training_Accuracy: 0.9135340452194214  | Validation_Accuracy: 0.8896418809890747\n"
          ]
        },
        {
          "output_type": "stream",
          "name": "stderr",
          "text": [
            "\n",
            "100%|██████████| 188/188 [00:12<00:00, 15.26it/s]"
          ]
        },
        {
          "output_type": "stream",
          "name": "stdout",
          "text": [
            "Current Epoch: 15\n",
            "Training_Loss: 0.2273696596001057  | Validation_Loss: 0.3287394509670582\n",
            "Training_Accuracy: 0.9151701331138611  | Validation_Accuracy: 0.8825483918190002\n"
          ]
        },
        {
          "output_type": "stream",
          "name": "stderr",
          "text": [
            "\n",
            "100%|██████████| 188/188 [00:12<00:00, 15.21it/s]"
          ]
        },
        {
          "output_type": "stream",
          "name": "stdout",
          "text": [
            "Current Epoch: 16\n",
            "Training_Loss: 0.21677611253045975  | Validation_Loss: 0.3176461099944216\n",
            "Training_Accuracy: 0.9198825359344482  | Validation_Accuracy: 0.8856441974639893\n"
          ]
        },
        {
          "output_type": "stream",
          "name": "stderr",
          "text": [
            "\n",
            "100%|██████████| 188/188 [00:12<00:00, 14.97it/s]"
          ]
        },
        {
          "output_type": "stream",
          "name": "stdout",
          "text": [
            "Current Epoch: 17\n",
            "Training_Loss: 0.21771184315389774  | Validation_Loss: 0.332206129710725\n",
            "Training_Accuracy: 0.9205544590950012  | Validation_Accuracy: 0.877150297164917\n"
          ]
        },
        {
          "output_type": "stream",
          "name": "stderr",
          "text": [
            "\n",
            "100%|██████████| 188/188 [00:12<00:00, 15.02it/s]"
          ]
        },
        {
          "output_type": "stream",
          "name": "stdout",
          "text": [
            "Current Epoch: 18\n",
            "Training_Loss: 0.1991376784491412  | Validation_Loss: 0.3080418347678286\n",
            "Training_Accuracy: 0.9265872836112976  | Validation_Accuracy: 0.8900337219238281\n"
          ]
        },
        {
          "output_type": "stream",
          "name": "stderr",
          "text": [
            "\n",
            "100%|██████████| 188/188 [00:12<00:00, 14.91it/s]"
          ]
        },
        {
          "output_type": "stream",
          "name": "stdout",
          "text": [
            "Current Epoch: 19\n",
            "Training_Loss: 0.19104404814858386  | Validation_Loss: 0.31563932844933046\n",
            "Training_Accuracy: 0.930055558681488  | Validation_Accuracy: 0.891466498374939\n"
          ]
        },
        {
          "output_type": "stream",
          "name": "stderr",
          "text": [
            "\n",
            "100%|██████████| 188/188 [00:12<00:00, 14.71it/s]"
          ]
        },
        {
          "output_type": "stream",
          "name": "stdout",
          "text": [
            "Current Epoch: 20\n",
            "Training_Loss: 0.1871084526498267  | Validation_Loss: 0.3290244759397304\n",
            "Training_Accuracy: 0.9320927858352661  | Validation_Accuracy: 0.8856996297836304\n"
          ]
        },
        {
          "output_type": "stream",
          "name": "stderr",
          "text": [
            "\n"
          ]
        },
        {
          "output_type": "stream",
          "name": "stdout",
          "text": [
            "\n",
            "Test Accuracy: 0.876800000667572 \n",
            "Time to Train: 0:05:22.806689\n"
          ]
        },
        {
          "output_type": "execute_result",
          "data": {
            "text/plain": [
              "<matplotlib.legend.Legend at 0x7c0a0b48f520>"
            ]
          },
          "metadata": {},
          "execution_count": 10
        },
        {
          "output_type": "display_data",
          "data": {
            "text/plain": [
              "<Figure size 640x480 with 1 Axes>"
            ],
            "image/png": "[encoded data removed]"
          },
          "metadata": {}
        }
      ],
      "source": [
        "start_time = datetime.now()\n",
        "\n",
        "baseline_model_generator.fit(trainLoader, validateLoader,\n",
        "                             20)\n",
        "end_time = datetime.now()\n",
        "baseline_model_generator.Test_Model(testLoader)\n",
        "\n",
        "print(\"\\nTest Accuracy:\", baseline_model_generator.Metrics[\"Test_Accuracy\"], \"\\nTime to Train:\", end_time - start_time)\n",
        "import matplotlib.pyplot as plt\n",
        "\n",
        "### PLOTTING METRICS\n",
        "plt.plot(baseline_model_generator.Metrics['Training_Accuracy'], label='Training Accuracy')\n",
        "plt.plot(baseline_model_generator.Metrics['Validation_Accuracy'], label='Validation Accuracy')\n",
        "plt.plot(baseline_model_generator.Metrics['Training_Loss'], label='Training Loss')\n",
        "plt.plot(baseline_model_generator.Metrics['Validation_Loss'], label='Validation Loss')\n",
        "plt.xlabel('Epoch')\n",
        "plt.ylabel('Metric')\n",
        "plt.legend()"
      ],
      "id": "272709df-b072-4790-a0e3-7e0c76462fce"
    },
    {
      "cell_type": "code",
      "source": [
        "start_time = datetime.now()\n",
        "\n",
        "baseline_model_generator.fit(trainLoader, validateLoader,\n",
        "                             25)\n",
        "end_time = datetime.now()\n",
        "baseline_model_generator.Test_Model(testLoader)\n",
        "\n",
        "print(\"\\nTest Accuracy:\", baseline_model_generator.Metrics[\"Test_Accuracy\"], \"\\nTime to Train:\", end_time - start_time)\n",
        "import matplotlib.pyplot as plt\n",
        "\n",
        "### PLOTTING METRICS\n",
        "plt.plot(baseline_model_generator.Metrics['Training_Accuracy'], label='Training Accuracy')\n",
        "plt.plot(baseline_model_generator.Metrics['Validation_Accuracy'], label='Validation Accuracy')\n",
        "plt.plot(baseline_model_generator.Metrics['Training_Loss'], label='Training Loss')\n",
        "plt.plot(baseline_model_generator.Metrics['Validation_Loss'], label='Validation Loss')\n",
        "plt.xlabel('Epoch')\n",
        "plt.ylabel('Metric')\n",
        "plt.legend()"
      ],
      "metadata": {
        "colab": {
          "base_uri": "https://localhost:8080/",
          "height": 1000
        },
        "id": "rVoq77B15VGt",
        "outputId": "21c461e9-f32a-478e-cf98-9f64b30919fd"
      },
      "id": "rVoq77B15VGt",
      "execution_count": 43,
      "outputs": [
        {
          "output_type": "stream",
          "name": "stderr",
          "text": [
            "100%|██████████| 188/188 [00:13<00:00, 14.07it/s]"
          ]
        },
        {
          "output_type": "stream",
          "name": "stdout",
          "text": [
            "Current Epoch: 1\n",
            "Training_Loss: 1.0154323898097302  | Validation_Loss: 2.3003935103720807\n",
            "Training_Accuracy: 0.6761871576309204  | Validation_Accuracy: 0.14295996725559235\n"
          ]
        },
        {
          "output_type": "stream",
          "name": "stderr",
          "text": [
            "\n",
            "100%|██████████| 188/188 [00:13<00:00, 14.36it/s]"
          ]
        },
        {
          "output_type": "stream",
          "name": "stdout",
          "text": [
            "Current Epoch: 2\n",
            "Training_Loss: 0.4762171045579809  | Validation_Loss: 0.5197093423376692\n",
            "Training_Accuracy: 0.8275241255760193  | Validation_Accuracy: 0.8070234060287476\n"
          ]
        },
        {
          "output_type": "stream",
          "name": "stderr",
          "text": [
            "\n",
            "100%|██████████| 188/188 [00:13<00:00, 14.42it/s]"
          ]
        },
        {
          "output_type": "stream",
          "name": "stdout",
          "text": [
            "Current Epoch: 3\n",
            "Training_Loss: 0.4131906906023939  | Validation_Loss: 0.43321017001537565\n",
            "Training_Accuracy: 0.8491291999816895  | Validation_Accuracy: 0.8437924385070801\n"
          ]
        },
        {
          "output_type": "stream",
          "name": "stderr",
          "text": [
            "\n",
            "100%|██████████| 188/188 [00:13<00:00, 14.27it/s]"
          ]
        },
        {
          "output_type": "stream",
          "name": "stdout",
          "text": [
            "Current Epoch: 4\n",
            "Training_Loss: 0.37482652940014577  | Validation_Loss: 0.39726241345101215\n",
            "Training_Accuracy: 0.8628437519073486  | Validation_Accuracy: 0.8554632067680359\n"
          ]
        },
        {
          "output_type": "stream",
          "name": "stderr",
          "text": [
            "\n",
            "100%|██████████| 188/188 [00:12<00:00, 14.89it/s]"
          ]
        },
        {
          "output_type": "stream",
          "name": "stdout",
          "text": [
            "Current Epoch: 5\n",
            "Training_Loss: 0.3521184412405846  | Validation_Loss: 0.38818036939235445\n",
            "Training_Accuracy: 0.8719412088394165  | Validation_Accuracy: 0.8554555773735046\n"
          ]
        },
        {
          "output_type": "stream",
          "name": "stderr",
          "text": [
            "\n",
            "100%|██████████| 188/188 [00:12<00:00, 14.81it/s]"
          ]
        },
        {
          "output_type": "stream",
          "name": "stdout",
          "text": [
            "Current Epoch: 6\n",
            "Training_Loss: 0.3329427999226337  | Validation_Loss: 0.3572649448475939\n",
            "Training_Accuracy: 0.8778076171875  | Validation_Accuracy: 0.8693073391914368\n"
          ]
        },
        {
          "output_type": "stream",
          "name": "stderr",
          "text": [
            "\n",
            "100%|██████████| 188/188 [00:12<00:00, 14.69it/s]"
          ]
        },
        {
          "output_type": "stream",
          "name": "stdout",
          "text": [
            "Current Epoch: 7\n",
            "Training_Loss: 0.3163113693132045  | Validation_Loss: 0.3426614444940648\n",
            "Training_Accuracy: 0.883446216583252  | Validation_Accuracy: 0.8748136758804321\n"
          ]
        },
        {
          "output_type": "stream",
          "name": "stderr",
          "text": [
            "\n",
            "100%|██████████| 188/188 [00:12<00:00, 14.92it/s]"
          ]
        },
        {
          "output_type": "stream",
          "name": "stdout",
          "text": [
            "Current Epoch: 8\n",
            "Training_Loss: 0.3015690399928296  | Validation_Loss: 0.34240728077736304\n",
            "Training_Accuracy: 0.887792706489563  | Validation_Accuracy: 0.8746302723884583\n"
          ]
        },
        {
          "output_type": "stream",
          "name": "stderr",
          "text": [
            "\n",
            "100%|██████████| 188/188 [00:13<00:00, 14.41it/s]"
          ]
        },
        {
          "output_type": "stream",
          "name": "stdout",
          "text": [
            "Current Epoch: 9\n",
            "Training_Loss: 0.2895312772944887  | Validation_Loss: 0.3375514869360214\n",
            "Training_Accuracy: 0.8927897810935974  | Validation_Accuracy: 0.8767502903938293\n"
          ]
        },
        {
          "output_type": "stream",
          "name": "stderr",
          "text": [
            "\n",
            "100%|██████████| 188/188 [00:13<00:00, 14.42it/s]"
          ]
        },
        {
          "output_type": "stream",
          "name": "stdout",
          "text": [
            "Current Epoch: 10\n",
            "Training_Loss: 0.2738064180346245  | Validation_Loss: 0.33749997679223404\n",
            "Training_Accuracy: 0.9000871777534485  | Validation_Accuracy: 0.881675124168396\n"
          ]
        },
        {
          "output_type": "stream",
          "name": "stderr",
          "text": [
            "\n",
            "100%|██████████| 188/188 [00:12<00:00, 14.68it/s]\n"
          ]
        },
        {
          "output_type": "stream",
          "name": "stdout",
          "text": [
            "Current Epoch: 11\n",
            "Training_Loss: 0.26701701067863626  | Validation_Loss: 0.3186216766529895\n",
            "Training_Accuracy: 0.9009998440742493  | Validation_Accuracy: 0.8844682574272156\n"
          ]
        },
        {
          "output_type": "stream",
          "name": "stderr",
          "text": [
            "100%|██████████| 188/188 [00:12<00:00, 15.17it/s]"
          ]
        },
        {
          "output_type": "stream",
          "name": "stdout",
          "text": [
            "Current Epoch: 12\n",
            "Training_Loss: 0.25366744478332237  | Validation_Loss: 0.3096928710633136\n",
            "Training_Accuracy: 0.9067813158035278  | Validation_Accuracy: 0.8849833011627197\n"
          ]
        },
        {
          "output_type": "stream",
          "name": "stderr",
          "text": [
            "\n",
            "100%|██████████| 188/188 [00:12<00:00, 14.98it/s]"
          ]
        },
        {
          "output_type": "stream",
          "name": "stdout",
          "text": [
            "Current Epoch: 13\n",
            "Training_Loss: 0.24813471853416016  | Validation_Loss: 0.32058003703330423\n",
            "Training_Accuracy: 0.9089809060096741  | Validation_Accuracy: 0.8846422433853149\n"
          ]
        },
        {
          "output_type": "stream",
          "name": "stderr",
          "text": [
            "\n",
            "100%|██████████| 188/188 [00:12<00:00, 14.95it/s]"
          ]
        },
        {
          "output_type": "stream",
          "name": "stdout",
          "text": [
            "Current Epoch: 14\n",
            "Training_Loss: 0.23507922118965616  | Validation_Loss: 0.30871249037854215\n",
            "Training_Accuracy: 0.9127668142318726  | Validation_Accuracy: 0.8902601003646851\n"
          ]
        },
        {
          "output_type": "stream",
          "name": "stderr",
          "text": [
            "\n",
            "100%|██████████| 188/188 [00:12<00:00, 15.05it/s]"
          ]
        },
        {
          "output_type": "stream",
          "name": "stdout",
          "text": [
            "Current Epoch: 15\n",
            "Training_Loss: 0.232322124169862  | Validation_Loss: 0.31590709946257\n",
            "Training_Accuracy: 0.9140061140060425  | Validation_Accuracy: 0.8878344297409058\n"
          ]
        },
        {
          "output_type": "stream",
          "name": "stderr",
          "text": [
            "\n",
            "100%|██████████| 188/188 [00:12<00:00, 15.11it/s]"
          ]
        },
        {
          "output_type": "stream",
          "name": "stdout",
          "text": [
            "Current Epoch: 16\n",
            "Training_Loss: 0.22232325224483268  | Validation_Loss: 0.3134553121759536\n",
            "Training_Accuracy: 0.9172654747962952  | Validation_Accuracy: 0.8895794749259949\n"
          ]
        },
        {
          "output_type": "stream",
          "name": "stderr",
          "text": [
            "\n",
            "100%|██████████| 188/188 [00:12<00:00, 14.78it/s]"
          ]
        },
        {
          "output_type": "stream",
          "name": "stdout",
          "text": [
            "Current Epoch: 17\n",
            "Training_Loss: 0.215657960266826  | Validation_Loss: 0.31832797318062883\n",
            "Training_Accuracy: 0.9215944409370422  | Validation_Accuracy: 0.8881434798240662\n"
          ]
        },
        {
          "output_type": "stream",
          "name": "stderr",
          "text": [
            "\n",
            "100%|██████████| 188/188 [00:12<00:00, 14.84it/s]"
          ]
        },
        {
          "output_type": "stream",
          "name": "stdout",
          "text": [
            "Current Epoch: 18\n",
            "Training_Loss: 0.20824638001145201  | Validation_Loss: 0.30613809760580674\n",
            "Training_Accuracy: 0.923443078994751  | Validation_Accuracy: 0.889387845993042\n"
          ]
        },
        {
          "output_type": "stream",
          "name": "stderr",
          "text": [
            "\n",
            "100%|██████████| 188/188 [00:12<00:00, 14.74it/s]"
          ]
        },
        {
          "output_type": "stream",
          "name": "stdout",
          "text": [
            "Current Epoch: 19\n",
            "Training_Loss: 0.2000605786575916  | Validation_Loss: 0.31328027996611085\n",
            "Training_Accuracy: 0.9252164363861084  | Validation_Accuracy: 0.8928245902061462\n"
          ]
        },
        {
          "output_type": "stream",
          "name": "stderr",
          "text": [
            "\n",
            "100%|██████████| 188/188 [00:12<00:00, 14.81it/s]"
          ]
        },
        {
          "output_type": "stream",
          "name": "stdout",
          "text": [
            "Current Epoch: 20\n",
            "Training_Loss: 0.1915178597766034  | Validation_Loss: 0.3173338143115348\n",
            "Training_Accuracy: 0.9282883405685425  | Validation_Accuracy: 0.8922640085220337\n"
          ]
        },
        {
          "output_type": "stream",
          "name": "stderr",
          "text": [
            "\n",
            "100%|██████████| 188/188 [00:12<00:00, 14.85it/s]"
          ]
        },
        {
          "output_type": "stream",
          "name": "stdout",
          "text": [
            "Current Epoch: 21\n",
            "Training_Loss: 0.18739055659859738  | Validation_Loss: 0.30907371418273194\n",
            "Training_Accuracy: 0.9317481517791748  | Validation_Accuracy: 0.8930657505989075\n"
          ]
        },
        {
          "output_type": "stream",
          "name": "stderr",
          "text": [
            "\n",
            "100%|██████████| 188/188 [00:13<00:00, 14.19it/s]"
          ]
        },
        {
          "output_type": "stream",
          "name": "stdout",
          "text": [
            "Current Epoch: 22\n",
            "Training_Loss: 0.17960926188908993  | Validation_Loss: 0.3078556774144477\n",
            "Training_Accuracy: 0.9339302778244019  | Validation_Accuracy: 0.8965645432472229\n"
          ]
        },
        {
          "output_type": "stream",
          "name": "stderr",
          "text": [
            "\n",
            "100%|██████████| 188/188 [00:13<00:00, 14.39it/s]"
          ]
        },
        {
          "output_type": "stream",
          "name": "stdout",
          "text": [
            "Current Epoch: 23\n",
            "Training_Loss: 0.16994965096261908  | Validation_Loss: 0.3108763631353987\n",
            "Training_Accuracy: 0.9384703040122986  | Validation_Accuracy: 0.8950835466384888\n"
          ]
        },
        {
          "output_type": "stream",
          "name": "stderr",
          "text": [
            "\n",
            "100%|██████████| 188/188 [00:12<00:00, 14.53it/s]"
          ]
        },
        {
          "output_type": "stream",
          "name": "stdout",
          "text": [
            "Current Epoch: 24\n",
            "Training_Loss: 0.1648730912661933  | Validation_Loss: 0.3214441325436247\n",
            "Training_Accuracy: 0.9389564990997314  | Validation_Accuracy: 0.8892030715942383\n"
          ]
        },
        {
          "output_type": "stream",
          "name": "stderr",
          "text": [
            "\n",
            "100%|██████████| 188/188 [00:12<00:00, 14.56it/s]"
          ]
        },
        {
          "output_type": "stream",
          "name": "stdout",
          "text": [
            "Current Epoch: 25\n",
            "Training_Loss: 0.16004986886648423  | Validation_Loss: 0.32438576253170665\n",
            "Training_Accuracy: 0.9397522211074829  | Validation_Accuracy: 0.8928433656692505\n"
          ]
        },
        {
          "output_type": "stream",
          "name": "stderr",
          "text": [
            "\n"
          ]
        },
        {
          "output_type": "stream",
          "name": "stdout",
          "text": [
            "\n",
            "Test Accuracy: 0.8824999332427979 \n",
            "Time to Train: 0:06:37.381912\n"
          ]
        },
        {
          "output_type": "execute_result",
          "data": {
            "text/plain": [
              "<matplotlib.legend.Legend at 0x7c0a09086980>"
            ]
          },
          "metadata": {},
          "execution_count": 43
        },
        {
          "output_type": "display_data",
          "data": {
            "text/plain": [
              "<Figure size 640x480 with 1 Axes>"
            ],
            "image/png": "[encoded data removed]"
          },
          "metadata": {}
        }
      ]
    },
    {
      "cell_type": "code",
      "source": [
        "start_time = datetime.now()\n",
        "\n",
        "baseline_model_generator.fit(trainLoader, validateLoader,\n",
        "                             30)\n",
        "end_time = datetime.now()\n",
        "baseline_model_generator.Test_Model(testLoader)\n",
        "\n",
        "print(\"\\nTest Accuracy:\", baseline_model_generator.Metrics[\"Test_Accuracy\"], \"\\nTime to Train:\", end_time - start_time)\n",
        "import matplotlib.pyplot as plt\n",
        "\n",
        "### PLOTTING METRICS\n",
        "plt.plot(baseline_model_generator.Metrics['Training_Accuracy'], label='Training Accuracy')\n",
        "plt.plot(baseline_model_generator.Metrics['Validation_Accuracy'], label='Validation Accuracy')\n",
        "plt.plot(baseline_model_generator.Metrics['Training_Loss'], label='Training Loss')\n",
        "plt.plot(baseline_model_generator.Metrics['Validation_Loss'], label='Validation Loss')\n",
        "plt.xlabel('Epoch')\n",
        "plt.ylabel('Metric')\n",
        "plt.legend()"
      ],
      "metadata": {
        "colab": {
          "base_uri": "https://localhost:8080/",
          "height": 1000
        },
        "id": "h77ChUx95aKj",
        "outputId": "05019752-dca2-4212-fea4-60314d1e9029"
      },
      "id": "h77ChUx95aKj",
      "execution_count": 44,
      "outputs": [
        {
          "output_type": "stream",
          "name": "stderr",
          "text": [
            "100%|██████████| 188/188 [00:13<00:00, 14.28it/s]"
          ]
        },
        {
          "output_type": "stream",
          "name": "stdout",
          "text": [
            "Current Epoch: 1\n",
            "Training_Loss: 0.1611882007502495  | Validation_Loss: 0.3216017500517216\n",
            "Training_Accuracy: 0.9405239820480347  | Validation_Accuracy: 0.8914127945899963\n"
          ]
        },
        {
          "output_type": "stream",
          "name": "stderr",
          "text": [
            "\n",
            "100%|██████████| 188/188 [00:12<00:00, 14.52it/s]\n"
          ]
        },
        {
          "output_type": "stream",
          "name": "stdout",
          "text": [
            "Current Epoch: 2\n",
            "Training_Loss: 0.14907689535237373  | Validation_Loss: 0.32704013649453506\n",
            "Training_Accuracy: 0.9450413584709167  | Validation_Accuracy: 0.8904631733894348\n"
          ]
        },
        {
          "output_type": "stream",
          "name": "stderr",
          "text": [
            "100%|██████████| 188/188 [00:12<00:00, 14.65it/s]"
          ]
        },
        {
          "output_type": "stream",
          "name": "stdout",
          "text": [
            "Current Epoch: 3\n",
            "Training_Loss: 0.14407795624054492  | Validation_Loss: 0.32971590979302184\n",
            "Training_Accuracy: 0.9468274116516113  | Validation_Accuracy: 0.8914345502853394\n"
          ]
        },
        {
          "output_type": "stream",
          "name": "stderr",
          "text": [
            "\n",
            "100%|██████████| 188/188 [00:12<00:00, 14.48it/s]"
          ]
        },
        {
          "output_type": "stream",
          "name": "stdout",
          "text": [
            "Current Epoch: 4\n",
            "Training_Loss: 0.14273993573845067  | Validation_Loss: 0.3221999150007329\n",
            "Training_Accuracy: 0.946942925453186  | Validation_Accuracy: 0.8924757242202759\n"
          ]
        },
        {
          "output_type": "stream",
          "name": "stderr",
          "text": [
            "\n",
            "100%|██████████| 188/188 [00:12<00:00, 14.53it/s]"
          ]
        },
        {
          "output_type": "stream",
          "name": "stdout",
          "text": [
            "Current Epoch: 5\n",
            "Training_Loss: 0.1358063721315975  | Validation_Loss: 0.33082300234348216\n",
            "Training_Accuracy: 0.9501287341117859  | Validation_Accuracy: 0.8952843546867371\n"
          ]
        },
        {
          "output_type": "stream",
          "name": "stderr",
          "text": [
            "\n",
            "100%|██████████| 188/188 [00:13<00:00, 14.29it/s]"
          ]
        },
        {
          "output_type": "stream",
          "name": "stdout",
          "text": [
            "Current Epoch: 6\n",
            "Training_Loss: 0.1278001764551439  | Validation_Loss: 0.3409808728289097\n",
            "Training_Accuracy: 0.95209139585495  | Validation_Accuracy: 0.8952333927154541\n"
          ]
        },
        {
          "output_type": "stream",
          "name": "stderr",
          "text": [
            "\n",
            "100%|██████████| 188/188 [00:12<00:00, 14.49it/s]"
          ]
        },
        {
          "output_type": "stream",
          "name": "stdout",
          "text": [
            "Current Epoch: 7\n",
            "Training_Loss: 0.1252870481223502  | Validation_Loss: 0.3475910678822943\n",
            "Training_Accuracy: 0.9536461234092712  | Validation_Accuracy: 0.8942265510559082\n"
          ]
        },
        {
          "output_type": "stream",
          "name": "stderr",
          "text": [
            "\n",
            "100%|██████████| 188/188 [00:13<00:00, 14.33it/s]"
          ]
        },
        {
          "output_type": "stream",
          "name": "stdout",
          "text": [
            "Current Epoch: 8\n",
            "Training_Loss: 0.12260959640224563  | Validation_Loss: 0.36727426407185004\n",
            "Training_Accuracy: 0.9543587565422058  | Validation_Accuracy: 0.890923023223877\n"
          ]
        },
        {
          "output_type": "stream",
          "name": "stderr",
          "text": [
            "\n",
            "100%|██████████| 188/188 [00:12<00:00, 14.56it/s]"
          ]
        },
        {
          "output_type": "stream",
          "name": "stdout",
          "text": [
            "Current Epoch: 9\n",
            "Training_Loss: 0.11775494422367279  | Validation_Loss: 0.3539921286258292\n",
            "Training_Accuracy: 0.9571871757507324  | Validation_Accuracy: 0.8933466672897339\n"
          ]
        },
        {
          "output_type": "stream",
          "name": "stderr",
          "text": [
            "\n",
            "100%|██████████| 188/188 [00:12<00:00, 14.56it/s]"
          ]
        },
        {
          "output_type": "stream",
          "name": "stdout",
          "text": [
            "Current Epoch: 10\n",
            "Training_Loss: 0.11427211519727047  | Validation_Loss: 0.37904816929330215\n",
            "Training_Accuracy: 0.9578396677970886  | Validation_Accuracy: 0.8884836435317993\n"
          ]
        },
        {
          "output_type": "stream",
          "name": "stderr",
          "text": [
            "\n",
            "100%|██████████| 188/188 [00:13<00:00, 13.98it/s]"
          ]
        },
        {
          "output_type": "stream",
          "name": "stdout",
          "text": [
            "Current Epoch: 11\n",
            "Training_Loss: 0.10772624607891479  | Validation_Loss: 0.36904829360069114\n",
            "Training_Accuracy: 0.961338460445404  | Validation_Accuracy: 0.8899704813957214\n"
          ]
        },
        {
          "output_type": "stream",
          "name": "stderr",
          "text": [
            "\n",
            "100%|██████████| 188/188 [00:13<00:00, 14.37it/s]"
          ]
        },
        {
          "output_type": "stream",
          "name": "stdout",
          "text": [
            "Current Epoch: 12\n",
            "Training_Loss: 0.10444430757234706  | Validation_Loss: 0.37067487201792126\n",
            "Training_Accuracy: 0.9607512950897217  | Validation_Accuracy: 0.8967320919036865\n"
          ]
        },
        {
          "output_type": "stream",
          "name": "stderr",
          "text": [
            "\n",
            "100%|██████████| 188/188 [00:12<00:00, 14.52it/s]"
          ]
        },
        {
          "output_type": "stream",
          "name": "stdout",
          "text": [
            "Current Epoch: 13\n",
            "Training_Loss: 0.10277304283164918  | Validation_Loss: 0.37625207419091083\n",
            "Training_Accuracy: 0.9623820781707764  | Validation_Accuracy: 0.896062970161438\n"
          ]
        },
        {
          "output_type": "stream",
          "name": "stderr",
          "text": [
            "\n",
            "100%|██████████| 188/188 [00:13<00:00, 14.10it/s]"
          ]
        },
        {
          "output_type": "stream",
          "name": "stdout",
          "text": [
            "Current Epoch: 14\n",
            "Training_Loss: 0.09839699421315751  | Validation_Loss: 0.3870380184751876\n",
            "Training_Accuracy: 0.9638303518295288  | Validation_Accuracy: 0.8931387066841125\n"
          ]
        },
        {
          "output_type": "stream",
          "name": "stderr",
          "text": [
            "\n",
            "100%|██████████| 188/188 [00:12<00:00, 14.54it/s]"
          ]
        },
        {
          "output_type": "stream",
          "name": "stdout",
          "text": [
            "Current Epoch: 15\n",
            "Training_Loss: 0.09328262196814126  | Validation_Loss: 0.3820569334512061\n",
            "Training_Accuracy: 0.9668415188789368  | Validation_Accuracy: 0.8891843557357788\n"
          ]
        },
        {
          "output_type": "stream",
          "name": "stderr",
          "text": [
            "\n",
            "100%|██████████| 188/188 [00:13<00:00, 14.41it/s]"
          ]
        },
        {
          "output_type": "stream",
          "name": "stdout",
          "text": [
            "Current Epoch: 16\n",
            "Training_Loss: 0.08665625885763067  | Validation_Loss: 0.3916894238679967\n",
            "Training_Accuracy: 0.9685588479042053  | Validation_Accuracy: 0.8913093209266663\n"
          ]
        },
        {
          "output_type": "stream",
          "name": "stderr",
          "text": [
            "\n",
            "100%|██████████| 188/188 [00:13<00:00, 14.25it/s]"
          ]
        },
        {
          "output_type": "stream",
          "name": "stdout",
          "text": [
            "Current Epoch: 17\n",
            "Training_Loss: 0.08296628288449125  | Validation_Loss: 0.41334059834480286\n",
            "Training_Accuracy: 0.9699658155441284  | Validation_Accuracy: 0.891367495059967\n"
          ]
        },
        {
          "output_type": "stream",
          "name": "stderr",
          "text": [
            "\n",
            "100%|██████████| 188/188 [00:13<00:00, 14.43it/s]"
          ]
        },
        {
          "output_type": "stream",
          "name": "stdout",
          "text": [
            "Current Epoch: 18\n",
            "Training_Loss: 0.08236974494611012  | Validation_Loss: 0.42526306941154157\n",
            "Training_Accuracy: 0.9695712924003601  | Validation_Accuracy: 0.8865931630134583\n"
          ]
        },
        {
          "output_type": "stream",
          "name": "stderr",
          "text": [
            "\n",
            "100%|██████████| 188/188 [00:13<00:00, 14.23it/s]"
          ]
        },
        {
          "output_type": "stream",
          "name": "stdout",
          "text": [
            "Current Epoch: 19\n",
            "Training_Loss: 0.08274988839997256  | Validation_Loss: 0.4358654066603235\n",
            "Training_Accuracy: 0.9691748023033142  | Validation_Accuracy: 0.8906974792480469\n"
          ]
        },
        {
          "output_type": "stream",
          "name": "stderr",
          "text": [
            "\n",
            "100%|██████████| 188/188 [00:13<00:00, 14.43it/s]"
          ]
        },
        {
          "output_type": "stream",
          "name": "stdout",
          "text": [
            "Current Epoch: 20\n",
            "Training_Loss: 0.07682047413780968  | Validation_Loss: 0.4343755911005304\n",
            "Training_Accuracy: 0.9720041155815125  | Validation_Accuracy: 0.8914713859558105\n"
          ]
        },
        {
          "output_type": "stream",
          "name": "stderr",
          "text": [
            "\n",
            "100%|██████████| 188/188 [00:13<00:00, 14.38it/s]"
          ]
        },
        {
          "output_type": "stream",
          "name": "stdout",
          "text": [
            "Current Epoch: 21\n",
            "Training_Loss: 0.07923554201075371  | Validation_Loss: 0.4511796882812013\n",
            "Training_Accuracy: 0.9706315994262695  | Validation_Accuracy: 0.8909111618995667\n"
          ]
        },
        {
          "output_type": "stream",
          "name": "stderr",
          "text": [
            "\n",
            "100%|██████████| 188/188 [00:13<00:00, 14.43it/s]"
          ]
        },
        {
          "output_type": "stream",
          "name": "stdout",
          "text": [
            "Current Epoch: 22\n",
            "Training_Loss: 0.07132716307495819  | Validation_Loss: 0.4500888015361542\n",
            "Training_Accuracy: 0.9740360975265503  | Validation_Accuracy: 0.892192006111145\n"
          ]
        },
        {
          "output_type": "stream",
          "name": "stderr",
          "text": [
            "\n",
            "100%|██████████| 188/188 [00:13<00:00, 14.42it/s]"
          ]
        },
        {
          "output_type": "stream",
          "name": "stdout",
          "text": [
            "Current Epoch: 23\n",
            "Training_Loss: 0.06876578695200225  | Validation_Loss: 0.4430327104761245\n",
            "Training_Accuracy: 0.9741815328598022  | Validation_Accuracy: 0.89476078748703\n"
          ]
        },
        {
          "output_type": "stream",
          "name": "stderr",
          "text": [
            "\n",
            "100%|██████████| 188/188 [00:12<00:00, 14.61it/s]"
          ]
        },
        {
          "output_type": "stream",
          "name": "stdout",
          "text": [
            "Current Epoch: 24\n",
            "Training_Loss: 0.06618614458142126  | Validation_Loss: 0.4604143715919332\n",
            "Training_Accuracy: 0.9756062030792236  | Validation_Accuracy: 0.8895055055618286\n"
          ]
        },
        {
          "output_type": "stream",
          "name": "stderr",
          "text": [
            "\n",
            "100%|██████████| 188/188 [00:13<00:00, 14.41it/s]"
          ]
        },
        {
          "output_type": "stream",
          "name": "stdout",
          "text": [
            "Current Epoch: 25\n",
            "Training_Loss: 0.06943220450007852  | Validation_Loss: 0.4986882767778762\n",
            "Training_Accuracy: 0.9750850796699524  | Validation_Accuracy: 0.8842427730560303\n"
          ]
        },
        {
          "output_type": "stream",
          "name": "stderr",
          "text": [
            "\n",
            "100%|██████████| 188/188 [00:15<00:00, 12.38it/s]"
          ]
        },
        {
          "output_type": "stream",
          "name": "stdout",
          "text": [
            "Current Epoch: 26\n",
            "Training_Loss: 0.0612807581003042  | Validation_Loss: 0.4604052913949845\n",
            "Training_Accuracy: 0.9778527617454529  | Validation_Accuracy: 0.8927874565124512\n"
          ]
        },
        {
          "output_type": "stream",
          "name": "stderr",
          "text": [
            "\n",
            "100%|██████████| 188/188 [00:15<00:00, 12.15it/s]"
          ]
        },
        {
          "output_type": "stream",
          "name": "stdout",
          "text": [
            "Current Epoch: 27\n",
            "Training_Loss: 0.06081980206270484  | Validation_Loss: 0.4635453179795691\n",
            "Training_Accuracy: 0.9780967235565186  | Validation_Accuracy: 0.8943461179733276\n"
          ]
        },
        {
          "output_type": "stream",
          "name": "stderr",
          "text": [
            "\n",
            "100%|██████████| 188/188 [00:12<00:00, 14.69it/s]"
          ]
        },
        {
          "output_type": "stream",
          "name": "stdout",
          "text": [
            "Current Epoch: 28\n",
            "Training_Loss: 0.05658192814704269  | Validation_Loss: 0.468780943053834\n",
            "Training_Accuracy: 0.9788246750831604  | Validation_Accuracy: 0.8944646120071411\n"
          ]
        },
        {
          "output_type": "stream",
          "name": "stderr",
          "text": [
            "\n",
            "100%|██████████| 188/188 [00:12<00:00, 14.72it/s]"
          ]
        },
        {
          "output_type": "stream",
          "name": "stdout",
          "text": [
            "Current Epoch: 29\n",
            "Training_Loss: 0.05570796273767631  | Validation_Loss: 0.49244611504230096\n",
            "Training_Accuracy: 0.979467511177063  | Validation_Accuracy: 0.8915679454803467\n"
          ]
        },
        {
          "output_type": "stream",
          "name": "stderr",
          "text": [
            "\n",
            "100%|██████████| 188/188 [00:13<00:00, 14.34it/s]"
          ]
        },
        {
          "output_type": "stream",
          "name": "stdout",
          "text": [
            "Current Epoch: 30\n",
            "Training_Loss: 0.05435687618607536  | Validation_Loss: 0.48833328739125675\n",
            "Training_Accuracy: 0.9803320169448853  | Validation_Accuracy: 0.8893423676490784\n"
          ]
        },
        {
          "output_type": "stream",
          "name": "stderr",
          "text": [
            "\n"
          ]
        },
        {
          "output_type": "stream",
          "name": "stdout",
          "text": [
            "\n",
            "Test Accuracy: 0.8858000636100769 \n",
            "Time to Train: 0:08:10.155732\n"
          ]
        },
        {
          "output_type": "execute_result",
          "data": {
            "text/plain": [
              "<matplotlib.legend.Legend at 0x7c0a0908e620>"
            ]
          },
          "metadata": {},
          "execution_count": 44
        },
        {
          "output_type": "display_data",
          "data": {
            "text/plain": [
              "<Figure size 640x480 with 1 Axes>"
            ],
            "image/png": "[encoded data removed]"
          },
          "metadata": {}
        }
      ]
    },
    {
      "cell_type": "markdown",
      "source": [
        "1b"
      ],
      "metadata": {
        "id": "JxRurlpZ8s9m"
      },
      "id": "JxRurlpZ8s9m"
    },
    {
      "cell_type": "code",
      "source": [
        "# Increased depth and width\n",
        "ComplexModel = nn.Sequential(\n",
        "    nn.Flatten(),\n",
        "    nn.LazyLinear(512),\n",
        "    nn.ReLU(),\n",
        "    nn.Linear(in_features=512, out_features=256),\n",
        "    nn.ReLU(),\n",
        "    nn.Linear(in_features=256, out_features=128),\n",
        "    nn.ReLU(),\n",
        "    nn.Linear(in_features=128, out_features=64),\n",
        "    nn.ReLU(),\n",
        "    nn.Linear(in_features=64, out_features=10),\n",
        ")\n",
        "complex_model = copy.deepcopy(ComplexModel)\n"
      ],
      "metadata": {
        "id": "bQ1HeSGNkgRo"
      },
      "id": "bQ1HeSGNkgRo",
      "execution_count": 11,
      "outputs": []
    },
    {
      "cell_type": "code",
      "source": [
        "complex_m = copy.deepcopy(ComplexModel)\n",
        "complex_model_generator = Train_Model(complex_m, nn.CrossEntropyLoss(), torch.optim.SGD(complex_m.parameters(), lr=0.01, momentum=0.9), MulticlassAccuracy, \"Classification\",  device_to_use, 10)"
      ],
      "metadata": {
        "id": "IL6QYngiktIj"
      },
      "id": "IL6QYngiktIj",
      "execution_count": 12,
      "outputs": []
    },
    {
      "cell_type": "code",
      "source": [
        "start_time = datetime.now()\n",
        "\n",
        "complex_model_generator.fit(trainLoader, validateLoader,\n",
        "                            20 )\n",
        "end_time = datetime.now()\n",
        "complex_model_generator.Test_Model(testLoader)\n",
        "\n",
        "print(\"\\nTest Accuracy:\", complex_model_generator.Metrics[\"Test_Accuracy\"], \"\\nTime to Train:\", end_time - start_time)\n",
        "import matplotlib.pyplot as plt\n",
        "\n",
        "### PLOTTING METRICS\n",
        "plt.plot(complex_model_generator.Metrics['Training_Accuracy'], label='Training Accuracy')\n",
        "plt.plot(complex_model_generator.Metrics['Validation_Accuracy'], label='Validation Accuracy')\n",
        "plt.plot(complex_model_generator.Metrics['Training_Loss'], label='Training Loss')\n",
        "plt.plot(complex_model_generator.Metrics['Validation_Loss'], label='Validation Loss')\n",
        "plt.xlabel('Epoch')\n",
        "plt.ylabel('Metric')\n",
        "plt.legend()"
      ],
      "metadata": {
        "colab": {
          "base_uri": "https://localhost:8080/",
          "height": 1000
        },
        "id": "ykgRelnxlH68",
        "outputId": "4a982ea5-fca7-4771-aad1-d4ab4d1e53af"
      },
      "id": "ykgRelnxlH68",
      "execution_count": 13,
      "outputs": [
        {
          "output_type": "stream",
          "name": "stderr",
          "text": [
            "100%|██████████| 188/188 [00:13<00:00, 14.45it/s]"
          ]
        },
        {
          "output_type": "stream",
          "name": "stdout",
          "text": [
            "Current Epoch: 1\n",
            "Training_Loss: 1.2937736720480817  | Validation_Loss: 2.304798384930225\n",
            "Training_Accuracy: 0.5568025708198547  | Validation_Accuracy: 0.13205842673778534\n"
          ]
        },
        {
          "output_type": "stream",
          "name": "stderr",
          "text": [
            "\n",
            "100%|██████████| 188/188 [00:12<00:00, 14.97it/s]"
          ]
        },
        {
          "output_type": "stream",
          "name": "stdout",
          "text": [
            "Current Epoch: 2\n",
            "Training_Loss: 0.5312046388045271  | Validation_Loss: 0.593042993799169\n",
            "Training_Accuracy: 0.8066989183425903  | Validation_Accuracy: 0.7827747464179993\n"
          ]
        },
        {
          "output_type": "stream",
          "name": "stderr",
          "text": [
            "\n",
            "100%|██████████| 188/188 [00:12<00:00, 14.76it/s]"
          ]
        },
        {
          "output_type": "stream",
          "name": "stdout",
          "text": [
            "Current Epoch: 3\n",
            "Training_Loss: 0.42796649942372705  | Validation_Loss: 0.4584971717063417\n",
            "Training_Accuracy: 0.8445535898208618  | Validation_Accuracy: 0.8304393291473389\n"
          ]
        },
        {
          "output_type": "stream",
          "name": "stderr",
          "text": [
            "\n",
            "100%|██████████| 188/188 [00:12<00:00, 15.06it/s]"
          ]
        },
        {
          "output_type": "stream",
          "name": "stdout",
          "text": [
            "Current Epoch: 4\n",
            "Training_Loss: 0.38038647618699584  | Validation_Loss: 0.40849661002767845\n",
            "Training_Accuracy: 0.8618348836898804  | Validation_Accuracy: 0.8522859215736389\n"
          ]
        },
        {
          "output_type": "stream",
          "name": "stderr",
          "text": [
            "\n",
            "100%|██████████| 188/188 [00:12<00:00, 14.85it/s]"
          ]
        },
        {
          "output_type": "stream",
          "name": "stdout",
          "text": [
            "Current Epoch: 5\n",
            "Training_Loss: 0.3513187372938116  | Validation_Loss: 0.378671148355971\n",
            "Training_Accuracy: 0.873492956161499  | Validation_Accuracy: 0.8660114407539368\n"
          ]
        },
        {
          "output_type": "stream",
          "name": "stderr",
          "text": [
            "\n",
            "100%|██████████| 188/188 [00:15<00:00, 12.46it/s]\n"
          ]
        },
        {
          "output_type": "stream",
          "name": "stdout",
          "text": [
            "Current Epoch: 6\n",
            "Training_Loss: 0.3303688227179203  | Validation_Loss: 0.365194227467192\n",
            "Training_Accuracy: 0.881794273853302  | Validation_Accuracy: 0.8643696308135986\n"
          ]
        },
        {
          "output_type": "stream",
          "name": "stderr",
          "text": [
            "100%|██████████| 188/188 [00:14<00:00, 13.27it/s]"
          ]
        },
        {
          "output_type": "stream",
          "name": "stdout",
          "text": [
            "Current Epoch: 7\n",
            "Training_Loss: 0.30792854916542134  | Validation_Loss: 0.3501115637890836\n",
            "Training_Accuracy: 0.8885189890861511  | Validation_Accuracy: 0.8722237944602966\n"
          ]
        },
        {
          "output_type": "stream",
          "name": "stderr",
          "text": [
            "\n",
            "100%|██████████| 188/188 [00:12<00:00, 15.29it/s]"
          ]
        },
        {
          "output_type": "stream",
          "name": "stdout",
          "text": [
            "Current Epoch: 8\n",
            "Training_Loss: 0.29126678320004584  | Validation_Loss: 0.351764330204497\n",
            "Training_Accuracy: 0.8936163187026978  | Validation_Accuracy: 0.8750581741333008\n"
          ]
        },
        {
          "output_type": "stream",
          "name": "stderr",
          "text": [
            "\n",
            "100%|██████████| 188/188 [00:12<00:00, 15.16it/s]"
          ]
        },
        {
          "output_type": "stream",
          "name": "stdout",
          "text": [
            "Current Epoch: 9\n",
            "Training_Loss: 0.2793359549597223  | Validation_Loss: 0.3298594460208365\n",
            "Training_Accuracy: 0.8972482085227966  | Validation_Accuracy: 0.8777852058410645\n"
          ]
        },
        {
          "output_type": "stream",
          "name": "stderr",
          "text": [
            "\n",
            "100%|██████████| 188/188 [00:12<00:00, 15.16it/s]"
          ]
        },
        {
          "output_type": "stream",
          "name": "stdout",
          "text": [
            "Current Epoch: 10\n",
            "Training_Loss: 0.2634627261852964  | Validation_Loss: 0.3464110344648361\n",
            "Training_Accuracy: 0.9034388661384583  | Validation_Accuracy: 0.8765068054199219\n"
          ]
        },
        {
          "output_type": "stream",
          "name": "stderr",
          "text": [
            "\n",
            "100%|██████████| 188/188 [00:12<00:00, 14.75it/s]"
          ]
        },
        {
          "output_type": "stream",
          "name": "stdout",
          "text": [
            "Current Epoch: 11\n",
            "Training_Loss: 0.2502408766366066  | Validation_Loss: 0.33593668202136423\n",
            "Training_Accuracy: 0.9068446755409241  | Validation_Accuracy: 0.8789477944374084\n"
          ]
        },
        {
          "output_type": "stream",
          "name": "stderr",
          "text": [
            "\n",
            "100%|██████████| 188/188 [00:12<00:00, 14.65it/s]"
          ]
        },
        {
          "output_type": "stream",
          "name": "stdout",
          "text": [
            "Current Epoch: 12\n",
            "Training_Loss: 0.23612873541547896  | Validation_Loss: 0.3198221595363414\n",
            "Training_Accuracy: 0.9134793281555176  | Validation_Accuracy: 0.884709358215332\n"
          ]
        },
        {
          "output_type": "stream",
          "name": "stderr",
          "text": [
            "\n",
            "100%|██████████| 188/188 [00:12<00:00, 15.00it/s]"
          ]
        },
        {
          "output_type": "stream",
          "name": "stdout",
          "text": [
            "Current Epoch: 13\n",
            "Training_Loss: 0.23015564394758103  | Validation_Loss: 0.31205728111114905\n",
            "Training_Accuracy: 0.917685329914093  | Validation_Accuracy: 0.8904372453689575\n"
          ]
        },
        {
          "output_type": "stream",
          "name": "stderr",
          "text": [
            "\n",
            "100%|██████████| 188/188 [00:13<00:00, 14.29it/s]"
          ]
        },
        {
          "output_type": "stream",
          "name": "stdout",
          "text": [
            "Current Epoch: 14\n",
            "Training_Loss: 0.21824912845771363  | Validation_Loss: 0.3075482426805699\n",
            "Training_Accuracy: 0.919514000415802  | Validation_Accuracy: 0.8891183733940125\n"
          ]
        },
        {
          "output_type": "stream",
          "name": "stderr",
          "text": [
            "\n",
            "100%|██████████| 188/188 [00:12<00:00, 14.97it/s]"
          ]
        },
        {
          "output_type": "stream",
          "name": "stdout",
          "text": [
            "Current Epoch: 15\n",
            "Training_Loss: 0.20644081074823725  | Validation_Loss: 0.31511511289058847\n",
            "Training_Accuracy: 0.9248381853103638  | Validation_Accuracy: 0.8905988931655884\n"
          ]
        },
        {
          "output_type": "stream",
          "name": "stderr",
          "text": [
            "\n",
            "100%|██████████| 188/188 [00:12<00:00, 14.92it/s]"
          ]
        },
        {
          "output_type": "stream",
          "name": "stdout",
          "text": [
            "Current Epoch: 16\n",
            "Training_Loss: 0.19996296075430323  | Validation_Loss: 0.3194740281460133\n",
            "Training_Accuracy: 0.9271935820579529  | Validation_Accuracy: 0.8907185792922974\n"
          ]
        },
        {
          "output_type": "stream",
          "name": "stderr",
          "text": [
            "\n",
            "100%|██████████| 188/188 [00:12<00:00, 15.00it/s]"
          ]
        },
        {
          "output_type": "stream",
          "name": "stdout",
          "text": [
            "Current Epoch: 17\n",
            "Training_Loss: 0.18603716430036313  | Validation_Loss: 0.32891641145056866\n",
            "Training_Accuracy: 0.9315397143363953  | Validation_Accuracy: 0.8836591839790344\n"
          ]
        },
        {
          "output_type": "stream",
          "name": "stderr",
          "text": [
            "\n",
            "100%|██████████| 188/188 [00:12<00:00, 14.86it/s]"
          ]
        },
        {
          "output_type": "stream",
          "name": "stdout",
          "text": [
            "Current Epoch: 18\n",
            "Training_Loss: 0.1828148633320915  | Validation_Loss: 0.3188747101007624\n",
            "Training_Accuracy: 0.9329761862754822  | Validation_Accuracy: 0.8881409168243408\n"
          ]
        },
        {
          "output_type": "stream",
          "name": "stderr",
          "text": [
            "\n",
            "100%|██████████| 188/188 [00:12<00:00, 14.80it/s]"
          ]
        },
        {
          "output_type": "stream",
          "name": "stdout",
          "text": [
            "Current Epoch: 19\n",
            "Training_Loss: 0.17735475559342415  | Validation_Loss: 0.32617660722833997\n",
            "Training_Accuracy: 0.9349329471588135  | Validation_Accuracy: 0.8891366720199585\n"
          ]
        },
        {
          "output_type": "stream",
          "name": "stderr",
          "text": [
            "\n",
            "100%|██████████| 188/188 [00:12<00:00, 14.79it/s]"
          ]
        },
        {
          "output_type": "stream",
          "name": "stdout",
          "text": [
            "Current Epoch: 20\n",
            "Training_Loss: 0.16098146735036628  | Validation_Loss: 0.37634099576067415\n",
            "Training_Accuracy: 0.9407824873924255  | Validation_Accuracy: 0.8750181794166565\n"
          ]
        },
        {
          "output_type": "stream",
          "name": "stderr",
          "text": [
            "\n"
          ]
        },
        {
          "output_type": "stream",
          "name": "stdout",
          "text": [
            "\n",
            "Test Accuracy: 0.8857999444007874 \n",
            "Time to Train: 0:05:20.589092\n"
          ]
        },
        {
          "output_type": "execute_result",
          "data": {
            "text/plain": [
              "<matplotlib.legend.Legend at 0x7c0a095d6680>"
            ]
          },
          "metadata": {},
          "execution_count": 13
        },
        {
          "output_type": "display_data",
          "data": {
            "text/plain": [
              "<Figure size 640x480 with 1 Axes>"
            ],
            "image/png": "[encoded data removed]"
          },
          "metadata": {}
        }
      ]
    },
    {
      "cell_type": "markdown",
      "metadata": {
        "id": "abb09d7a-feca-405a-98b9-99df31625ddd"
      },
      "source": [
        "### Does your network need more epochs for full training? Do you observe overfitting?\n",
        "We see that the validation loss hasn't shown any major change over the 20 epochs where as the training loss has reduced which means that the model is performing better on the training dataset but not the validation dataset resulting in overfitting.\n"
      ],
      "id": "abb09d7a-feca-405a-98b9-99df31625ddd"
    },
    {
      "cell_type": "markdown",
      "metadata": {
        "id": "08a14d6d-16c3-422f-a71e-07f242b6cabc"
      },
      "source": [
        "## Problem 2 Housing Predictions"
      ],
      "id": "08a14d6d-16c3-422f-a71e-07f242b6cabc"
    },
    {
      "cell_type": "code",
      "execution_count": 14,
      "metadata": {
        "id": "dfb625cf-fd8a-4dba-85fd-8e817b7b9e17"
      },
      "outputs": [],
      "source": [
        "device_to_use = torch.device(\"cuda\" if torch.cuda.is_available() else \"cpu\")"
      ],
      "id": "dfb625cf-fd8a-4dba-85fd-8e817b7b9e17"
    },
    {
      "cell_type": "code",
      "execution_count": 28,
      "metadata": {
        "id": "8209da66-a905-48c1-8f41-84857c1f49ba",
        "colab": {
          "base_uri": "https://localhost:8080/",
          "height": 491
        },
        "outputId": "3ad4f65c-9f7f-4953-b1aa-96c7330f8b16"
      },
      "outputs": [
        {
          "output_type": "display_data",
          "data": {
            "text/plain": [
              "   Id  MSSubClass MSZoning  LotFrontage  LotArea Street Alley LotShape  \\\n",
              "0   1          60       RL         65.0     8450   Pave   NaN      Reg   \n",
              "1   2          20       RL         80.0     9600   Pave   NaN      Reg   \n",
              "2   3          60       RL         68.0    11250   Pave   NaN      IR1   \n",
              "3   4          70       RL         60.0     9550   Pave   NaN      IR1   \n",
              "4   5          60       RL         84.0    14260   Pave   NaN      IR1   \n",
              "\n",
              "  LandContour Utilities  ... PoolArea PoolQC Fence MiscFeature MiscVal MoSold  \\\n",
              "0         Lvl    AllPub  ...        0    NaN   NaN         NaN       0      2   \n",
              "1         Lvl    AllPub  ...        0    NaN   NaN         NaN       0      5   \n",
              "2         Lvl    AllPub  ...        0    NaN   NaN         NaN       0      9   \n",
              "3         Lvl    AllPub  ...        0    NaN   NaN         NaN       0      2   \n",
              "4         Lvl    AllPub  ...        0    NaN   NaN         NaN       0     12   \n",
              "\n",
              "  YrSold  SaleType  SaleCondition  SalePrice  \n",
              "0   2008        WD         Normal     208500  \n",
              "1   2007        WD         Normal     181500  \n",
              "2   2008        WD         Normal     223500  \n",
              "3   2006        WD        Abnorml     140000  \n",
              "4   2008        WD         Normal     250000  \n",
              "\n",
              "[5 rows x 81 columns]"
            ],
            "text/html": [
              "\n",
              "  <div id=\"df-7172c10b-0797-4420-b72a-16843de16190\" class=\"colab-df-container\">\n",
              "    <div>\n",
              "<style scoped>\n",
              "    .dataframe tbody tr th:only-of-type {\n",
              "        vertical-align: middle;\n",
              "    }\n",
              "\n",
              "    .dataframe tbody tr th {\n",
              "        vertical-align: top;\n",
              "    }\n",
              "\n",
              "    .dataframe thead th {\n",
              "        text-align: right;\n",
              "    }\n",
              "</style>\n",
              "<table border=\"1\" class=\"dataframe\">\n",
              "  <thead>\n",
              "    <tr style=\"text-align: right;\">\n",
              "      <th></th>\n",
              "      <th>Id</th>\n",
              "      <th>MSSubClass</th>\n",
              "      <th>MSZoning</th>\n",
              "      <th>LotFrontage</th>\n",
              "      <th>LotArea</th>\n",
              "      <th>Street</th>\n",
              "      <th>Alley</th>\n",
              "      <th>LotShape</th>\n",
              "      <th>LandContour</th>\n",
              "      <th>Utilities</th>\n",
              "      <th>...</th>\n",
              "      <th>PoolArea</th>\n",
              "      <th>PoolQC</th>\n",
              "      <th>Fence</th>\n",
              "      <th>MiscFeature</th>\n",
              "      <th>MiscVal</th>\n",
              "      <th>MoSold</th>\n",
              "      <th>YrSold</th>\n",
              "      <th>SaleType</th>\n",
              "      <th>SaleCondition</th>\n",
              "      <th>SalePrice</th>\n",
              "    </tr>\n",
              "  </thead>\n",
              "  <tbody>\n",
              "    <tr>\n",
              "      <th>0</th>\n",
              "      <td>1</td>\n",
              "      <td>60</td>\n",
              "      <td>RL</td>\n",
              "      <td>65.0</td>\n",
              "      <td>8450</td>\n",
              "      <td>Pave</td>\n",
              "      <td>NaN</td>\n",
              "      <td>Reg</td>\n",
              "      <td>Lvl</td>\n",
              "      <td>AllPub</td>\n",
              "      <td>...</td>\n",
              "      <td>0</td>\n",
              "      <td>NaN</td>\n",
              "      <td>NaN</td>\n",
              "      <td>NaN</td>\n",
              "      <td>0</td>\n",
              "      <td>2</td>\n",
              "      <td>2008</td>\n",
              "      <td>WD</td>\n",
              "      <td>Normal</td>\n",
              "      <td>208500</td>\n",
              "    </tr>\n",
              "    <tr>\n",
              "      <th>1</th>\n",
              "      <td>2</td>\n",
              "      <td>20</td>\n",
              "      <td>RL</td>\n",
              "      <td>80.0</td>\n",
              "      <td>9600</td>\n",
              "      <td>Pave</td>\n",
              "      <td>NaN</td>\n",
              "      <td>Reg</td>\n",
              "      <td>Lvl</td>\n",
              "      <td>AllPub</td>\n",
              "      <td>...</td>\n",
              "      <td>0</td>\n",
              "      <td>NaN</td>\n",
              "      <td>NaN</td>\n",
              "      <td>NaN</td>\n",
              "      <td>0</td>\n",
              "      <td>5</td>\n",
              "      <td>2007</td>\n",
              "      <td>WD</td>\n",
              "      <td>Normal</td>\n",
              "      <td>181500</td>\n",
              "    </tr>\n",
              "    <tr>\n",
              "      <th>2</th>\n",
              "      <td>3</td>\n",
              "      <td>60</td>\n",
              "      <td>RL</td>\n",
              "      <td>68.0</td>\n",
              "      <td>11250</td>\n",
              "      <td>Pave</td>\n",
              "      <td>NaN</td>\n",
              "      <td>IR1</td>\n",
              "      <td>Lvl</td>\n",
              "      <td>AllPub</td>\n",
              "      <td>...</td>\n",
              "      <td>0</td>\n",
              "      <td>NaN</td>\n",
              "      <td>NaN</td>\n",
              "      <td>NaN</td>\n",
              "      <td>0</td>\n",
              "      <td>9</td>\n",
              "      <td>2008</td>\n",
              "      <td>WD</td>\n",
              "      <td>Normal</td>\n",
              "      <td>223500</td>\n",
              "    </tr>\n",
              "    <tr>\n",
              "      <th>3</th>\n",
              "      <td>4</td>\n",
              "      <td>70</td>\n",
              "      <td>RL</td>\n",
              "      <td>60.0</td>\n",
              "      <td>9550</td>\n",
              "      <td>Pave</td>\n",
              "      <td>NaN</td>\n",
              "      <td>IR1</td>\n",
              "      <td>Lvl</td>\n",
              "      <td>AllPub</td>\n",
              "      <td>...</td>\n",
              "      <td>0</td>\n",
              "      <td>NaN</td>\n",
              "      <td>NaN</td>\n",
              "      <td>NaN</td>\n",
              "      <td>0</td>\n",
              "      <td>2</td>\n",
              "      <td>2006</td>\n",
              "      <td>WD</td>\n",
              "      <td>Abnorml</td>\n",
              "      <td>140000</td>\n",
              "    </tr>\n",
              "    <tr>\n",
              "      <th>4</th>\n",
              "      <td>5</td>\n",
              "      <td>60</td>\n",
              "      <td>RL</td>\n",
              "      <td>84.0</td>\n",
              "      <td>14260</td>\n",
              "      <td>Pave</td>\n",
              "      <td>NaN</td>\n",
              "      <td>IR1</td>\n",
              "      <td>Lvl</td>\n",
              "      <td>AllPub</td>\n",
              "      <td>...</td>\n",
              "      <td>0</td>\n",
              "      <td>NaN</td>\n",
              "      <td>NaN</td>\n",
              "      <td>NaN</td>\n",
              "      <td>0</td>\n",
              "      <td>12</td>\n",
              "      <td>2008</td>\n",
              "      <td>WD</td>\n",
              "      <td>Normal</td>\n",
              "      <td>250000</td>\n",
              "    </tr>\n",
              "  </tbody>\n",
              "</table>\n",
              "<p>5 rows × 81 columns</p>\n",
              "</div>\n",
              "    <div class=\"colab-df-buttons\">\n",
              "\n",
              "  <div class=\"colab-df-container\">\n",
              "    <button class=\"colab-df-convert\" onclick=\"convertToInteractive('df-7172c10b-0797-4420-b72a-16843de16190')\"\n",
              "            title=\"Convert this dataframe to an interactive table.\"\n",
              "            style=\"display:none;\">\n",
              "\n",
              "  <svg xmlns=\"http://www.w3.org/2000/svg\" height=\"24px\" viewBox=\"0 -960 960 960\">\n",
              "    <path d=\"M120-120v-720h720v720H120Zm60-500h600v-160H180v160Zm220 220h160v-160H400v160Zm0 220h160v-160H400v160ZM180-400h160v-160H180v160Zm440 0h160v-160H620v160ZM180-180h160v-160H180v160Zm440 0h160v-160H620v160Z\"/>\n",
              "  </svg>\n",
              "    </button>\n",
              "\n",
              "  <style>\n",
              "    .colab-df-container {\n",
              "      display:flex;\n",
              "      gap: 12px;\n",
              "    }\n",
              "\n",
              "    .colab-df-convert {\n",
              "      background-color: #E8F0FE;\n",
              "      border: none;\n",
              "      border-radius: 50%;\n",
              "      cursor: pointer;\n",
              "      display: none;\n",
              "      fill: #1967D2;\n",
              "      height: 32px;\n",
              "      padding: 0 0 0 0;\n",
              "      width: 32px;\n",
              "    }\n",
              "\n",
              "    .colab-df-convert:hover {\n",
              "      background-color: #E2EBFA;\n",
              "      box-shadow: 0px 1px 2px rgba(60, 64, 67, 0.3), 0px 1px 3px 1px rgba(60, 64, 67, 0.15);\n",
              "      fill: #174EA6;\n",
              "    }\n",
              "\n",
              "    .colab-df-buttons div {\n",
              "      margin-bottom: 4px;\n",
              "    }\n",
              "\n",
              "    [theme=dark] .colab-df-convert {\n",
              "      background-color: #3B4455;\n",
              "      fill: #D2E3FC;\n",
              "    }\n",
              "\n",
              "    [theme=dark] .colab-df-convert:hover {\n",
              "      background-color: #434B5C;\n",
              "      box-shadow: 0px 1px 3px 1px rgba(0, 0, 0, 0.15);\n",
              "      filter: drop-shadow(0px 1px 2px rgba(0, 0, 0, 0.3));\n",
              "      fill: #FFFFFF;\n",
              "    }\n",
              "  </style>\n",
              "\n",
              "    <script>\n",
              "      const buttonEl =\n",
              "        document.querySelector('#df-7172c10b-0797-4420-b72a-16843de16190 button.colab-df-convert');\n",
              "      buttonEl.style.display =\n",
              "        google.colab.kernel.accessAllowed ? 'block' : 'none';\n",
              "\n",
              "      async function convertToInteractive(key) {\n",
              "        const element = document.querySelector('#df-7172c10b-0797-4420-b72a-16843de16190');\n",
              "        const dataTable =\n",
              "          await google.colab.kernel.invokeFunction('convertToInteractive',\n",
              "                                                    [key], {});\n",
              "        if (!dataTable) return;\n",
              "\n",
              "        const docLinkHtml = 'Like what you see? Visit the ' +\n",
              "          '<a target=\"_blank\" href=https://colab.research.google.com/notebooks/data_table.ipynb>data table notebook</a>'\n",
              "          + ' to learn more about interactive tables.';\n",
              "        element.innerHTML = '';\n",
              "        dataTable['output_type'] = 'display_data';\n",
              "        await google.colab.output.renderOutput(dataTable, element);\n",
              "        const docLink = document.createElement('div');\n",
              "        docLink.innerHTML = docLinkHtml;\n",
              "        element.appendChild(docLink);\n",
              "      }\n",
              "    </script>\n",
              "  </div>\n",
              "\n",
              "\n",
              "<div id=\"df-5506cb57-aa57-4193-88ae-d65cc82f94b1\">\n",
              "  <button class=\"colab-df-quickchart\" onclick=\"quickchart('df-5506cb57-aa57-4193-88ae-d65cc82f94b1')\"\n",
              "            title=\"Suggest charts\"\n",
              "            style=\"display:none;\">\n",
              "\n",
              "<svg xmlns=\"http://www.w3.org/2000/svg\" height=\"24px\"viewBox=\"0 0 24 24\"\n",
              "     width=\"24px\">\n",
              "    <g>\n",
              "        <path d=\"M19 3H5c-1.1 0-2 .9-2 2v14c0 1.1.9 2 2 2h14c1.1 0 2-.9 2-2V5c0-1.1-.9-2-2-2zM9 17H7v-7h2v7zm4 0h-2V7h2v10zm4 0h-2v-4h2v4z\"/>\n",
              "    </g>\n",
              "</svg>\n",
              "  </button>\n",
              "\n",
              "<style>\n",
              "  .colab-df-quickchart {\n",
              "      --bg-color: #E8F0FE;\n",
              "      --fill-color: #1967D2;\n",
              "      --hover-bg-color: #E2EBFA;\n",
              "      --hover-fill-color: #174EA6;\n",
              "      --disabled-fill-color: #AAA;\n",
              "      --disabled-bg-color: #DDD;\n",
              "  }\n",
              "\n",
              "  [theme=dark] .colab-df-quickchart {\n",
              "      --bg-color: #3B4455;\n",
              "      --fill-color: #D2E3FC;\n",
              "      --hover-bg-color: #434B5C;\n",
              "      --hover-fill-color: #FFFFFF;\n",
              "      --disabled-bg-color: #3B4455;\n",
              "      --disabled-fill-color: #666;\n",
              "  }\n",
              "\n",
              "  .colab-df-quickchart {\n",
              "    background-color: var(--bg-color);\n",
              "    border: none;\n",
              "    border-radius: 50%;\n",
              "    cursor: pointer;\n",
              "    display: none;\n",
              "    fill: var(--fill-color);\n",
              "    height: 32px;\n",
              "    padding: 0;\n",
              "    width: 32px;\n",
              "  }\n",
              "\n",
              "  .colab-df-quickchart:hover {\n",
              "    background-color: var(--hover-bg-color);\n",
              "    box-shadow: 0 1px 2px rgba(60, 64, 67, 0.3), 0 1px 3px 1px rgba(60, 64, 67, 0.15);\n",
              "    fill: var(--button-hover-fill-color);\n",
              "  }\n",
              "\n",
              "  .colab-df-quickchart-complete:disabled,\n",
              "  .colab-df-quickchart-complete:disabled:hover {\n",
              "    background-color: var(--disabled-bg-color);\n",
              "    fill: var(--disabled-fill-color);\n",
              "    box-shadow: none;\n",
              "  }\n",
              "\n",
              "  .colab-df-spinner {\n",
              "    border: 2px solid var(--fill-color);\n",
              "    border-color: transparent;\n",
              "    border-bottom-color: var(--fill-color);\n",
              "    animation:\n",
              "      spin 1s steps(1) infinite;\n",
              "  }\n",
              "\n",
              "  @keyframes spin {\n",
              "    0% {\n",
              "      border-color: transparent;\n",
              "      border-bottom-color: var(--fill-color);\n",
              "      border-left-color: var(--fill-color);\n",
              "    }\n",
              "    20% {\n",
              "      border-color: transparent;\n",
              "      border-left-color: var(--fill-color);\n",
              "      border-top-color: var(--fill-color);\n",
              "    }\n",
              "    30% {\n",
              "      border-color: transparent;\n",
              "      border-left-color: var(--fill-color);\n",
              "      border-top-color: var(--fill-color);\n",
              "      border-right-color: var(--fill-color);\n",
              "    }\n",
              "    40% {\n",
              "      border-color: transparent;\n",
              "      border-right-color: var(--fill-color);\n",
              "      border-top-color: var(--fill-color);\n",
              "    }\n",
              "    60% {\n",
              "      border-color: transparent;\n",
              "      border-right-color: var(--fill-color);\n",
              "    }\n",
              "    80% {\n",
              "      border-color: transparent;\n",
              "      border-right-color: var(--fill-color);\n",
              "      border-bottom-color: var(--fill-color);\n",
              "    }\n",
              "    90% {\n",
              "      border-color: transparent;\n",
              "      border-bottom-color: var(--fill-color);\n",
              "    }\n",
              "  }\n",
              "</style>\n",
              "\n",
              "  <script>\n",
              "    async function quickchart(key) {\n",
              "      const quickchartButtonEl =\n",
              "        document.querySelector('#' + key + ' button');\n",
              "      quickchartButtonEl.disabled = true;  // To prevent multiple clicks.\n",
              "      quickchartButtonEl.classList.add('colab-df-spinner');\n",
              "      try {\n",
              "        const charts = await google.colab.kernel.invokeFunction(\n",
              "            'suggestCharts', [key], {});\n",
              "      } catch (error) {\n",
              "        console.error('Error during call to suggestCharts:', error);\n",
              "      }\n",
              "      quickchartButtonEl.classList.remove('colab-df-spinner');\n",
              "      quickchartButtonEl.classList.add('colab-df-quickchart-complete');\n",
              "    }\n",
              "    (() => {\n",
              "      let quickchartButtonEl =\n",
              "        document.querySelector('#df-5506cb57-aa57-4193-88ae-d65cc82f94b1 button');\n",
              "      quickchartButtonEl.style.display =\n",
              "        google.colab.kernel.accessAllowed ? 'block' : 'none';\n",
              "    })();\n",
              "  </script>\n",
              "</div>\n",
              "    </div>\n",
              "  </div>\n"
            ]
          },
          "metadata": {}
        },
        {
          "output_type": "display_data",
          "data": {
            "text/plain": [
              "     Id  MSSubClass MSZoning  LotFrontage  LotArea Street Alley LotShape  \\\n",
              "0  1461          20       RH         80.0    11622   Pave   NaN      Reg   \n",
              "1  1462          20       RL         81.0    14267   Pave   NaN      IR1   \n",
              "2  1463          60       RL         74.0    13830   Pave   NaN      IR1   \n",
              "3  1464          60       RL         78.0     9978   Pave   NaN      IR1   \n",
              "4  1465         120       RL         43.0     5005   Pave   NaN      IR1   \n",
              "\n",
              "  LandContour Utilities  ... ScreenPorch PoolArea PoolQC  Fence MiscFeature  \\\n",
              "0         Lvl    AllPub  ...         120        0    NaN  MnPrv         NaN   \n",
              "1         Lvl    AllPub  ...           0        0    NaN    NaN        Gar2   \n",
              "2         Lvl    AllPub  ...           0        0    NaN  MnPrv         NaN   \n",
              "3         Lvl    AllPub  ...           0        0    NaN    NaN         NaN   \n",
              "4         HLS    AllPub  ...         144        0    NaN    NaN         NaN   \n",
              "\n",
              "  MiscVal MoSold  YrSold  SaleType  SaleCondition  \n",
              "0       0      6    2010        WD         Normal  \n",
              "1   12500      6    2010        WD         Normal  \n",
              "2       0      3    2010        WD         Normal  \n",
              "3       0      6    2010        WD         Normal  \n",
              "4       0      1    2010        WD         Normal  \n",
              "\n",
              "[5 rows x 80 columns]"
            ],
            "text/html": [
              "\n",
              "  <div id=\"df-f13b49b5-3da3-43b5-b388-ed9ec4056a97\" class=\"colab-df-container\">\n",
              "    <div>\n",
              "<style scoped>\n",
              "    .dataframe tbody tr th:only-of-type {\n",
              "        vertical-align: middle;\n",
              "    }\n",
              "\n",
              "    .dataframe tbody tr th {\n",
              "        vertical-align: top;\n",
              "    }\n",
              "\n",
              "    .dataframe thead th {\n",
              "        text-align: right;\n",
              "    }\n",
              "</style>\n",
              "<table border=\"1\" class=\"dataframe\">\n",
              "  <thead>\n",
              "    <tr style=\"text-align: right;\">\n",
              "      <th></th>\n",
              "      <th>Id</th>\n",
              "      <th>MSSubClass</th>\n",
              "      <th>MSZoning</th>\n",
              "      <th>LotFrontage</th>\n",
              "      <th>LotArea</th>\n",
              "      <th>Street</th>\n",
              "      <th>Alley</th>\n",
              "      <th>LotShape</th>\n",
              "      <th>LandContour</th>\n",
              "      <th>Utilities</th>\n",
              "      <th>...</th>\n",
              "      <th>ScreenPorch</th>\n",
              "      <th>PoolArea</th>\n",
              "      <th>PoolQC</th>\n",
              "      <th>Fence</th>\n",
              "      <th>MiscFeature</th>\n",
              "      <th>MiscVal</th>\n",
              "      <th>MoSold</th>\n",
              "      <th>YrSold</th>\n",
              "      <th>SaleType</th>\n",
              "      <th>SaleCondition</th>\n",
              "    </tr>\n",
              "  </thead>\n",
              "  <tbody>\n",
              "    <tr>\n",
              "      <th>0</th>\n",
              "      <td>1461</td>\n",
              "      <td>20</td>\n",
              "      <td>RH</td>\n",
              "      <td>80.0</td>\n",
              "      <td>11622</td>\n",
              "      <td>Pave</td>\n",
              "      <td>NaN</td>\n",
              "      <td>Reg</td>\n",
              "      <td>Lvl</td>\n",
              "      <td>AllPub</td>\n",
              "      <td>...</td>\n",
              "      <td>120</td>\n",
              "      <td>0</td>\n",
              "      <td>NaN</td>\n",
              "      <td>MnPrv</td>\n",
              "      <td>NaN</td>\n",
              "      <td>0</td>\n",
              "      <td>6</td>\n",
              "      <td>2010</td>\n",
              "      <td>WD</td>\n",
              "      <td>Normal</td>\n",
              "    </tr>\n",
              "    <tr>\n",
              "      <th>1</th>\n",
              "      <td>1462</td>\n",
              "      <td>20</td>\n",
              "      <td>RL</td>\n",
              "      <td>81.0</td>\n",
              "      <td>14267</td>\n",
              "      <td>Pave</td>\n",
              "      <td>NaN</td>\n",
              "      <td>IR1</td>\n",
              "      <td>Lvl</td>\n",
              "      <td>AllPub</td>\n",
              "      <td>...</td>\n",
              "      <td>0</td>\n",
              "      <td>0</td>\n",
              "      <td>NaN</td>\n",
              "      <td>NaN</td>\n",
              "      <td>Gar2</td>\n",
              "      <td>12500</td>\n",
              "      <td>6</td>\n",
              "      <td>2010</td>\n",
              "      <td>WD</td>\n",
              "      <td>Normal</td>\n",
              "    </tr>\n",
              "    <tr>\n",
              "      <th>2</th>\n",
              "      <td>1463</td>\n",
              "      <td>60</td>\n",
              "      <td>RL</td>\n",
              "      <td>74.0</td>\n",
              "      <td>13830</td>\n",
              "      <td>Pave</td>\n",
              "      <td>NaN</td>\n",
              "      <td>IR1</td>\n",
              "      <td>Lvl</td>\n",
              "      <td>AllPub</td>\n",
              "      <td>...</td>\n",
              "      <td>0</td>\n",
              "      <td>0</td>\n",
              "      <td>NaN</td>\n",
              "      <td>MnPrv</td>\n",
              "      <td>NaN</td>\n",
              "      <td>0</td>\n",
              "      <td>3</td>\n",
              "      <td>2010</td>\n",
              "      <td>WD</td>\n",
              "      <td>Normal</td>\n",
              "    </tr>\n",
              "    <tr>\n",
              "      <th>3</th>\n",
              "      <td>1464</td>\n",
              "      <td>60</td>\n",
              "      <td>RL</td>\n",
              "      <td>78.0</td>\n",
              "      <td>9978</td>\n",
              "      <td>Pave</td>\n",
              "      <td>NaN</td>\n",
              "      <td>IR1</td>\n",
              "      <td>Lvl</td>\n",
              "      <td>AllPub</td>\n",
              "      <td>...</td>\n",
              "      <td>0</td>\n",
              "      <td>0</td>\n",
              "      <td>NaN</td>\n",
              "      <td>NaN</td>\n",
              "      <td>NaN</td>\n",
              "      <td>0</td>\n",
              "      <td>6</td>\n",
              "      <td>2010</td>\n",
              "      <td>WD</td>\n",
              "      <td>Normal</td>\n",
              "    </tr>\n",
              "    <tr>\n",
              "      <th>4</th>\n",
              "      <td>1465</td>\n",
              "      <td>120</td>\n",
              "      <td>RL</td>\n",
              "      <td>43.0</td>\n",
              "      <td>5005</td>\n",
              "      <td>Pave</td>\n",
              "      <td>NaN</td>\n",
              "      <td>IR1</td>\n",
              "      <td>HLS</td>\n",
              "      <td>AllPub</td>\n",
              "      <td>...</td>\n",
              "      <td>144</td>\n",
              "      <td>0</td>\n",
              "      <td>NaN</td>\n",
              "      <td>NaN</td>\n",
              "      <td>NaN</td>\n",
              "      <td>0</td>\n",
              "      <td>1</td>\n",
              "      <td>2010</td>\n",
              "      <td>WD</td>\n",
              "      <td>Normal</td>\n",
              "    </tr>\n",
              "  </tbody>\n",
              "</table>\n",
              "<p>5 rows × 80 columns</p>\n",
              "</div>\n",
              "    <div class=\"colab-df-buttons\">\n",
              "\n",
              "  <div class=\"colab-df-container\">\n",
              "    <button class=\"colab-df-convert\" onclick=\"convertToInteractive('df-f13b49b5-3da3-43b5-b388-ed9ec4056a97')\"\n",
              "            title=\"Convert this dataframe to an interactive table.\"\n",
              "            style=\"display:none;\">\n",
              "\n",
              "  <svg xmlns=\"http://www.w3.org/2000/svg\" height=\"24px\" viewBox=\"0 -960 960 960\">\n",
              "    <path d=\"M120-120v-720h720v720H120Zm60-500h600v-160H180v160Zm220 220h160v-160H400v160Zm0 220h160v-160H400v160ZM180-400h160v-160H180v160Zm440 0h160v-160H620v160ZM180-180h160v-160H180v160Zm440 0h160v-160H620v160Z\"/>\n",
              "  </svg>\n",
              "    </button>\n",
              "\n",
              "  <style>\n",
              "    .colab-df-container {\n",
              "      display:flex;\n",
              "      gap: 12px;\n",
              "    }\n",
              "\n",
              "    .colab-df-convert {\n",
              "      background-color: #E8F0FE;\n",
              "      border: none;\n",
              "      border-radius: 50%;\n",
              "      cursor: pointer;\n",
              "      display: none;\n",
              "      fill: #1967D2;\n",
              "      height: 32px;\n",
              "      padding: 0 0 0 0;\n",
              "      width: 32px;\n",
              "    }\n",
              "\n",
              "    .colab-df-convert:hover {\n",
              "      background-color: #E2EBFA;\n",
              "      box-shadow: 0px 1px 2px rgba(60, 64, 67, 0.3), 0px 1px 3px 1px rgba(60, 64, 67, 0.15);\n",
              "      fill: #174EA6;\n",
              "    }\n",
              "\n",
              "    .colab-df-buttons div {\n",
              "      margin-bottom: 4px;\n",
              "    }\n",
              "\n",
              "    [theme=dark] .colab-df-convert {\n",
              "      background-color: #3B4455;\n",
              "      fill: #D2E3FC;\n",
              "    }\n",
              "\n",
              "    [theme=dark] .colab-df-convert:hover {\n",
              "      background-color: #434B5C;\n",
              "      box-shadow: 0px 1px 3px 1px rgba(0, 0, 0, 0.15);\n",
              "      filter: drop-shadow(0px 1px 2px rgba(0, 0, 0, 0.3));\n",
              "      fill: #FFFFFF;\n",
              "    }\n",
              "  </style>\n",
              "\n",
              "    <script>\n",
              "      const buttonEl =\n",
              "        document.querySelector('#df-f13b49b5-3da3-43b5-b388-ed9ec4056a97 button.colab-df-convert');\n",
              "      buttonEl.style.display =\n",
              "        google.colab.kernel.accessAllowed ? 'block' : 'none';\n",
              "\n",
              "      async function convertToInteractive(key) {\n",
              "        const element = document.querySelector('#df-f13b49b5-3da3-43b5-b388-ed9ec4056a97');\n",
              "        const dataTable =\n",
              "          await google.colab.kernel.invokeFunction('convertToInteractive',\n",
              "                                                    [key], {});\n",
              "        if (!dataTable) return;\n",
              "\n",
              "        const docLinkHtml = 'Like what you see? Visit the ' +\n",
              "          '<a target=\"_blank\" href=https://colab.research.google.com/notebooks/data_table.ipynb>data table notebook</a>'\n",
              "          + ' to learn more about interactive tables.';\n",
              "        element.innerHTML = '';\n",
              "        dataTable['output_type'] = 'display_data';\n",
              "        await google.colab.output.renderOutput(dataTable, element);\n",
              "        const docLink = document.createElement('div');\n",
              "        docLink.innerHTML = docLinkHtml;\n",
              "        element.appendChild(docLink);\n",
              "      }\n",
              "    </script>\n",
              "  </div>\n",
              "\n",
              "\n",
              "<div id=\"df-af05c91f-f747-439e-9563-b9d62bd2d874\">\n",
              "  <button class=\"colab-df-quickchart\" onclick=\"quickchart('df-af05c91f-f747-439e-9563-b9d62bd2d874')\"\n",
              "            title=\"Suggest charts\"\n",
              "            style=\"display:none;\">\n",
              "\n",
              "<svg xmlns=\"http://www.w3.org/2000/svg\" height=\"24px\"viewBox=\"0 0 24 24\"\n",
              "     width=\"24px\">\n",
              "    <g>\n",
              "        <path d=\"M19 3H5c-1.1 0-2 .9-2 2v14c0 1.1.9 2 2 2h14c1.1 0 2-.9 2-2V5c0-1.1-.9-2-2-2zM9 17H7v-7h2v7zm4 0h-2V7h2v10zm4 0h-2v-4h2v4z\"/>\n",
              "    </g>\n",
              "</svg>\n",
              "  </button>\n",
              "\n",
              "<style>\n",
              "  .colab-df-quickchart {\n",
              "      --bg-color: #E8F0FE;\n",
              "      --fill-color: #1967D2;\n",
              "      --hover-bg-color: #E2EBFA;\n",
              "      --hover-fill-color: #174EA6;\n",
              "      --disabled-fill-color: #AAA;\n",
              "      --disabled-bg-color: #DDD;\n",
              "  }\n",
              "\n",
              "  [theme=dark] .colab-df-quickchart {\n",
              "      --bg-color: #3B4455;\n",
              "      --fill-color: #D2E3FC;\n",
              "      --hover-bg-color: #434B5C;\n",
              "      --hover-fill-color: #FFFFFF;\n",
              "      --disabled-bg-color: #3B4455;\n",
              "      --disabled-fill-color: #666;\n",
              "  }\n",
              "\n",
              "  .colab-df-quickchart {\n",
              "    background-color: var(--bg-color);\n",
              "    border: none;\n",
              "    border-radius: 50%;\n",
              "    cursor: pointer;\n",
              "    display: none;\n",
              "    fill: var(--fill-color);\n",
              "    height: 32px;\n",
              "    padding: 0;\n",
              "    width: 32px;\n",
              "  }\n",
              "\n",
              "  .colab-df-quickchart:hover {\n",
              "    background-color: var(--hover-bg-color);\n",
              "    box-shadow: 0 1px 2px rgba(60, 64, 67, 0.3), 0 1px 3px 1px rgba(60, 64, 67, 0.15);\n",
              "    fill: var(--button-hover-fill-color);\n",
              "  }\n",
              "\n",
              "  .colab-df-quickchart-complete:disabled,\n",
              "  .colab-df-quickchart-complete:disabled:hover {\n",
              "    background-color: var(--disabled-bg-color);\n",
              "    fill: var(--disabled-fill-color);\n",
              "    box-shadow: none;\n",
              "  }\n",
              "\n",
              "  .colab-df-spinner {\n",
              "    border: 2px solid var(--fill-color);\n",
              "    border-color: transparent;\n",
              "    border-bottom-color: var(--fill-color);\n",
              "    animation:\n",
              "      spin 1s steps(1) infinite;\n",
              "  }\n",
              "\n",
              "  @keyframes spin {\n",
              "    0% {\n",
              "      border-color: transparent;\n",
              "      border-bottom-color: var(--fill-color);\n",
              "      border-left-color: var(--fill-color);\n",
              "    }\n",
              "    20% {\n",
              "      border-color: transparent;\n",
              "      border-left-color: var(--fill-color);\n",
              "      border-top-color: var(--fill-color);\n",
              "    }\n",
              "    30% {\n",
              "      border-color: transparent;\n",
              "      border-left-color: var(--fill-color);\n",
              "      border-top-color: var(--fill-color);\n",
              "      border-right-color: var(--fill-color);\n",
              "    }\n",
              "    40% {\n",
              "      border-color: transparent;\n",
              "      border-right-color: var(--fill-color);\n",
              "      border-top-color: var(--fill-color);\n",
              "    }\n",
              "    60% {\n",
              "      border-color: transparent;\n",
              "      border-right-color: var(--fill-color);\n",
              "    }\n",
              "    80% {\n",
              "      border-color: transparent;\n",
              "      border-right-color: var(--fill-color);\n",
              "      border-bottom-color: var(--fill-color);\n",
              "    }\n",
              "    90% {\n",
              "      border-color: transparent;\n",
              "      border-bottom-color: var(--fill-color);\n",
              "    }\n",
              "  }\n",
              "</style>\n",
              "\n",
              "  <script>\n",
              "    async function quickchart(key) {\n",
              "      const quickchartButtonEl =\n",
              "        document.querySelector('#' + key + ' button');\n",
              "      quickchartButtonEl.disabled = true;  // To prevent multiple clicks.\n",
              "      quickchartButtonEl.classList.add('colab-df-spinner');\n",
              "      try {\n",
              "        const charts = await google.colab.kernel.invokeFunction(\n",
              "            'suggestCharts', [key], {});\n",
              "      } catch (error) {\n",
              "        console.error('Error during call to suggestCharts:', error);\n",
              "      }\n",
              "      quickchartButtonEl.classList.remove('colab-df-spinner');\n",
              "      quickchartButtonEl.classList.add('colab-df-quickchart-complete');\n",
              "    }\n",
              "    (() => {\n",
              "      let quickchartButtonEl =\n",
              "        document.querySelector('#df-af05c91f-f747-439e-9563-b9d62bd2d874 button');\n",
              "      quickchartButtonEl.style.display =\n",
              "        google.colab.kernel.accessAllowed ? 'block' : 'none';\n",
              "    })();\n",
              "  </script>\n",
              "</div>\n",
              "    </div>\n",
              "  </div>\n"
            ]
          },
          "metadata": {}
        },
        {
          "output_type": "execute_result",
          "data": {
            "text/plain": [
              "(None, None)"
            ]
          },
          "metadata": {},
          "execution_count": 28
        }
      ],
      "source": [
        "train_df = pd.read_csv(\"/content/datasets/house-train.csv\")\n",
        "test_df = pd.read_csv(\"/content/datasets/house-test.csv\")\n",
        "display(train_df.head()),display(test_df.head())"
      ],
      "id": "8209da66-a905-48c1-8f41-84857c1f49ba"
    },
    {
      "cell_type": "code",
      "execution_count": 33,
      "metadata": {
        "id": "78ee7e23-1101-4863-a115-896861b86988"
      },
      "outputs": [],
      "source": [
        "def data_preprocessor_a(train_data, test_data, label='SalePrice'):\n",
        "\n",
        "    features_all = pd.concat((train_data.drop(columns=['Id', label]), test_data.drop(columns=['Id'])))\n",
        "    numeric_features = features_all.dtypes[features_all.dtypes != 'object'].index\n",
        "\n",
        "    features_all[numeric_features] = features_all[numeric_features].apply(lambda x: (x - x.mean()) / (x.std()))\n",
        "    features_all[numeric_features] = features_all[numeric_features].fillna(0)\n",
        "    #features_all = pd.get_dummies(features_all, dummy_na=True)\n",
        "\n",
        "    train_df = features_all[:train_data.shape[0]].copy()\n",
        "\n",
        "    normVals = (train_data[label].mean(), train_data[label].std())\n",
        "    print(normVals)\n",
        "\n",
        "    train_df[label] = ( train_data[label] - normVals[0] ) / normVals[1]\n",
        "    test_df = features_all[train_data.shape[0]:].copy()\n",
        "\n",
        "    return train_df, test_df\n",
        "\n",
        "\n",
        ""
      ],
      "id": "78ee7e23-1101-4863-a115-896861b86988"
    },
    {
      "cell_type": "code",
      "source": [
        "def data_preprocessor_b(train_data, test_data, label='SalePrice'):\n",
        "\n",
        "    features_all = pd.concat((train_data.drop(columns=['Id', label]), test_data.drop(columns=['Id'])))\n",
        "    numeric_features = features_all.dtypes[features_all.dtypes != 'object'].index\n",
        "\n",
        "    features_all[numeric_features] = features_all[numeric_features].apply(lambda x: (x - x.mean()) / (x.std()))\n",
        "    features_all[numeric_features] = features_all[numeric_features].fillna(0)\n",
        "    features_all = pd.get_dummies(features_all, dummy_na=True)\n",
        "\n",
        "    train_df = features_all[:train_data.shape[0]].copy()\n",
        "\n",
        "    normVals = (train_data[label].mean(), train_data[label].std())\n",
        "    print(normVals)\n",
        "\n",
        "    train_df[label] = ( train_data[label] - normVals[0] ) / normVals[1]\n",
        "    test_df = features_all[train_data.shape[0]:].copy()\n",
        "\n",
        "    return train_df, test_df"
      ],
      "metadata": {
        "id": "KwMVQ8Wu1_HT"
      },
      "id": "KwMVQ8Wu1_HT",
      "execution_count": 34,
      "outputs": []
    },
    {
      "cell_type": "code",
      "execution_count": 35,
      "metadata": {
        "id": "d1b39eab-0530-4895-b237-265cf85603e0",
        "colab": {
          "base_uri": "https://localhost:8080/"
        },
        "outputId": "7ef5f196-749f-4a8a-b006-c744454c191d"
      },
      "outputs": [
        {
          "output_type": "stream",
          "name": "stderr",
          "text": [
            "/usr/local/lib/python3.10/dist-packages/torch/nn/modules/lazy.py:180: UserWarning: Lazy modules are a new feature under heavy development so changes to the API or functionality can happen at any moment.\n",
            "  warnings.warn('Lazy modules are a new feature under heavy development '\n"
          ]
        }
      ],
      "source": [
        "lectureModel = nn.Sequential(\n",
        "    nn.LazyLinear(256),\n",
        "    nn.ReLU(),\n",
        "    nn.LazyLinear(10),\n",
        ")\n",
        "\n",
        "\n",
        "class sale_predictor(nn.Module):\n",
        "    def __init__(self):\n",
        "        super(sale_predictor, self).__init__()\n",
        "\n",
        "        # From output data\n",
        "        self.mean = 180921.19589041095\n",
        "        self.std = 79442.50288288662\n",
        "        self.unNormalize = False\n",
        "        self.Dropout = False\n",
        "        self.D1 = nn.Dropout(0.3)\n",
        "\n",
        "        self.layer1 = nn.LazyLinear(256)\n",
        "        self.relu1 = nn.ReLU()\n",
        "        self.layer2 = nn.LazyLinear(256)\n",
        "        self.relu2 = nn.ReLU()\n",
        "        self.layer3 = nn.LazyLinear(128)\n",
        "        self.relu3 = nn.ReLU()\n",
        "        self.layer4 = nn.LazyLinear(1)\n",
        "\n",
        "    def forward(self, x):\n",
        "        x = self.layer1(x)\n",
        "        x = self.relu1(x)\n",
        "        x = self.layer2(x)\n",
        "        x = self.relu2(x)\n",
        "        if self.Dropout:\n",
        "            x = self.D1(x)\n",
        "        x = self.layer3(x)\n",
        "        x = self.relu3(x)\n",
        "        x = self.layer4(x)\n",
        "\n",
        "        if self.unNormalize:\n",
        "            x = x * self.std + self.mean\n",
        "\n",
        "        return x\n",
        "\n",
        "sale_predictor = sale_predictor()"
      ],
      "id": "d1b39eab-0530-4895-b237-265cf85603e0"
    },
    {
      "cell_type": "code",
      "execution_count": 36,
      "metadata": {
        "id": "d088a549-e912-409a-a143-580f9ac6aaf1"
      },
      "outputs": [],
      "source": [
        "class housing_dataset(torch.utils.data.Dataset):\n",
        "    def __init__(self, df):\n",
        "        self.df = df\n",
        "\n",
        "    def __len__(self):\n",
        "        return len(self.df)\n",
        "\n",
        "    def __getitem__(self, idx):\n",
        "        row = self.df.iloc[idx]\n",
        "\n",
        "        dimensions = torch.Tensor(row.values)\n",
        "        label = dimensions[-1]\n",
        "\n",
        "        return (dimensions[:-1], label)"
      ],
      "id": "d088a549-e912-409a-a143-580f9ac6aaf1"
    },
    {
      "cell_type": "markdown",
      "source": [
        "2A"
      ],
      "metadata": {
        "id": "62MPIdRGmha3"
      },
      "id": "62MPIdRGmha3"
    },
    {
      "cell_type": "code",
      "execution_count": 37,
      "metadata": {
        "id": "66a9c354-2557-4c5f-a6c8-ebe29e4c8457",
        "colab": {
          "base_uri": "https://localhost:8080/",
          "height": 273
        },
        "outputId": "27563b61-8940-4b6a-b990-22c49ab55f87"
      },
      "outputs": [
        {
          "output_type": "stream",
          "name": "stdout",
          "text": [
            "(180921.19589041095, 79442.50288288662)\n"
          ]
        },
        {
          "output_type": "execute_result",
          "data": {
            "text/plain": [
              "   MSSubClass MSZoning  LotFrontage   LotArea Street Alley LotShape  \\\n",
              "0   -0.873466       RH     0.458096  0.184340   Pave   NaN      Reg   \n",
              "1   -0.873466       RL     0.500932  0.519702   Pave   NaN      IR1   \n",
              "2    0.067320       RL     0.201080  0.464294   Pave   NaN      IR1   \n",
              "3    0.067320       RL     0.372424 -0.024105   Pave   NaN      IR1   \n",
              "4    1.478499       RL    -1.126832 -0.654636   Pave   NaN      IR1   \n",
              "\n",
              "  LandContour Utilities LotConfig  ... ScreenPorch  PoolArea PoolQC  Fence  \\\n",
              "0         Lvl    AllPub    Inside  ...    1.849939 -0.063139    NaN  MnPrv   \n",
              "1         Lvl    AllPub    Corner  ...   -0.285886 -0.063139    NaN    NaN   \n",
              "2         Lvl    AllPub    Inside  ...   -0.285886 -0.063139    NaN  MnPrv   \n",
              "3         Lvl    AllPub    Inside  ...   -0.285886 -0.063139    NaN    NaN   \n",
              "4         HLS    AllPub    Inside  ...    2.277104 -0.063139    NaN    NaN   \n",
              "\n",
              "  MiscFeature    MiscVal    MoSold    YrSold  SaleType  SaleCondition  \n",
              "0         NaN  -0.089577 -0.078492  1.678572        WD         Normal  \n",
              "1        Gar2  21.940651 -0.078492  1.678572        WD         Normal  \n",
              "2         NaN  -0.089577 -1.183561  1.678572        WD         Normal  \n",
              "3         NaN  -0.089577 -0.078492  1.678572        WD         Normal  \n",
              "4         NaN  -0.089577 -1.920274  1.678572        WD         Normal  \n",
              "\n",
              "[5 rows x 79 columns]"
            ],
            "text/html": [
              "\n",
              "  <div id=\"df-117362ac-623a-4b64-8e46-95d6c58cd4c0\" class=\"colab-df-container\">\n",
              "    <div>\n",
              "<style scoped>\n",
              "    .dataframe tbody tr th:only-of-type {\n",
              "        vertical-align: middle;\n",
              "    }\n",
              "\n",
              "    .dataframe tbody tr th {\n",
              "        vertical-align: top;\n",
              "    }\n",
              "\n",
              "    .dataframe thead th {\n",
              "        text-align: right;\n",
              "    }\n",
              "</style>\n",
              "<table border=\"1\" class=\"dataframe\">\n",
              "  <thead>\n",
              "    <tr style=\"text-align: right;\">\n",
              "      <th></th>\n",
              "      <th>MSSubClass</th>\n",
              "      <th>MSZoning</th>\n",
              "      <th>LotFrontage</th>\n",
              "      <th>LotArea</th>\n",
              "      <th>Street</th>\n",
              "      <th>Alley</th>\n",
              "      <th>LotShape</th>\n",
              "      <th>LandContour</th>\n",
              "      <th>Utilities</th>\n",
              "      <th>LotConfig</th>\n",
              "      <th>...</th>\n",
              "      <th>ScreenPorch</th>\n",
              "      <th>PoolArea</th>\n",
              "      <th>PoolQC</th>\n",
              "      <th>Fence</th>\n",
              "      <th>MiscFeature</th>\n",
              "      <th>MiscVal</th>\n",
              "      <th>MoSold</th>\n",
              "      <th>YrSold</th>\n",
              "      <th>SaleType</th>\n",
              "      <th>SaleCondition</th>\n",
              "    </tr>\n",
              "  </thead>\n",
              "  <tbody>\n",
              "    <tr>\n",
              "      <th>0</th>\n",
              "      <td>-0.873466</td>\n",
              "      <td>RH</td>\n",
              "      <td>0.458096</td>\n",
              "      <td>0.184340</td>\n",
              "      <td>Pave</td>\n",
              "      <td>NaN</td>\n",
              "      <td>Reg</td>\n",
              "      <td>Lvl</td>\n",
              "      <td>AllPub</td>\n",
              "      <td>Inside</td>\n",
              "      <td>...</td>\n",
              "      <td>1.849939</td>\n",
              "      <td>-0.063139</td>\n",
              "      <td>NaN</td>\n",
              "      <td>MnPrv</td>\n",
              "      <td>NaN</td>\n",
              "      <td>-0.089577</td>\n",
              "      <td>-0.078492</td>\n",
              "      <td>1.678572</td>\n",
              "      <td>WD</td>\n",
              "      <td>Normal</td>\n",
              "    </tr>\n",
              "    <tr>\n",
              "      <th>1</th>\n",
              "      <td>-0.873466</td>\n",
              "      <td>RL</td>\n",
              "      <td>0.500932</td>\n",
              "      <td>0.519702</td>\n",
              "      <td>Pave</td>\n",
              "      <td>NaN</td>\n",
              "      <td>IR1</td>\n",
              "      <td>Lvl</td>\n",
              "      <td>AllPub</td>\n",
              "      <td>Corner</td>\n",
              "      <td>...</td>\n",
              "      <td>-0.285886</td>\n",
              "      <td>-0.063139</td>\n",
              "      <td>NaN</td>\n",
              "      <td>NaN</td>\n",
              "      <td>Gar2</td>\n",
              "      <td>21.940651</td>\n",
              "      <td>-0.078492</td>\n",
              "      <td>1.678572</td>\n",
              "      <td>WD</td>\n",
              "      <td>Normal</td>\n",
              "    </tr>\n",
              "    <tr>\n",
              "      <th>2</th>\n",
              "      <td>0.067320</td>\n",
              "      <td>RL</td>\n",
              "      <td>0.201080</td>\n",
              "      <td>0.464294</td>\n",
              "      <td>Pave</td>\n",
              "      <td>NaN</td>\n",
              "      <td>IR1</td>\n",
              "      <td>Lvl</td>\n",
              "      <td>AllPub</td>\n",
              "      <td>Inside</td>\n",
              "      <td>...</td>\n",
              "      <td>-0.285886</td>\n",
              "      <td>-0.063139</td>\n",
              "      <td>NaN</td>\n",
              "      <td>MnPrv</td>\n",
              "      <td>NaN</td>\n",
              "      <td>-0.089577</td>\n",
              "      <td>-1.183561</td>\n",
              "      <td>1.678572</td>\n",
              "      <td>WD</td>\n",
              "      <td>Normal</td>\n",
              "    </tr>\n",
              "    <tr>\n",
              "      <th>3</th>\n",
              "      <td>0.067320</td>\n",
              "      <td>RL</td>\n",
              "      <td>0.372424</td>\n",
              "      <td>-0.024105</td>\n",
              "      <td>Pave</td>\n",
              "      <td>NaN</td>\n",
              "      <td>IR1</td>\n",
              "      <td>Lvl</td>\n",
              "      <td>AllPub</td>\n",
              "      <td>Inside</td>\n",
              "      <td>...</td>\n",
              "      <td>-0.285886</td>\n",
              "      <td>-0.063139</td>\n",
              "      <td>NaN</td>\n",
              "      <td>NaN</td>\n",
              "      <td>NaN</td>\n",
              "      <td>-0.089577</td>\n",
              "      <td>-0.078492</td>\n",
              "      <td>1.678572</td>\n",
              "      <td>WD</td>\n",
              "      <td>Normal</td>\n",
              "    </tr>\n",
              "    <tr>\n",
              "      <th>4</th>\n",
              "      <td>1.478499</td>\n",
              "      <td>RL</td>\n",
              "      <td>-1.126832</td>\n",
              "      <td>-0.654636</td>\n",
              "      <td>Pave</td>\n",
              "      <td>NaN</td>\n",
              "      <td>IR1</td>\n",
              "      <td>HLS</td>\n",
              "      <td>AllPub</td>\n",
              "      <td>Inside</td>\n",
              "      <td>...</td>\n",
              "      <td>2.277104</td>\n",
              "      <td>-0.063139</td>\n",
              "      <td>NaN</td>\n",
              "      <td>NaN</td>\n",
              "      <td>NaN</td>\n",
              "      <td>-0.089577</td>\n",
              "      <td>-1.920274</td>\n",
              "      <td>1.678572</td>\n",
              "      <td>WD</td>\n",
              "      <td>Normal</td>\n",
              "    </tr>\n",
              "  </tbody>\n",
              "</table>\n",
              "<p>5 rows × 79 columns</p>\n",
              "</div>\n",
              "    <div class=\"colab-df-buttons\">\n",
              "\n",
              "  <div class=\"colab-df-container\">\n",
              "    <button class=\"colab-df-convert\" onclick=\"convertToInteractive('df-117362ac-623a-4b64-8e46-95d6c58cd4c0')\"\n",
              "            title=\"Convert this dataframe to an interactive table.\"\n",
              "            style=\"display:none;\">\n",
              "\n",
              "  <svg xmlns=\"http://www.w3.org/2000/svg\" height=\"24px\" viewBox=\"0 -960 960 960\">\n",
              "    <path d=\"M120-120v-720h720v720H120Zm60-500h600v-160H180v160Zm220 220h160v-160H400v160Zm0 220h160v-160H400v160ZM180-400h160v-160H180v160Zm440 0h160v-160H620v160ZM180-180h160v-160H180v160Zm440 0h160v-160H620v160Z\"/>\n",
              "  </svg>\n",
              "    </button>\n",
              "\n",
              "  <style>\n",
              "    .colab-df-container {\n",
              "      display:flex;\n",
              "      gap: 12px;\n",
              "    }\n",
              "\n",
              "    .colab-df-convert {\n",
              "      background-color: #E8F0FE;\n",
              "      border: none;\n",
              "      border-radius: 50%;\n",
              "      cursor: pointer;\n",
              "      display: none;\n",
              "      fill: #1967D2;\n",
              "      height: 32px;\n",
              "      padding: 0 0 0 0;\n",
              "      width: 32px;\n",
              "    }\n",
              "\n",
              "    .colab-df-convert:hover {\n",
              "      background-color: #E2EBFA;\n",
              "      box-shadow: 0px 1px 2px rgba(60, 64, 67, 0.3), 0px 1px 3px 1px rgba(60, 64, 67, 0.15);\n",
              "      fill: #174EA6;\n",
              "    }\n",
              "\n",
              "    .colab-df-buttons div {\n",
              "      margin-bottom: 4px;\n",
              "    }\n",
              "\n",
              "    [theme=dark] .colab-df-convert {\n",
              "      background-color: #3B4455;\n",
              "      fill: #D2E3FC;\n",
              "    }\n",
              "\n",
              "    [theme=dark] .colab-df-convert:hover {\n",
              "      background-color: #434B5C;\n",
              "      box-shadow: 0px 1px 3px 1px rgba(0, 0, 0, 0.15);\n",
              "      filter: drop-shadow(0px 1px 2px rgba(0, 0, 0, 0.3));\n",
              "      fill: #FFFFFF;\n",
              "    }\n",
              "  </style>\n",
              "\n",
              "    <script>\n",
              "      const buttonEl =\n",
              "        document.querySelector('#df-117362ac-623a-4b64-8e46-95d6c58cd4c0 button.colab-df-convert');\n",
              "      buttonEl.style.display =\n",
              "        google.colab.kernel.accessAllowed ? 'block' : 'none';\n",
              "\n",
              "      async function convertToInteractive(key) {\n",
              "        const element = document.querySelector('#df-117362ac-623a-4b64-8e46-95d6c58cd4c0');\n",
              "        const dataTable =\n",
              "          await google.colab.kernel.invokeFunction('convertToInteractive',\n",
              "                                                    [key], {});\n",
              "        if (!dataTable) return;\n",
              "\n",
              "        const docLinkHtml = 'Like what you see? Visit the ' +\n",
              "          '<a target=\"_blank\" href=https://colab.research.google.com/notebooks/data_table.ipynb>data table notebook</a>'\n",
              "          + ' to learn more about interactive tables.';\n",
              "        element.innerHTML = '';\n",
              "        dataTable['output_type'] = 'display_data';\n",
              "        await google.colab.output.renderOutput(dataTable, element);\n",
              "        const docLink = document.createElement('div');\n",
              "        docLink.innerHTML = docLinkHtml;\n",
              "        element.appendChild(docLink);\n",
              "      }\n",
              "    </script>\n",
              "  </div>\n",
              "\n",
              "\n",
              "<div id=\"df-c0a4348a-3d58-47ac-8bd2-c38740f246be\">\n",
              "  <button class=\"colab-df-quickchart\" onclick=\"quickchart('df-c0a4348a-3d58-47ac-8bd2-c38740f246be')\"\n",
              "            title=\"Suggest charts\"\n",
              "            style=\"display:none;\">\n",
              "\n",
              "<svg xmlns=\"http://www.w3.org/2000/svg\" height=\"24px\"viewBox=\"0 0 24 24\"\n",
              "     width=\"24px\">\n",
              "    <g>\n",
              "        <path d=\"M19 3H5c-1.1 0-2 .9-2 2v14c0 1.1.9 2 2 2h14c1.1 0 2-.9 2-2V5c0-1.1-.9-2-2-2zM9 17H7v-7h2v7zm4 0h-2V7h2v10zm4 0h-2v-4h2v4z\"/>\n",
              "    </g>\n",
              "</svg>\n",
              "  </button>\n",
              "\n",
              "<style>\n",
              "  .colab-df-quickchart {\n",
              "      --bg-color: #E8F0FE;\n",
              "      --fill-color: #1967D2;\n",
              "      --hover-bg-color: #E2EBFA;\n",
              "      --hover-fill-color: #174EA6;\n",
              "      --disabled-fill-color: #AAA;\n",
              "      --disabled-bg-color: #DDD;\n",
              "  }\n",
              "\n",
              "  [theme=dark] .colab-df-quickchart {\n",
              "      --bg-color: #3B4455;\n",
              "      --fill-color: #D2E3FC;\n",
              "      --hover-bg-color: #434B5C;\n",
              "      --hover-fill-color: #FFFFFF;\n",
              "      --disabled-bg-color: #3B4455;\n",
              "      --disabled-fill-color: #666;\n",
              "  }\n",
              "\n",
              "  .colab-df-quickchart {\n",
              "    background-color: var(--bg-color);\n",
              "    border: none;\n",
              "    border-radius: 50%;\n",
              "    cursor: pointer;\n",
              "    display: none;\n",
              "    fill: var(--fill-color);\n",
              "    height: 32px;\n",
              "    padding: 0;\n",
              "    width: 32px;\n",
              "  }\n",
              "\n",
              "  .colab-df-quickchart:hover {\n",
              "    background-color: var(--hover-bg-color);\n",
              "    box-shadow: 0 1px 2px rgba(60, 64, 67, 0.3), 0 1px 3px 1px rgba(60, 64, 67, 0.15);\n",
              "    fill: var(--button-hover-fill-color);\n",
              "  }\n",
              "\n",
              "  .colab-df-quickchart-complete:disabled,\n",
              "  .colab-df-quickchart-complete:disabled:hover {\n",
              "    background-color: var(--disabled-bg-color);\n",
              "    fill: var(--disabled-fill-color);\n",
              "    box-shadow: none;\n",
              "  }\n",
              "\n",
              "  .colab-df-spinner {\n",
              "    border: 2px solid var(--fill-color);\n",
              "    border-color: transparent;\n",
              "    border-bottom-color: var(--fill-color);\n",
              "    animation:\n",
              "      spin 1s steps(1) infinite;\n",
              "  }\n",
              "\n",
              "  @keyframes spin {\n",
              "    0% {\n",
              "      border-color: transparent;\n",
              "      border-bottom-color: var(--fill-color);\n",
              "      border-left-color: var(--fill-color);\n",
              "    }\n",
              "    20% {\n",
              "      border-color: transparent;\n",
              "      border-left-color: var(--fill-color);\n",
              "      border-top-color: var(--fill-color);\n",
              "    }\n",
              "    30% {\n",
              "      border-color: transparent;\n",
              "      border-left-color: var(--fill-color);\n",
              "      border-top-color: var(--fill-color);\n",
              "      border-right-color: var(--fill-color);\n",
              "    }\n",
              "    40% {\n",
              "      border-color: transparent;\n",
              "      border-right-color: var(--fill-color);\n",
              "      border-top-color: var(--fill-color);\n",
              "    }\n",
              "    60% {\n",
              "      border-color: transparent;\n",
              "      border-right-color: var(--fill-color);\n",
              "    }\n",
              "    80% {\n",
              "      border-color: transparent;\n",
              "      border-right-color: var(--fill-color);\n",
              "      border-bottom-color: var(--fill-color);\n",
              "    }\n",
              "    90% {\n",
              "      border-color: transparent;\n",
              "      border-bottom-color: var(--fill-color);\n",
              "    }\n",
              "  }\n",
              "</style>\n",
              "\n",
              "  <script>\n",
              "    async function quickchart(key) {\n",
              "      const quickchartButtonEl =\n",
              "        document.querySelector('#' + key + ' button');\n",
              "      quickchartButtonEl.disabled = true;  // To prevent multiple clicks.\n",
              "      quickchartButtonEl.classList.add('colab-df-spinner');\n",
              "      try {\n",
              "        const charts = await google.colab.kernel.invokeFunction(\n",
              "            'suggestCharts', [key], {});\n",
              "      } catch (error) {\n",
              "        console.error('Error during call to suggestCharts:', error);\n",
              "      }\n",
              "      quickchartButtonEl.classList.remove('colab-df-spinner');\n",
              "      quickchartButtonEl.classList.add('colab-df-quickchart-complete');\n",
              "    }\n",
              "    (() => {\n",
              "      let quickchartButtonEl =\n",
              "        document.querySelector('#df-c0a4348a-3d58-47ac-8bd2-c38740f246be button');\n",
              "      quickchartButtonEl.style.display =\n",
              "        google.colab.kernel.accessAllowed ? 'block' : 'none';\n",
              "    })();\n",
              "  </script>\n",
              "</div>\n",
              "    </div>\n",
              "  </div>\n"
            ]
          },
          "metadata": {},
          "execution_count": 37
        }
      ],
      "source": [
        "train_processed_df, test_processed_df = data_preprocessor_a(train_df, test_df)\n",
        "test_processed_df.head()"
      ],
      "id": "66a9c354-2557-4c5f-a6c8-ebe29e4c8457"
    },
    {
      "cell_type": "code",
      "execution_count": 38,
      "metadata": {
        "id": "1dec8d28-6851-436d-8236-d635bc59c6f0"
      },
      "outputs": [],
      "source": [
        "train_housing = housing_dataset(train_processed_df)\n",
        "\n",
        "validNum = int(len(train_housing) * 0.8)\n",
        "train_housing, valid_housing = random_split(train_housing, [validNum, len(train_housing) - validNum])\n",
        "\n",
        "trainLoaderHousing = DataLoader(train_housing, batch_size=128, shuffle=True, num_workers=0)\n",
        "validateLoaderHousing = DataLoader(valid_housing, batch_size=128, shuffle=True, num_workers=0)"
      ],
      "id": "1dec8d28-6851-436d-8236-d635bc59c6f0"
    },
    {
      "cell_type": "markdown",
      "source": [
        "2B\n"
      ],
      "metadata": {
        "id": "3PyLXDFMmuMD"
      },
      "id": "3PyLXDFMmuMD"
    },
    {
      "cell_type": "code",
      "source": [
        "train_processed_df, test_processed_df = data_preprocessor_b(train_df, test_df)\n",
        "test_processed_df.head()"
      ],
      "metadata": {
        "colab": {
          "base_uri": "https://localhost:8080/",
          "height": 273
        },
        "id": "OF2aGvF3mxHC",
        "outputId": "fc4a6920-f751-4d71-e422-816a08974bb5"
      },
      "id": "OF2aGvF3mxHC",
      "execution_count": 39,
      "outputs": [
        {
          "output_type": "stream",
          "name": "stdout",
          "text": [
            "(180921.19589041095, 79442.50288288662)\n"
          ]
        },
        {
          "output_type": "execute_result",
          "data": {
            "text/plain": [
              "   MSSubClass  LotFrontage   LotArea  OverallQual  OverallCond  YearBuilt  \\\n",
              "0   -0.873466     0.458096  0.184340    -0.772420     0.391170  -0.340452   \n",
              "1   -0.873466     0.500932  0.519702    -0.063174     0.391170  -0.439490   \n",
              "2    0.067320     0.201080  0.464294    -0.772420    -0.507197   0.848003   \n",
              "3    0.067320     0.372424 -0.024105    -0.063174     0.391170   0.881015   \n",
              "4    1.478499    -1.126832 -0.654636     1.355319    -0.507197   0.682939   \n",
              "\n",
              "   YearRemodAdd  MasVnrArea  BsmtFinSF1  BsmtFinSF2  ...  SaleType_Oth  \\\n",
              "0     -1.113434   -0.569893    0.058332    0.558006  ...             0   \n",
              "1     -1.257014    0.032335    1.056991   -0.293030  ...             0   \n",
              "2      0.657380   -0.569893    0.767271   -0.293030  ...             0   \n",
              "3      0.657380   -0.458369    0.352443   -0.293030  ...             0   \n",
              "4      0.370221   -0.569893   -0.391613   -0.293030  ...             0   \n",
              "\n",
              "   SaleType_WD  SaleType_nan  SaleCondition_Abnorml  SaleCondition_AdjLand  \\\n",
              "0            1             0                      0                      0   \n",
              "1            1             0                      0                      0   \n",
              "2            1             0                      0                      0   \n",
              "3            1             0                      0                      0   \n",
              "4            1             0                      0                      0   \n",
              "\n",
              "   SaleCondition_Alloca  SaleCondition_Family  SaleCondition_Normal  \\\n",
              "0                     0                     0                     1   \n",
              "1                     0                     0                     1   \n",
              "2                     0                     0                     1   \n",
              "3                     0                     0                     1   \n",
              "4                     0                     0                     1   \n",
              "\n",
              "   SaleCondition_Partial  SaleCondition_nan  \n",
              "0                      0                  0  \n",
              "1                      0                  0  \n",
              "2                      0                  0  \n",
              "3                      0                  0  \n",
              "4                      0                  0  \n",
              "\n",
              "[5 rows x 331 columns]"
            ],
            "text/html": [
              "\n",
              "  <div id=\"df-42156577-500a-472f-b8c2-4d3e81572931\" class=\"colab-df-container\">\n",
              "    <div>\n",
              "<style scoped>\n",
              "    .dataframe tbody tr th:only-of-type {\n",
              "        vertical-align: middle;\n",
              "    }\n",
              "\n",
              "    .dataframe tbody tr th {\n",
              "        vertical-align: top;\n",
              "    }\n",
              "\n",
              "    .dataframe thead th {\n",
              "        text-align: right;\n",
              "    }\n",
              "</style>\n",
              "<table border=\"1\" class=\"dataframe\">\n",
              "  <thead>\n",
              "    <tr style=\"text-align: right;\">\n",
              "      <th></th>\n",
              "      <th>MSSubClass</th>\n",
              "      <th>LotFrontage</th>\n",
              "      <th>LotArea</th>\n",
              "      <th>OverallQual</th>\n",
              "      <th>OverallCond</th>\n",
              "      <th>YearBuilt</th>\n",
              "      <th>YearRemodAdd</th>\n",
              "      <th>MasVnrArea</th>\n",
              "      <th>BsmtFinSF1</th>\n",
              "      <th>BsmtFinSF2</th>\n",
              "      <th>...</th>\n",
              "      <th>SaleType_Oth</th>\n",
              "      <th>SaleType_WD</th>\n",
              "      <th>SaleType_nan</th>\n",
              "      <th>SaleCondition_Abnorml</th>\n",
              "      <th>SaleCondition_AdjLand</th>\n",
              "      <th>SaleCondition_Alloca</th>\n",
              "      <th>SaleCondition_Family</th>\n",
              "      <th>SaleCondition_Normal</th>\n",
              "      <th>SaleCondition_Partial</th>\n",
              "      <th>SaleCondition_nan</th>\n",
              "    </tr>\n",
              "  </thead>\n",
              "  <tbody>\n",
              "    <tr>\n",
              "      <th>0</th>\n",
              "      <td>-0.873466</td>\n",
              "      <td>0.458096</td>\n",
              "      <td>0.184340</td>\n",
              "      <td>-0.772420</td>\n",
              "      <td>0.391170</td>\n",
              "      <td>-0.340452</td>\n",
              "      <td>-1.113434</td>\n",
              "      <td>-0.569893</td>\n",
              "      <td>0.058332</td>\n",
              "      <td>0.558006</td>\n",
              "      <td>...</td>\n",
              "      <td>0</td>\n",
              "      <td>1</td>\n",
              "      <td>0</td>\n",
              "      <td>0</td>\n",
              "      <td>0</td>\n",
              "      <td>0</td>\n",
              "      <td>0</td>\n",
              "      <td>1</td>\n",
              "      <td>0</td>\n",
              "      <td>0</td>\n",
              "    </tr>\n",
              "    <tr>\n",
              "      <th>1</th>\n",
              "      <td>-0.873466</td>\n",
              "      <td>0.500932</td>\n",
              "      <td>0.519702</td>\n",
              "      <td>-0.063174</td>\n",
              "      <td>0.391170</td>\n",
              "      <td>-0.439490</td>\n",
              "      <td>-1.257014</td>\n",
              "      <td>0.032335</td>\n",
              "      <td>1.056991</td>\n",
              "      <td>-0.293030</td>\n",
              "      <td>...</td>\n",
              "      <td>0</td>\n",
              "      <td>1</td>\n",
              "      <td>0</td>\n",
              "      <td>0</td>\n",
              "      <td>0</td>\n",
              "      <td>0</td>\n",
              "      <td>0</td>\n",
              "      <td>1</td>\n",
              "      <td>0</td>\n",
              "      <td>0</td>\n",
              "    </tr>\n",
              "    <tr>\n",
              "      <th>2</th>\n",
              "      <td>0.067320</td>\n",
              "      <td>0.201080</td>\n",
              "      <td>0.464294</td>\n",
              "      <td>-0.772420</td>\n",
              "      <td>-0.507197</td>\n",
              "      <td>0.848003</td>\n",
              "      <td>0.657380</td>\n",
              "      <td>-0.569893</td>\n",
              "      <td>0.767271</td>\n",
              "      <td>-0.293030</td>\n",
              "      <td>...</td>\n",
              "      <td>0</td>\n",
              "      <td>1</td>\n",
              "      <td>0</td>\n",
              "      <td>0</td>\n",
              "      <td>0</td>\n",
              "      <td>0</td>\n",
              "      <td>0</td>\n",
              "      <td>1</td>\n",
              "      <td>0</td>\n",
              "      <td>0</td>\n",
              "    </tr>\n",
              "    <tr>\n",
              "      <th>3</th>\n",
              "      <td>0.067320</td>\n",
              "      <td>0.372424</td>\n",
              "      <td>-0.024105</td>\n",
              "      <td>-0.063174</td>\n",
              "      <td>0.391170</td>\n",
              "      <td>0.881015</td>\n",
              "      <td>0.657380</td>\n",
              "      <td>-0.458369</td>\n",
              "      <td>0.352443</td>\n",
              "      <td>-0.293030</td>\n",
              "      <td>...</td>\n",
              "      <td>0</td>\n",
              "      <td>1</td>\n",
              "      <td>0</td>\n",
              "      <td>0</td>\n",
              "      <td>0</td>\n",
              "      <td>0</td>\n",
              "      <td>0</td>\n",
              "      <td>1</td>\n",
              "      <td>0</td>\n",
              "      <td>0</td>\n",
              "    </tr>\n",
              "    <tr>\n",
              "      <th>4</th>\n",
              "      <td>1.478499</td>\n",
              "      <td>-1.126832</td>\n",
              "      <td>-0.654636</td>\n",
              "      <td>1.355319</td>\n",
              "      <td>-0.507197</td>\n",
              "      <td>0.682939</td>\n",
              "      <td>0.370221</td>\n",
              "      <td>-0.569893</td>\n",
              "      <td>-0.391613</td>\n",
              "      <td>-0.293030</td>\n",
              "      <td>...</td>\n",
              "      <td>0</td>\n",
              "      <td>1</td>\n",
              "      <td>0</td>\n",
              "      <td>0</td>\n",
              "      <td>0</td>\n",
              "      <td>0</td>\n",
              "      <td>0</td>\n",
              "      <td>1</td>\n",
              "      <td>0</td>\n",
              "      <td>0</td>\n",
              "    </tr>\n",
              "  </tbody>\n",
              "</table>\n",
              "<p>5 rows × 331 columns</p>\n",
              "</div>\n",
              "    <div class=\"colab-df-buttons\">\n",
              "\n",
              "  <div class=\"colab-df-container\">\n",
              "    <button class=\"colab-df-convert\" onclick=\"convertToInteractive('df-42156577-500a-472f-b8c2-4d3e81572931')\"\n",
              "            title=\"Convert this dataframe to an interactive table.\"\n",
              "            style=\"display:none;\">\n",
              "\n",
              "  <svg xmlns=\"http://www.w3.org/2000/svg\" height=\"24px\" viewBox=\"0 -960 960 960\">\n",
              "    <path d=\"M120-120v-720h720v720H120Zm60-500h600v-160H180v160Zm220 220h160v-160H400v160Zm0 220h160v-160H400v160ZM180-400h160v-160H180v160Zm440 0h160v-160H620v160ZM180-180h160v-160H180v160Zm440 0h160v-160H620v160Z\"/>\n",
              "  </svg>\n",
              "    </button>\n",
              "\n",
              "  <style>\n",
              "    .colab-df-container {\n",
              "      display:flex;\n",
              "      gap: 12px;\n",
              "    }\n",
              "\n",
              "    .colab-df-convert {\n",
              "      background-color: #E8F0FE;\n",
              "      border: none;\n",
              "      border-radius: 50%;\n",
              "      cursor: pointer;\n",
              "      display: none;\n",
              "      fill: #1967D2;\n",
              "      height: 32px;\n",
              "      padding: 0 0 0 0;\n",
              "      width: 32px;\n",
              "    }\n",
              "\n",
              "    .colab-df-convert:hover {\n",
              "      background-color: #E2EBFA;\n",
              "      box-shadow: 0px 1px 2px rgba(60, 64, 67, 0.3), 0px 1px 3px 1px rgba(60, 64, 67, 0.15);\n",
              "      fill: #174EA6;\n",
              "    }\n",
              "\n",
              "    .colab-df-buttons div {\n",
              "      margin-bottom: 4px;\n",
              "    }\n",
              "\n",
              "    [theme=dark] .colab-df-convert {\n",
              "      background-color: #3B4455;\n",
              "      fill: #D2E3FC;\n",
              "    }\n",
              "\n",
              "    [theme=dark] .colab-df-convert:hover {\n",
              "      background-color: #434B5C;\n",
              "      box-shadow: 0px 1px 3px 1px rgba(0, 0, 0, 0.15);\n",
              "      filter: drop-shadow(0px 1px 2px rgba(0, 0, 0, 0.3));\n",
              "      fill: #FFFFFF;\n",
              "    }\n",
              "  </style>\n",
              "\n",
              "    <script>\n",
              "      const buttonEl =\n",
              "        document.querySelector('#df-42156577-500a-472f-b8c2-4d3e81572931 button.colab-df-convert');\n",
              "      buttonEl.style.display =\n",
              "        google.colab.kernel.accessAllowed ? 'block' : 'none';\n",
              "\n",
              "      async function convertToInteractive(key) {\n",
              "        const element = document.querySelector('#df-42156577-500a-472f-b8c2-4d3e81572931');\n",
              "        const dataTable =\n",
              "          await google.colab.kernel.invokeFunction('convertToInteractive',\n",
              "                                                    [key], {});\n",
              "        if (!dataTable) return;\n",
              "\n",
              "        const docLinkHtml = 'Like what you see? Visit the ' +\n",
              "          '<a target=\"_blank\" href=https://colab.research.google.com/notebooks/data_table.ipynb>data table notebook</a>'\n",
              "          + ' to learn more about interactive tables.';\n",
              "        element.innerHTML = '';\n",
              "        dataTable['output_type'] = 'display_data';\n",
              "        await google.colab.output.renderOutput(dataTable, element);\n",
              "        const docLink = document.createElement('div');\n",
              "        docLink.innerHTML = docLinkHtml;\n",
              "        element.appendChild(docLink);\n",
              "      }\n",
              "    </script>\n",
              "  </div>\n",
              "\n",
              "\n",
              "<div id=\"df-846e1b57-638f-414f-8b9a-63daccabb231\">\n",
              "  <button class=\"colab-df-quickchart\" onclick=\"quickchart('df-846e1b57-638f-414f-8b9a-63daccabb231')\"\n",
              "            title=\"Suggest charts\"\n",
              "            style=\"display:none;\">\n",
              "\n",
              "<svg xmlns=\"http://www.w3.org/2000/svg\" height=\"24px\"viewBox=\"0 0 24 24\"\n",
              "     width=\"24px\">\n",
              "    <g>\n",
              "        <path d=\"M19 3H5c-1.1 0-2 .9-2 2v14c0 1.1.9 2 2 2h14c1.1 0 2-.9 2-2V5c0-1.1-.9-2-2-2zM9 17H7v-7h2v7zm4 0h-2V7h2v10zm4 0h-2v-4h2v4z\"/>\n",
              "    </g>\n",
              "</svg>\n",
              "  </button>\n",
              "\n",
              "<style>\n",
              "  .colab-df-quickchart {\n",
              "      --bg-color: #E8F0FE;\n",
              "      --fill-color: #1967D2;\n",
              "      --hover-bg-color: #E2EBFA;\n",
              "      --hover-fill-color: #174EA6;\n",
              "      --disabled-fill-color: #AAA;\n",
              "      --disabled-bg-color: #DDD;\n",
              "  }\n",
              "\n",
              "  [theme=dark] .colab-df-quickchart {\n",
              "      --bg-color: #3B4455;\n",
              "      --fill-color: #D2E3FC;\n",
              "      --hover-bg-color: #434B5C;\n",
              "      --hover-fill-color: #FFFFFF;\n",
              "      --disabled-bg-color: #3B4455;\n",
              "      --disabled-fill-color: #666;\n",
              "  }\n",
              "\n",
              "  .colab-df-quickchart {\n",
              "    background-color: var(--bg-color);\n",
              "    border: none;\n",
              "    border-radius: 50%;\n",
              "    cursor: pointer;\n",
              "    display: none;\n",
              "    fill: var(--fill-color);\n",
              "    height: 32px;\n",
              "    padding: 0;\n",
              "    width: 32px;\n",
              "  }\n",
              "\n",
              "  .colab-df-quickchart:hover {\n",
              "    background-color: var(--hover-bg-color);\n",
              "    box-shadow: 0 1px 2px rgba(60, 64, 67, 0.3), 0 1px 3px 1px rgba(60, 64, 67, 0.15);\n",
              "    fill: var(--button-hover-fill-color);\n",
              "  }\n",
              "\n",
              "  .colab-df-quickchart-complete:disabled,\n",
              "  .colab-df-quickchart-complete:disabled:hover {\n",
              "    background-color: var(--disabled-bg-color);\n",
              "    fill: var(--disabled-fill-color);\n",
              "    box-shadow: none;\n",
              "  }\n",
              "\n",
              "  .colab-df-spinner {\n",
              "    border: 2px solid var(--fill-color);\n",
              "    border-color: transparent;\n",
              "    border-bottom-color: var(--fill-color);\n",
              "    animation:\n",
              "      spin 1s steps(1) infinite;\n",
              "  }\n",
              "\n",
              "  @keyframes spin {\n",
              "    0% {\n",
              "      border-color: transparent;\n",
              "      border-bottom-color: var(--fill-color);\n",
              "      border-left-color: var(--fill-color);\n",
              "    }\n",
              "    20% {\n",
              "      border-color: transparent;\n",
              "      border-left-color: var(--fill-color);\n",
              "      border-top-color: var(--fill-color);\n",
              "    }\n",
              "    30% {\n",
              "      border-color: transparent;\n",
              "      border-left-color: var(--fill-color);\n",
              "      border-top-color: var(--fill-color);\n",
              "      border-right-color: var(--fill-color);\n",
              "    }\n",
              "    40% {\n",
              "      border-color: transparent;\n",
              "      border-right-color: var(--fill-color);\n",
              "      border-top-color: var(--fill-color);\n",
              "    }\n",
              "    60% {\n",
              "      border-color: transparent;\n",
              "      border-right-color: var(--fill-color);\n",
              "    }\n",
              "    80% {\n",
              "      border-color: transparent;\n",
              "      border-right-color: var(--fill-color);\n",
              "      border-bottom-color: var(--fill-color);\n",
              "    }\n",
              "    90% {\n",
              "      border-color: transparent;\n",
              "      border-bottom-color: var(--fill-color);\n",
              "    }\n",
              "  }\n",
              "</style>\n",
              "\n",
              "  <script>\n",
              "    async function quickchart(key) {\n",
              "      const quickchartButtonEl =\n",
              "        document.querySelector('#' + key + ' button');\n",
              "      quickchartButtonEl.disabled = true;  // To prevent multiple clicks.\n",
              "      quickchartButtonEl.classList.add('colab-df-spinner');\n",
              "      try {\n",
              "        const charts = await google.colab.kernel.invokeFunction(\n",
              "            'suggestCharts', [key], {});\n",
              "      } catch (error) {\n",
              "        console.error('Error during call to suggestCharts:', error);\n",
              "      }\n",
              "      quickchartButtonEl.classList.remove('colab-df-spinner');\n",
              "      quickchartButtonEl.classList.add('colab-df-quickchart-complete');\n",
              "    }\n",
              "    (() => {\n",
              "      let quickchartButtonEl =\n",
              "        document.querySelector('#df-846e1b57-638f-414f-8b9a-63daccabb231 button');\n",
              "      quickchartButtonEl.style.display =\n",
              "        google.colab.kernel.accessAllowed ? 'block' : 'none';\n",
              "    })();\n",
              "  </script>\n",
              "</div>\n",
              "    </div>\n",
              "  </div>\n"
            ]
          },
          "metadata": {},
          "execution_count": 39
        }
      ]
    },
    {
      "cell_type": "code",
      "source": [
        "train_housing = housing_dataset(train_processed_df)\n",
        "\n",
        "validNum = int(len(train_housing) * 0.8)\n",
        "train_housing, valid_housing = random_split(train_housing, [validNum, len(train_housing) - validNum])\n",
        "\n",
        "trainLoaderHousing = DataLoader(train_housing, batch_size=128, shuffle=True, num_workers=0)\n",
        "validateLoaderHousing = DataLoader(valid_housing, batch_size=128, shuffle=True, num_workers=0)"
      ],
      "metadata": {
        "id": "3Gdt6zTXm0ld"
      },
      "id": "3Gdt6zTXm0ld",
      "execution_count": 40,
      "outputs": []
    },
    {
      "cell_type": "markdown",
      "metadata": {
        "id": "f373daa8-c962-48f0-b2a3-a30069c8d97c"
      },
      "source": [
        "### 2.c Improve the score by improving the model complexity"
      ],
      "id": "f373daa8-c962-48f0-b2a3-a30069c8d97c"
    },
    {
      "cell_type": "code",
      "execution_count": 41,
      "metadata": {
        "id": "3b80f847-4bca-43ff-a87e-d1a7ccbbf83d",
        "scrolled": true,
        "colab": {
          "base_uri": "https://localhost:8080/",
          "height": 1000
        },
        "outputId": "35221347-d640-4d62-c7ca-0016ed4b563f"
      },
      "outputs": [
        {
          "output_type": "stream",
          "name": "stderr",
          "text": [
            "/usr/local/lib/python3.10/dist-packages/torch/nn/modules/loss.py:535: UserWarning: Using a target size (torch.Size([128, 1])) that is different to the input size (torch.Size([128, 10])). This will likely lead to incorrect results due to broadcasting. Please ensure they have the same size.\n",
            "  return F.mse_loss(input, target, reduction=self.reduction)\n",
            "/usr/local/lib/python3.10/dist-packages/torch/nn/modules/loss.py:535: UserWarning: Using a target size (torch.Size([36, 1])) that is different to the input size (torch.Size([36, 10])). This will likely lead to incorrect results due to broadcasting. Please ensure they have the same size.\n",
            "  return F.mse_loss(input, target, reduction=self.reduction)\n",
            " 90%|█████████ | 9/10 [00:00<00:00, 14.15it/s]/usr/local/lib/python3.10/dist-packages/torch/nn/modules/loss.py:535: UserWarning: Using a target size (torch.Size([16, 1])) that is different to the input size (torch.Size([16, 10])). This will likely lead to incorrect results due to broadcasting. Please ensure they have the same size.\n",
            "  return F.mse_loss(input, target, reduction=self.reduction)\n",
            "100%|██████████| 10/10 [00:00<00:00, 14.42it/s]\n"
          ]
        },
        {
          "output_type": "stream",
          "name": "stdout",
          "text": [
            "Current Epoch: 1\n",
            "Training_Loss: 0.8687491863965988  | Validation_Loss: 1.12234628200531\n"
          ]
        },
        {
          "output_type": "stream",
          "name": "stderr",
          "text": [
            "100%|██████████| 10/10 [00:01<00:00,  7.16it/s]\n"
          ]
        },
        {
          "output_type": "stream",
          "name": "stdout",
          "text": [
            "Current Epoch: 2\n",
            "Training_Loss: 0.5639122985303402  | Validation_Loss: 0.8190326690673828\n"
          ]
        },
        {
          "output_type": "stream",
          "name": "stderr",
          "text": [
            "100%|██████████| 10/10 [00:00<00:00, 10.11it/s]\n"
          ]
        },
        {
          "output_type": "stream",
          "name": "stdout",
          "text": [
            "Current Epoch: 3\n",
            "Training_Loss: 0.2739160358905792  | Validation_Loss: 0.39318451285362244\n"
          ]
        },
        {
          "output_type": "stream",
          "name": "stderr",
          "text": [
            "100%|██████████| 10/10 [00:00<00:00, 11.13it/s]\n"
          ]
        },
        {
          "output_type": "stream",
          "name": "stdout",
          "text": [
            "Current Epoch: 4\n",
            "Training_Loss: 0.21224259808659554  | Validation_Loss: 0.27618594467639923\n"
          ]
        },
        {
          "output_type": "stream",
          "name": "stderr",
          "text": [
            "100%|██████████| 10/10 [00:00<00:00, 25.54it/s]\n"
          ]
        },
        {
          "output_type": "stream",
          "name": "stdout",
          "text": [
            "Current Epoch: 5\n",
            "Training_Loss: 0.17224656492471696  | Validation_Loss: 0.37840519348780316\n"
          ]
        },
        {
          "output_type": "stream",
          "name": "stderr",
          "text": [
            "100%|██████████| 10/10 [00:00<00:00, 26.58it/s]\n"
          ]
        },
        {
          "output_type": "stream",
          "name": "stdout",
          "text": [
            "Current Epoch: 6\n",
            "Training_Loss: 0.16599321067333223  | Validation_Loss: 0.2027713805437088\n"
          ]
        },
        {
          "output_type": "stream",
          "name": "stderr",
          "text": [
            "100%|██████████| 10/10 [00:00<00:00, 26.08it/s]\n"
          ]
        },
        {
          "output_type": "stream",
          "name": "stdout",
          "text": [
            "Current Epoch: 7\n",
            "Training_Loss: 0.15564166828989984  | Validation_Loss: 0.18867886314789453\n"
          ]
        },
        {
          "output_type": "stream",
          "name": "stderr",
          "text": [
            "100%|██████████| 10/10 [00:00<00:00, 27.62it/s]\n"
          ]
        },
        {
          "output_type": "stream",
          "name": "stdout",
          "text": [
            "Current Epoch: 8\n",
            "Training_Loss: 0.14421543702483178  | Validation_Loss: 0.18802635620037714\n"
          ]
        },
        {
          "output_type": "stream",
          "name": "stderr",
          "text": [
            "100%|██████████| 10/10 [00:00<00:00, 28.27it/s]\n"
          ]
        },
        {
          "output_type": "stream",
          "name": "stdout",
          "text": [
            "Current Epoch: 9\n",
            "Training_Loss: 0.13865231573581696  | Validation_Loss: 0.17846284061670303\n"
          ]
        },
        {
          "output_type": "stream",
          "name": "stderr",
          "text": [
            "100%|██████████| 10/10 [00:00<00:00, 26.76it/s]\n"
          ]
        },
        {
          "output_type": "stream",
          "name": "stdout",
          "text": [
            "Current Epoch: 10\n",
            "Training_Loss: 0.130015454813838  | Validation_Loss: 0.18184001247088113\n"
          ]
        },
        {
          "output_type": "stream",
          "name": "stderr",
          "text": [
            "100%|██████████| 10/10 [00:00<00:00, 27.05it/s]\n"
          ]
        },
        {
          "output_type": "stream",
          "name": "stdout",
          "text": [
            "Current Epoch: 11\n",
            "Training_Loss: 0.13034718185663224  | Validation_Loss: 0.2003173604607582\n"
          ]
        },
        {
          "output_type": "stream",
          "name": "stderr",
          "text": [
            "100%|██████████| 10/10 [00:00<00:00, 26.66it/s]\n"
          ]
        },
        {
          "output_type": "stream",
          "name": "stdout",
          "text": [
            "Current Epoch: 12\n",
            "Training_Loss: 0.12042978890240193  | Validation_Loss: 0.1931682601571083\n"
          ]
        },
        {
          "output_type": "stream",
          "name": "stderr",
          "text": [
            "100%|██████████| 10/10 [00:00<00:00, 27.67it/s]\n"
          ]
        },
        {
          "output_type": "stream",
          "name": "stdout",
          "text": [
            "Current Epoch: 13\n",
            "Training_Loss: 0.13184294402599334  | Validation_Loss: 0.17310008158286413\n"
          ]
        },
        {
          "output_type": "stream",
          "name": "stderr",
          "text": [
            "100%|██████████| 10/10 [00:00<00:00, 25.73it/s]\n"
          ]
        },
        {
          "output_type": "stream",
          "name": "stdout",
          "text": [
            "Current Epoch: 14\n",
            "Training_Loss: 0.1107441334053874  | Validation_Loss: 0.3270010327299436\n"
          ]
        },
        {
          "output_type": "stream",
          "name": "stderr",
          "text": [
            "100%|██████████| 10/10 [00:00<00:00, 26.14it/s]\n"
          ]
        },
        {
          "output_type": "stream",
          "name": "stdout",
          "text": [
            "Current Epoch: 15\n",
            "Training_Loss: 0.10811679512262344  | Validation_Loss: 0.17677587270736694\n"
          ]
        },
        {
          "output_type": "stream",
          "name": "stderr",
          "text": [
            "100%|██████████| 10/10 [00:00<00:00, 26.05it/s]\n"
          ]
        },
        {
          "output_type": "stream",
          "name": "stdout",
          "text": [
            "Current Epoch: 16\n",
            "Training_Loss: 0.10880111791193485  | Validation_Loss: 0.32002955426772434\n"
          ]
        },
        {
          "output_type": "stream",
          "name": "stderr",
          "text": [
            "100%|██████████| 10/10 [00:00<00:00, 25.58it/s]\n"
          ]
        },
        {
          "output_type": "stream",
          "name": "stdout",
          "text": [
            "Current Epoch: 17\n",
            "Training_Loss: 0.1188671737909317  | Validation_Loss: 0.17625015725692114\n"
          ]
        },
        {
          "output_type": "stream",
          "name": "stderr",
          "text": [
            "100%|██████████| 10/10 [00:00<00:00, 26.24it/s]\n"
          ]
        },
        {
          "output_type": "stream",
          "name": "stdout",
          "text": [
            "Current Epoch: 18\n",
            "Training_Loss: 0.1018284134566784  | Validation_Loss: 0.168935127556324\n"
          ]
        },
        {
          "output_type": "stream",
          "name": "stderr",
          "text": [
            "100%|██████████| 10/10 [00:00<00:00, 23.51it/s]\n"
          ]
        },
        {
          "output_type": "stream",
          "name": "stdout",
          "text": [
            "Current Epoch: 19\n",
            "Training_Loss: 0.09724617283791304  | Validation_Loss: 0.17763362576564154\n"
          ]
        },
        {
          "output_type": "stream",
          "name": "stderr",
          "text": [
            "100%|██████████| 10/10 [00:00<00:00, 16.44it/s]"
          ]
        },
        {
          "output_type": "stream",
          "name": "stdout",
          "text": [
            "Current Epoch: 20\n",
            "Training_Loss: 0.0969335064291954  | Validation_Loss: 0.17928184817234674\n",
            "Time Taken to Train: 0:00:13.182745\n"
          ]
        },
        {
          "output_type": "stream",
          "name": "stderr",
          "text": [
            "\n"
          ]
        },
        {
          "output_type": "execute_result",
          "data": {
            "text/plain": [
              "<matplotlib.legend.Legend at 0x7c0a09389c90>"
            ]
          },
          "metadata": {},
          "execution_count": 41
        },
        {
          "output_type": "display_data",
          "data": {
            "text/plain": [
              "<Figure size 640x480 with 1 Axes>"
            ],
            "image/png": "[encoded data removed]"
          },
          "metadata": {}
        }
      ],
      "source": [
        "\n",
        "LectureModel = copy.deepcopy(lectureModel)\n",
        "LectureHousingTrainer = Train_Model(LectureModel, nn.MSELoss(), torch.optim.SGD(LectureModel.parameters(), lr=0.01, momentum=0.9), nn.MSELoss(), \"Regression\",  device_to_use)\n",
        "\n",
        "start_time = datetime.now()\n",
        "\n",
        "LectureHousingTrainer.fit(trainLoaderHousing, validateLoaderHousing, 20)\n",
        "end_time = datetime.now()\n",
        "\n",
        "print(\"Time Taken to Train:\", end_time - start_time)\n",
        "### PLOTTING METRICS\n",
        "plt.plot(LectureHousingTrainer.Metrics['Training_Loss'], label='Training Loss')\n",
        "plt.plot(LectureHousingTrainer.Metrics['Validation_Loss'], label='Validation Loss')\n",
        "plt.xlabel('Epoch')\n",
        "plt.ylabel('Metric')\n",
        "plt.legend()"
      ],
      "id": "3b80f847-4bca-43ff-a87e-d1a7ccbbf83d"
    },
    {
      "cell_type": "code",
      "execution_count": 42,
      "metadata": {
        "id": "6c907708-d7c5-4357-ad2a-56f1268a667c",
        "scrolled": true,
        "colab": {
          "base_uri": "https://localhost:8080/",
          "height": 1000
        },
        "outputId": "04082a17-e6d9-442a-be82-b9f47854ef52"
      },
      "outputs": [
        {
          "output_type": "stream",
          "name": "stderr",
          "text": [
            "100%|██████████| 10/10 [00:00<00:00, 25.14it/s]\n"
          ]
        },
        {
          "output_type": "stream",
          "name": "stdout",
          "text": [
            "Current Epoch: 1\n",
            "Training_Loss: 0.9037358701229096  | Validation_Loss: 1.0443241596221924\n"
          ]
        },
        {
          "output_type": "stream",
          "name": "stderr",
          "text": [
            "100%|██████████| 10/10 [00:00<00:00, 27.20it/s]\n"
          ]
        },
        {
          "output_type": "stream",
          "name": "stdout",
          "text": [
            "Current Epoch: 2\n",
            "Training_Loss: 0.8078932464122772  | Validation_Loss: 1.0734533071517944\n"
          ]
        },
        {
          "output_type": "stream",
          "name": "stderr",
          "text": [
            "100%|██████████| 10/10 [00:00<00:00, 23.03it/s]\n"
          ]
        },
        {
          "output_type": "stream",
          "name": "stdout",
          "text": [
            "Current Epoch: 3\n",
            "Training_Loss: 0.44318895414471626  | Validation_Loss: 0.9243905146916708\n"
          ]
        },
        {
          "output_type": "stream",
          "name": "stderr",
          "text": [
            "100%|██████████| 10/10 [00:00<00:00, 26.72it/s]\n"
          ]
        },
        {
          "output_type": "stream",
          "name": "stdout",
          "text": [
            "Current Epoch: 4\n",
            "Training_Loss: 0.2354426808655262  | Validation_Loss: 0.2542944401502609\n"
          ]
        },
        {
          "output_type": "stream",
          "name": "stderr",
          "text": [
            "100%|██████████| 10/10 [00:00<00:00, 25.14it/s]\n"
          ]
        },
        {
          "output_type": "stream",
          "name": "stdout",
          "text": [
            "Current Epoch: 5\n",
            "Training_Loss: 0.19621551930904388  | Validation_Loss: 0.22517694532871246\n"
          ]
        },
        {
          "output_type": "stream",
          "name": "stderr",
          "text": [
            "100%|██████████| 10/10 [00:00<00:00, 26.48it/s]\n"
          ]
        },
        {
          "output_type": "stream",
          "name": "stdout",
          "text": [
            "Current Epoch: 6\n",
            "Training_Loss: 0.1527519330382347  | Validation_Loss: 0.2612552245457967\n"
          ]
        },
        {
          "output_type": "stream",
          "name": "stderr",
          "text": [
            "100%|██████████| 10/10 [00:00<00:00, 25.35it/s]\n"
          ]
        },
        {
          "output_type": "stream",
          "name": "stdout",
          "text": [
            "Current Epoch: 7\n",
            "Training_Loss: 0.16154221519827844  | Validation_Loss: 0.2244905928770701\n"
          ]
        },
        {
          "output_type": "stream",
          "name": "stderr",
          "text": [
            "100%|██████████| 10/10 [00:00<00:00, 27.15it/s]\n"
          ]
        },
        {
          "output_type": "stream",
          "name": "stdout",
          "text": [
            "Current Epoch: 8\n",
            "Training_Loss: 0.14253699406981468  | Validation_Loss: 0.17123274753491083\n"
          ]
        },
        {
          "output_type": "stream",
          "name": "stderr",
          "text": [
            "100%|██████████| 10/10 [00:00<00:00, 25.60it/s]\n"
          ]
        },
        {
          "output_type": "stream",
          "name": "stdout",
          "text": [
            "Current Epoch: 9\n",
            "Training_Loss: 0.11301840282976627  | Validation_Loss: 0.16953177750110626\n"
          ]
        },
        {
          "output_type": "stream",
          "name": "stderr",
          "text": [
            "100%|██████████| 10/10 [00:00<00:00, 15.02it/s]\n"
          ]
        },
        {
          "output_type": "stream",
          "name": "stdout",
          "text": [
            "Current Epoch: 10\n",
            "Training_Loss: 0.12126475758850574  | Validation_Loss: 0.18024075527985892\n"
          ]
        },
        {
          "output_type": "stream",
          "name": "stderr",
          "text": [
            "100%|██████████| 10/10 [00:00<00:00, 14.56it/s]\n"
          ]
        },
        {
          "output_type": "stream",
          "name": "stdout",
          "text": [
            "Current Epoch: 11\n",
            "Training_Loss: 0.1173060305416584  | Validation_Loss: 0.21855823695659637\n"
          ]
        },
        {
          "output_type": "stream",
          "name": "stderr",
          "text": [
            "100%|██████████| 10/10 [00:00<00:00, 21.53it/s]\n"
          ]
        },
        {
          "output_type": "stream",
          "name": "stdout",
          "text": [
            "Current Epoch: 12\n",
            "Training_Loss: 0.09553936384618282  | Validation_Loss: 0.23200559616088867\n"
          ]
        },
        {
          "output_type": "stream",
          "name": "stderr",
          "text": [
            "100%|██████████| 10/10 [00:00<00:00, 26.00it/s]\n"
          ]
        },
        {
          "output_type": "stream",
          "name": "stdout",
          "text": [
            "Current Epoch: 13\n",
            "Training_Loss: 0.07987673450261354  | Validation_Loss: 0.17970347901185355\n"
          ]
        },
        {
          "output_type": "stream",
          "name": "stderr",
          "text": [
            "100%|██████████| 10/10 [00:00<00:00, 26.60it/s]\n"
          ]
        },
        {
          "output_type": "stream",
          "name": "stdout",
          "text": [
            "Current Epoch: 14\n",
            "Training_Loss: 0.07152354307472705  | Validation_Loss: 0.20761009057362875\n"
          ]
        },
        {
          "output_type": "stream",
          "name": "stderr",
          "text": [
            "100%|██████████| 10/10 [00:00<00:00, 27.64it/s]\n"
          ]
        },
        {
          "output_type": "stream",
          "name": "stdout",
          "text": [
            "Current Epoch: 15\n",
            "Training_Loss: 0.06240518055856228  | Validation_Loss: 0.15813466534018517\n"
          ]
        },
        {
          "output_type": "stream",
          "name": "stderr",
          "text": [
            "100%|██████████| 10/10 [00:00<00:00, 27.20it/s]\n"
          ]
        },
        {
          "output_type": "stream",
          "name": "stdout",
          "text": [
            "Current Epoch: 16\n",
            "Training_Loss: 0.0696444196626544  | Validation_Loss: 0.21665399769941965\n"
          ]
        },
        {
          "output_type": "stream",
          "name": "stderr",
          "text": [
            "100%|██████████| 10/10 [00:00<00:00, 25.75it/s]\n"
          ]
        },
        {
          "output_type": "stream",
          "name": "stdout",
          "text": [
            "Current Epoch: 17\n",
            "Training_Loss: 0.05478843040764332  | Validation_Loss: 0.3514442245165507\n"
          ]
        },
        {
          "output_type": "stream",
          "name": "stderr",
          "text": [
            "100%|██████████| 10/10 [00:00<00:00, 25.90it/s]\n"
          ]
        },
        {
          "output_type": "stream",
          "name": "stdout",
          "text": [
            "Current Epoch: 18\n",
            "Training_Loss: 0.05347675196826458  | Validation_Loss: 0.17838379740715027\n"
          ]
        },
        {
          "output_type": "stream",
          "name": "stderr",
          "text": [
            "100%|██████████| 10/10 [00:00<00:00, 26.80it/s]\n"
          ]
        },
        {
          "output_type": "stream",
          "name": "stdout",
          "text": [
            "Current Epoch: 19\n",
            "Training_Loss: 0.06789169684052468  | Validation_Loss: 0.22855696827173233\n"
          ]
        },
        {
          "output_type": "stream",
          "name": "stderr",
          "text": [
            "100%|██████████| 10/10 [00:00<00:00, 25.91it/s]"
          ]
        },
        {
          "output_type": "stream",
          "name": "stdout",
          "text": [
            "Current Epoch: 20\n",
            "Training_Loss: 0.06129190716892481  | Validation_Loss: 0.20305866996447244\n",
            "Time Taken to Train: 0:00:10.690065\n"
          ]
        },
        {
          "output_type": "stream",
          "name": "stderr",
          "text": [
            "\n"
          ]
        },
        {
          "output_type": "execute_result",
          "data": {
            "text/plain": [
              "<matplotlib.legend.Legend at 0x7c0a0946e920>"
            ]
          },
          "metadata": {},
          "execution_count": 42
        },
        {
          "output_type": "display_data",
          "data": {
            "text/plain": [
              "<Figure size 640x480 with 1 Axes>"
            ],
            "image/png": "[encoded data removed]"
          },
          "metadata": {}
        }
      ],
      "source": [
        "base_housingModel = copy.deepcopy(sale_predictor)\n",
        "ComplexHousingTrainer = Train_Model(base_housingModel, nn.MSELoss(), torch.optim.SGD(base_housingModel.parameters(), lr=0.01, momentum=0.9), nn.MSELoss(), \"Regression\",  device_to_use)\n",
        "\n",
        "start_time = datetime.now()\n",
        "\n",
        "ComplexHousingTrainer.fit(trainLoaderHousing, validateLoaderHousing, 20)\n",
        "end_time = datetime.now()\n",
        "\n",
        "print(\"Time Taken to Train:\", end_time - start_time)\n",
        "### PLOTTING METRICS\n",
        "plt.plot(ComplexHousingTrainer.Metrics['Training_Loss'], label='Training Loss')\n",
        "plt.plot(ComplexHousingTrainer.Metrics['Validation_Loss'], label='Validation Loss')\n",
        "plt.xlabel('Epoch')\n",
        "plt.ylabel('Metric')\n",
        "plt.legend()"
      ],
      "id": "6c907708-d7c5-4357-ad2a-56f1268a667c"
    },
    {
      "cell_type": "markdown",
      "metadata": {
        "id": "b21dc4f8-b4ed-4e8b-b79d-0c2ed7ed1d09"
      },
      "source": [
        "### How about the model complexity comparison and training time?\n",
        "The new model shows better accuracy compared to the model built during the class lectures."
      ],
      "id": "b21dc4f8-b4ed-4e8b-b79d-0c2ed7ed1d09"
    }
  ],
  "metadata": {
    "accelerator": "GPU",
    "colab": {
      "provenance": [],
      "include_colab_link": true
    },
    "gpuClass": "standard",
    "kernelspec": {
      "display_name": "Python 3 (ipykernel)",
      "language": "python",
      "name": "python3"
    },
    "language_info": {
      "codemirror_mode": {
        "name": "ipython",
        "version": 3
      },
      "file_extension": ".py",
      "mimetype": "text/x-python",
      "name": "python",
      "nbconvert_exporter": "python",
      "pygments_lexer": "ipython3",
      "version": "3.10.9"
    }
  },
  "nbformat": 4,
  "nbformat_minor": 5
}