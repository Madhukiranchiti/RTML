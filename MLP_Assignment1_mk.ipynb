{
  "cells": [
    {
      "cell_type": "markdown",
      "metadata": {
        "id": "view-in-github",
        "colab_type": "text"
      },
      "source": [
        "<a href=\"https://colab.research.google.com/github/Madhukiranchiti/RTML/blob/main/MLP_Assignment1_mk.ipynb\" target=\"_parent\"><img src=\"https://colab.research.google.com/assets/colab-badge.svg\" alt=\"Open In Colab\"/></a>"
      ]
    },
    {
      "cell_type": "markdown",
      "metadata": {
        "id": "50609119-e1ed-47f3-9fb2-9f31a46b9463"
      },
      "source": [
        "# Homework 1: Fashion and Housing Multi-layer Perceptron Model Training\n",
        "## Course : Real-Time Machine Learning 5106\n",
        "### Name : Lasya Vadlamudi\n",
        "### Student ID : 801318796"
      ],
      "id": "50609119-e1ed-47f3-9fb2-9f31a46b9463"
    },
    {
      "cell_type": "code",
      "execution_count": 1,
      "metadata": {
        "colab": {
          "base_uri": "https://localhost:8080/"
        },
        "id": "c2d5af04-1aea-40d0-8e7e-d90ae1310e25",
        "outputId": "1d1a4595-2f11-425d-a3cf-0bdd7440b27e"
      },
      "outputs": [
        {
          "output_type": "stream",
          "name": "stdout",
          "text": [
            "Collecting torchmetrics\n",
            "  Downloading torchmetrics-1.3.0.post0-py3-none-any.whl (840 kB)\n",
            "\u001b[2K     \u001b[90m━━━━━━━━━━━━━━━━━━━━━━━━━━━━━━━━━━━━━━━━\u001b[0m \u001b[32m840.2/840.2 kB\u001b[0m \u001b[31m5.7 MB/s\u001b[0m eta \u001b[36m0:00:00\u001b[0m\n",
            "\u001b[?25hRequirement already satisfied: numpy>1.20.0 in /usr/local/lib/python3.10/dist-packages (from torchmetrics) (1.23.5)\n",
            "Requirement already satisfied: packaging>17.1 in /usr/local/lib/python3.10/dist-packages (from torchmetrics) (23.2)\n",
            "Requirement already satisfied: torch>=1.10.0 in /usr/local/lib/python3.10/dist-packages (from torchmetrics) (2.1.0+cu121)\n",
            "Collecting lightning-utilities>=0.8.0 (from torchmetrics)\n",
            "  Downloading lightning_utilities-0.10.1-py3-none-any.whl (24 kB)\n",
            "Requirement already satisfied: setuptools in /usr/local/lib/python3.10/dist-packages (from lightning-utilities>=0.8.0->torchmetrics) (67.7.2)\n",
            "Requirement already satisfied: typing-extensions in /usr/local/lib/python3.10/dist-packages (from lightning-utilities>=0.8.0->torchmetrics) (4.5.0)\n",
            "Requirement already satisfied: filelock in /usr/local/lib/python3.10/dist-packages (from torch>=1.10.0->torchmetrics) (3.13.1)\n",
            "Requirement already satisfied: sympy in /usr/local/lib/python3.10/dist-packages (from torch>=1.10.0->torchmetrics) (1.12)\n",
            "Requirement already satisfied: networkx in /usr/local/lib/python3.10/dist-packages (from torch>=1.10.0->torchmetrics) (3.2.1)\n",
            "Requirement already satisfied: jinja2 in /usr/local/lib/python3.10/dist-packages (from torch>=1.10.0->torchmetrics) (3.1.3)\n",
            "Requirement already satisfied: fsspec in /usr/local/lib/python3.10/dist-packages (from torch>=1.10.0->torchmetrics) (2023.6.0)\n",
            "Requirement already satisfied: triton==2.1.0 in /usr/local/lib/python3.10/dist-packages (from torch>=1.10.0->torchmetrics) (2.1.0)\n",
            "Requirement already satisfied: MarkupSafe>=2.0 in /usr/local/lib/python3.10/dist-packages (from jinja2->torch>=1.10.0->torchmetrics) (2.1.4)\n",
            "Requirement already satisfied: mpmath>=0.19 in /usr/local/lib/python3.10/dist-packages (from sympy->torch>=1.10.0->torchmetrics) (1.3.0)\n",
            "Installing collected packages: lightning-utilities, torchmetrics\n",
            "Successfully installed lightning-utilities-0.10.1 torchmetrics-1.3.0.post0\n"
          ]
        }
      ],
      "source": [
        "import cv2\n",
        "import numpy as np\n",
        "import pandas as pd\n",
        "from tqdm import tqdm\n",
        "from datetime import datetime\n",
        "from matplotlib import pyplot as plt\n",
        "\n",
        "import torch\n",
        "from torch import nn\n",
        "from torch.utils.data import DataLoader, random_split, Subset\n",
        "\n",
        "from torchvision import transforms, datasets\n",
        "!pip install torchmetrics\n",
        "from torchmetrics.classification import MulticlassAccuracy, BinaryAccuracy\n",
        "from torchmetrics import ConfusionMatrix\n",
        "\n",
        "import copy"
      ],
      "id": "c2d5af04-1aea-40d0-8e7e-d90ae1310e25"
    },
    {
      "cell_type": "code",
      "execution_count": 2,
      "metadata": {
        "id": "ef435688-843e-42ba-8516-66d2dfc8dcb7"
      },
      "outputs": [],
      "source": [
        "class Train_Model: # A class to train and save the developed model and the metrics\n",
        "\n",
        "\n",
        "    def __init__(self, model, loss, optimizer, accuracy, model_type, device, classes=0):\n",
        "\n",
        "        self.device = device\n",
        "        self.model = model.to(device) ## Setting the model on GPU\n",
        "        self.Loss_Function = loss\n",
        "        self.optimizer = optimizer\n",
        "        self.accuracy = accuracy\n",
        "        self.model_type = model_type\n",
        "        self.classNum = classes\n",
        "\n",
        "        # A dictionary to append or store the results\n",
        "        self.Metrics = {\"Training_Loss\":[],\"Training_Accuracy\":[], \"Validation_Loss\":[], \"Validation_Accuracy\":[],\"Test_Accuracy\":0}\n",
        "        self.ConfMatrix = None\n",
        "\n",
        "    # Function to train the model\n",
        "    def model_run(self, l_data,run_type):\n",
        "\n",
        "        if run_type == 'train':\n",
        "          self.model.train()\n",
        "\n",
        "          if self.model_type == \"Classification\":\n",
        "              MCA = self.accuracy(self.classNum)\n",
        "          else:\n",
        "              MCA = self.accuracy\n",
        "\n",
        "          loss_sum = 0\n",
        "          acc = 0\n",
        "\n",
        "          # Iterates over the data\n",
        "          for data, labels in tqdm(l_data):\n",
        "\n",
        "              # transform data into one-hot vectors\n",
        "              data = data.to(self.device)\n",
        "              if self.model_type == \"Classification\":\n",
        "                  labels = torch.eye(10)[labels]\n",
        "              else:\n",
        "                  labels = labels.reshape(-1, 1)\n",
        "              labels = labels.to(self.device)\n",
        "\n",
        "              predictions = self.model(data)\n",
        "              loss_value = self.Loss_Function(predictions, labels)\n",
        "\n",
        "\n",
        "              self.optimizer.zero_grad()\n",
        "              loss_value.backward()\n",
        "              self.optimizer.step()\n",
        "\n",
        "\n",
        "              # Set the predictions and labels back into integers for accuracy calculation\n",
        "              if self.model_type == \"Classification\":\n",
        "                  predictions = torch.Tensor([torch.argmax(i).item() for i in predictions])\n",
        "                  labels = torch.Tensor([torch.argmax(i).item() for i in labels])\n",
        "\n",
        "              ##### Calculate Loss and accuracy\n",
        "              loss_sum += loss_value.item()\n",
        "              if self.model_type == \"Classification\":\n",
        "                  acc += MCA(predictions, labels)\n",
        "\n",
        "          self.Metrics[\"Training_Loss\"].append(loss_sum / len(l_data))\n",
        "          if self.model_type == \"Classification\":\n",
        "              self.Metrics[\"Training_Accuracy\"].append(acc / len(l_data))\n",
        "\n",
        "\n",
        "        elif run_type == 'eval':\n",
        "          self.model.eval()\n",
        "\n",
        "          if self.model_type == \"Classification\":\n",
        "              MCA = self.accuracy(self.classNum)\n",
        "          else:\n",
        "              MCA = self.accuracy\n",
        "\n",
        "          loss_sum = 0\n",
        "          acc = 0\n",
        "\n",
        "          for data, labels in l_data:\n",
        "\n",
        "              data = data.to(self.device)\n",
        "              if self.model_type == \"Classification\":\n",
        "                  labels = torch.eye(10)[labels]\n",
        "              else:\n",
        "                  labels = labels.reshape(-1, 1)\n",
        "              labels = labels.to(self.device)\n",
        "\n",
        "              with torch.no_grad():\n",
        "                  predictions = self.model(data)\n",
        "              loss_value = self.Loss_Function(predictions, labels)\n",
        "\n",
        "              if self.model_type == \"Classification\":\n",
        "                  predictions = torch.Tensor([torch.argmax(i).item() for i in predictions])\n",
        "                  labels = torch.Tensor([torch.argmax(i).item() for i in labels])\n",
        "\n",
        "              loss_sum += loss_value.item()\n",
        "              if self.model_type == \"Classification\":\n",
        "                  acc += MCA(predictions, labels)\n",
        "\n",
        "          self.Metrics[\"Validation_Loss\"].append(loss_sum / len(l_data))\n",
        "          if self.model_type == \"Classification\":\n",
        "              self.Metrics[\"Validation_Accuracy\"].append(acc / len(l_data))\n",
        "\n",
        "\n",
        "    def fit(self, t_data, v_data, EPOCHS):\n",
        "\n",
        "\n",
        "        for i in range(EPOCHS):\n",
        "\n",
        "            self.model_run(v_data,'eval')\n",
        "            self.model_run(t_data,'train')\n",
        "\n",
        "            print(\"Current Epoch:\", i+1)\n",
        "            print(\"Training_Loss:\", self.Metrics[\"Training_Loss\"][-1], \" | Validation_Loss:\", self.Metrics[\"Validation_Loss\"][-1])\n",
        "            if self.model_type == \"Classification\":\n",
        "                print(\"Training_Accuracy:\", self.Metrics[\"Training_Accuracy\"][-1].item(), \" | Validation_Accuracy:\", self.Metrics[\"Validation_Accuracy\"][-1].item())\n",
        "\n",
        "\n",
        "    def Test_Model(self, testLoader):\n",
        "\n",
        "        self.model.eval()\n",
        "\n",
        "        if self.model_type == \"Classification\":\n",
        "            confusion = ConfusionMatrix(task=\"multiclass\", num_classes=self.classNum)\n",
        "            MCA = self.accuracy(self.classNum)\n",
        "        else:\n",
        "            MCA = self.accuracy\n",
        "\n",
        "        predMax = torch.empty(0)\n",
        "        labelMax = torch.empty(0)\n",
        "\n",
        "        for data, labels in testLoader:\n",
        "\n",
        "            data = data.to(self.device)\n",
        "            if self.model_type == \"Classification\":\n",
        "                labels = torch.eye(10)[labels]\n",
        "            else:\n",
        "                labels = labels.reshape(-1, 1)\n",
        "            labels = labels.to(self.device)\n",
        "\n",
        "            with torch.no_grad():\n",
        "                pred = self.model(data)\n",
        "\n",
        "            if self.model_type == \"Classification\":\n",
        "                pred = torch.Tensor([torch.argmax(i).item() for i in pred])\n",
        "                labels = torch.Tensor([torch.argmax(i).item() for i in labels])\n",
        "\n",
        "            predMax = torch.cat((predMax, pred))\n",
        "            labelMax = torch.cat((labelMax, labels))\n",
        "\n",
        "        if self.model_type == \"Classification\":\n",
        "            self.ConfMatrix = confusion(predMax, labelMax)\n",
        "            self.Metrics[\"Test_Accuracy\"] = MCA(predMax, labelMax).item()\n",
        "\n",
        "\n",
        ""
      ],
      "id": "ef435688-843e-42ba-8516-66d2dfc8dcb7"
    },
    {
      "cell_type": "markdown",
      "metadata": {
        "id": "ae6a8caf-dfed-4b60-8dc5-760b2f483a50"
      },
      "source": [
        "## Problem 1 Fashion Dataset"
      ],
      "id": "ae6a8caf-dfed-4b60-8dc5-760b2f483a50"
    },
    {
      "cell_type": "code",
      "execution_count": 3,
      "metadata": {
        "id": "011f0439-8023-4551-a9df-61ff6fbfd2d0"
      },
      "outputs": [],
      "source": [
        "device_to_use = torch.device(\"cuda\" if torch.cuda.is_available() else \"cpu\")"
      ],
      "id": "011f0439-8023-4551-a9df-61ff6fbfd2d0"
    },
    {
      "cell_type": "code",
      "execution_count": 4,
      "metadata": {
        "id": "581c3bbe-b7aa-45a8-857e-0c745bcfc314"
      },
      "outputs": [],
      "source": [
        "train_transform = transforms.Compose([\n",
        "                                        transforms.ToTensor(),\n",
        "                                        transforms.Normalize((0.29), (0.32)),\n",
        "])\n",
        "\n",
        "test_transform = transforms.Compose([\n",
        "                                        transforms.ToTensor(),\n",
        "                                        transforms.Normalize((0.29), (0.32)),\n",
        "])"
      ],
      "id": "581c3bbe-b7aa-45a8-857e-0c745bcfc314"
    },
    {
      "cell_type": "code",
      "execution_count": 5,
      "metadata": {
        "id": "c39123b0-efbd-484e-b843-3c88da5f89de",
        "colab": {
          "base_uri": "https://localhost:8080/"
        },
        "outputId": "b20d2686-5375-4735-f5f5-5ab2c7a9fbee"
      },
      "outputs": [
        {
          "output_type": "stream",
          "name": "stdout",
          "text": [
            "Downloading http://fashion-mnist.s3-website.eu-central-1.amazonaws.com/train-images-idx3-ubyte.gz\n",
            "Downloading http://fashion-mnist.s3-website.eu-central-1.amazonaws.com/train-images-idx3-ubyte.gz to datasets/FashionMNIST/raw/train-images-idx3-ubyte.gz\n"
          ]
        },
        {
          "output_type": "stream",
          "name": "stderr",
          "text": [
            "100%|██████████| 26421880/26421880 [00:02<00:00, 10380468.79it/s]\n"
          ]
        },
        {
          "output_type": "stream",
          "name": "stdout",
          "text": [
            "Extracting datasets/FashionMNIST/raw/train-images-idx3-ubyte.gz to datasets/FashionMNIST/raw\n",
            "\n",
            "Downloading http://fashion-mnist.s3-website.eu-central-1.amazonaws.com/train-labels-idx1-ubyte.gz\n",
            "Downloading http://fashion-mnist.s3-website.eu-central-1.amazonaws.com/train-labels-idx1-ubyte.gz to datasets/FashionMNIST/raw/train-labels-idx1-ubyte.gz\n"
          ]
        },
        {
          "output_type": "stream",
          "name": "stderr",
          "text": [
            "100%|██████████| 29515/29515 [00:00<00:00, 191962.19it/s]\n"
          ]
        },
        {
          "output_type": "stream",
          "name": "stdout",
          "text": [
            "Extracting datasets/FashionMNIST/raw/train-labels-idx1-ubyte.gz to datasets/FashionMNIST/raw\n",
            "\n",
            "Downloading http://fashion-mnist.s3-website.eu-central-1.amazonaws.com/t10k-images-idx3-ubyte.gz\n",
            "Downloading http://fashion-mnist.s3-website.eu-central-1.amazonaws.com/t10k-images-idx3-ubyte.gz to datasets/FashionMNIST/raw/t10k-images-idx3-ubyte.gz\n"
          ]
        },
        {
          "output_type": "stream",
          "name": "stderr",
          "text": [
            "100%|██████████| 4422102/4422102 [00:01<00:00, 3643804.72it/s]\n"
          ]
        },
        {
          "output_type": "stream",
          "name": "stdout",
          "text": [
            "Extracting datasets/FashionMNIST/raw/t10k-images-idx3-ubyte.gz to datasets/FashionMNIST/raw\n",
            "\n",
            "Downloading http://fashion-mnist.s3-website.eu-central-1.amazonaws.com/t10k-labels-idx1-ubyte.gz\n",
            "Downloading http://fashion-mnist.s3-website.eu-central-1.amazonaws.com/t10k-labels-idx1-ubyte.gz to datasets/FashionMNIST/raw/t10k-labels-idx1-ubyte.gz\n"
          ]
        },
        {
          "output_type": "stream",
          "name": "stderr",
          "text": [
            "100%|██████████| 5148/5148 [00:00<00:00, 20198575.30it/s]\n"
          ]
        },
        {
          "output_type": "stream",
          "name": "stdout",
          "text": [
            "Extracting datasets/FashionMNIST/raw/t10k-labels-idx1-ubyte.gz to datasets/FashionMNIST/raw\n",
            "\n"
          ]
        }
      ],
      "source": [
        "train_df = datasets.FashionMNIST(root=\"datasets\", train=True, transform=train_transform,download=True)\n",
        "test_df = datasets.FashionMNIST(root=\"datasets\", train=False, transform=test_transform,download=True)\n",
        "\n",
        "## Create Train and Test data\n",
        "validNum = int(len(train_df) * 0.8)\n",
        "train_df, valid_df = random_split(train_df, [validNum, len(train_df) - validNum])\n"
      ],
      "id": "c39123b0-efbd-484e-b843-3c88da5f89de"
    },
    {
      "cell_type": "code",
      "execution_count": 6,
      "metadata": {
        "id": "ae9b750d-748f-49a4-9c20-cdc8218254dd"
      },
      "outputs": [],
      "source": [
        "trainLoader = DataLoader(train_df, batch_size=256, shuffle=True, num_workers=1)\n",
        "validateLoader = DataLoader(valid_df, batch_size=256, shuffle=True, num_workers=1)\n",
        "testLoader = DataLoader(test_df, batch_size=256, shuffle=True, num_workers=1)"
      ],
      "id": "ae9b750d-748f-49a4-9c20-cdc8218254dd"
    },
    {
      "cell_type": "code",
      "execution_count": 7,
      "metadata": {
        "id": "1bebb7a6-4049-495f-bb7c-b4e8b2d39cce",
        "colab": {
          "base_uri": "https://localhost:8080/"
        },
        "outputId": "ca965a63-08f3-4a1e-9ae1-84040c8cd19d"
      },
      "outputs": [
        {
          "output_type": "stream",
          "name": "stderr",
          "text": [
            "/usr/local/lib/python3.10/dist-packages/torch/nn/modules/lazy.py:180: UserWarning: Lazy modules are a new feature under heavy development so changes to the API or functionality can happen at any moment.\n",
            "  warnings.warn('Lazy modules are a new feature under heavy development '\n"
          ]
        }
      ],
      "source": [
        "BaseModel = nn.Sequential(\n",
        "    nn.Flatten(),\n",
        "    nn.LazyLinear(256),\n",
        "    nn.ReLU(),\n",
        "    nn.Linear(in_features= 256, out_features= 128),\n",
        "    nn.ReLU(),\n",
        "    nn.Linear(in_features= 128, out_features= 64),\n",
        "    nn.ReLU(),\n",
        "    nn.Linear(in_features= 64, out_features= 10),\n",
        ")"
      ],
      "id": "1bebb7a6-4049-495f-bb7c-b4e8b2d39cce"
    },
    {
      "cell_type": "code",
      "execution_count": 8,
      "metadata": {
        "id": "726d5412-804f-4f43-ae8e-3994d094eed3"
      },
      "outputs": [],
      "source": [
        "base = copy.deepcopy(BaseModel)\n",
        "baseline_model_generator = Train_Model(base, nn.CrossEntropyLoss(), torch.optim.SGD(base.parameters(), lr=0.01, momentum=0.9), MulticlassAccuracy, \"Classification\",  device_to_use, 10)"
      ],
      "id": "726d5412-804f-4f43-ae8e-3994d094eed3"
    },
    {
      "cell_type": "markdown",
      "metadata": {
        "id": "a0bab864-4ddd-4892-a8d7-fd32527328f4"
      },
      "source": [
        "### 1.a Train the model from scratch (with randomized parameters)"
      ],
      "id": "a0bab864-4ddd-4892-a8d7-fd32527328f4"
    },
    {
      "cell_type": "code",
      "execution_count": 10,
      "metadata": {
        "colab": {
          "base_uri": "https://localhost:8080/",
          "height": 1000
        },
        "id": "272709df-b072-4790-a0e3-7e0c76462fce",
        "outputId": "f6347ea3-e45e-4b32-c813-274112e2c48a"
      },
      "outputs": [
        {
          "output_type": "stream",
          "name": "stderr",
          "text": [
            "100%|██████████| 188/188 [00:14<00:00, 13.02it/s]"
          ]
        },
        {
          "output_type": "stream",
          "name": "stdout",
          "text": [
            "Current Epoch: 1\n",
            "Training_Loss: 1.0218124950819827  | Validation_Loss: 2.300686410132875\n",
            "Training_Accuracy: 0.6397162675857544  | Validation_Accuracy: 0.07922246307134628\n"
          ]
        },
        {
          "output_type": "stream",
          "name": "stderr",
          "text": [
            "\n",
            "100%|██████████| 188/188 [00:14<00:00, 13.13it/s]"
          ]
        },
        {
          "output_type": "stream",
          "name": "stdout",
          "text": [
            "Current Epoch: 2\n",
            "Training_Loss: 0.4816226916427308  | Validation_Loss: 0.517884963370384\n",
            "Training_Accuracy: 0.8274038434028625  | Validation_Accuracy: 0.8107179403305054\n"
          ]
        },
        {
          "output_type": "stream",
          "name": "stderr",
          "text": [
            "\n",
            "100%|██████████| 188/188 [00:13<00:00, 13.79it/s]"
          ]
        },
        {
          "output_type": "stream",
          "name": "stdout",
          "text": [
            "Current Epoch: 3\n",
            "Training_Loss: 0.4224810183365294  | Validation_Loss: 0.42237846521621053\n",
            "Training_Accuracy: 0.8473816514015198  | Validation_Accuracy: 0.8422446846961975\n"
          ]
        },
        {
          "output_type": "stream",
          "name": "stderr",
          "text": [
            "\n",
            "100%|██████████| 188/188 [00:13<00:00, 13.77it/s]"
          ]
        },
        {
          "output_type": "stream",
          "name": "stdout",
          "text": [
            "Current Epoch: 4\n",
            "Training_Loss: 0.38458205854639094  | Validation_Loss: 0.41527238678424916\n",
            "Training_Accuracy: 0.8591309189796448  | Validation_Accuracy: 0.8405171036720276\n"
          ]
        },
        {
          "output_type": "stream",
          "name": "stderr",
          "text": [
            "\n",
            "100%|██████████| 188/188 [00:15<00:00, 11.80it/s]"
          ]
        },
        {
          "output_type": "stream",
          "name": "stdout",
          "text": [
            "Current Epoch: 5\n",
            "Training_Loss: 0.3557979293326114  | Validation_Loss: 0.3687671835118152\n",
            "Training_Accuracy: 0.872005045413971  | Validation_Accuracy: 0.863774299621582\n"
          ]
        },
        {
          "output_type": "stream",
          "name": "stderr",
          "text": [
            "\n",
            "100%|██████████| 188/188 [00:14<00:00, 12.56it/s]"
          ]
        },
        {
          "output_type": "stream",
          "name": "stdout",
          "text": [
            "Current Epoch: 6\n",
            "Training_Loss: 0.33454311765888906  | Validation_Loss: 0.3386938013929002\n",
            "Training_Accuracy: 0.8790283799171448  | Validation_Accuracy: 0.8761597275733948\n"
          ]
        },
        {
          "output_type": "stream",
          "name": "stderr",
          "text": [
            "\n",
            "100%|██████████| 188/188 [00:15<00:00, 12.53it/s]"
          ]
        },
        {
          "output_type": "stream",
          "name": "stdout",
          "text": [
            "Current Epoch: 7\n",
            "Training_Loss: 0.31342465018338345  | Validation_Loss: 0.3254040581114749\n",
            "Training_Accuracy: 0.8870748281478882  | Validation_Accuracy: 0.8800944685935974\n"
          ]
        },
        {
          "output_type": "stream",
          "name": "stderr",
          "text": [
            "\n",
            "100%|██████████| 188/188 [00:14<00:00, 13.38it/s]"
          ]
        },
        {
          "output_type": "stream",
          "name": "stdout",
          "text": [
            "Current Epoch: 8\n",
            "Training_Loss: 0.3005404346325296  | Validation_Loss: 0.32019091857240556\n",
            "Training_Accuracy: 0.890305757522583  | Validation_Accuracy: 0.8814218640327454\n"
          ]
        },
        {
          "output_type": "stream",
          "name": "stderr",
          "text": [
            "\n",
            "100%|██████████| 188/188 [00:14<00:00, 12.78it/s]\n"
          ]
        },
        {
          "output_type": "stream",
          "name": "stdout",
          "text": [
            "Current Epoch: 9\n",
            "Training_Loss: 0.28887814972945985  | Validation_Loss: 0.3259140823749786\n",
            "Training_Accuracy: 0.8953274488449097  | Validation_Accuracy: 0.8781104683876038\n"
          ]
        },
        {
          "output_type": "stream",
          "name": "stderr",
          "text": [
            "100%|██████████| 188/188 [00:15<00:00, 11.87it/s]"
          ]
        },
        {
          "output_type": "stream",
          "name": "stdout",
          "text": [
            "Current Epoch: 10\n",
            "Training_Loss: 0.27452838476350966  | Validation_Loss: 0.30756909447781583\n",
            "Training_Accuracy: 0.9011873006820679  | Validation_Accuracy: 0.8857197165489197\n"
          ]
        },
        {
          "output_type": "stream",
          "name": "stderr",
          "text": [
            "\n",
            "100%|██████████| 188/188 [00:15<00:00, 11.92it/s]\n"
          ]
        },
        {
          "output_type": "stream",
          "name": "stdout",
          "text": [
            "Current Epoch: 11\n",
            "Training_Loss: 0.26623942584116406  | Validation_Loss: 0.30735419595495184\n",
            "Training_Accuracy: 0.9020567536354065  | Validation_Accuracy: 0.8823812007904053\n"
          ]
        },
        {
          "output_type": "stream",
          "name": "stderr",
          "text": [
            "100%|██████████| 188/188 [00:15<00:00, 12.33it/s]"
          ]
        },
        {
          "output_type": "stream",
          "name": "stdout",
          "text": [
            "Current Epoch: 12\n",
            "Training_Loss: 0.25242836860583184  | Validation_Loss: 0.2923695739913494\n",
            "Training_Accuracy: 0.9076762199401855  | Validation_Accuracy: 0.8903553485870361\n"
          ]
        },
        {
          "output_type": "stream",
          "name": "stderr",
          "text": [
            "\n",
            "100%|██████████| 188/188 [00:13<00:00, 13.87it/s]"
          ]
        },
        {
          "output_type": "stream",
          "name": "stdout",
          "text": [
            "Current Epoch: 13\n",
            "Training_Loss: 0.24305399110976686  | Validation_Loss: 0.2921791999263966\n",
            "Training_Accuracy: 0.9116522669792175  | Validation_Accuracy: 0.8909425139427185\n"
          ]
        },
        {
          "output_type": "stream",
          "name": "stderr",
          "text": [
            "\n",
            "100%|██████████| 188/188 [00:13<00:00, 13.45it/s]"
          ]
        },
        {
          "output_type": "stream",
          "name": "stdout",
          "text": [
            "Current Epoch: 14\n",
            "Training_Loss: 0.23458124911214442  | Validation_Loss: 0.28214060943177405\n",
            "Training_Accuracy: 0.9147019982337952  | Validation_Accuracy: 0.8936232924461365\n"
          ]
        },
        {
          "output_type": "stream",
          "name": "stderr",
          "text": [
            "\n",
            "100%|██████████| 188/188 [00:13<00:00, 13.76it/s]"
          ]
        },
        {
          "output_type": "stream",
          "name": "stdout",
          "text": [
            "Current Epoch: 15\n",
            "Training_Loss: 0.22778560918696383  | Validation_Loss: 0.30329980146377644\n",
            "Training_Accuracy: 0.9161731600761414  | Validation_Accuracy: 0.8884627819061279\n"
          ]
        },
        {
          "output_type": "stream",
          "name": "stderr",
          "text": [
            "\n",
            "100%|██████████| 188/188 [00:13<00:00, 13.71it/s]\n"
          ]
        },
        {
          "output_type": "stream",
          "name": "stdout",
          "text": [
            "Current Epoch: 16\n",
            "Training_Loss: 0.21566059741568058  | Validation_Loss: 0.2926837361239372\n",
            "Training_Accuracy: 0.9218319058418274  | Validation_Accuracy: 0.8930178880691528\n"
          ]
        },
        {
          "output_type": "stream",
          "name": "stderr",
          "text": [
            "100%|██████████| 188/188 [00:13<00:00, 13.57it/s]"
          ]
        },
        {
          "output_type": "stream",
          "name": "stdout",
          "text": [
            "Current Epoch: 17\n",
            "Training_Loss: 0.20740753998781772  | Validation_Loss: 0.301610233301812\n",
            "Training_Accuracy: 0.9255597591400146  | Validation_Accuracy: 0.8925278782844543\n"
          ]
        },
        {
          "output_type": "stream",
          "name": "stderr",
          "text": [
            "\n",
            "100%|██████████| 188/188 [00:13<00:00, 13.77it/s]\n"
          ]
        },
        {
          "output_type": "stream",
          "name": "stdout",
          "text": [
            "Current Epoch: 18\n",
            "Training_Loss: 0.20196025929552444  | Validation_Loss: 0.2947906027448938\n",
            "Training_Accuracy: 0.9267645478248596  | Validation_Accuracy: 0.894372820854187\n"
          ]
        },
        {
          "output_type": "stream",
          "name": "stderr",
          "text": [
            "100%|██████████| 188/188 [00:13<00:00, 13.70it/s]"
          ]
        },
        {
          "output_type": "stream",
          "name": "stdout",
          "text": [
            "Current Epoch: 19\n",
            "Training_Loss: 0.19419734952773185  | Validation_Loss: 0.2949644216197602\n",
            "Training_Accuracy: 0.9287726879119873  | Validation_Accuracy: 0.891696035861969\n"
          ]
        },
        {
          "output_type": "stream",
          "name": "stderr",
          "text": [
            "\n",
            "100%|██████████| 188/188 [00:13<00:00, 13.80it/s]"
          ]
        },
        {
          "output_type": "stream",
          "name": "stdout",
          "text": [
            "Current Epoch: 20\n",
            "Training_Loss: 0.19301518080557914  | Validation_Loss: 0.29541836774095576\n",
            "Training_Accuracy: 0.9293666481971741  | Validation_Accuracy: 0.8946377635002136\n"
          ]
        },
        {
          "output_type": "stream",
          "name": "stderr",
          "text": [
            "\n"
          ]
        },
        {
          "output_type": "stream",
          "name": "stdout",
          "text": [
            "\n",
            "Test Accuracy: 0.8763999938964844 \n",
            "Time to Train: 0:06:00.958311\n"
          ]
        },
        {
          "output_type": "execute_result",
          "data": {
            "text/plain": [
              "<matplotlib.legend.Legend at 0x7a5ba84d34c0>"
            ]
          },
          "metadata": {},
          "execution_count": 10
        },
        {
          "output_type": "display_data",
          "data": {
            "text/plain": [
              "<Figure size 640x480 with 1 Axes>"
            ],
            "image/png": "[encoded data removed]"
          },
          "metadata": {}
        }
      ],
      "source": [
        "start_time = datetime.now()\n",
        "\n",
        "baseline_model_generator.fit(trainLoader, validateLoader,\n",
        "                             20)\n",
        "end_time = datetime.now()\n",
        "baseline_model_generator.Test_Model(testLoader)\n",
        "\n",
        "print(\"\\nTest Accuracy:\", baseline_model_generator.Metrics[\"Test_Accuracy\"], \"\\nTime to Train:\", end_time - start_time)\n",
        "import matplotlib.pyplot as plt\n",
        "\n",
        "### PLOTTING METRICS\n",
        "plt.plot(baseline_model_generator.Metrics['Training_Accuracy'], label='Training Accuracy')\n",
        "plt.plot(baseline_model_generator.Metrics['Validation_Accuracy'], label='Validation Accuracy')\n",
        "plt.plot(baseline_model_generator.Metrics['Training_Loss'], label='Training Loss')\n",
        "plt.plot(baseline_model_generator.Metrics['Validation_Loss'], label='Validation Loss')\n",
        "plt.xlabel('Epoch')\n",
        "plt.ylabel('Metric')\n",
        "plt.legend()"
      ],
      "id": "272709df-b072-4790-a0e3-7e0c76462fce"
    },
    {
      "cell_type": "code",
      "source": [
        "# Increased depth and width\n",
        "ComplexModel = nn.Sequential(\n",
        "    nn.Flatten(),\n",
        "    nn.LazyLinear(512),\n",
        "    nn.ReLU(),\n",
        "    nn.Linear(in_features=512, out_features=256),\n",
        "    nn.ReLU(),\n",
        "    nn.Linear(in_features=256, out_features=128),\n",
        "    nn.ReLU(),\n",
        "    nn.Linear(in_features=128, out_features=64),\n",
        "    nn.ReLU(),\n",
        "    nn.Linear(in_features=64, out_features=10),\n",
        ")\n",
        "complex_model = copy.deepcopy(ComplexModel)\n"
      ],
      "metadata": {
        "id": "bQ1HeSGNkgRo"
      },
      "id": "bQ1HeSGNkgRo",
      "execution_count": 11,
      "outputs": []
    },
    {
      "cell_type": "code",
      "source": [
        "complex_m = copy.deepcopy(ComplexModel)\n",
        "complex_model_generator = Train_Model(complex_m, nn.CrossEntropyLoss(), torch.optim.SGD(complex_m.parameters(), lr=0.01, momentum=0.9), MulticlassAccuracy, \"Classification\",  device_to_use, 10)"
      ],
      "metadata": {
        "id": "IL6QYngiktIj"
      },
      "id": "IL6QYngiktIj",
      "execution_count": 12,
      "outputs": []
    },
    {
      "cell_type": "code",
      "source": [
        "start_time = datetime.now()\n",
        "\n",
        "complex_model_generator.fit(trainLoader, validateLoader,\n",
        "                             )\n",
        "end_time = datetime.now()\n",
        "complex_model_generator.Test_Model(testLoader)\n",
        "\n",
        "print(\"\\nTest Accuracy:\", complex_model_generator.Metrics[\"Test_Accuracy\"], \"\\nTime to Train:\", end_time - start_time)\n",
        "import matplotlib.pyplot as plt\n",
        "\n",
        "### PLOTTING METRICS\n",
        "plt.plot(complex_model_generator.Metrics['Training_Accuracy'], label='Training Accuracy')\n",
        "plt.plot(complex_model_generator.Metrics['Validation_Accuracy'], label='Validation Accuracy')\n",
        "plt.plot(complex_model_generator.Metrics['Training_Loss'], label='Training Loss')\n",
        "plt.plot(complex_model_generator.Metrics['Validation_Loss'], label='Validation Loss')\n",
        "plt.xlabel('Epoch')\n",
        "plt.ylabel('Metric')\n",
        "plt.legend()"
      ],
      "metadata": {
        "colab": {
          "base_uri": "https://localhost:8080/",
          "height": 245
        },
        "id": "ykgRelnxlH68",
        "outputId": "848ec5c4-2bc1-4950-d62f-f5948c63b353"
      },
      "id": "ykgRelnxlH68",
      "execution_count": 13,
      "outputs": [
        {
          "output_type": "error",
          "ename": "TypeError",
          "evalue": "Train_Model.fit() missing 1 required positional argument: 'EPOCHS'",
          "traceback": [
            "\u001b[0;31m---------------------------------------------------------------------------\u001b[0m",
            "\u001b[0;31mTypeError\u001b[0m                                 Traceback (most recent call last)",
            "\u001b[0;32m<ipython-input-13-4a70a7917fce>\u001b[0m in \u001b[0;36m<cell line: 3>\u001b[0;34m()\u001b[0m\n\u001b[1;32m      1\u001b[0m \u001b[0mstart_time\u001b[0m \u001b[0;34m=\u001b[0m \u001b[0mdatetime\u001b[0m\u001b[0;34m.\u001b[0m\u001b[0mnow\u001b[0m\u001b[0;34m(\u001b[0m\u001b[0;34m)\u001b[0m\u001b[0;34m\u001b[0m\u001b[0;34m\u001b[0m\u001b[0m\n\u001b[1;32m      2\u001b[0m \u001b[0;34m\u001b[0m\u001b[0m\n\u001b[0;32m----> 3\u001b[0;31m complex_model_generator.fit(trainLoader, validateLoader, \n\u001b[0m\u001b[1;32m      4\u001b[0m                              )\n\u001b[1;32m      5\u001b[0m \u001b[0mend_time\u001b[0m \u001b[0;34m=\u001b[0m \u001b[0mdatetime\u001b[0m\u001b[0;34m.\u001b[0m\u001b[0mnow\u001b[0m\u001b[0;34m(\u001b[0m\u001b[0;34m)\u001b[0m\u001b[0;34m\u001b[0m\u001b[0;34m\u001b[0m\u001b[0m\n",
            "\u001b[0;31mTypeError\u001b[0m: Train_Model.fit() missing 1 required positional argument: 'EPOCHS'"
          ]
        }
      ]
    },
    {
      "cell_type": "markdown",
      "metadata": {
        "id": "abb09d7a-feca-405a-98b9-99df31625ddd"
      },
      "source": [
        "### Does your network need more epochs for full training? Do you observe overfitting?\n",
        "We see that the validation loss hasn't shown any major change over the 20 epochs where as the training loss has reduced which means that the model is performing better on the training dataset but not the validation dataset resulting in overfitting.\n"
      ],
      "id": "abb09d7a-feca-405a-98b9-99df31625ddd"
    },
    {
      "cell_type": "markdown",
      "metadata": {
        "id": "08a14d6d-16c3-422f-a71e-07f242b6cabc"
      },
      "source": [
        "## Problem 2 Housing Predictions"
      ],
      "id": "08a14d6d-16c3-422f-a71e-07f242b6cabc"
    },
    {
      "cell_type": "code",
      "execution_count": null,
      "metadata": {
        "id": "dfb625cf-fd8a-4dba-85fd-8e817b7b9e17"
      },
      "outputs": [],
      "source": [
        "device_to_use = torch.device(\"cuda\" if torch.cuda.is_available() else \"cpu\")"
      ],
      "id": "dfb625cf-fd8a-4dba-85fd-8e817b7b9e17"
    },
    {
      "cell_type": "code",
      "execution_count": null,
      "metadata": {
        "id": "8209da66-a905-48c1-8f41-84857c1f49ba"
      },
      "outputs": [],
      "source": [
        "train_df = pd.read_csv(\"/content/datasets/Housing Data/train.csv\")\n",
        "test_df = pd.read_csv(\"/content/datasets/Housing Data/test.csv\")\n",
        "display(train_df.head()),display(test_df.head())"
      ],
      "id": "8209da66-a905-48c1-8f41-84857c1f49ba"
    },
    {
      "cell_type": "code",
      "execution_count": null,
      "metadata": {
        "id": "78ee7e23-1101-4863-a115-896861b86988"
      },
      "outputs": [],
      "source": [
        "def data_preprocessor_a(train_data, test_data, label='SalePrice'):\n",
        "\n",
        "    features_all = pd.concat((train_data.drop(columns=['Id', label]), test_data.drop(columns=['Id'])))\n",
        "    numeric_features = features_all.dtypes[features_all.dtypes != 'object'].index\n",
        "\n",
        "    features_all[numeric_features] = features_all[numeric_features].apply(lambda x: (x - x.mean()) / (x.std()))\n",
        "    features_all[numeric_features] = features_all[numeric_features].fillna(0)\n",
        "    #features_all = pd.get_dummies(features_all, dummy_na=True)\n",
        "\n",
        "    train_df = features_all[:train_data.shape[0]].copy()\n",
        "\n",
        "    normVals = (train_data[label].mean(), train_data[label].std())\n",
        "    print(normVals)\n",
        "\n",
        "    train_df[label] = ( train_data[label] - normVals[0] ) / normVals[1]\n",
        "    test_df = features_all[train_data.shape[0]:].copy()\n",
        "\n",
        "    return train_df, test_df\n",
        "\n",
        "\n",
        "  def data_preprocessor_b(train_data, test_data, label='SalePrice'):\n",
        "\n",
        "    features_all = pd.concat((train_data.drop(columns=['Id', label]), test_data.drop(columns=['Id'])))\n",
        "    numeric_features = features_all.dtypes[features_all.dtypes != 'object'].index\n",
        "\n",
        "    features_all[numeric_features] = features_all[numeric_features].apply(lambda x: (x - x.mean()) / (x.std()))\n",
        "    features_all[numeric_features] = features_all[numeric_features].fillna(0)\n",
        "    features_all = pd.get_dummies(features_all, dummy_na=True)\n",
        "\n",
        "    train_df = features_all[:train_data.shape[0]].copy()\n",
        "\n",
        "    normVals = (train_data[label].mean(), train_data[label].std())\n",
        "    print(normVals)\n",
        "\n",
        "    train_df[label] = ( train_data[label] - normVals[0] ) / normVals[1]\n",
        "    test_df = features_all[train_data.shape[0]:].copy()\n",
        "\n",
        "    return train_df, test_df"
      ],
      "id": "78ee7e23-1101-4863-a115-896861b86988"
    },
    {
      "cell_type": "code",
      "execution_count": null,
      "metadata": {
        "id": "d1b39eab-0530-4895-b237-265cf85603e0"
      },
      "outputs": [],
      "source": [
        "lectureModel = nn.Sequential(\n",
        "    nn.LazyLinear(256),\n",
        "    nn.ReLU(),\n",
        "    nn.LazyLinear(10),\n",
        ")\n",
        "\n",
        "\n",
        "class sale_predictor(nn.Module):\n",
        "    def __init__(self):\n",
        "        super(sale_predictor, self).__init__()\n",
        "\n",
        "        # From output data\n",
        "        self.mean = 180921.19589041095\n",
        "        self.std = 79442.50288288662\n",
        "        self.unNormalize = False\n",
        "        self.Dropout = False\n",
        "        self.D1 = nn.Dropout(0.3)\n",
        "\n",
        "        self.layer1 = nn.LazyLinear(256)\n",
        "        self.relu1 = nn.ReLU()\n",
        "        self.layer2 = nn.LazyLinear(256)\n",
        "        self.relu2 = nn.ReLU()\n",
        "        self.layer3 = nn.LazyLinear(128)\n",
        "        self.relu3 = nn.ReLU()\n",
        "        self.layer4 = nn.LazyLinear(1)\n",
        "\n",
        "    def forward(self, x):\n",
        "        x = self.layer1(x)\n",
        "        x = self.relu1(x)\n",
        "        x = self.layer2(x)\n",
        "        x = self.relu2(x)\n",
        "        if self.Dropout:\n",
        "            x = self.D1(x)\n",
        "        x = self.layer3(x)\n",
        "        x = self.relu3(x)\n",
        "        x = self.layer4(x)\n",
        "\n",
        "        if self.unNormalize:\n",
        "            x = x * self.std + self.mean\n",
        "\n",
        "        return x\n",
        "\n",
        "sale_predictor = sale_predictor()"
      ],
      "id": "d1b39eab-0530-4895-b237-265cf85603e0"
    },
    {
      "cell_type": "code",
      "execution_count": null,
      "metadata": {
        "id": "d088a549-e912-409a-a143-580f9ac6aaf1"
      },
      "outputs": [],
      "source": [
        "class housing_dataset(torch.utils.data.Dataset):\n",
        "    def __init__(self, df):\n",
        "        self.df = df\n",
        "\n",
        "    def __len__(self):\n",
        "        return len(self.df)\n",
        "\n",
        "    def __getitem__(self, idx):\n",
        "        row = self.df.iloc[idx]\n",
        "\n",
        "        dimensions = torch.Tensor(row.values)\n",
        "        label = dimensions[-1]\n",
        "\n",
        "        return (dimensions[:-1], label)"
      ],
      "id": "d088a549-e912-409a-a143-580f9ac6aaf1"
    },
    {
      "cell_type": "markdown",
      "source": [
        "2A"
      ],
      "metadata": {
        "id": "62MPIdRGmha3"
      },
      "id": "62MPIdRGmha3"
    },
    {
      "cell_type": "code",
      "execution_count": null,
      "metadata": {
        "id": "66a9c354-2557-4c5f-a6c8-ebe29e4c8457"
      },
      "outputs": [],
      "source": [
        "train_processed_df, test_processed_df = data_preprocessor_a(train_df, test_df)\n",
        "test_processed_df.head()"
      ],
      "id": "66a9c354-2557-4c5f-a6c8-ebe29e4c8457"
    },
    {
      "cell_type": "code",
      "execution_count": null,
      "metadata": {
        "id": "1dec8d28-6851-436d-8236-d635bc59c6f0"
      },
      "outputs": [],
      "source": [
        "train_housing = housing_dataset(train_processed_df)\n",
        "\n",
        "validNum = int(len(train_housing) * 0.8)\n",
        "train_housing, valid_housing = random_split(train_housing, [validNum, len(train_housing) - validNum])\n",
        "\n",
        "trainLoaderHousing = DataLoader(train_housing, batch_size=128, shuffle=True, num_workers=0)\n",
        "validateLoaderHousing = DataLoader(valid_housing, batch_size=128, shuffle=True, num_workers=0)"
      ],
      "id": "1dec8d28-6851-436d-8236-d635bc59c6f0"
    },
    {
      "cell_type": "markdown",
      "source": [
        "2B\n"
      ],
      "metadata": {
        "id": "3PyLXDFMmuMD"
      },
      "id": "3PyLXDFMmuMD"
    },
    {
      "cell_type": "code",
      "source": [
        "train_processed_df, test_processed_df = data_preprocessor_b(train_df, test_df)\n",
        "test_processed_df.head()"
      ],
      "metadata": {
        "id": "OF2aGvF3mxHC"
      },
      "id": "OF2aGvF3mxHC",
      "execution_count": null,
      "outputs": []
    },
    {
      "cell_type": "code",
      "source": [
        "train_housing = housing_dataset(train_processed_df)\n",
        "\n",
        "validNum = int(len(train_housing) * 0.8)\n",
        "train_housing, valid_housing = random_split(train_housing, [validNum, len(train_housing) - validNum])\n",
        "\n",
        "trainLoaderHousing = DataLoader(train_housing, batch_size=128, shuffle=True, num_workers=0)\n",
        "validateLoaderHousing = DataLoader(valid_housing, batch_size=128, shuffle=True, num_workers=0)"
      ],
      "metadata": {
        "id": "3Gdt6zTXm0ld"
      },
      "id": "3Gdt6zTXm0ld",
      "execution_count": null,
      "outputs": []
    },
    {
      "cell_type": "markdown",
      "metadata": {
        "id": "f373daa8-c962-48f0-b2a3-a30069c8d97c"
      },
      "source": [
        "### 2.c Improve the score by improving the model complexity"
      ],
      "id": "f373daa8-c962-48f0-b2a3-a30069c8d97c"
    },
    {
      "cell_type": "code",
      "execution_count": null,
      "metadata": {
        "id": "3b80f847-4bca-43ff-a87e-d1a7ccbbf83d",
        "scrolled": true
      },
      "outputs": [],
      "source": [
        "\n",
        "LectureModel = copy.deepcopy(lectureModel)\n",
        "LectureHousingTrainer = Train_Model(LectureModel, nn.MSELoss(), torch.optim.SGD(LectureModel.parameters(), lr=0.01, momentum=0.9), nn.MSELoss(), \"Regression\",  device_to_use)\n",
        "\n",
        "start_time = datetime.now()\n",
        "\n",
        "LectureHousingTrainer.fit(trainLoaderHousing, validateLoaderHousing, 20)\n",
        "end_time = datetime.now()\n",
        "\n",
        "print(\"Time Taken to Train:\", end_time - start_time)\n",
        "### PLOTTING METRICS\n",
        "plt.plot(LectureHousingTrainer.Metrics['Training_Loss'], label='Training Loss')\n",
        "plt.plot(LectureHousingTrainer.Metrics['Validation_Loss'], label='Validation Loss')\n",
        "plt.xlabel('Epoch')\n",
        "plt.ylabel('Metric')\n",
        "plt.legend()"
      ],
      "id": "3b80f847-4bca-43ff-a87e-d1a7ccbbf83d"
    },
    {
      "cell_type": "code",
      "execution_count": null,
      "metadata": {
        "id": "6c907708-d7c5-4357-ad2a-56f1268a667c",
        "scrolled": true
      },
      "outputs": [],
      "source": [
        "base_housingModel = copy.deepcopy(sale_predictor)\n",
        "ComplexHousingTrainer = Train_Model(base_housingModel, nn.MSELoss(), torch.optim.SGD(base_housingModel.parameters(), lr=0.01, momentum=0.9), nn.MSELoss(), \"Regression\",  device_to_use)\n",
        "\n",
        "start_time = datetime.now()\n",
        "\n",
        "ComplexHousingTrainer.fit(trainLoaderHousing, validateLoaderHousing, 20)\n",
        "end_time = datetime.now()\n",
        "\n",
        "print(\"Time Taken to Train:\", end_time - start_time)\n",
        "### PLOTTING METRICS\n",
        "plt.plot(ComplexHousingTrainer.Metrics['Training_Loss'], label='Training Loss')\n",
        "plt.plot(ComplexHousingTrainer.Metrics['Validation_Loss'], label='Validation Loss')\n",
        "plt.xlabel('Epoch')\n",
        "plt.ylabel('Metric')\n",
        "plt.legend()"
      ],
      "id": "6c907708-d7c5-4357-ad2a-56f1268a667c"
    },
    {
      "cell_type": "markdown",
      "metadata": {
        "id": "b21dc4f8-b4ed-4e8b-b79d-0c2ed7ed1d09"
      },
      "source": [
        "### How about the model complexity comparison and training time?\n",
        "The new model shows better accuracy compared to the model built during the class lectures."
      ],
      "id": "b21dc4f8-b4ed-4e8b-b79d-0c2ed7ed1d09"
    }
  ],
  "metadata": {
    "accelerator": "GPU",
    "colab": {
      "provenance": [],
      "include_colab_link": true
    },
    "gpuClass": "standard",
    "kernelspec": {
      "display_name": "Python 3 (ipykernel)",
      "language": "python",
      "name": "python3"
    },
    "language_info": {
      "codemirror_mode": {
        "name": "ipython",
        "version": 3
      },
      "file_extension": ".py",
      "mimetype": "text/x-python",
      "name": "python",
      "nbconvert_exporter": "python",
      "pygments_lexer": "ipython3",
      "version": "3.10.9"
    }
  },
  "nbformat": 4,
  "nbformat_minor": 5
}